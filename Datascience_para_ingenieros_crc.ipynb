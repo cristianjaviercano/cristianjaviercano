{
  "nbformat": 4,
  "nbformat_minor": 0,
  "metadata": {
    "colab": {
      "provenance": [],
      "toc_visible": true
    },
    "kernelspec": {
      "name": "python3",
      "display_name": "Python 3"
    },
    "language_info": {
      "name": "python"
    }
  },
  "cells": [
    {
      "cell_type": "code",
      "source": [
        "from google.colab import drive\n",
        "drive.mount('/content/drive')"
      ],
      "metadata": {
        "colab": {
          "base_uri": "https://localhost:8080/"
        },
        "id": "Ldtxhb6Uqsu5",
        "outputId": "be900f8c-2a31-4101-acf3-cc8d2d516441"
      },
      "execution_count": null,
      "outputs": [
        {
          "output_type": "stream",
          "name": "stdout",
          "text": [
            "Mounted at /content/drive\n"
          ]
        }
      ]
    },
    {
      "cell_type": "markdown",
      "source": [
        "$$\n",
        "f(x)\n",
        "$$"
      ],
      "metadata": {
        "id": "lTS8b-vY-Ymf"
      }
    },
    {
      "cell_type": "markdown",
      "source": [
        "Ing. cristian Javier Cano Mogollon <p>\n",
        "Msc. innovacion y desarrollo de conocimiento"
      ],
      "metadata": {
        "id": "uzNj30p8ycvF"
      }
    },
    {
      "cell_type": "markdown",
      "source": [
        "# Introduccion a phyton"
      ],
      "metadata": {
        "id": "L0-68cJHh0mT"
      }
    },
    {
      "cell_type": "markdown",
      "source": [
        "## Concepto:\n",
        "\n"
      ],
      "metadata": {
        "id": "mMztcqmiiDyL"
      }
    },
    {
      "cell_type": "markdown",
      "source": [
        "\n",
        "***\n",
        "# MI primer cuaderno en google **colab**\n",
        "***"
      ],
      "metadata": {
        "id": "vsJ4ACjjyG5p"
      }
    },
    {
      "cell_type": "markdown",
      "source": [
        "***\n",
        "#### Bienvenido\n",
        "***\n",
        "1. niveles del documento:\n",
        " # nivel uno\n",
        " ## nivel dos\n",
        " ### mivel tres\n",
        " #### nivel cuatro\n",
        " ##### nivel cinco\n",
        "\n",
        "\n",
        " * hola\n",
        " - hola\n",
        " 1. hola\n",
        "\n",
        " $$---> ecuacion\n",
        "\n",
        " $$F(x)=ax+b$$\n",
        "\n",
        " $$\n",
        "1. seleccionamos\\ la\\ ecuacion: \\\\\n",
        "F(x) = ax+b\n",
        " $$\n",
        "\n",
        "\n",
        " tablas:\n",
        "\n",
        "\\begin{array}{c|cc}\n",
        "\\hline\n",
        "hola & hola & hola \\\\\n",
        "\\hline\n",
        "dato 1 & dato 2 & dato 3 \\\\\n",
        "\\hline\n",
        "dato 1 & dato 2 & dato 3 \\\\\n",
        "\\hline\n",
        "dato 1 & dato 2 & dato 3 \\\\\n",
        "\\hline\n",
        "\\end{array}\n",
        "\n",
        "\n",
        "\\begin{array}{lllll}\n",
        "1 & 2 & 2 & 3 & 4 \\\\\n",
        "1 & 1 & 1 & 1 & 1 \\\\\n",
        "1 & 1 & 1 & 1 & 1 \\\\\n",
        "1 & 1 & 1 & 1 & 1\n",
        "\\end{array}\n",
        "\n",
        "| 1 | 2 | 2    | 3 | 4 |\n",
        "|---|---|------|---|---|\n",
        "| 1 | 1 | hola | 1 | 1 |\n",
        "| 1 | 1 | 1    | 1 | 1 |\n",
        "| 1 | 1 | 1    | 1 | 1 |\n",
        "\n",
        "\n",
        "- link:\n",
        "\n",
        "https://www.tablesgenerator.com/markdown_tables\n",
        "\n",
        "\n",
        "http://gmc.geofisica.unam.mx/papime2020/Descargables/manuales/manual%20de%20uso%20Google%20Colab.pdf\n",
        "\n",
        "http://users.dickinson.edu/~richesod/latex/latexcheatsheet.pdf\n"
      ],
      "metadata": {
        "id": "hJENwsMOB9PK"
      }
    },
    {
      "cell_type": "markdown",
      "source": [
        "$$- f(x)=a+bx$$ (LINEA RECTA)\n",
        "\n",
        "$$\n",
        "1. declaramos\\ la\\ variable\\ \\$X_1 \\\\\n",
        "ahora\\ retomamos \\\\\n",
        "- X_1 \\\\\n",
        "- X^1 \\\\\n",
        "- X_{n-1} \\\\\n",
        "- X^{n-1} \\\\\n",
        "- \\sum_{i=1}^n\\frac{X_{n-1}}{Y_{n-1}}\\\\\n",
        "- \\left[\\frac{\\frac{x}{y}}{X_1}\\right]\n",
        "$$\n",
        "\n",
        "\n"
      ],
      "metadata": {
        "id": "gFuU-xcMrnVs"
      }
    },
    {
      "cell_type": "markdown",
      "source": [
        "###*texto en cursiva*# Data science en python para ingenieros\n",
        "***\n"
      ],
      "metadata": {
        "id": "H5LZ2V4TyFkA"
      }
    },
    {
      "cell_type": "markdown",
      "source": [
        "* en este apartado vamos a hacer un ejemplo de analisis de data usando codigo python y una base de datos.\n",
        "\n",
        "usaremos las librerias\n",
        "\n",
        "\n",
        "NumPy = Cálculo matemático y manejo de arrays (listas o diccionarios)\n",
        "\n",
        "Panda = Manipulación y análisis de datos. El nombre viene de “Panel data”.\n",
        "\n",
        "Matplotlib = para hacer datos o tablas dinamicas, es un tema de visualizacion de datos\n",
        "\n",
        "seaborn = otra interfaz con base en matplotlib para visualizacion de datos."
      ],
      "metadata": {
        "id": "1BBlvglcybdl"
      }
    },
    {
      "cell_type": "code",
      "source": [
        "import matplotlib.pyplot as plt\n",
        "#Principio básico del plot\n",
        "x=[1,2,3]\n",
        "y=[5,6,7]\n",
        "plt.plot(x,y)\n",
        "plt.grid()"
      ],
      "metadata": {
        "colab": {
          "base_uri": "https://localhost:8080/",
          "height": 430
        },
        "id": "YF93g8XoLDAq",
        "outputId": "fa8e5a52-a134-4581-cd62-8f80ecb42388"
      },
      "execution_count": null,
      "outputs": [
        {
          "output_type": "display_data",
          "data": {
            "text/plain": [
              "<Figure size 640x480 with 1 Axes>"
            ],
            "image/png": "[encoded data removed]"
          },
          "metadata": {}
        }
      ]
    },
    {
      "cell_type": "markdown",
      "source": [
        "Vamos a explorar los aspectos basicos de pythion en colab para escribir notacione smatematicas y automatizar los codigos:"
      ],
      "metadata": {
        "id": "9R-kI9tGffkg"
      }
    },
    {
      "cell_type": "code",
      "source": [
        "#ingreso de datos usando \"input\"\n",
        "nombre = input(\"ingrese su nombre: \")\n",
        "#el programa pedira el nombre al ususario y lo almacenara en la variable \"nombre\"\n",
        "#para verificar los imprimiremos\n",
        "print(\"el nombre ingresado es\", nombre)"
      ],
      "metadata": {
        "colab": {
          "base_uri": "https://localhost:8080/"
        },
        "id": "uj2hcMPYfequ",
        "outputId": "ea703285-e412-40ed-cdc3-c3d57408eae1"
      },
      "execution_count": null,
      "outputs": [
        {
          "output_type": "stream",
          "name": "stdout",
          "text": [
            "ingrese su nombre: juana\n",
            "el nombre ingresado es juana\n"
          ]
        }
      ]
    },
    {
      "cell_type": "markdown",
      "source": [
        "Vamos ausar los \"if\" condicionales a ver como nos va"
      ],
      "metadata": {
        "id": "rnqJ5fBhiciH"
      }
    },
    {
      "cell_type": "code",
      "source": [
        "#los condicionales son \"if\" y usaremos los indicadores logico matematicos\n",
        "#le diremos al ususario que ingrese un numero\n",
        "X=input(\"ingrese un numero para verificacion: \")\n",
        "#entonces evaluaremos el numero y tomaremos decisiones\n",
        "if x >= 0:\n",
        "    print(\"el numero,\", x, \"es positivo\")\n",
        "esle\n",
        "    print(\"el numero,\", x \"es negativo\")"
      ],
      "metadata": {
        "id": "iA4yE7y_ifyt"
      },
      "execution_count": null,
      "outputs": []
    },
    {
      "cell_type": "markdown",
      "source": [
        "#### Ahora vamos a usar una base de datos de verdad y veamos que sucede, utlizaremos la libreria Panda, numpy, matplotlb y seaborn como eneunciamos al principio\n"
      ],
      "metadata": {
        "id": "nNOG5z5GLZBh"
      }
    },
    {
      "cell_type": "code",
      "source": [
        "import pandas as pd\n",
        "import numpy as np\n",
        "import matplotlib.pyplot as plt\n",
        "import seaborn as sns"
      ],
      "metadata": {
        "id": "SnA02pfZLjTN"
      },
      "execution_count": null,
      "outputs": []
    },
    {
      "cell_type": "markdown",
      "source": [
        "vamos a llamar nuestra base de datos, el siguiente codigo te dara la opcion de abrir la base de datos que necesites o tengas, esta debe estar en formato .CSV en tu disco duro, se recomienda una carpeta por proyecto.  una vez llamada la base de datos se usara el codigo import.io = pd.read_csv(uploades(xxxxx) como se muestra para cargar los datos de la BD. ahora si. a hacer magia!!!"
      ],
      "metadata": {
        "id": "JLf3nqUXMrVQ"
      }
    },
    {
      "cell_type": "code",
      "source": [
        "from google.colab import files\n",
        "uploaded = files.upload()"
      ],
      "metadata": {
        "colab": {
          "base_uri": "https://localhost:8080/",
          "height": 74
        },
        "id": "Au3PvlLyMuyU",
        "outputId": "8f08d135-3d1d-474f-c91c-6557e2dae0e6"
      },
      "execution_count": null,
      "outputs": [
        {
          "output_type": "display_data",
          "data": {
            "text/plain": [
              "<IPython.core.display.HTML object>"
            ],
            "text/html": [
              "\n",
              "     <input type=\"file\" id=\"files-49219a60-af41-4189-97e6-09b10232348b\" name=\"files[]\" multiple disabled\n",
              "        style=\"border:none\" />\n",
              "     <output id=\"result-49219a60-af41-4189-97e6-09b10232348b\">\n",
              "      Upload widget is only available when the cell has been executed in the\n",
              "      current browser session. Please rerun this cell to enable.\n",
              "      </output>\n",
              "      <script>// Copyright 2017 Google LLC\n",
              "//\n",
              "// Licensed under the Apache License, Version 2.0 (the \"License\");\n",
              "// you may not use this file except in compliance with the License.\n",
              "// You may obtain a copy of the License at\n",
              "//\n",
              "//      http://www.apache.org/licenses/LICENSE-2.0\n",
              "//\n",
              "// Unless required by applicable law or agreed to in writing, software\n",
              "// distributed under the License is distributed on an \"AS IS\" BASIS,\n",
              "// WITHOUT WARRANTIES OR CONDITIONS OF ANY KIND, either express or implied.\n",
              "// See the License for the specific language governing permissions and\n",
              "// limitations under the License.\n",
              "\n",
              "/**\n",
              " * @fileoverview Helpers for google.colab Python module.\n",
              " */\n",
              "(function(scope) {\n",
              "function span(text, styleAttributes = {}) {\n",
              "  const element = document.createElement('span');\n",
              "  element.textContent = text;\n",
              "  for (const key of Object.keys(styleAttributes)) {\n",
              "    element.style[key] = styleAttributes[key];\n",
              "  }\n",
              "  return element;\n",
              "}\n",
              "\n",
              "// Max number of bytes which will be uploaded at a time.\n",
              "const MAX_PAYLOAD_SIZE = 100 * 1024;\n",
              "\n",
              "function _uploadFiles(inputId, outputId) {\n",
              "  const steps = uploadFilesStep(inputId, outputId);\n",
              "  const outputElement = document.getElementById(outputId);\n",
              "  // Cache steps on the outputElement to make it available for the next call\n",
              "  // to uploadFilesContinue from Python.\n",
              "  outputElement.steps = steps;\n",
              "\n",
              "  return _uploadFilesContinue(outputId);\n",
              "}\n",
              "\n",
              "// This is roughly an async generator (not supported in the browser yet),\n",
              "// where there are multiple asynchronous steps and the Python side is going\n",
              "// to poll for completion of each step.\n",
              "// This uses a Promise to block the python side on completion of each step,\n",
              "// then passes the result of the previous step as the input to the next step.\n",
              "function _uploadFilesContinue(outputId) {\n",
              "  const outputElement = document.getElementById(outputId);\n",
              "  const steps = outputElement.steps;\n",
              "\n",
              "  const next = steps.next(outputElement.lastPromiseValue);\n",
              "  return Promise.resolve(next.value.promise).then((value) => {\n",
              "    // Cache the last promise value to make it available to the next\n",
              "    // step of the generator.\n",
              "    outputElement.lastPromiseValue = value;\n",
              "    return next.value.response;\n",
              "  });\n",
              "}\n",
              "\n",
              "/**\n",
              " * Generator function which is called between each async step of the upload\n",
              " * process.\n",
              " * @param {string} inputId Element ID of the input file picker element.\n",
              " * @param {string} outputId Element ID of the output display.\n",
              " * @return {!Iterable<!Object>} Iterable of next steps.\n",
              " */\n",
              "function* uploadFilesStep(inputId, outputId) {\n",
              "  const inputElement = document.getElementById(inputId);\n",
              "  inputElement.disabled = false;\n",
              "\n",
              "  const outputElement = document.getElementById(outputId);\n",
              "  outputElement.innerHTML = '';\n",
              "\n",
              "  const pickedPromise = new Promise((resolve) => {\n",
              "    inputElement.addEventListener('change', (e) => {\n",
              "      resolve(e.target.files);\n",
              "    });\n",
              "  });\n",
              "\n",
              "  const cancel = document.createElement('button');\n",
              "  inputElement.parentElement.appendChild(cancel);\n",
              "  cancel.textContent = 'Cancel upload';\n",
              "  const cancelPromise = new Promise((resolve) => {\n",
              "    cancel.onclick = () => {\n",
              "      resolve(null);\n",
              "    };\n",
              "  });\n",
              "\n",
              "  // Wait for the user to pick the files.\n",
              "  const files = yield {\n",
              "    promise: Promise.race([pickedPromise, cancelPromise]),\n",
              "    response: {\n",
              "      action: 'starting',\n",
              "    }\n",
              "  };\n",
              "\n",
              "  cancel.remove();\n",
              "\n",
              "  // Disable the input element since further picks are not allowed.\n",
              "  inputElement.disabled = true;\n",
              "\n",
              "  if (!files) {\n",
              "    return {\n",
              "      response: {\n",
              "        action: 'complete',\n",
              "      }\n",
              "    };\n",
              "  }\n",
              "\n",
              "  for (const file of files) {\n",
              "    const li = document.createElement('li');\n",
              "    li.append(span(file.name, {fontWeight: 'bold'}));\n",
              "    li.append(span(\n",
              "        `(${file.type || 'n/a'}) - ${file.size} bytes, ` +\n",
              "        `last modified: ${\n",
              "            file.lastModifiedDate ? file.lastModifiedDate.toLocaleDateString() :\n",
              "                                    'n/a'} - `));\n",
              "    const percent = span('0% done');\n",
              "    li.appendChild(percent);\n",
              "\n",
              "    outputElement.appendChild(li);\n",
              "\n",
              "    const fileDataPromise = new Promise((resolve) => {\n",
              "      const reader = new FileReader();\n",
              "      reader.onload = (e) => {\n",
              "        resolve(e.target.result);\n",
              "      };\n",
              "      reader.readAsArrayBuffer(file);\n",
              "    });\n",
              "    // Wait for the data to be ready.\n",
              "    let fileData = yield {\n",
              "      promise: fileDataPromise,\n",
              "      response: {\n",
              "        action: 'continue',\n",
              "      }\n",
              "    };\n",
              "\n",
              "    // Use a chunked sending to avoid message size limits. See b/62115660.\n",
              "    let position = 0;\n",
              "    do {\n",
              "      const length = Math.min(fileData.byteLength - position, MAX_PAYLOAD_SIZE);\n",
              "      const chunk = new Uint8Array(fileData, position, length);\n",
              "      position += length;\n",
              "\n",
              "      const base64 = btoa(String.fromCharCode.apply(null, chunk));\n",
              "      yield {\n",
              "        response: {\n",
              "          action: 'append',\n",
              "          file: file.name,\n",
              "          data: base64,\n",
              "        },\n",
              "      };\n",
              "\n",
              "      let percentDone = fileData.byteLength === 0 ?\n",
              "          100 :\n",
              "          Math.round((position / fileData.byteLength) * 100);\n",
              "      percent.textContent = `${percentDone}% done`;\n",
              "\n",
              "    } while (position < fileData.byteLength);\n",
              "  }\n",
              "\n",
              "  // All done.\n",
              "  yield {\n",
              "    response: {\n",
              "      action: 'complete',\n",
              "    }\n",
              "  };\n",
              "}\n",
              "\n",
              "scope.google = scope.google || {};\n",
              "scope.google.colab = scope.google.colab || {};\n",
              "scope.google.colab._files = {\n",
              "  _uploadFiles,\n",
              "  _uploadFilesContinue,\n",
              "};\n",
              "})(self);\n",
              "</script> "
            ]
          },
          "metadata": {}
        },
        {
          "output_type": "stream",
          "name": "stdout",
          "text": [
            "Saving alcohol-consumption.csv to alcohol-consumption (1).csv\n"
          ]
        }
      ]
    },
    {
      "cell_type": "markdown",
      "source": [
        "el codigo df2---> nombre de la bd\n",
        "\"df2.head()\" mostrara los encabezados de la Bd (importante los corchetes) ;o"
      ],
      "metadata": {
        "id": "v3DEl31BQ6R5"
      }
    },
    {
      "cell_type": "code",
      "source": [
        "from pandas.io.parsers.readers import read_csv\n",
        "datos = read_csv(\"/content/alcohol-consumption.csv\")"
      ],
      "metadata": {
        "id": "DVl1UlKwFM2c"
      },
      "execution_count": null,
      "outputs": []
    },
    {
      "cell_type": "code",
      "source": [
        "datos.head()"
      ],
      "metadata": {
        "colab": {
          "base_uri": "https://localhost:8080/",
          "height": 288
        },
        "id": "K_rzUxnoQF2_",
        "outputId": "7025dadb-8542-4351-a837-3c7ba9974506"
      },
      "execution_count": null,
      "outputs": [
        {
          "output_type": "execute_result",
          "data": {
            "text/plain": [
              "          country  total_consumption  recorded_consumption  \\\n",
              "0         Estonia               16.9                  15.8   \n",
              "1       Lithuania               15.0                  13.8   \n",
              "2  Czech Republic               14.3                  12.4   \n",
              "3      Seychelles               13.8                  12.4   \n",
              "4         Germany               13.4                  11.3   \n",
              "\n",
              "   unrecorded_consumption  beer_percentage  wine_percentage  \\\n",
              "0                     1.1             32.7              7.4   \n",
              "1                     1.2             43.6              7.3   \n",
              "2                     1.4             53.3             21.3   \n",
              "3                     1.4             68.9             22.4   \n",
              "4                     1.4             52.6             28.4   \n",
              "\n",
              "   spirits_percentage  other_percentage  2020_projection  2025_projection  \n",
              "0                50.3               9.6             11.5             11.9  \n",
              "1                37.1              12.1             14.4             13.9  \n",
              "2                25.4               0.0             11.2             11.4  \n",
              "3                 6.3               2.5             10.4             10.6  \n",
              "4                18.9               0.0             12.8             12.6  "
            ],
            "text/html": [
              "\n",
              "  <div id=\"df-47e3fe50-3f03-45b8-9ae5-ad695ea023e2\">\n",
              "    <div class=\"colab-df-container\">\n",
              "      <div>\n",
              "<style scoped>\n",
              "    .dataframe tbody tr th:only-of-type {\n",
              "        vertical-align: middle;\n",
              "    }\n",
              "\n",
              "    .dataframe tbody tr th {\n",
              "        vertical-align: top;\n",
              "    }\n",
              "\n",
              "    .dataframe thead th {\n",
              "        text-align: right;\n",
              "    }\n",
              "</style>\n",
              "<table border=\"1\" class=\"dataframe\">\n",
              "  <thead>\n",
              "    <tr style=\"text-align: right;\">\n",
              "      <th></th>\n",
              "      <th>country</th>\n",
              "      <th>total_consumption</th>\n",
              "      <th>recorded_consumption</th>\n",
              "      <th>unrecorded_consumption</th>\n",
              "      <th>beer_percentage</th>\n",
              "      <th>wine_percentage</th>\n",
              "      <th>spirits_percentage</th>\n",
              "      <th>other_percentage</th>\n",
              "      <th>2020_projection</th>\n",
              "      <th>2025_projection</th>\n",
              "    </tr>\n",
              "  </thead>\n",
              "  <tbody>\n",
              "    <tr>\n",
              "      <th>0</th>\n",
              "      <td>Estonia</td>\n",
              "      <td>16.9</td>\n",
              "      <td>15.8</td>\n",
              "      <td>1.1</td>\n",
              "      <td>32.7</td>\n",
              "      <td>7.4</td>\n",
              "      <td>50.3</td>\n",
              "      <td>9.6</td>\n",
              "      <td>11.5</td>\n",
              "      <td>11.9</td>\n",
              "    </tr>\n",
              "    <tr>\n",
              "      <th>1</th>\n",
              "      <td>Lithuania</td>\n",
              "      <td>15.0</td>\n",
              "      <td>13.8</td>\n",
              "      <td>1.2</td>\n",
              "      <td>43.6</td>\n",
              "      <td>7.3</td>\n",
              "      <td>37.1</td>\n",
              "      <td>12.1</td>\n",
              "      <td>14.4</td>\n",
              "      <td>13.9</td>\n",
              "    </tr>\n",
              "    <tr>\n",
              "      <th>2</th>\n",
              "      <td>Czech Republic</td>\n",
              "      <td>14.3</td>\n",
              "      <td>12.4</td>\n",
              "      <td>1.4</td>\n",
              "      <td>53.3</td>\n",
              "      <td>21.3</td>\n",
              "      <td>25.4</td>\n",
              "      <td>0.0</td>\n",
              "      <td>11.2</td>\n",
              "      <td>11.4</td>\n",
              "    </tr>\n",
              "    <tr>\n",
              "      <th>3</th>\n",
              "      <td>Seychelles</td>\n",
              "      <td>13.8</td>\n",
              "      <td>12.4</td>\n",
              "      <td>1.4</td>\n",
              "      <td>68.9</td>\n",
              "      <td>22.4</td>\n",
              "      <td>6.3</td>\n",
              "      <td>2.5</td>\n",
              "      <td>10.4</td>\n",
              "      <td>10.6</td>\n",
              "    </tr>\n",
              "    <tr>\n",
              "      <th>4</th>\n",
              "      <td>Germany</td>\n",
              "      <td>13.4</td>\n",
              "      <td>11.3</td>\n",
              "      <td>1.4</td>\n",
              "      <td>52.6</td>\n",
              "      <td>28.4</td>\n",
              "      <td>18.9</td>\n",
              "      <td>0.0</td>\n",
              "      <td>12.8</td>\n",
              "      <td>12.6</td>\n",
              "    </tr>\n",
              "  </tbody>\n",
              "</table>\n",
              "</div>\n",
              "      <button class=\"colab-df-convert\" onclick=\"convertToInteractive('df-47e3fe50-3f03-45b8-9ae5-ad695ea023e2')\"\n",
              "              title=\"Convert this dataframe to an interactive table.\"\n",
              "              style=\"display:none;\">\n",
              "        \n",
              "  <svg xmlns=\"http://www.w3.org/2000/svg\" height=\"24px\"viewBox=\"0 0 24 24\"\n",
              "       width=\"24px\">\n",
              "    <path d=\"M0 0h24v24H0V0z\" fill=\"none\"/>\n",
              "    <path d=\"M18.56 5.44l.94 2.06.94-2.06 2.06-.94-2.06-.94-.94-2.06-.94 2.06-2.06.94zm-11 1L8.5 8.5l.94-2.06 2.06-.94-2.06-.94L8.5 2.5l-.94 2.06-2.06.94zm10 10l.94 2.06.94-2.06 2.06-.94-2.06-.94-.94-2.06-.94 2.06-2.06.94z\"/><path d=\"M17.41 7.96l-1.37-1.37c-.4-.4-.92-.59-1.43-.59-.52 0-1.04.2-1.43.59L10.3 9.45l-7.72 7.72c-.78.78-.78 2.05 0 2.83L4 21.41c.39.39.9.59 1.41.59.51 0 1.02-.2 1.41-.59l7.78-7.78 2.81-2.81c.8-.78.8-2.07 0-2.86zM5.41 20L4 18.59l7.72-7.72 1.47 1.35L5.41 20z\"/>\n",
              "  </svg>\n",
              "      </button>\n",
              "      \n",
              "  <style>\n",
              "    .colab-df-container {\n",
              "      display:flex;\n",
              "      flex-wrap:wrap;\n",
              "      gap: 12px;\n",
              "    }\n",
              "\n",
              "    .colab-df-convert {\n",
              "      background-color: #E8F0FE;\n",
              "      border: none;\n",
              "      border-radius: 50%;\n",
              "      cursor: pointer;\n",
              "      display: none;\n",
              "      fill: #1967D2;\n",
              "      height: 32px;\n",
              "      padding: 0 0 0 0;\n",
              "      width: 32px;\n",
              "    }\n",
              "\n",
              "    .colab-df-convert:hover {\n",
              "      background-color: #E2EBFA;\n",
              "      box-shadow: 0px 1px 2px rgba(60, 64, 67, 0.3), 0px 1px 3px 1px rgba(60, 64, 67, 0.15);\n",
              "      fill: #174EA6;\n",
              "    }\n",
              "\n",
              "    [theme=dark] .colab-df-convert {\n",
              "      background-color: #3B4455;\n",
              "      fill: #D2E3FC;\n",
              "    }\n",
              "\n",
              "    [theme=dark] .colab-df-convert:hover {\n",
              "      background-color: #434B5C;\n",
              "      box-shadow: 0px 1px 3px 1px rgba(0, 0, 0, 0.15);\n",
              "      filter: drop-shadow(0px 1px 2px rgba(0, 0, 0, 0.3));\n",
              "      fill: #FFFFFF;\n",
              "    }\n",
              "  </style>\n",
              "\n",
              "      <script>\n",
              "        const buttonEl =\n",
              "          document.querySelector('#df-47e3fe50-3f03-45b8-9ae5-ad695ea023e2 button.colab-df-convert');\n",
              "        buttonEl.style.display =\n",
              "          google.colab.kernel.accessAllowed ? 'block' : 'none';\n",
              "\n",
              "        async function convertToInteractive(key) {\n",
              "          const element = document.querySelector('#df-47e3fe50-3f03-45b8-9ae5-ad695ea023e2');\n",
              "          const dataTable =\n",
              "            await google.colab.kernel.invokeFunction('convertToInteractive',\n",
              "                                                     [key], {});\n",
              "          if (!dataTable) return;\n",
              "\n",
              "          const docLinkHtml = 'Like what you see? Visit the ' +\n",
              "            '<a target=\"_blank\" href=https://colab.research.google.com/notebooks/data_table.ipynb>data table notebook</a>'\n",
              "            + ' to learn more about interactive tables.';\n",
              "          element.innerHTML = '';\n",
              "          dataTable['output_type'] = 'display_data';\n",
              "          await google.colab.output.renderOutput(dataTable, element);\n",
              "          const docLink = document.createElement('div');\n",
              "          docLink.innerHTML = docLinkHtml;\n",
              "          element.appendChild(docLink);\n",
              "        }\n",
              "      </script>\n",
              "    </div>\n",
              "  </div>\n",
              "  "
            ]
          },
          "metadata": {},
          "execution_count": 11
        }
      ]
    },
    {
      "cell_type": "markdown",
      "source": [
        ".columns. muestra los nombres de las columnas"
      ],
      "metadata": {
        "id": "MAz4boNLRHmf"
      }
    },
    {
      "cell_type": "code",
      "source": [
        "datos.columns"
      ],
      "metadata": {
        "colab": {
          "base_uri": "https://localhost:8080/"
        },
        "id": "jb7_d8WFRHwY",
        "outputId": "24122846-e77d-42c0-fef7-e7c8d6ee4f04"
      },
      "execution_count": null,
      "outputs": [
        {
          "output_type": "execute_result",
          "data": {
            "text/plain": [
              "Index(['country', 'total_consumption', 'recorded_consumption',\n",
              "       'unrecorded_consumption', 'beer_percentage', 'wine_percentage',\n",
              "       'spirits_percentage', 'other_percentage', '2020_projection',\n",
              "       '2025_projection'],\n",
              "      dtype='object')"
            ]
          },
          "metadata": {},
          "execution_count": 15
        }
      ]
    },
    {
      "cell_type": "markdown",
      "source": [
        ".info(). genera informacion de las columnas"
      ],
      "metadata": {
        "id": "kr1YO9uZSFSe"
      }
    },
    {
      "cell_type": "code",
      "source": [
        "datos.info()"
      ],
      "metadata": {
        "colab": {
          "base_uri": "https://localhost:8080/"
        },
        "id": "IkrRuw-fSFbT",
        "outputId": "bb727994-aa09-4644-f6ae-edbcda38eccc"
      },
      "execution_count": null,
      "outputs": [
        {
          "output_type": "stream",
          "name": "stdout",
          "text": [
            "<class 'pandas.core.frame.DataFrame'>\n",
            "RangeIndex: 189 entries, 0 to 188\n",
            "Data columns (total 10 columns):\n",
            " #   Column                  Non-Null Count  Dtype  \n",
            "---  ------                  --------------  -----  \n",
            " 0   country                 189 non-null    object \n",
            " 1   total_consumption       189 non-null    float64\n",
            " 2   recorded_consumption    189 non-null    float64\n",
            " 3   unrecorded_consumption  189 non-null    float64\n",
            " 4   beer_percentage         179 non-null    float64\n",
            " 5   wine_percentage         179 non-null    float64\n",
            " 6   spirits_percentage      179 non-null    float64\n",
            " 7   other_percentage        179 non-null    float64\n",
            " 8   2020_projection         189 non-null    float64\n",
            " 9   2025_projection         189 non-null    float64\n",
            "dtypes: float64(9), object(1)\n",
            "memory usage: 14.9+ KB\n"
          ]
        }
      ]
    },
    {
      "cell_type": "markdown",
      "source": [
        ".sample genera un ejemplo de los datos de la base de datos segun la cantidad de numeros que le colques dentro de los parentesis."
      ],
      "metadata": {
        "id": "mX58YUVvSP3i"
      }
    },
    {
      "cell_type": "code",
      "source": [
        "datos.sample(10)"
      ],
      "metadata": {
        "colab": {
          "base_uri": "https://localhost:8080/",
          "height": 444
        },
        "id": "nhijlLj7SQAH",
        "outputId": "4c4b50c2-1bbd-4bbd-b4cb-e8253471f99a"
      },
      "execution_count": null,
      "outputs": [
        {
          "output_type": "execute_result",
          "data": {
            "text/plain": [
              "          country  total_consumption  recorded_consumption  \\\n",
              "161       Vanuatu                1.0                   0.8   \n",
              "107     Nicaragua                5.2                   3.8   \n",
              "132         Benin                3.0                   1.6   \n",
              "50        Grenada                9.3                   8.8   \n",
              "71     Montenegro                8.0                   6.4   \n",
              "140         Samoa                2.5                   2.0   \n",
              "128         Kenya                3.4                   1.9   \n",
              "119       Jamaica                4.2                   3.4   \n",
              "13       Portugal               12.3                  10.6   \n",
              "182  Saudi Arabia                0.2                   0.1   \n",
              "\n",
              "     unrecorded_consumption  beer_percentage  wine_percentage  \\\n",
              "161                     0.4             38.5             25.4   \n",
              "107                     1.4             39.7              0.8   \n",
              "132                     1.5             63.7              9.6   \n",
              "50                      1.4             40.9              7.0   \n",
              "71                      1.7             10.8             43.1   \n",
              "140                     0.7             94.1              5.9   \n",
              "128                     1.5             39.8              1.8   \n",
              "119                     1.1             36.3              4.8   \n",
              "13                      2.1             26.1             61.5   \n",
              "182                     0.2              NaN              NaN   \n",
              "\n",
              "     spirits_percentage  other_percentage  2020_projection  2025_projection  \n",
              "161                36.1               0.0              1.4              1.5  \n",
              "107                59.5               0.1              5.4              5.8  \n",
              "132                13.1              13.6              3.7              4.6  \n",
              "50                 48.3               3.8              9.4              9.6  \n",
              "71                 44.1               2.0              7.9              7.9  \n",
              "140                 0.0               0.0              2.9              3.3  \n",
              "128                21.4              37.0              2.7              3.1  \n",
              "119                54.2               4.6              4.1              4.0  \n",
              "13                  7.7               4.7             11.8             11.0  \n",
              "182                 NaN               NaN              0.2              0.2  "
            ],
            "text/html": [
              "\n",
              "  <div id=\"df-bd18ca0e-f771-4b07-a6ec-6920fd1218c8\">\n",
              "    <div class=\"colab-df-container\">\n",
              "      <div>\n",
              "<style scoped>\n",
              "    .dataframe tbody tr th:only-of-type {\n",
              "        vertical-align: middle;\n",
              "    }\n",
              "\n",
              "    .dataframe tbody tr th {\n",
              "        vertical-align: top;\n",
              "    }\n",
              "\n",
              "    .dataframe thead th {\n",
              "        text-align: right;\n",
              "    }\n",
              "</style>\n",
              "<table border=\"1\" class=\"dataframe\">\n",
              "  <thead>\n",
              "    <tr style=\"text-align: right;\">\n",
              "      <th></th>\n",
              "      <th>country</th>\n",
              "      <th>total_consumption</th>\n",
              "      <th>recorded_consumption</th>\n",
              "      <th>unrecorded_consumption</th>\n",
              "      <th>beer_percentage</th>\n",
              "      <th>wine_percentage</th>\n",
              "      <th>spirits_percentage</th>\n",
              "      <th>other_percentage</th>\n",
              "      <th>2020_projection</th>\n",
              "      <th>2025_projection</th>\n",
              "    </tr>\n",
              "  </thead>\n",
              "  <tbody>\n",
              "    <tr>\n",
              "      <th>161</th>\n",
              "      <td>Vanuatu</td>\n",
              "      <td>1.0</td>\n",
              "      <td>0.8</td>\n",
              "      <td>0.4</td>\n",
              "      <td>38.5</td>\n",
              "      <td>25.4</td>\n",
              "      <td>36.1</td>\n",
              "      <td>0.0</td>\n",
              "      <td>1.4</td>\n",
              "      <td>1.5</td>\n",
              "    </tr>\n",
              "    <tr>\n",
              "      <th>107</th>\n",
              "      <td>Nicaragua</td>\n",
              "      <td>5.2</td>\n",
              "      <td>3.8</td>\n",
              "      <td>1.4</td>\n",
              "      <td>39.7</td>\n",
              "      <td>0.8</td>\n",
              "      <td>59.5</td>\n",
              "      <td>0.1</td>\n",
              "      <td>5.4</td>\n",
              "      <td>5.8</td>\n",
              "    </tr>\n",
              "    <tr>\n",
              "      <th>132</th>\n",
              "      <td>Benin</td>\n",
              "      <td>3.0</td>\n",
              "      <td>1.6</td>\n",
              "      <td>1.5</td>\n",
              "      <td>63.7</td>\n",
              "      <td>9.6</td>\n",
              "      <td>13.1</td>\n",
              "      <td>13.6</td>\n",
              "      <td>3.7</td>\n",
              "      <td>4.6</td>\n",
              "    </tr>\n",
              "    <tr>\n",
              "      <th>50</th>\n",
              "      <td>Grenada</td>\n",
              "      <td>9.3</td>\n",
              "      <td>8.8</td>\n",
              "      <td>1.4</td>\n",
              "      <td>40.9</td>\n",
              "      <td>7.0</td>\n",
              "      <td>48.3</td>\n",
              "      <td>3.8</td>\n",
              "      <td>9.4</td>\n",
              "      <td>9.6</td>\n",
              "    </tr>\n",
              "    <tr>\n",
              "      <th>71</th>\n",
              "      <td>Montenegro</td>\n",
              "      <td>8.0</td>\n",
              "      <td>6.4</td>\n",
              "      <td>1.7</td>\n",
              "      <td>10.8</td>\n",
              "      <td>43.1</td>\n",
              "      <td>44.1</td>\n",
              "      <td>2.0</td>\n",
              "      <td>7.9</td>\n",
              "      <td>7.9</td>\n",
              "    </tr>\n",
              "    <tr>\n",
              "      <th>140</th>\n",
              "      <td>Samoa</td>\n",
              "      <td>2.5</td>\n",
              "      <td>2.0</td>\n",
              "      <td>0.7</td>\n",
              "      <td>94.1</td>\n",
              "      <td>5.9</td>\n",
              "      <td>0.0</td>\n",
              "      <td>0.0</td>\n",
              "      <td>2.9</td>\n",
              "      <td>3.3</td>\n",
              "    </tr>\n",
              "    <tr>\n",
              "      <th>128</th>\n",
              "      <td>Kenya</td>\n",
              "      <td>3.4</td>\n",
              "      <td>1.9</td>\n",
              "      <td>1.5</td>\n",
              "      <td>39.8</td>\n",
              "      <td>1.8</td>\n",
              "      <td>21.4</td>\n",
              "      <td>37.0</td>\n",
              "      <td>2.7</td>\n",
              "      <td>3.1</td>\n",
              "    </tr>\n",
              "    <tr>\n",
              "      <th>119</th>\n",
              "      <td>Jamaica</td>\n",
              "      <td>4.2</td>\n",
              "      <td>3.4</td>\n",
              "      <td>1.1</td>\n",
              "      <td>36.3</td>\n",
              "      <td>4.8</td>\n",
              "      <td>54.2</td>\n",
              "      <td>4.6</td>\n",
              "      <td>4.1</td>\n",
              "      <td>4.0</td>\n",
              "    </tr>\n",
              "    <tr>\n",
              "      <th>13</th>\n",
              "      <td>Portugal</td>\n",
              "      <td>12.3</td>\n",
              "      <td>10.6</td>\n",
              "      <td>2.1</td>\n",
              "      <td>26.1</td>\n",
              "      <td>61.5</td>\n",
              "      <td>7.7</td>\n",
              "      <td>4.7</td>\n",
              "      <td>11.8</td>\n",
              "      <td>11.0</td>\n",
              "    </tr>\n",
              "    <tr>\n",
              "      <th>182</th>\n",
              "      <td>Saudi Arabia</td>\n",
              "      <td>0.2</td>\n",
              "      <td>0.1</td>\n",
              "      <td>0.2</td>\n",
              "      <td>NaN</td>\n",
              "      <td>NaN</td>\n",
              "      <td>NaN</td>\n",
              "      <td>NaN</td>\n",
              "      <td>0.2</td>\n",
              "      <td>0.2</td>\n",
              "    </tr>\n",
              "  </tbody>\n",
              "</table>\n",
              "</div>\n",
              "      <button class=\"colab-df-convert\" onclick=\"convertToInteractive('df-bd18ca0e-f771-4b07-a6ec-6920fd1218c8')\"\n",
              "              title=\"Convert this dataframe to an interactive table.\"\n",
              "              style=\"display:none;\">\n",
              "        \n",
              "  <svg xmlns=\"http://www.w3.org/2000/svg\" height=\"24px\"viewBox=\"0 0 24 24\"\n",
              "       width=\"24px\">\n",
              "    <path d=\"M0 0h24v24H0V0z\" fill=\"none\"/>\n",
              "    <path d=\"M18.56 5.44l.94 2.06.94-2.06 2.06-.94-2.06-.94-.94-2.06-.94 2.06-2.06.94zm-11 1L8.5 8.5l.94-2.06 2.06-.94-2.06-.94L8.5 2.5l-.94 2.06-2.06.94zm10 10l.94 2.06.94-2.06 2.06-.94-2.06-.94-.94-2.06-.94 2.06-2.06.94z\"/><path d=\"M17.41 7.96l-1.37-1.37c-.4-.4-.92-.59-1.43-.59-.52 0-1.04.2-1.43.59L10.3 9.45l-7.72 7.72c-.78.78-.78 2.05 0 2.83L4 21.41c.39.39.9.59 1.41.59.51 0 1.02-.2 1.41-.59l7.78-7.78 2.81-2.81c.8-.78.8-2.07 0-2.86zM5.41 20L4 18.59l7.72-7.72 1.47 1.35L5.41 20z\"/>\n",
              "  </svg>\n",
              "      </button>\n",
              "      \n",
              "  <style>\n",
              "    .colab-df-container {\n",
              "      display:flex;\n",
              "      flex-wrap:wrap;\n",
              "      gap: 12px;\n",
              "    }\n",
              "\n",
              "    .colab-df-convert {\n",
              "      background-color: #E8F0FE;\n",
              "      border: none;\n",
              "      border-radius: 50%;\n",
              "      cursor: pointer;\n",
              "      display: none;\n",
              "      fill: #1967D2;\n",
              "      height: 32px;\n",
              "      padding: 0 0 0 0;\n",
              "      width: 32px;\n",
              "    }\n",
              "\n",
              "    .colab-df-convert:hover {\n",
              "      background-color: #E2EBFA;\n",
              "      box-shadow: 0px 1px 2px rgba(60, 64, 67, 0.3), 0px 1px 3px 1px rgba(60, 64, 67, 0.15);\n",
              "      fill: #174EA6;\n",
              "    }\n",
              "\n",
              "    [theme=dark] .colab-df-convert {\n",
              "      background-color: #3B4455;\n",
              "      fill: #D2E3FC;\n",
              "    }\n",
              "\n",
              "    [theme=dark] .colab-df-convert:hover {\n",
              "      background-color: #434B5C;\n",
              "      box-shadow: 0px 1px 3px 1px rgba(0, 0, 0, 0.15);\n",
              "      filter: drop-shadow(0px 1px 2px rgba(0, 0, 0, 0.3));\n",
              "      fill: #FFFFFF;\n",
              "    }\n",
              "  </style>\n",
              "\n",
              "      <script>\n",
              "        const buttonEl =\n",
              "          document.querySelector('#df-bd18ca0e-f771-4b07-a6ec-6920fd1218c8 button.colab-df-convert');\n",
              "        buttonEl.style.display =\n",
              "          google.colab.kernel.accessAllowed ? 'block' : 'none';\n",
              "\n",
              "        async function convertToInteractive(key) {\n",
              "          const element = document.querySelector('#df-bd18ca0e-f771-4b07-a6ec-6920fd1218c8');\n",
              "          const dataTable =\n",
              "            await google.colab.kernel.invokeFunction('convertToInteractive',\n",
              "                                                     [key], {});\n",
              "          if (!dataTable) return;\n",
              "\n",
              "          const docLinkHtml = 'Like what you see? Visit the ' +\n",
              "            '<a target=\"_blank\" href=https://colab.research.google.com/notebooks/data_table.ipynb>data table notebook</a>'\n",
              "            + ' to learn more about interactive tables.';\n",
              "          element.innerHTML = '';\n",
              "          dataTable['output_type'] = 'display_data';\n",
              "          await google.colab.output.renderOutput(dataTable, element);\n",
              "          const docLink = document.createElement('div');\n",
              "          docLink.innerHTML = docLinkHtml;\n",
              "          element.appendChild(docLink);\n",
              "        }\n",
              "      </script>\n",
              "    </div>\n",
              "  </div>\n",
              "  "
            ]
          },
          "metadata": {},
          "execution_count": 17
        }
      ]
    },
    {
      "cell_type": "markdown",
      "source": [
        "Vamos a realizar una descripcion estadistica de los datos"
      ],
      "metadata": {
        "id": "LyzaBcpESjeg"
      }
    },
    {
      "cell_type": "code",
      "source": [
        "datos.describe()"
      ],
      "metadata": {
        "colab": {
          "base_uri": "https://localhost:8080/",
          "height": 364
        },
        "id": "ap5QQ548Sj0J",
        "outputId": "0c624fc3-c2da-4b14-d059-322fb3df033b"
      },
      "execution_count": null,
      "outputs": [
        {
          "output_type": "execute_result",
          "data": {
            "text/plain": [
              "       total_consumption  recorded_consumption  unrecorded_consumption  \\\n",
              "count         189.000000            189.000000              189.000000   \n",
              "mean            6.183598              4.923280                1.379894   \n",
              "std             4.124949              3.774605                0.891459   \n",
              "min             0.000000              0.000000                0.000000   \n",
              "25%             2.400000              1.400000                0.800000   \n",
              "50%             6.300000              4.500000                1.300000   \n",
              "75%             9.400000              7.900000                1.800000   \n",
              "max            16.900000             15.800000                5.300000   \n",
              "\n",
              "       beer_percentage  wine_percentage  spirits_percentage  other_percentage  \\\n",
              "count       179.000000       179.000000          179.000000        179.000000   \n",
              "mean         43.484358        16.306704           29.394413         10.807821   \n",
              "std          22.147305        18.123067           24.027063         23.013580   \n",
              "min           0.600000         0.000000            0.000000          0.000000   \n",
              "25%          28.300000         2.150000           10.850000          0.000000   \n",
              "50%          39.900000         8.500000           25.400000          0.700000   \n",
              "75%          56.900000        27.950000           43.750000          4.650000   \n",
              "max         100.000000        84.700000           97.300000         94.900000   \n",
              "\n",
              "       2020_projection  2025_projection  \n",
              "count       189.000000       189.000000  \n",
              "mean          6.252910         6.451852  \n",
              "std           4.101291         4.178982  \n",
              "min           0.000000         0.000000  \n",
              "25%           2.500000         2.700000  \n",
              "50%           6.300000         6.600000  \n",
              "75%           9.700000        10.200000  \n",
              "max          16.200000        18.300000  "
            ],
            "text/html": [
              "\n",
              "  <div id=\"df-6778f4a7-a683-45b1-a7ce-684b6cad9d3a\">\n",
              "    <div class=\"colab-df-container\">\n",
              "      <div>\n",
              "<style scoped>\n",
              "    .dataframe tbody tr th:only-of-type {\n",
              "        vertical-align: middle;\n",
              "    }\n",
              "\n",
              "    .dataframe tbody tr th {\n",
              "        vertical-align: top;\n",
              "    }\n",
              "\n",
              "    .dataframe thead th {\n",
              "        text-align: right;\n",
              "    }\n",
              "</style>\n",
              "<table border=\"1\" class=\"dataframe\">\n",
              "  <thead>\n",
              "    <tr style=\"text-align: right;\">\n",
              "      <th></th>\n",
              "      <th>total_consumption</th>\n",
              "      <th>recorded_consumption</th>\n",
              "      <th>unrecorded_consumption</th>\n",
              "      <th>beer_percentage</th>\n",
              "      <th>wine_percentage</th>\n",
              "      <th>spirits_percentage</th>\n",
              "      <th>other_percentage</th>\n",
              "      <th>2020_projection</th>\n",
              "      <th>2025_projection</th>\n",
              "    </tr>\n",
              "  </thead>\n",
              "  <tbody>\n",
              "    <tr>\n",
              "      <th>count</th>\n",
              "      <td>189.000000</td>\n",
              "      <td>189.000000</td>\n",
              "      <td>189.000000</td>\n",
              "      <td>179.000000</td>\n",
              "      <td>179.000000</td>\n",
              "      <td>179.000000</td>\n",
              "      <td>179.000000</td>\n",
              "      <td>189.000000</td>\n",
              "      <td>189.000000</td>\n",
              "    </tr>\n",
              "    <tr>\n",
              "      <th>mean</th>\n",
              "      <td>6.183598</td>\n",
              "      <td>4.923280</td>\n",
              "      <td>1.379894</td>\n",
              "      <td>43.484358</td>\n",
              "      <td>16.306704</td>\n",
              "      <td>29.394413</td>\n",
              "      <td>10.807821</td>\n",
              "      <td>6.252910</td>\n",
              "      <td>6.451852</td>\n",
              "    </tr>\n",
              "    <tr>\n",
              "      <th>std</th>\n",
              "      <td>4.124949</td>\n",
              "      <td>3.774605</td>\n",
              "      <td>0.891459</td>\n",
              "      <td>22.147305</td>\n",
              "      <td>18.123067</td>\n",
              "      <td>24.027063</td>\n",
              "      <td>23.013580</td>\n",
              "      <td>4.101291</td>\n",
              "      <td>4.178982</td>\n",
              "    </tr>\n",
              "    <tr>\n",
              "      <th>min</th>\n",
              "      <td>0.000000</td>\n",
              "      <td>0.000000</td>\n",
              "      <td>0.000000</td>\n",
              "      <td>0.600000</td>\n",
              "      <td>0.000000</td>\n",
              "      <td>0.000000</td>\n",
              "      <td>0.000000</td>\n",
              "      <td>0.000000</td>\n",
              "      <td>0.000000</td>\n",
              "    </tr>\n",
              "    <tr>\n",
              "      <th>25%</th>\n",
              "      <td>2.400000</td>\n",
              "      <td>1.400000</td>\n",
              "      <td>0.800000</td>\n",
              "      <td>28.300000</td>\n",
              "      <td>2.150000</td>\n",
              "      <td>10.850000</td>\n",
              "      <td>0.000000</td>\n",
              "      <td>2.500000</td>\n",
              "      <td>2.700000</td>\n",
              "    </tr>\n",
              "    <tr>\n",
              "      <th>50%</th>\n",
              "      <td>6.300000</td>\n",
              "      <td>4.500000</td>\n",
              "      <td>1.300000</td>\n",
              "      <td>39.900000</td>\n",
              "      <td>8.500000</td>\n",
              "      <td>25.400000</td>\n",
              "      <td>0.700000</td>\n",
              "      <td>6.300000</td>\n",
              "      <td>6.600000</td>\n",
              "    </tr>\n",
              "    <tr>\n",
              "      <th>75%</th>\n",
              "      <td>9.400000</td>\n",
              "      <td>7.900000</td>\n",
              "      <td>1.800000</td>\n",
              "      <td>56.900000</td>\n",
              "      <td>27.950000</td>\n",
              "      <td>43.750000</td>\n",
              "      <td>4.650000</td>\n",
              "      <td>9.700000</td>\n",
              "      <td>10.200000</td>\n",
              "    </tr>\n",
              "    <tr>\n",
              "      <th>max</th>\n",
              "      <td>16.900000</td>\n",
              "      <td>15.800000</td>\n",
              "      <td>5.300000</td>\n",
              "      <td>100.000000</td>\n",
              "      <td>84.700000</td>\n",
              "      <td>97.300000</td>\n",
              "      <td>94.900000</td>\n",
              "      <td>16.200000</td>\n",
              "      <td>18.300000</td>\n",
              "    </tr>\n",
              "  </tbody>\n",
              "</table>\n",
              "</div>\n",
              "      <button class=\"colab-df-convert\" onclick=\"convertToInteractive('df-6778f4a7-a683-45b1-a7ce-684b6cad9d3a')\"\n",
              "              title=\"Convert this dataframe to an interactive table.\"\n",
              "              style=\"display:none;\">\n",
              "        \n",
              "  <svg xmlns=\"http://www.w3.org/2000/svg\" height=\"24px\"viewBox=\"0 0 24 24\"\n",
              "       width=\"24px\">\n",
              "    <path d=\"M0 0h24v24H0V0z\" fill=\"none\"/>\n",
              "    <path d=\"M18.56 5.44l.94 2.06.94-2.06 2.06-.94-2.06-.94-.94-2.06-.94 2.06-2.06.94zm-11 1L8.5 8.5l.94-2.06 2.06-.94-2.06-.94L8.5 2.5l-.94 2.06-2.06.94zm10 10l.94 2.06.94-2.06 2.06-.94-2.06-.94-.94-2.06-.94 2.06-2.06.94z\"/><path d=\"M17.41 7.96l-1.37-1.37c-.4-.4-.92-.59-1.43-.59-.52 0-1.04.2-1.43.59L10.3 9.45l-7.72 7.72c-.78.78-.78 2.05 0 2.83L4 21.41c.39.39.9.59 1.41.59.51 0 1.02-.2 1.41-.59l7.78-7.78 2.81-2.81c.8-.78.8-2.07 0-2.86zM5.41 20L4 18.59l7.72-7.72 1.47 1.35L5.41 20z\"/>\n",
              "  </svg>\n",
              "      </button>\n",
              "      \n",
              "  <style>\n",
              "    .colab-df-container {\n",
              "      display:flex;\n",
              "      flex-wrap:wrap;\n",
              "      gap: 12px;\n",
              "    }\n",
              "\n",
              "    .colab-df-convert {\n",
              "      background-color: #E8F0FE;\n",
              "      border: none;\n",
              "      border-radius: 50%;\n",
              "      cursor: pointer;\n",
              "      display: none;\n",
              "      fill: #1967D2;\n",
              "      height: 32px;\n",
              "      padding: 0 0 0 0;\n",
              "      width: 32px;\n",
              "    }\n",
              "\n",
              "    .colab-df-convert:hover {\n",
              "      background-color: #E2EBFA;\n",
              "      box-shadow: 0px 1px 2px rgba(60, 64, 67, 0.3), 0px 1px 3px 1px rgba(60, 64, 67, 0.15);\n",
              "      fill: #174EA6;\n",
              "    }\n",
              "\n",
              "    [theme=dark] .colab-df-convert {\n",
              "      background-color: #3B4455;\n",
              "      fill: #D2E3FC;\n",
              "    }\n",
              "\n",
              "    [theme=dark] .colab-df-convert:hover {\n",
              "      background-color: #434B5C;\n",
              "      box-shadow: 0px 1px 3px 1px rgba(0, 0, 0, 0.15);\n",
              "      filter: drop-shadow(0px 1px 2px rgba(0, 0, 0, 0.3));\n",
              "      fill: #FFFFFF;\n",
              "    }\n",
              "  </style>\n",
              "\n",
              "      <script>\n",
              "        const buttonEl =\n",
              "          document.querySelector('#df-6778f4a7-a683-45b1-a7ce-684b6cad9d3a button.colab-df-convert');\n",
              "        buttonEl.style.display =\n",
              "          google.colab.kernel.accessAllowed ? 'block' : 'none';\n",
              "\n",
              "        async function convertToInteractive(key) {\n",
              "          const element = document.querySelector('#df-6778f4a7-a683-45b1-a7ce-684b6cad9d3a');\n",
              "          const dataTable =\n",
              "            await google.colab.kernel.invokeFunction('convertToInteractive',\n",
              "                                                     [key], {});\n",
              "          if (!dataTable) return;\n",
              "\n",
              "          const docLinkHtml = 'Like what you see? Visit the ' +\n",
              "            '<a target=\"_blank\" href=https://colab.research.google.com/notebooks/data_table.ipynb>data table notebook</a>'\n",
              "            + ' to learn more about interactive tables.';\n",
              "          element.innerHTML = '';\n",
              "          dataTable['output_type'] = 'display_data';\n",
              "          await google.colab.output.renderOutput(dataTable, element);\n",
              "          const docLink = document.createElement('div');\n",
              "          docLink.innerHTML = docLinkHtml;\n",
              "          element.appendChild(docLink);\n",
              "        }\n",
              "      </script>\n",
              "    </div>\n",
              "  </div>\n",
              "  "
            ]
          },
          "metadata": {},
          "execution_count": 18
        }
      ]
    },
    {
      "cell_type": "markdown",
      "source": [
        "con .drop(['PassengerId', 'Name','Ticket'],axis=1,inplace=True). podemos borrar las columnas que no necesitemos.\n",
        "\n",
        "df[df.duplicated()]. ---> remover duplicados"
      ],
      "metadata": {
        "id": "MgqOq15bTV_k"
      }
    },
    {
      "cell_type": "markdown",
      "source": [
        "vamos a hacer una grafica"
      ],
      "metadata": {
        "id": "e6l5PabcT91R"
      }
    },
    {
      "cell_type": "code",
      "source": [
        "xpt = np.array([0,5])\n",
        "ypt = np.array([0,100])\n",
        "\n",
        "plt.plot(xpt,ypt)\n",
        "plt.show()\n",
        "\n"
      ],
      "metadata": {
        "colab": {
          "base_uri": "https://localhost:8080/",
          "height": 265
        },
        "id": "NM-nzHYdNL6j",
        "outputId": "7d4dae4c-55d5-443c-eb51-7cf8fb6eb95f"
      },
      "execution_count": null,
      "outputs": [
        {
          "output_type": "display_data",
          "data": {
            "text/plain": [
              "<Figure size 432x288 with 1 Axes>"
            ],
            "image/png": "[encoded data removed]"
          },
          "metadata": {
            "needs_background": "light"
          }
        }
      ]
    },
    {
      "cell_type": "code",
      "source": [
        "plt.boxplot(datos[\"total_consumption\"])\n",
        "plt.show()"
      ],
      "metadata": {
        "colab": {
          "base_uri": "https://localhost:8080/",
          "height": 266
        },
        "id": "Mww5ekgGNTeE",
        "outputId": "b74c134f-3a29-4a03-9867-92fa04fe3463"
      },
      "execution_count": null,
      "outputs": [
        {
          "output_type": "display_data",
          "data": {
            "text/plain": [
              "<Figure size 432x288 with 1 Axes>"
            ],
            "image/png": "[encoded data removed]"
          },
          "metadata": {
            "needs_background": "light"
          }
        }
      ]
    },
    {
      "cell_type": "code",
      "source": [
        "plt.boxplot(datos[\"total_consumption\"], vert = False, patch_artist=True , labels=[\"consumo total\"])\n",
        "plt.title(\"Consumo de cerveza total por paises\")\n",
        "plt.show()"
      ],
      "metadata": {
        "colab": {
          "base_uri": "https://localhost:8080/",
          "height": 281
        },
        "id": "3PSM57NDGxPA",
        "outputId": "c5a4d0f3-86e0-424e-9887-4ee080d9e717"
      },
      "execution_count": null,
      "outputs": [
        {
          "output_type": "display_data",
          "data": {
            "text/plain": [
              "<Figure size 432x288 with 1 Axes>"
            ],
            "image/png": "[encoded data removed]"
          },
          "metadata": {
            "needs_background": "light"
          }
        }
      ]
    },
    {
      "cell_type": "code",
      "source": [
        "plt.boxplot(datos[\"recorded_consumption\"], vert = False, patch_artist=True , labels=[\"consumo de cerveza\"])\n",
        "plt.title(\"Consumo registrado de creveza\")\n",
        "plt.show()"
      ],
      "metadata": {
        "colab": {
          "base_uri": "https://localhost:8080/",
          "height": 281
        },
        "id": "F-dPWtgSHjs_",
        "outputId": "35355f0e-bd44-458e-d206-86ea6feff5b2"
      },
      "execution_count": null,
      "outputs": [
        {
          "output_type": "display_data",
          "data": {
            "text/plain": [
              "<Figure size 432x288 with 1 Axes>"
            ],
            "image/png": "[encoded data removed]"
          },
          "metadata": {
            "needs_background": "light"
          }
        }
      ]
    },
    {
      "cell_type": "markdown",
      "source": [
        "##Ahora vamos. usar dos datos a la vez que podamos comparar\n",
        "en este caso el total de cerveza vs el todal de cerveza\n",
        "\n",
        "el total de las graficas con mathplot\n",
        "\n",
        "https://aprendeconalf.es/docencia/python/manual/matplotlib/#cambiar-el-aspecto-de-los-gr%C3%A1ficosregistrada"
      ],
      "metadata": {
        "id": "EI3eZkkgIfYD"
      }
    },
    {
      "cell_type": "code",
      "source": [
        "plt.boxplot([datos[\"recorded_consumption\"], datos[\"total_consumption\"]], vert = False, patch_artist=True , labels=[\"consumo de cerveza registradoa\",\"consumo de creveza total\"])\n",
        "plt.title(\"Comparaciones entre datos\")\n",
        "plt.show()"
      ],
      "metadata": {
        "colab": {
          "base_uri": "https://localhost:8080/",
          "height": 281
        },
        "id": "-Iw-mjbqIpLt",
        "outputId": "7e81057d-e281-409d-bedd-50b6a9b76aca"
      },
      "execution_count": null,
      "outputs": [
        {
          "output_type": "display_data",
          "data": {
            "text/plain": [
              "<Figure size 432x288 with 1 Axes>"
            ],
            "image/png": "[encoded data removed]"
          },
          "metadata": {
            "needs_background": "light"
          }
        }
      ]
    },
    {
      "cell_type": "code",
      "source": [
        "x = [\"A\",\"B\",\"C\",\"D\",\"E\"]\n",
        "y = [10,20,30,40,50]\n",
        "plt.bar(x,y)\n",
        "plt.show()"
      ],
      "metadata": {
        "colab": {
          "base_uri": "https://localhost:8080/",
          "height": 268
        },
        "id": "r4pjs23mnVil",
        "outputId": "058fbfb4-bff9-4896-f2af-77f53b849c1e"
      },
      "execution_count": null,
      "outputs": [
        {
          "output_type": "display_data",
          "data": {
            "text/plain": [
              "<Figure size 432x288 with 1 Axes>"
            ],
            "image/png": "[encoded data removed]"
          },
          "metadata": {}
        }
      ]
    },
    {
      "cell_type": "markdown",
      "source": [
        "Ahora usaremos lamlibreria \"seaborn\". --> \"sns\""
      ],
      "metadata": {
        "id": "iBFvPAu9J4Xq"
      }
    },
    {
      "cell_type": "code",
      "source": [
        "sns.barplot(x =\"country\" , y=\"total_consumption\", data = datos )\n",
        "plt.show()"
      ],
      "metadata": {
        "colab": {
          "base_uri": "https://localhost:8080/",
          "height": 285
        },
        "id": "MzyBUGAdJ8Ii",
        "outputId": "fddb5e2c-da02-441a-a9f8-2ea08aa2f2c0"
      },
      "execution_count": null,
      "outputs": [
        {
          "output_type": "display_data",
          "data": {
            "text/plain": [
              "<Figure size 432x288 with 1 Axes>"
            ],
            "image/png": "[encoded data removed]"
          },
          "metadata": {}
        }
      ]
    },
    {
      "cell_type": "code",
      "source": [
        "x = [\"A\",\"B\",\"C\",\"D\",\"E\"]\n",
        "y = [10,20,30,40,50]\n",
        "sns.barplot(x,y)\n",
        "plt.show()"
      ],
      "metadata": {
        "colab": {
          "base_uri": "https://localhost:8080/",
          "height": 324
        },
        "id": "dbMJia0soVav",
        "outputId": "289d2173-2b2d-4c8b-acd0-ef1d1a398882"
      },
      "execution_count": null,
      "outputs": [
        {
          "output_type": "stream",
          "name": "stderr",
          "text": [
            "/usr/local/lib/python3.8/dist-packages/seaborn/_decorators.py:36: FutureWarning: Pass the following variables as keyword args: x, y. From version 0.12, the only valid positional argument will be `data`, and passing other arguments without an explicit keyword will result in an error or misinterpretation.\n",
            "  warnings.warn(\n"
          ]
        },
        {
          "output_type": "display_data",
          "data": {
            "text/plain": [
              "<Figure size 432x288 with 1 Axes>"
            ],
            "image/png": "[encoded data removed]"
          },
          "metadata": {}
        }
      ]
    },
    {
      "cell_type": "code",
      "source": [
        "from pandas.io.parsers.readers import read_csv\n",
        "datos = read_csv(\"/content/alcohol-consumption.csv\")"
      ],
      "metadata": {
        "id": "Jn-ZxvN3pRhI"
      },
      "execution_count": null,
      "outputs": []
    },
    {
      "cell_type": "code",
      "source": [
        "import matplotlib.ticker as ticker"
      ],
      "metadata": {
        "id": "yVWvmiMGFYCV"
      },
      "execution_count": null,
      "outputs": []
    },
    {
      "cell_type": "code",
      "source": [
        "x = datos[\"country\"]\n",
        "y = datos[\"total_consumption\"]\n",
        "sns.barplot(x,y)\n",
        "plt.show()"
      ],
      "metadata": {
        "colab": {
          "base_uri": "https://localhost:8080/",
          "height": 341
        },
        "id": "Xw2AVhDPqLXE",
        "outputId": "b2ce0bfb-af4c-467f-c3f7-d5550a84f9e7"
      },
      "execution_count": null,
      "outputs": [
        {
          "output_type": "stream",
          "name": "stderr",
          "text": [
            "/usr/local/lib/python3.8/dist-packages/seaborn/_decorators.py:36: FutureWarning: Pass the following variables as keyword args: x, y. From version 0.12, the only valid positional argument will be `data`, and passing other arguments without an explicit keyword will result in an error or misinterpretation.\n",
            "  warnings.warn(\n"
          ]
        },
        {
          "output_type": "display_data",
          "data": {
            "text/plain": [
              "<Figure size 432x288 with 1 Axes>"
            ],
            "image/png": "[encoded data removed]"
          },
          "metadata": {}
        }
      ]
    },
    {
      "cell_type": "code",
      "source": [
        "fig = plt.figure(figsize = (15,15))"
      ],
      "metadata": {
        "colab": {
          "base_uri": "https://localhost:8080/",
          "height": 35
        },
        "id": "NPFsiVRwF208",
        "outputId": "f963ed4a-f510-4f4e-ee22-65c440cf9289"
      },
      "execution_count": null,
      "outputs": [
        {
          "output_type": "display_data",
          "data": {
            "text/plain": [
              "<Figure size 1080x1080 with 0 Axes>"
            ]
          },
          "metadata": {}
        }
      ]
    },
    {
      "cell_type": "markdown",
      "source": [
        "# Ecuaciones de latex\n"
      ],
      "metadata": {
        "id": "6r19pwuZHa0a"
      }
    },
    {
      "cell_type": "markdown",
      "source": [],
      "metadata": {
        "id": "seI1dWoq-DG0"
      }
    },
    {
      "cell_type": "markdown",
      "source": [
        "\\\\ o \\newline: crea una nueva línea.\n",
        "\n",
        "$...$: escribe fórmulas matemáticas en línea.\n",
        "\n",
        "\\[...\\] o $$...$$: escribe fórmulas matemáticas en un bloque.\n",
        "\n",
        "\\frac{num}{den}: crea una fracción.\n",
        "\n",
        "\\sqrt{...}: crea una raíz cuadrada.\n",
        "\n",
        "\\sum_{i=1}^{n}...: crea una sumatoria.\n",
        "\n",
        "\\int_{a}^{b}...: crea una integral.\n",
        "\n",
        "\\lim_{x \\to a}...: crea un límite.\n",
        "\n",
        "\\infty: crea el símbolo del infinito.\n",
        "\n",
        "\\alpha, \\beta, \\gamma, \\delta, \\epsilon, etc.: crea letras griegas.\n",
        "\n",
        "\\bar{x}: coloca una línea sobre la letra \"x\".\n",
        "\n",
        "\\overline{x}: coloca una línea horizontal sobre la letra \"x\".\n",
        "\n",
        "\\underline{x}: subraya la letra \"x\".\n",
        "\n",
        "\\vec{x}: crea un vector con la letra \"x\".\n",
        "\n",
        "\\text{...}: escribe texto en modo matemático.\n",
        "\n",
        "\\begin{equation}...\\end{equation}: crea una ecuación numerada.\n",
        "\n",
        "\\begin{aligned}...\\end{aligned}: alinea ecuaciones en modo matemático.\n",
        "\n",
        "\\begin{cases}...\\end{cases}: crea un sistema de ecuaciones.\n",
        "\n",
        "\\begin{matrix}...\\end{matrix}: crea una matriz.\n",
        "\n",
        "\\begin{pmatrix}...\\end{pmatrix}: crea una matriz con paréntesis.\n",
        "\n",
        "\n"
      ],
      "metadata": {
        "id": "Z76Y9mAiHezb"
      }
    },
    {
      "cell_type": "markdown",
      "source": [
        "###trabajar con diagramas\n",
        "***\n",
        "\n",
        "usaremos **graphviz**\n",
        "\n",
        "from graphviz import Digraph\n",
        "\n",
        "# Crear el grafo\n",
        "diagrama = Digraph()\n",
        "\n",
        "# Agregar los nodos\n",
        "diagrama.node('ingenieria', 'Ingeniería', shape='rectangle')\n",
        "diagrama.node('ingenieria industrial', 'ingenieria industrial', shape='rectangle')\n",
        "diagrama.node('metodos', 'Métodos', shape='rectangle')\n",
        "diagrama.node('distribucion', 'Distribución', shape='rectangle')\n",
        "diagrama.node('manufactura', 'Manufactura', shape='rectangle')\n",
        "diagrama.node('procesos', 'Procesos', shape='diamond')\n",
        "\n",
        "# Agregar las conexiones\n",
        "diagrama.edge('ingenieria', 'ingenieria industrial')\n",
        "diagrama.edge('ingenieria industrial', 'metodos')\n",
        "diagrama.edge('ingenieria industrial', 'distribucion')\n",
        "diagrama.edge('ingenieria industrial', 'manufactura')\n",
        "diagrama.edge('metodos', 'procesos')\n",
        "diagrama.edge('distribucion', 'procesos')\n",
        "diagrama.edge('manufactura', 'procesos')\n",
        "\n",
        "# Mostrar el diagrama\n",
        "diagrama.render('diagrama', format='png', view=False)"
      ],
      "metadata": {
        "id": "wwK9LyKg-HND"
      }
    },
    {
      "cell_type": "code",
      "source": [
        "#llamamos la libreria\n",
        "from graphviz import Digraph\n",
        "\n",
        "# Crear el grafico\n",
        "diagrama = Digraph()\n",
        "\n",
        "# Agregar los nodos\n",
        "diagrama.node('hello', 'hello', shape='rectangle')\n",
        "diagrama.node('hola tu', 'hola tu', shape='diamond')\n",
        "\n",
        "\n",
        "# Agregar las conexiones\n",
        "diagrama.edge('hello', 'hola tu')\n",
        "\n",
        "\n",
        "# Mostrar el diagrama\n",
        "diagrama.render('diagrama', format='png', view=False)"
      ],
      "metadata": {
        "colab": {
          "base_uri": "https://localhost:8080/",
          "height": 35
        },
        "id": "1piBSoaZ-G2Y",
        "outputId": "bcac8828-d0b7-4515-d100-dd68d167cc1e"
      },
      "execution_count": null,
      "outputs": [
        {
          "output_type": "execute_result",
          "data": {
            "text/plain": [
              "'diagrama.png'"
            ],
            "application/vnd.google.colaboratory.intrinsic+json": {
              "type": "string"
            }
          },
          "metadata": {},
          "execution_count": 1
        }
      ]
    },
    {
      "cell_type": "code",
      "source": [
        "from IPython.display import Image\n",
        "\n",
        "Image('/content/diagrama.png')"
      ],
      "metadata": {
        "colab": {
          "base_uri": "https://localhost:8080/",
          "height": 172
        },
        "id": "p0b9P1KN_klH",
        "outputId": "94195482-046e-4ce7-b723-72d5cface92b"
      },
      "execution_count": null,
      "outputs": [
        {
          "output_type": "execute_result",
          "data": {
            "image/png": "[encoded data removed]",
            "text/plain": [
              "<IPython.core.display.Image object>"
            ]
          },
          "metadata": {},
          "execution_count": 2
        }
      ]
    },
    {
      "cell_type": "markdown",
      "source": [
        "hacer el cuadro de\n",
        "\n",
        "−−𝑁𝑒𝑐𝑒𝑠𝑖𝑑𝑎𝑑𝑒𝑠−−>|𝑃𝑟𝑜𝑐𝑒𝑠𝑜𝑋|−−−𝑆𝑎𝑙𝑖𝑑𝑎𝑠−−>"
      ],
      "metadata": {
        "id": "s8NU7jDRAB4u"
      }
    },
    {
      "cell_type": "code",
      "source": [
        "\n",
        "# Crear el grafico\n",
        "ing = Digraph()\n",
        "\n",
        "# Agregar los nodos\n",
        "ing.node('ingresos', 'ingreso', shape='rectangle')\n",
        "ing.node('hola tu', 'hola tu', shape='diamond')\n",
        "\n",
        "\n",
        "# Agregar las conexiones\n",
        "diagrama.edge('hello', 'hola tu')\n",
        "\n",
        "\n",
        "# Mostrar el diagrama\n",
        "diagrama.render('diagrama', format='png', view=False)"
      ],
      "metadata": {
        "id": "uyfgI1s6AZ7E"
      },
      "execution_count": null,
      "outputs": []
    },
    {
      "cell_type": "markdown",
      "source": [],
      "metadata": {
        "id": "GvcEIuQ3soTC"
      }
    },
    {
      "cell_type": "markdown",
      "source": [
        "como pehar una imagen\n",
        "\n",
        "from IPython.display import Image\n",
        "Image(filename='')"
      ],
      "metadata": {
        "id": "gwCsZGxlAzdQ"
      }
    },
    {
      "cell_type": "markdown",
      "source": [
        "|     | T_1 | T_2 | D_1   | D_2   | D_3 |      |\n",
        "|-----|-----|-----|-------|-------|-----|------|\n",
        "| P_1 | 3   | 4   | M     | M     | M   | 1000 |\n",
        "| P_2 | 2   | 5   | M     | M     | M   | 1200 |\n",
        "| T_1 | 0   | 7   | 8     | 6     | M   | B    |\n",
        "| T_2 | M   | 0   | M     | 4     | 9   | B    |\n",
        "| D_1 | M   | M   | 0     | 5     | M   | B    |\n",
        "| D_2 | M   | M   | M     | 0     | 3   | B    |\n",
        "|     | B   | B   | 800+B | 900+B | 500 |      |"
      ],
      "metadata": {
        "id": "wrVPcEdLJmms"
      }
    },
    {
      "cell_type": "markdown",
      "source": [
        "## Useful LaTeX symbols for BE/Bi 103\n",
        "Following is a list of some symbols you may find useful in this class.\n",
        "\n",
        "LaTeX | symbol\n",
        "--- | :---:\n",
        "`\\approx` | $\\approx$\n",
        "`\\sim` | $\\sim$\n",
        "`\\propto` | $\\propto$\n",
        "`\\le` | $\\le$\n",
        "`ge` | $\\ge$\n",
        "`\\pm` | $\\pm$\n",
        "`\\in` | $\\in$\n",
        "`\\ln` | $\\ln$\n",
        "`\\exp` | $\\exp$\n",
        "`\\prod_{i\\in D}` | ${\\displaystyle \\prod_{i\\in D}}$\n",
        "`\\sum_{i\\in D}` | ${\\displaystyle \\sum_{i\\in D}}$\n",
        "`\\frac{\\partial f}{\\partial x}` | ${\\displaystyle \\frac{\\partial f}{\\partial x}}$\n",
        "`\\sqrt{x}` | $\\sqrt{x}$\n",
        "`\\bar{x}` | $\\bar{x}$\n",
        "`\\langle x \\rangle` | $\\langle x \\rangle$\n",
        "`\\left\\langle \\frac{x}{y} \\right\\rangle` | $\\left\\langle \\frac{x}{y} \\right\\rangle$"
      ],
      "metadata": {
        "id": "HptgGZ1TNf_L"
      }
    },
    {
      "cell_type": "markdown",
      "source": [
        "## Matrices and arrays\n",
        "On occasion, you'll need to express matrices. This is most easily done using the `pmatrix` environment.  For example, a covariance matrix for two variables might be written as\n",
        "\n",
        "\\begin{align}\n",
        "\\sigma^2 = \\begin{pmatrix}\n",
        "\\sigma_1^2 & \\sigma_{12} \\\\\n",
        "\\sigma_{12} & \\sigma_2^2\n",
        "\\end{pmatrix}.\n",
        "\\end{align}\n",
        "\n",
        "    \\begin{align}\n",
        "        \\sigma^2 = \\begin{pmatrix}\n",
        "        \\sigma_1^2 & \\sigma_{12} \\\\\n",
        "        \\sigma_{12} & \\sigma_2^2\n",
        "        \\end{pmatrix}.\n",
        "    \\end{align}\n",
        "\n",
        "Once in the `pmatrix` environment, each row has entries separated by an ampersand. The row ends with a `\\\\`.  Each row must have the same number of entries.\n",
        "\n",
        "You may also need to represent an values stacked on top of each other. For example, we might specify a piecewise linear function like this.\n",
        "\n",
        "\\begin{align}\n",
        "\\text{rectifier}(x) = \\left\\{\n",
        "\\begin{array}{cl}\n",
        "0 & x \\le 0 \\\\\n",
        "x & x > 0.\n",
        "\\end{array}\n",
        "\\right.\n",
        "\\end{align}\n",
        "\n",
        "    \\begin{align}\n",
        "        \\text{rectifier}(x) = \\left\\{\n",
        "        \\begin{array}{cl}\n",
        "        0 & x \\le 0 \\\\\n",
        "        x & x > 0.\n",
        "        \\end{array}\n",
        "        \\right.\n",
        "    \\end{align}\n",
        "\n",
        "The `array` environment allows arrays of text. The `{cl}` after `\\begin{array}` indicates that two columns are wanted, with the first column being centered and the second being left-aligned. If we chose instead `{lr}`, the first column is left-aligned and the second column is right-aligned."
      ],
      "metadata": {
        "id": "BdmRq8bDNnbP"
      }
    },
    {
      "cell_type": "markdown",
      "metadata": {
        "id": "uKwUcI6-NbXw"
      },
      "source": [
        "## Grouping operators (and more fine-tuning)\n",
        "\n",
        "Compare the following equations.\n",
        "\n",
        "\\begin{align}\n",
        "\\text{good: } &\\sum_{i=1}^n i^3 = \\left(\\sum_{i=1}^n i\\right)^2. \\\\[1em]\n",
        "\\text{bad: }  &\\sum_{i=1}^n i^3 = (\\sum_{i=1}^n i)^2.\n",
        "\\end{align}\n",
        "\n",
        "    \\begin{align}\n",
        "        \\text{good: } &\\sum_{i=1}^n i^3 = \\left(\\sum_{i=1}^n i\\right)^2. \\\\[1em]\n",
        "        \\text{bad: }  &\\sum_{i=1}^n i^3 = (\\sum_{i=1}^n i)^2.\n",
        "    \\end{align}\n",
        "\n",
        "In the second equation, I did not use the `\\left(` and `\\right)` construction for parentheses and the result looks pretty awful. In LaTeX, the height of anything that is encapsulated by `\\left(` and `\\right)` scales the parentheses appropriately. You can use `\\left` and `\\right` with many symbols. An important example is `\\left\\{`. Note that to display braces in an equation, you have to use `\\{` because just a plain brace (`{`) has a different meaning.\n",
        "\n",
        "(By the way, that equation is true, and pretty amazing. It says that the sum of the first $n$ *cubes* of integers is equal to the sum of the first $n$ integers *squared*!)\n",
        "\n",
        "Finally, if you use `\\left.` or `\\right.`, LaTeX will simply scale the opposite symbol to match the height of the text, but will suppress printing the other. For example,\n",
        "\n",
        "\\begin{align}\n",
        "\\left. \\frac{1}{x + 2} \\right|_0^2 = -\\frac{1}{4}.\n",
        "\\end{align}\n",
        "\n",
        "    \\begin{align}\n",
        "        \\left. \\frac{1}{x + 2} \\right|_0^2 = -\\frac{1}{4}.\n",
        "    \\end{align}\n",
        "\n",
        "This is also useful if you are going to use `/` for a division operation. Compare the following.\n",
        "\n",
        "\\begin{align}\n",
        "\\text{good: } & \\left. x^2 \\middle/ y^2 \\right. \\\\[1em]\n",
        "\\text{bad: } & x^2 / y^2\n",
        "\\end{align}\n",
        "\n",
        "    \\begin{align}\n",
        "        \\text{good: } & \\left. x^2 \\middle/ y^2 \\right. \\\\[1em]\n",
        "        \\text{bad: } & x^2 / y^2\n",
        "    \\end{align}\n",
        "\n",
        "Here, we used the `\\middle` operator to scale the length of the division sign."
      ]
    },
    {
      "cell_type": "markdown",
      "metadata": {
        "id": "66y7dasTNbXv"
      },
      "source": [
        "## Fractions (and an example of fine-tuning)\n",
        "\n",
        "To display fractional quantities, we use the `\\frac{}{}` command. `\\frac` is always followed by two sets of braces; the numerator is contained in the first, and the denominator is contained in the second. As an example, we can write an equation you will become intimately familiar with if you take the second term of this course,\n",
        "\n",
        "\\begin{align}\n",
        "P(A \\mid B) = \\frac{P(B \\mid A) \\, P(A)}{P(B)}\n",
        "\\end{align}\n",
        "\n",
        "    \\begin{align}\n",
        "        P(A \\mid B) = \\frac{P(B \\mid A) \\, P(A)}{P(B)}\n",
        "    \\end{align}\n",
        "\n",
        "The right hand side has a nicely-formatted fraction. I did a little extra fine-tuning in this equation.  I'll show the equation again without the fine-tuning, which used the `\\mid` and `\\,` commands.\n",
        "\n",
        "\\begin{align}\n",
        "P(A | B) = \\frac{P(B | A) P(A)}{P(B)}.\n",
        "\\end{align}\n",
        "\n",
        "    \\begin{align}\n",
        "        P(A | B) = \\frac{P(B | A) P(A)}{P(B)}.\n",
        "    \\end{align}\n",
        "\n",
        "First, the `\\mid` command should be used in conditional probabilities. Just using a vertical bar (`|`) results in crowding. Similarly, I used the `\\,` command to insert a little extra space between the two probabilities in the numerator. This makes the equation a bit easier to read. This `\\,` operator is especially important when defining integrals. We can put a little space between the $\\mathrm{d}x$ and the integrand.\n",
        "\n",
        "\\begin{align}\n",
        "\\text{good: } &\\int_0^{2\\pi} \\mathrm{d}x \\, \\sin x. \\\\[1em]\n",
        "\\text{bad: } &\\int_0^{2\\pi} \\mathrm{d}x \\sin x.\n",
        "\\end{align}\n",
        "\n",
        "    \\begin{align}\n",
        "        \\text{good: } &\\int_0^{2\\pi} \\mathrm{d}x \\, \\sin x. \\\\[1em]\n",
        "        \\text{bad: } &\\int_0^{2\\pi} \\mathrm{d}x \\sin x.\n",
        "    \\end{align}\n",
        "\n",
        "Note that I inserted extra space after the new line. Specifically, `\\\\[1em]` instructs LaTeX to insert a space equation to the width of an M character between the equations. I often do this to keep things clear.\n",
        "\n",
        "It is also very important to note that I used $\\sin$ and not $sin$. Mathematical functions should be in Roman font and are invoked with a backslash. Otherwise, the characters are interpreted as separate variables. To be clear:\n",
        "\n",
        "\\begin{align}\n",
        "\\text{good: } &\\sin x. \\\\[1em]\n",
        "\\text{bad: } & sin x.\n",
        "\\end{align}\n",
        "\n",
        "    \\begin{align}\n",
        "        \\text{good: } &\\sin x. \\\\[1em]\n",
        "        \\text{bad: } & sin x.\n",
        "    \\end{align}\n",
        "\n",
        "Finally, notice that I was able to put text in the equation like this: `\\text{good: }`."
      ]
    },
    {
      "cell_type": "markdown",
      "metadata": {
        "id": "tTNr72e9NbXu"
      },
      "source": [
        "## Displaying equations on separate lines\n",
        "\n",
        "The bounds on the summation in the above example may look a little funny to you because they are not above and below the summation symbol.  This is because this particular equation is written inline.  If we had separated it from the text, it renders differently.\n",
        "\n",
        "We can make an equation appear centered on a new line, like\n",
        "\n",
        "\\begin{align}\n",
        "\\mathbf{a} \\cdot \\mathbf{b} = \\sum_{i=1}^n a_i b_i.\n",
        "\\end{align}\n",
        "\n",
        "\n",
        "    We can make an equation appear centered on a new line, like\n",
        "\n",
        "    \\begin{align}\n",
        "        \\mathbf{a} \\cdot \\mathbf{b} = \\sum_{i=1}^n a_i b_i.\n",
        "    \\end{align}\n",
        "\n",
        "The `align` environment in LaTeX specifies that you want centered equations, separated from the text. It is called `align` because it allows you to align the equations. You separate lines in the equations with a double backslash (`//`).  Insert an ampersand (`&`) in each line at the alignment point. All equations will be aligned at the location of the ampersand symbols (and, of course, the ampersands will not appear in the rendered equations).\n",
        "\n",
        "For a three-vector consisting of $x$, $y$, and $z$ components,\n",
        "\n",
        "\\begin{align}\n",
        "\\mathbf{a} \\cdot \\mathbf{b} &= \\sum_{i=1}^n a_i b_i \\\\\n",
        "&= a_x b_x + a_y b_y + a_z b_z.\n",
        "\\end{align}\n",
        "\n",
        "    For a three-vector consisting of $x$, $y$, and $z$ components,\n",
        "\n",
        "    \\begin{align}\n",
        "        \\mathbf{a} \\cdot \\mathbf{b} &= \\sum_{i=1}^n a_i b_i \\\\\n",
        "        &= a_x b_x + a_y b_y + a_z b_z.\n",
        "    \\end{align}\n",
        "\n",
        "Note that I always put an extra blank line before the `\\begin{align}` statement. This is not necessary, but I think things look better with the extra space."
      ]
    },
    {
      "cell_type": "markdown",
      "source": [
        "# pegar imagenes con tamaño.\n",
        "\n",
        "from IPython.display import Image\n",
        "Image(filename='RUTA DEL ARCHIVO',width = 300, height = 200)"
      ],
      "metadata": {
        "id": "1hs4dVjfzLSS"
      }
    },
    {
      "cell_type": "markdown",
      "source": [
        "# tablas\n",
        "\n",
        "\n",
        "\\begin{array}{|c|c|c|c|c|}\n",
        "\\hline\n",
        "trabajo & tiempo de proceso & Fecha de entrega & tiempo de flujo & Atrasos \\\\ \\hline\n",
        "A & 15 & 50 & 15 & 0 \\\\ \\hline\n",
        "B & 35 & 45 & 50 & 0 \\\\ \\hline\n",
        "C & 20 & 25 & 70 & 0 \\\\ \\hline\n",
        "D & 10 & 22 & 80 & 5 \\\\ \\hline\n",
        "E & 25 & 40 & 105 & 15 \\\\ \\hline\n",
        "F & 35 & 35 & 140 & 25 \\\\ \\hline\n",
        "\\end{array}\n",
        "\n",
        "\\begin{array}{c|cc}\n",
        "C_1&C_2&C_3\\\\\n",
        "\\hline\n",
        "1&2&3\\\\\n",
        "\\hline\\\\\n",
        "4&5&6\\\\\n",
        "\\end{array}\n",
        "\n"
      ],
      "metadata": {
        "id": "XRWRiP9iyg8d"
      }
    },
    {
      "cell_type": "markdown",
      "source": [
        "array\n",
        "\n",
        "\\begin{array}{|l|c|r|}  \\hline\n",
        "a&b&c\\\\ \\hline\n",
        "d&e&f \\\\ \\hline\n",
        "g&h&i\\\\ \\hline\n",
        "j&k&l\\\\  \\hline\n",
        "m&n&o\\\\  \\hline\n",
        "\\hline\n",
        "\\end{array}\n"
      ],
      "metadata": {
        "id": "n6ZB4yaemSo-"
      }
    }
  ]
}