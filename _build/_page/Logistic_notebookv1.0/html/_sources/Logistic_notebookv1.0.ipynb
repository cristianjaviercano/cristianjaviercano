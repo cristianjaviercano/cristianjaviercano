{
 "cells": [
  {
   "cell_type": "code",
   "execution_count": 3,
   "metadata": {
    "colab": {
     "base_uri": "https://localhost:8080/"
    },
    "id": "KgTmmLEXrZOa",
    "outputId": "2f445d4a-99e2-4eb1-8cb1-f1160a99f91f"
   },
   "outputs": [
    {
     "name": "stdout",
     "output_type": "stream",
     "text": [
      "Mounted at /content/drive\n"
     ]
    }
   ],
   "source": [
    "from google.colab import drive\n",
    "drive.mount('/content/drive')"
   ]
  },
  {
   "cell_type": "markdown",
   "metadata": {
    "id": "WJefzHdIcGn8"
   },
   "source": [
    "## Logistic management desde python y google colab\n",
    "***\n",
    "$Docente:\\ Cristian\\ Javier\\ Cano\\ M$\\\n",
    "$msc\\ innovacion\\ y\\ desarrollo$"
   ]
  },
  {
   "cell_type": "markdown",
   "metadata": {
    "id": "4kegm42KLLRl"
   },
   "source": [
    "# Unidad Cero: Componentes tipicos de la Logistica:"
   ]
  },
  {
   "cell_type": "markdown",
   "metadata": {
    "id": "eMNeDI4tU8VA"
   },
   "source": [
    "Un sistema logístico típico se compone de varios elementos clave que trabajan en conjunto para garantizar que los productos lleguen al cliente final de manera eficiente y a tiempo. Estos son algunos de los componentes más comunes:\n",
    "\n",
    "1. **Servicio al cliente:**\n",
    "\n",
    "Este componente se centra en satisfacer las necesidades y expectativas del cliente.\n",
    "Incluye aspectos como la atención al cliente, la gestión de pedidos, la resolución de problemas y la comunicación efectiva.\n",
    "2. **Gestión de la demanda:**\n",
    "\n",
    "Implica predecir y planificar la demanda de productos para asegurar que se tenga el inventario adecuado en el momento adecuado.\n",
    "Se utilizan herramientas como el análisis de datos y la previsión de la demanda.\n",
    "3. Procesamiento de pedidos:\n",
    "\n",
    "Abarca todas las actividades relacionadas con la recepción, verificación, preparación y envío de los pedidos.\n",
    "La eficiencia en este proceso es fundamental para la satisfacción del cliente.\n",
    "4. **Gestión de inventario:**\n",
    "\n",
    "Se encarga de controlar y optimizar los niveles de inventario para minimizar costos y garantizar la disponibilidad de los productos.\n",
    "Incluye el seguimiento del inventario, la gestión de almacenes y la planificación del reabastecimiento.\n",
    "5. **Transporte:**\n",
    "\n",
    "Es el componente responsable del movimiento físico de los productos a través de la cadena de suministro.\n",
    "Incluye la selección del medio de transporte adecuado (terrestre, marítimo, aéreo), la planificación de rutas y la gestión de la flota.\n",
    "6. **Almacenamiento:**\n",
    "\n",
    "Proporciona el espacio físico para guardar los productos de forma segura y eficiente.\n",
    "Involucra la gestión de almacenes, el control de la ubicación del inventario y la optimización del espacio.\n",
    "7. **Manejo de materiales:**\n",
    "\n",
    "Se refiere al movimiento de los productos dentro del almacén, como la recepción, el almacenamiento, la preparación de pedidos y el despacho.\n",
    "Se utilizan equipos y tecnologías como carretillas elevadoras, sistemas de transporte y robots.\n",
    "8. **Embalaje:**\n",
    "\n",
    "Protege los productos durante el transporte y el almacenamiento.\n",
    "Incluye la selección de los materiales de embalaje adecuados, el diseño del embalaje y el etiquetado.\n",
    "9. **Control de calidad:**\n",
    "\n",
    "Garantiza que los productos cumplan con los estándares de calidad establecidos.\n",
    "Incluye la inspección de los productos, las pruebas de calidad y la gestión de devoluciones."
   ]
  },
  {
   "cell_type": "markdown",
   "metadata": {
    "id": "udGsBuSdjcr9"
   },
   "source": [
    "Modelos matematicos segun la etapa del proceso logistico\n",
    "\n",
    "1.* Modelos matemáticos en la etapa de aprovisionamiento:* En esta etapa, los modelos matemáticos más utilizados son los modelos de inventario, que se utilizan para determinar la cantidad óptima de inventario a mantener y cuándo realizar pedidos. También se utilizan modelos de compra óptima y modelos de selección de proveedores para tomar decisiones de compra estratégicas.\n",
    "\n",
    "2. **Modelos matemáticos en la etapa de producción:** En esta etapa, se utilizan modelos de programación lineal para optimizar la planificación de la producción, incluyendo la asignación de recursos, la programación de la producción y la gestión de la capacidad.\n",
    "\n",
    "3. **Modelos matemáticos en la etapa de almacenamiento:** En esta etapa, se utilizan modelos de diseño y gestión de almacenes para determinar la ubicación óptima de los almacenes, el tamaño óptimo del almacén y la disposición óptima de los productos en el almacén. También se utilizan modelos de gestión de inventario para optimizar el nivel de inventario en el almacén.\n",
    "\n",
    "4. **Modelos matemáticos en la etapa de transporte:** En esta etapa, se utilizan modelos de optimización de rutas para determinar la ruta óptima de entrega, la asignación de vehículos y la programación de los horarios de entrega. También se utilizan modelos de asignación de recursos para optimizar la utilización de los recursos de transporte.\n",
    "\n",
    "5. **Modelos matemáticos en la etapa de distribución:** En esta etapa, se utilizan modelos de optimización de la cadena de suministro para optimizar el flujo de productos y la coordinación entre los diferentes actores de la cadena de suministro. También se utilizan modelos de planificación de la demanda para predecir la demanda futura y tomar decisiones de producción y distribución en consecuencia."
   ]
  },
  {
   "cell_type": "markdown",
   "metadata": {
    "id": "iCca6qW_Lltw"
   },
   "source": [
    "### ¿Cual es la mision de la logistica?:\n",
    "\n",
    "La misión de la logística puede resumirse en planificar, implementar y controlar el flujo eficiente y efectivo de bienes, servicios e información relacionada desde el punto de origen hasta el punto de consumo para satisfacer las necesidades de los clientes.\n",
    "\n",
    "Esta misión implica:\n",
    "\n",
    "Entregar el producto adecuado: Asegurar que el producto o servicio correcto llegue al cliente.\n",
    "En la cantidad adecuada: Proporcionar la cantidad exacta de producto que el cliente necesita.\n",
    "En el lugar adecuado: Hacer llegar el producto al destino correcto.\n",
    "En el momento adecuado: Entregar el producto en el tiempo acordado.\n",
    "En las condiciones adecuadas: Asegurar que el producto llegue en perfecto estado.\n",
    "Al coste adecuado: Optimizar los costos de la cadena de suministro para ofrecer precios competitivos y rentabilidad.\n",
    "\n"
   ]
  },
  {
   "cell_type": "markdown",
   "metadata": {
    "id": "AZ3YCXCbEBL2"
   },
   "source": [
    "# Unidad uno: Servicio Al CLiente\n",
    "***\n"
   ]
  },
  {
   "cell_type": "markdown",
   "metadata": {
    "id": "WxLjRnZQEET3"
   },
   "source": [
    "## Enfoque en el Servicio al Cliente:\n",
    "\n",
    "- Definir qué es el servicio al cliente en el contexto de la logística.\n",
    "- Explicar los diferentes aspectos del servicio al cliente, como tiempo de entrega, confiabilidad, comunicación, etc.\n",
    "- Mostrar cómo Python puede ayudar a medir y mejorar el servicio al cliente."
   ]
  },
  {
   "cell_type": "markdown",
   "metadata": {
    "id": "lAR-3ViOE1pD"
   },
   "source": [
    "### Qué es el servicio al cliente en el contexto de la logística.\n",
    "\n",
    "Definición de servicio al cliente\n",
    "El servicio al cliente se refiere al conjunto de actividades, procesos y estrategias que una empresa o negocio implementa para satisfacer las necesidades y expectativas de sus clientes. Implica brindar asistencia, soporte y una experiencia positiva a los clientes antes, durante y después de una venta o interacción.\n",
    "\n"
   ]
  },
  {
   "cell_type": "markdown",
   "metadata": {
    "id": "9dDmUAC4F9qZ"
   },
   "source": [
    "### Objetivos clave del servicio al cliente\n",
    "\n",
    "1. Comprender y atender las necesidades de los clientes de manera efectiva\n",
    "2. Resolver problemas, quejas y consultas de manera oportuna y eficiente\n",
    "3. Crear relaciones duraderas y de confianza con los clientes\n",
    "4. Superar las expectativas de los clientes y generar lealtad hacia la marca\n",
    "5. Diferenciarse de la competencia a través de un servicio excepcional"
   ]
  },
  {
   "cell_type": "markdown",
   "metadata": {
    "id": "I9MgUkv-GFaD"
   },
   "source": [
    "### ¿Cómo se mide la satisfacción del cliente en una empresa?\n",
    "\n",
    "Métodos para medir la satisfacción del cliente:\n",
    "\n",
    "1. **Encuestas de satisfacción:** Estas son herramientas directas que permiten a las empresas obtener retroalimentación sobre la experiencia del cliente. Pueden incluir preguntas sobre la calidad del producto, la atención al cliente y la probabilidad de recomendar la empresa a otros.\n",
    "\n",
    "2. **Análisis de comentarios en redes sociales:** Evaluar las opiniones y comentarios de los clientes en plataformas sociales puede proporcionar una visión clara de su satisfacción. Este método permite identificar tendencias y áreas de mejora.\n",
    "\n",
    "3. **Índice de quejas y reclamaciones:** El seguimiento del número y la naturaleza de las quejas puede ayudar a las empresas a medir la satisfacción del cliente. Un aumento en las quejas puede indicar problemas en el servicio o el producto.\n",
    "\n",
    "4. **Grupos de discusión (focus groups):** Reunir a un grupo de clientes para discutir sus experiencias y opiniones sobre un producto o servicio puede ofrecer información valiosa sobre su satisfacción y expectativas.\n",
    "\n",
    "5. **Tasa de retención y fidelización de clientes:** Medir cuántos clientes regresan para realizar compras repetidas puede ser un indicador directo de su satisfacción. Un alto nivel de retención sugiere que los clientes están contentos con la oferta de la empresa.\n",
    "\n",
    "[ive consultores](https://iveconsultores.com/satisfaccion-del-cliente/)"
   ]
  },
  {
   "cell_type": "code",
   "execution_count": 7,
   "metadata": {
    "id": "IIq1v3WcH2cc"
   },
   "outputs": [],
   "source": [
    "import pandas as pd"
   ]
  },
  {
   "cell_type": "code",
   "execution_count": 8,
   "metadata": {
    "id": "fqW6qkw1IXKg"
   },
   "outputs": [],
   "source": [
    "Bd = pd.read_csv('/Users/cristianjaviercanomogollon/Documents/Python_crc/libros_digitales/1_logistica/1_Servicio_al_cliente/Indice_satisfaccion_pasajeros_BD.csv')\n"
   ]
  },
  {
   "cell_type": "code",
   "execution_count": 9,
   "metadata": {
    "colab": {
     "base_uri": "https://localhost:8080/"
    },
    "id": "HHaZD5JHI-yg",
    "outputId": "d2ca0770-0aa1-4695-9760-fd6467e50353"
   },
   "outputs": [
    {
     "name": "stdout",
     "output_type": "stream",
     "text": [
      "<class 'pandas.core.frame.DataFrame'>\n",
      "RangeIndex: 25976 entries, 0 to 25975\n",
      "Data columns (total 25 columns):\n",
      " #   Column                             Non-Null Count  Dtype  \n",
      "---  ------                             --------------  -----  \n",
      " 0   Unnamed: 0                         25976 non-null  int64  \n",
      " 1   id                                 25976 non-null  int64  \n",
      " 2   Gender                             25976 non-null  object \n",
      " 3   Customer Type                      25976 non-null  object \n",
      " 4   Age                                25976 non-null  int64  \n",
      " 5   Type of Travel                     25976 non-null  object \n",
      " 6   Class                              25976 non-null  object \n",
      " 7   Flight Distance                    25976 non-null  int64  \n",
      " 8   Inflight wifi service              25976 non-null  int64  \n",
      " 9   Departure/Arrival time convenient  25976 non-null  int64  \n",
      " 10  Ease of Online booking             25976 non-null  int64  \n",
      " 11  Gate location                      25976 non-null  int64  \n",
      " 12  Food and drink                     25976 non-null  int64  \n",
      " 13  Online boarding                    25976 non-null  int64  \n",
      " 14  Seat comfort                       25976 non-null  int64  \n",
      " 15  Inflight entertainment             25976 non-null  int64  \n",
      " 16  On-board service                   25976 non-null  int64  \n",
      " 17  Leg room service                   25976 non-null  int64  \n",
      " 18  Baggage handling                   25976 non-null  int64  \n",
      " 19  Checkin service                    25976 non-null  int64  \n",
      " 20  Inflight service                   25976 non-null  int64  \n",
      " 21  Cleanliness                        25976 non-null  int64  \n",
      " 22  Departure Delay in Minutes         25976 non-null  int64  \n",
      " 23  Arrival Delay in Minutes           25893 non-null  float64\n",
      " 24  satisfaction                       25976 non-null  object \n",
      "dtypes: float64(1), int64(19), object(5)\n",
      "memory usage: 5.0+ MB\n"
     ]
    }
   ],
   "source": [
    "Bd.info()"
   ]
  },
  {
   "cell_type": "code",
   "execution_count": 10,
   "metadata": {
    "colab": {
     "base_uri": "https://localhost:8080/",
     "height": 355
    },
    "id": "BVBeUYGAJGjL",
    "outputId": "0c999a7d-c699-4d17-8c5c-6278da6e6cf2"
   },
   "outputs": [
    {
     "data": {
      "text/html": [
       "<div>\n",
       "<style scoped>\n",
       "    .dataframe tbody tr th:only-of-type {\n",
       "        vertical-align: middle;\n",
       "    }\n",
       "\n",
       "    .dataframe tbody tr th {\n",
       "        vertical-align: top;\n",
       "    }\n",
       "\n",
       "    .dataframe thead th {\n",
       "        text-align: right;\n",
       "    }\n",
       "</style>\n",
       "<table border=\"1\" class=\"dataframe\">\n",
       "  <thead>\n",
       "    <tr style=\"text-align: right;\">\n",
       "      <th></th>\n",
       "      <th>Unnamed: 0</th>\n",
       "      <th>id</th>\n",
       "      <th>Age</th>\n",
       "      <th>Flight Distance</th>\n",
       "      <th>Inflight wifi service</th>\n",
       "      <th>Departure/Arrival time convenient</th>\n",
       "      <th>Ease of Online booking</th>\n",
       "      <th>Gate location</th>\n",
       "      <th>Food and drink</th>\n",
       "      <th>Online boarding</th>\n",
       "      <th>Seat comfort</th>\n",
       "      <th>Inflight entertainment</th>\n",
       "      <th>On-board service</th>\n",
       "      <th>Leg room service</th>\n",
       "      <th>Baggage handling</th>\n",
       "      <th>Checkin service</th>\n",
       "      <th>Inflight service</th>\n",
       "      <th>Cleanliness</th>\n",
       "      <th>Departure Delay in Minutes</th>\n",
       "      <th>Arrival Delay in Minutes</th>\n",
       "    </tr>\n",
       "  </thead>\n",
       "  <tbody>\n",
       "    <tr>\n",
       "      <th>count</th>\n",
       "      <td>25976.000000</td>\n",
       "      <td>25976.000000</td>\n",
       "      <td>25976.000000</td>\n",
       "      <td>25976.000000</td>\n",
       "      <td>25976.000000</td>\n",
       "      <td>25976.000000</td>\n",
       "      <td>25976.000000</td>\n",
       "      <td>25976.000000</td>\n",
       "      <td>25976.000000</td>\n",
       "      <td>25976.000000</td>\n",
       "      <td>25976.000000</td>\n",
       "      <td>25976.000000</td>\n",
       "      <td>25976.000000</td>\n",
       "      <td>25976.000000</td>\n",
       "      <td>25976.000000</td>\n",
       "      <td>25976.000000</td>\n",
       "      <td>25976.000000</td>\n",
       "      <td>25976.000000</td>\n",
       "      <td>25976.00000</td>\n",
       "      <td>25893.000000</td>\n",
       "    </tr>\n",
       "    <tr>\n",
       "      <th>mean</th>\n",
       "      <td>12987.500000</td>\n",
       "      <td>65005.657992</td>\n",
       "      <td>39.620958</td>\n",
       "      <td>1193.788459</td>\n",
       "      <td>2.724746</td>\n",
       "      <td>3.046812</td>\n",
       "      <td>2.756775</td>\n",
       "      <td>2.977094</td>\n",
       "      <td>3.215353</td>\n",
       "      <td>3.261665</td>\n",
       "      <td>3.449222</td>\n",
       "      <td>3.357753</td>\n",
       "      <td>3.385664</td>\n",
       "      <td>3.350169</td>\n",
       "      <td>3.633238</td>\n",
       "      <td>3.314175</td>\n",
       "      <td>3.649253</td>\n",
       "      <td>3.286226</td>\n",
       "      <td>14.30609</td>\n",
       "      <td>14.740857</td>\n",
       "    </tr>\n",
       "    <tr>\n",
       "      <th>std</th>\n",
       "      <td>7498.769632</td>\n",
       "      <td>37611.526647</td>\n",
       "      <td>15.135685</td>\n",
       "      <td>998.683999</td>\n",
       "      <td>1.335384</td>\n",
       "      <td>1.533371</td>\n",
       "      <td>1.412951</td>\n",
       "      <td>1.282133</td>\n",
       "      <td>1.331506</td>\n",
       "      <td>1.355536</td>\n",
       "      <td>1.320090</td>\n",
       "      <td>1.338299</td>\n",
       "      <td>1.282088</td>\n",
       "      <td>1.318862</td>\n",
       "      <td>1.176525</td>\n",
       "      <td>1.269332</td>\n",
       "      <td>1.180681</td>\n",
       "      <td>1.319330</td>\n",
       "      <td>37.42316</td>\n",
       "      <td>37.517539</td>\n",
       "    </tr>\n",
       "    <tr>\n",
       "      <th>min</th>\n",
       "      <td>0.000000</td>\n",
       "      <td>17.000000</td>\n",
       "      <td>7.000000</td>\n",
       "      <td>31.000000</td>\n",
       "      <td>0.000000</td>\n",
       "      <td>0.000000</td>\n",
       "      <td>0.000000</td>\n",
       "      <td>1.000000</td>\n",
       "      <td>0.000000</td>\n",
       "      <td>0.000000</td>\n",
       "      <td>1.000000</td>\n",
       "      <td>0.000000</td>\n",
       "      <td>0.000000</td>\n",
       "      <td>0.000000</td>\n",
       "      <td>1.000000</td>\n",
       "      <td>1.000000</td>\n",
       "      <td>0.000000</td>\n",
       "      <td>0.000000</td>\n",
       "      <td>0.00000</td>\n",
       "      <td>0.000000</td>\n",
       "    </tr>\n",
       "    <tr>\n",
       "      <th>25%</th>\n",
       "      <td>6493.750000</td>\n",
       "      <td>32170.500000</td>\n",
       "      <td>27.000000</td>\n",
       "      <td>414.000000</td>\n",
       "      <td>2.000000</td>\n",
       "      <td>2.000000</td>\n",
       "      <td>2.000000</td>\n",
       "      <td>2.000000</td>\n",
       "      <td>2.000000</td>\n",
       "      <td>2.000000</td>\n",
       "      <td>2.000000</td>\n",
       "      <td>2.000000</td>\n",
       "      <td>2.000000</td>\n",
       "      <td>2.000000</td>\n",
       "      <td>3.000000</td>\n",
       "      <td>3.000000</td>\n",
       "      <td>3.000000</td>\n",
       "      <td>2.000000</td>\n",
       "      <td>0.00000</td>\n",
       "      <td>0.000000</td>\n",
       "    </tr>\n",
       "    <tr>\n",
       "      <th>50%</th>\n",
       "      <td>12987.500000</td>\n",
       "      <td>65319.500000</td>\n",
       "      <td>40.000000</td>\n",
       "      <td>849.000000</td>\n",
       "      <td>3.000000</td>\n",
       "      <td>3.000000</td>\n",
       "      <td>3.000000</td>\n",
       "      <td>3.000000</td>\n",
       "      <td>3.000000</td>\n",
       "      <td>4.000000</td>\n",
       "      <td>4.000000</td>\n",
       "      <td>4.000000</td>\n",
       "      <td>4.000000</td>\n",
       "      <td>4.000000</td>\n",
       "      <td>4.000000</td>\n",
       "      <td>3.000000</td>\n",
       "      <td>4.000000</td>\n",
       "      <td>3.000000</td>\n",
       "      <td>0.00000</td>\n",
       "      <td>0.000000</td>\n",
       "    </tr>\n",
       "    <tr>\n",
       "      <th>75%</th>\n",
       "      <td>19481.250000</td>\n",
       "      <td>97584.250000</td>\n",
       "      <td>51.000000</td>\n",
       "      <td>1744.000000</td>\n",
       "      <td>4.000000</td>\n",
       "      <td>4.000000</td>\n",
       "      <td>4.000000</td>\n",
       "      <td>4.000000</td>\n",
       "      <td>4.000000</td>\n",
       "      <td>4.000000</td>\n",
       "      <td>5.000000</td>\n",
       "      <td>4.000000</td>\n",
       "      <td>4.000000</td>\n",
       "      <td>4.000000</td>\n",
       "      <td>5.000000</td>\n",
       "      <td>4.000000</td>\n",
       "      <td>5.000000</td>\n",
       "      <td>4.000000</td>\n",
       "      <td>12.00000</td>\n",
       "      <td>13.000000</td>\n",
       "    </tr>\n",
       "    <tr>\n",
       "      <th>max</th>\n",
       "      <td>25975.000000</td>\n",
       "      <td>129877.000000</td>\n",
       "      <td>85.000000</td>\n",
       "      <td>4983.000000</td>\n",
       "      <td>5.000000</td>\n",
       "      <td>5.000000</td>\n",
       "      <td>5.000000</td>\n",
       "      <td>5.000000</td>\n",
       "      <td>5.000000</td>\n",
       "      <td>5.000000</td>\n",
       "      <td>5.000000</td>\n",
       "      <td>5.000000</td>\n",
       "      <td>5.000000</td>\n",
       "      <td>5.000000</td>\n",
       "      <td>5.000000</td>\n",
       "      <td>5.000000</td>\n",
       "      <td>5.000000</td>\n",
       "      <td>5.000000</td>\n",
       "      <td>1128.00000</td>\n",
       "      <td>1115.000000</td>\n",
       "    </tr>\n",
       "  </tbody>\n",
       "</table>\n",
       "</div>"
      ],
      "text/plain": [
       "         Unnamed: 0             id           Age  Flight Distance  \\\n",
       "count  25976.000000   25976.000000  25976.000000     25976.000000   \n",
       "mean   12987.500000   65005.657992     39.620958      1193.788459   \n",
       "std     7498.769632   37611.526647     15.135685       998.683999   \n",
       "min        0.000000      17.000000      7.000000        31.000000   \n",
       "25%     6493.750000   32170.500000     27.000000       414.000000   \n",
       "50%    12987.500000   65319.500000     40.000000       849.000000   \n",
       "75%    19481.250000   97584.250000     51.000000      1744.000000   \n",
       "max    25975.000000  129877.000000     85.000000      4983.000000   \n",
       "\n",
       "       Inflight wifi service  Departure/Arrival time convenient  \\\n",
       "count           25976.000000                       25976.000000   \n",
       "mean                2.724746                           3.046812   \n",
       "std                 1.335384                           1.533371   \n",
       "min                 0.000000                           0.000000   \n",
       "25%                 2.000000                           2.000000   \n",
       "50%                 3.000000                           3.000000   \n",
       "75%                 4.000000                           4.000000   \n",
       "max                 5.000000                           5.000000   \n",
       "\n",
       "       Ease of Online booking  Gate location  Food and drink  Online boarding  \\\n",
       "count            25976.000000   25976.000000    25976.000000     25976.000000   \n",
       "mean                 2.756775       2.977094        3.215353         3.261665   \n",
       "std                  1.412951       1.282133        1.331506         1.355536   \n",
       "min                  0.000000       1.000000        0.000000         0.000000   \n",
       "25%                  2.000000       2.000000        2.000000         2.000000   \n",
       "50%                  3.000000       3.000000        3.000000         4.000000   \n",
       "75%                  4.000000       4.000000        4.000000         4.000000   \n",
       "max                  5.000000       5.000000        5.000000         5.000000   \n",
       "\n",
       "       Seat comfort  Inflight entertainment  On-board service  \\\n",
       "count  25976.000000            25976.000000      25976.000000   \n",
       "mean       3.449222                3.357753          3.385664   \n",
       "std        1.320090                1.338299          1.282088   \n",
       "min        1.000000                0.000000          0.000000   \n",
       "25%        2.000000                2.000000          2.000000   \n",
       "50%        4.000000                4.000000          4.000000   \n",
       "75%        5.000000                4.000000          4.000000   \n",
       "max        5.000000                5.000000          5.000000   \n",
       "\n",
       "       Leg room service  Baggage handling  Checkin service  Inflight service  \\\n",
       "count      25976.000000      25976.000000     25976.000000      25976.000000   \n",
       "mean           3.350169          3.633238         3.314175          3.649253   \n",
       "std            1.318862          1.176525         1.269332          1.180681   \n",
       "min            0.000000          1.000000         1.000000          0.000000   \n",
       "25%            2.000000          3.000000         3.000000          3.000000   \n",
       "50%            4.000000          4.000000         3.000000          4.000000   \n",
       "75%            4.000000          5.000000         4.000000          5.000000   \n",
       "max            5.000000          5.000000         5.000000          5.000000   \n",
       "\n",
       "        Cleanliness  Departure Delay in Minutes  Arrival Delay in Minutes  \n",
       "count  25976.000000                 25976.00000              25893.000000  \n",
       "mean       3.286226                    14.30609                 14.740857  \n",
       "std        1.319330                    37.42316                 37.517539  \n",
       "min        0.000000                     0.00000                  0.000000  \n",
       "25%        2.000000                     0.00000                  0.000000  \n",
       "50%        3.000000                     0.00000                  0.000000  \n",
       "75%        4.000000                    12.00000                 13.000000  \n",
       "max        5.000000                  1128.00000               1115.000000  "
      ]
     },
     "execution_count": 10,
     "metadata": {},
     "output_type": "execute_result"
    }
   ],
   "source": [
    "Bd.describe()"
   ]
  },
  {
   "cell_type": "code",
   "execution_count": 11,
   "metadata": {
    "colab": {
     "base_uri": "https://localhost:8080/"
    },
    "id": "DAareDhVJl2R",
    "outputId": "5247c8ff-08e0-4390-bcc3-138aa2126a17"
   },
   "outputs": [
    {
     "name": "stdout",
     "output_type": "stream",
     "text": [
      "0                      satisfied\n",
      "1                      satisfied\n",
      "2        neutral or dissatisfied\n",
      "3                      satisfied\n",
      "4                      satisfied\n",
      "                  ...           \n",
      "25971    neutral or dissatisfied\n",
      "25972                  satisfied\n",
      "25973    neutral or dissatisfied\n",
      "25974                  satisfied\n",
      "25975    neutral or dissatisfied\n",
      "Name: satisfaction, Length: 25976, dtype: object\n"
     ]
    }
   ],
   "source": [
    "print(Bd.iloc[:, 24])"
   ]
  },
  {
   "cell_type": "code",
   "execution_count": 12,
   "metadata": {
    "colab": {
     "base_uri": "https://localhost:8080/"
    },
    "id": "wIpn2DdVzkM9",
    "outputId": "5333ecc9-fbce-45e7-86e0-98a1855440c2"
   },
   "outputs": [
    {
     "name": "stdout",
     "output_type": "stream",
     "text": [
      "<class 'pandas.core.frame.DataFrame'>\n",
      "RangeIndex: 25976 entries, 0 to 25975\n",
      "Data columns (total 26 columns):\n",
      " #   Column                             Non-Null Count  Dtype  \n",
      "---  ------                             --------------  -----  \n",
      " 0   Unnamed: 0                         25976 non-null  int64  \n",
      " 1   id                                 25976 non-null  int64  \n",
      " 2   Gender                             25976 non-null  object \n",
      " 3   Customer Type                      25976 non-null  object \n",
      " 4   Age                                25976 non-null  int64  \n",
      " 5   Type of Travel                     25976 non-null  object \n",
      " 6   Class                              25976 non-null  object \n",
      " 7   Flight Distance                    25976 non-null  int64  \n",
      " 8   Inflight wifi service              25976 non-null  int64  \n",
      " 9   Departure/Arrival time convenient  25976 non-null  int64  \n",
      " 10  Ease of Online booking             25976 non-null  int64  \n",
      " 11  Gate location                      25976 non-null  int64  \n",
      " 12  Food and drink                     25976 non-null  int64  \n",
      " 13  Online boarding                    25976 non-null  int64  \n",
      " 14  Seat comfort                       25976 non-null  int64  \n",
      " 15  Inflight entertainment             25976 non-null  int64  \n",
      " 16  On-board service                   25976 non-null  int64  \n",
      " 17  Leg room service                   25976 non-null  int64  \n",
      " 18  Baggage handling                   25976 non-null  int64  \n",
      " 19  Checkin service                    25976 non-null  int64  \n",
      " 20  Inflight service                   25976 non-null  int64  \n",
      " 21  Cleanliness                        25976 non-null  int64  \n",
      " 22  Departure Delay in Minutes         25976 non-null  int64  \n",
      " 23  Arrival Delay in Minutes           25893 non-null  float64\n",
      " 24  satisfaction                       25976 non-null  object \n",
      " 25  satisfaction_number                25976 non-null  int64  \n",
      "dtypes: float64(1), int64(20), object(5)\n",
      "memory usage: 5.2+ MB\n"
     ]
    }
   ],
   "source": [
    "Bd['satisfaction_number'] = Bd.iloc[:, 24].replace({'satisfied': 1, 'neutral or dissatisfied': 0}).astype('int64')\n",
    "Bd.info()"
   ]
  },
  {
   "cell_type": "code",
   "execution_count": 13,
   "metadata": {
    "colab": {
     "base_uri": "https://localhost:8080/"
    },
    "id": "QsZFLTID0AJN",
    "outputId": "a1153970-775b-4f4b-a2ce-42c36ba60ac9"
   },
   "outputs": [
    {
     "name": "stdout",
     "output_type": "stream",
     "text": [
      "<class 'pandas.core.frame.DataFrame'>\n",
      "RangeIndex: 25976 entries, 0 to 25975\n",
      "Data columns (total 20 columns):\n",
      " #   Column                             Non-Null Count  Dtype\n",
      "---  ------                             --------------  -----\n",
      " 0   Unnamed: 0                         25976 non-null  int64\n",
      " 1   id                                 25976 non-null  int64\n",
      " 2   Age                                25976 non-null  int64\n",
      " 3   Flight Distance                    25976 non-null  int64\n",
      " 4   Inflight wifi service              25976 non-null  int64\n",
      " 5   Departure/Arrival time convenient  25976 non-null  int64\n",
      " 6   Ease of Online booking             25976 non-null  int64\n",
      " 7   Gate location                      25976 non-null  int64\n",
      " 8   Food and drink                     25976 non-null  int64\n",
      " 9   Online boarding                    25976 non-null  int64\n",
      " 10  Seat comfort                       25976 non-null  int64\n",
      " 11  Inflight entertainment             25976 non-null  int64\n",
      " 12  On-board service                   25976 non-null  int64\n",
      " 13  Leg room service                   25976 non-null  int64\n",
      " 14  Baggage handling                   25976 non-null  int64\n",
      " 15  Checkin service                    25976 non-null  int64\n",
      " 16  Inflight service                   25976 non-null  int64\n",
      " 17  Cleanliness                        25976 non-null  int64\n",
      " 18  Departure Delay in Minutes         25976 non-null  int64\n",
      " 19  satisfaction_number                25976 non-null  int64\n",
      "dtypes: int64(20)\n",
      "memory usage: 4.0 MB\n"
     ]
    }
   ],
   "source": [
    "new_Bd = Bd.select_dtypes(include=['int64'])\n",
    "new_Bd.info()"
   ]
  },
  {
   "cell_type": "code",
   "execution_count": 14,
   "metadata": {
    "id": "037Qy-tl1pIh"
   },
   "outputs": [],
   "source": [
    "from sklearn.linear_model import LogisticRegression\n",
    "\n",
    "X = new_Bd.drop('satisfaction_number', axis=1)  # Features\n",
    "y = new_Bd['satisfaction_number']  # Target"
   ]
  },
  {
   "cell_type": "code",
   "execution_count": 15,
   "metadata": {
    "colab": {
     "base_uri": "https://localhost:8080/",
     "height": 75
    },
    "id": "TMeg1jWr5thF",
    "outputId": "5e384577-c507-4179-faa0-22d95a9c688f"
   },
   "outputs": [
    {
     "data": {
      "text/html": [
       "<style>#sk-container-id-1 {color: black;background-color: white;}#sk-container-id-1 pre{padding: 0;}#sk-container-id-1 div.sk-toggleable {background-color: white;}#sk-container-id-1 label.sk-toggleable__label {cursor: pointer;display: block;width: 100%;margin-bottom: 0;padding: 0.3em;box-sizing: border-box;text-align: center;}#sk-container-id-1 label.sk-toggleable__label-arrow:before {content: \"▸\";float: left;margin-right: 0.25em;color: #696969;}#sk-container-id-1 label.sk-toggleable__label-arrow:hover:before {color: black;}#sk-container-id-1 div.sk-estimator:hover label.sk-toggleable__label-arrow:before {color: black;}#sk-container-id-1 div.sk-toggleable__content {max-height: 0;max-width: 0;overflow: hidden;text-align: left;background-color: #f0f8ff;}#sk-container-id-1 div.sk-toggleable__content pre {margin: 0.2em;color: black;border-radius: 0.25em;background-color: #f0f8ff;}#sk-container-id-1 input.sk-toggleable__control:checked~div.sk-toggleable__content {max-height: 200px;max-width: 100%;overflow: auto;}#sk-container-id-1 input.sk-toggleable__control:checked~label.sk-toggleable__label-arrow:before {content: \"▾\";}#sk-container-id-1 div.sk-estimator input.sk-toggleable__control:checked~label.sk-toggleable__label {background-color: #d4ebff;}#sk-container-id-1 div.sk-label input.sk-toggleable__control:checked~label.sk-toggleable__label {background-color: #d4ebff;}#sk-container-id-1 input.sk-hidden--visually {border: 0;clip: rect(1px 1px 1px 1px);clip: rect(1px, 1px, 1px, 1px);height: 1px;margin: -1px;overflow: hidden;padding: 0;position: absolute;width: 1px;}#sk-container-id-1 div.sk-estimator {font-family: monospace;background-color: #f0f8ff;border: 1px dotted black;border-radius: 0.25em;box-sizing: border-box;margin-bottom: 0.5em;}#sk-container-id-1 div.sk-estimator:hover {background-color: #d4ebff;}#sk-container-id-1 div.sk-parallel-item::after {content: \"\";width: 100%;border-bottom: 1px solid gray;flex-grow: 1;}#sk-container-id-1 div.sk-label:hover label.sk-toggleable__label {background-color: #d4ebff;}#sk-container-id-1 div.sk-serial::before {content: \"\";position: absolute;border-left: 1px solid gray;box-sizing: border-box;top: 0;bottom: 0;left: 50%;z-index: 0;}#sk-container-id-1 div.sk-serial {display: flex;flex-direction: column;align-items: center;background-color: white;padding-right: 0.2em;padding-left: 0.2em;position: relative;}#sk-container-id-1 div.sk-item {position: relative;z-index: 1;}#sk-container-id-1 div.sk-parallel {display: flex;align-items: stretch;justify-content: center;background-color: white;position: relative;}#sk-container-id-1 div.sk-item::before, #sk-container-id-1 div.sk-parallel-item::before {content: \"\";position: absolute;border-left: 1px solid gray;box-sizing: border-box;top: 0;bottom: 0;left: 50%;z-index: -1;}#sk-container-id-1 div.sk-parallel-item {display: flex;flex-direction: column;z-index: 1;position: relative;background-color: white;}#sk-container-id-1 div.sk-parallel-item:first-child::after {align-self: flex-end;width: 50%;}#sk-container-id-1 div.sk-parallel-item:last-child::after {align-self: flex-start;width: 50%;}#sk-container-id-1 div.sk-parallel-item:only-child::after {width: 0;}#sk-container-id-1 div.sk-dashed-wrapped {border: 1px dashed gray;margin: 0 0.4em 0.5em 0.4em;box-sizing: border-box;padding-bottom: 0.4em;background-color: white;}#sk-container-id-1 div.sk-label label {font-family: monospace;font-weight: bold;display: inline-block;line-height: 1.2em;}#sk-container-id-1 div.sk-label-container {text-align: center;}#sk-container-id-1 div.sk-container {/* jupyter's `normalize.less` sets `[hidden] { display: none; }` but bootstrap.min.css set `[hidden] { display: none !important; }` so we also need the `!important` here to be able to override the default hidden behavior on the sphinx rendered scikit-learn.org. See: https://github.com/scikit-learn/scikit-learn/issues/21755 */display: inline-block !important;position: relative;}#sk-container-id-1 div.sk-text-repr-fallback {display: none;}</style><div id=\"sk-container-id-1\" class=\"sk-top-container\"><div class=\"sk-text-repr-fallback\"><pre>LogisticRegression(max_iter=1000)</pre><b>In a Jupyter environment, please rerun this cell to show the HTML representation or trust the notebook. <br />On GitHub, the HTML representation is unable to render, please try loading this page with nbviewer.org.</b></div><div class=\"sk-container\" hidden><div class=\"sk-item\"><div class=\"sk-estimator sk-toggleable\"><input class=\"sk-toggleable__control sk-hidden--visually\" id=\"sk-estimator-id-1\" type=\"checkbox\" checked><label for=\"sk-estimator-id-1\" class=\"sk-toggleable__label sk-toggleable__label-arrow\">LogisticRegression</label><div class=\"sk-toggleable__content\"><pre>LogisticRegression(max_iter=1000)</pre></div></div></div></div></div>"
      ],
      "text/plain": [
       "LogisticRegression(max_iter=1000)"
      ]
     },
     "execution_count": 15,
     "metadata": {},
     "output_type": "execute_result"
    }
   ],
   "source": [
    "model = LogisticRegression(max_iter=1000)\n",
    "model.fit(X, y)"
   ]
  },
  {
   "cell_type": "code",
   "execution_count": 16,
   "metadata": {
    "colab": {
     "base_uri": "https://localhost:8080/"
    },
    "id": "c73wC5vc6S3G",
    "outputId": "a5d4d4b9-e3f5-4a40-b0a0-da45f4691b1d"
   },
   "outputs": [
    {
     "name": "stdout",
     "output_type": "stream",
     "text": [
      "[[-5.18027052e-05 -1.16258989e-05 -2.80761473e-02  3.95433258e-04\n",
      "   7.36834576e-02 -7.33795504e-02  2.20575820e-02 -5.02928419e-02\n",
      "   3.44141436e-02  1.39971393e-01  7.60752048e-02  1.00156931e-01\n",
      "   6.77428471e-02  6.52574668e-02  3.40855476e-02  4.14320968e-02\n",
      "   3.04496795e-02  6.91197925e-02 -6.33084903e-03]]\n"
     ]
    }
   ],
   "source": [
    "coefficients = model.coef_\n",
    "print(coefficients)\n"
   ]
  },
  {
   "cell_type": "code",
   "execution_count": 17,
   "metadata": {
    "colab": {
     "base_uri": "https://localhost:8080/"
    },
    "id": "yK3Y3qs36kFf",
    "outputId": "44275759-50d2-4ff4-d037-45d7c273b3ab"
   },
   "outputs": [
    {
     "name": "stdout",
     "output_type": "stream",
     "text": [
      "[-0.01461123]\n"
     ]
    }
   ],
   "source": [
    "intercept = model.intercept_\n",
    "print(intercept)"
   ]
  },
  {
   "cell_type": "code",
   "execution_count": 18,
   "metadata": {
    "colab": {
     "base_uri": "https://localhost:8080/"
    },
    "id": "l-NLbPZd6yFl",
    "outputId": "413bc8fe-a739-4e5b-cda4-b66674590fe9"
   },
   "outputs": [
    {
     "name": "stdout",
     "output_type": "stream",
     "text": [
      "[1 1 1 ... 0 1 0]\n"
     ]
    }
   ],
   "source": [
    "predictions = model.predict(X)\n",
    "print(predictions)"
   ]
  },
  {
   "cell_type": "markdown",
   "metadata": {
    "id": "e6wkUvtp1iPU"
   },
   "source": [
    "# Unidad Dos: Modelos de inventario Deterministicos:\n",
    "***"
   ]
  },
  {
   "cell_type": "markdown",
   "metadata": {
    "id": "2HhVrWO4UsH_"
   },
   "source": [
    "En general, la complejidad de los modelos de inventario depende de si la demanda es determinística o probabilística. Dentro de ambas categorías, la demanda puede variar, o no, con el tiempo. el patrón de la demanda en un modelo de inventario puede asumir uno de cuatro tipos:\n",
    "\n",
    "1. Determinístico y constante(estático)con el tiempo.\n",
    "2. Determinístico y variable (dinámico) con el tiempo.\n",
    "3. Probabilístico y estacionario a lo largo del tiempo.\n",
    "4. Probabilístico y no estacionario a lo largo del tiempo.\n",
    "\n",
    "Esta clasificación supone la disponibilidad de datos confiables para pronosticar la futura demanda.\n",
    "\n",
    "En función del desarrollo de modelos de inventario, la primera categoría es la más sencilla analíticamente, y la cuarta es la más compleja. Por otra parte, la primera categoría es la menos probable que ocurra en la práctica, y la cuarta es la más prevalente.\n"
   ]
  },
  {
   "cell_type": "markdown",
   "metadata": {
    "id": "qmfva5E1eGyk"
   },
   "source": [
    "## Definicion de modelos de inventario\n",
    "\n",
    "los modelos de inventario son modelos estadisticos y ecuaciones matematicas que conjugadas intentan o logran predecir el comportamiento de la demanda en sistemas productivos o de servicio,, para garantizar la disponibilidad de los bienes suminsitrados ya sea en la cade logistica interna o externa segun sea el caso.\n",
    "\n",
    "hay tipos de modelos que abarcan los inventarios desde los mas sencillos como el EOQ. econocmic orden quantity hasta los modelos mas complejos como los modelos de punto de reorden y los modelos de revision continua de inventario.\n",
    "\n",
    "\n",
    "## Google colab y los modelos de inventarios:\n",
    "\n",
    "para trabajar con los modelos de inventarios lo que debemos  hacer es\n",
    "1. identificar las librerias que usaremos\n",
    "en este caso usaremos:\n",
    "- pandas\n",
    "- numpy\n",
    "- mathplotlib\n",
    "\n",
    "\n",
    "##Modelo general de Inventario\n",
    "\n",
    "Las grandes pregiuntas que pretende suplir el modelo de inventario es ¿Cuando pedir?¿cuanto pedir?, esto nos lleva a evaluar todos los aspectos del inventario y segun los autores encontramos la siguiente ecuacion que encierra el modelo general de inventario:\n",
    "\n",
    "\\\\\n",
    "\n",
    "\n",
    "$$\\left(\\genfrac{}{}{0pt}{}{costo\\ total}{de\\ inventario}\\right) =\\left(\\genfrac{}{}{0pt}{}{costo\\ de}{compra}\\right)+\\left(\\genfrac{}{}{0pt}{}{costo\\ de}{preparacion}\\right)+\\left(\\genfrac{}{}{0pt}{}{costo\\ de}{almacenamiento}\\right)+\\left(\\genfrac{}{}{0pt}{}{costo\\ de}{faltante}\\right)$$\n",
    "\n",
    "\n",
    "\n",
    "\n",
    "\\\\\n",
    "\n",
    "\n",
    "1. $costo\\ de\\ compra$: es el precio por unidad del articulo\n",
    "\n",
    "2. $costo\\ de\\ preparacion$: es el costo fijo incurrido en el momento de colocar un pedido, es independiente del costo del articulo y la cantidad pedida\n",
    "\n",
    "3. $costo\\ de\\ almacenamiento$: tambien conocido como mantenimiento o holding cost en ingles, son los costos asociados al manejo y mantenimiento en bodega del articulo, corresponde al interes por el capital o valor del articulo.\n",
    "\n",
    "4. $costo\\ de\\ faltante$: es la penalizacion que se incurre cuando se terminan las existencias del inventario, es la perdida potencial de ingresos producto de la no venta, y un costo subjetivo asociado es la perdida de la confianza o del cliente mismo.\n",
    "\n",
    "\n",
    "\n",
    "## empezaremos por el modelo EOQ tambien llamado modelos estaticos.\n",
    "\n",
    "- **el modelo eoq o cantidad optima de pedido:** (EOQ clasico)\n",
    "\n",
    " es uno de los modelos mas comunes y mayor utilizados ya qu eeste modelo tiene encuenta los costos por pedido y amacenamiento del mismo. es decir que cuanto mas se compre mayor es el descuento pero mayor sera el costo de mantener, el objetivo principal de este modelo es encontrar el punto de equilibrio donde los costos se manejen de la mejor forma posible segun los requeirmientos de la demanda.\n",
    "\n",
    " $$EOQ = \\sqrt{\\frac{2*costo\\ de\\ ordenar*Demanda}{costo\\ de\\ almacenamiento}}$$\n",
    "\n",
    "- **EOQ con demanda Desconocida:**\n",
    "\n",
    "  se considera la demanda del producto como incierta o desconocida y se utliza un enfoque de nivel de servicio para mantener el nivel optimo de inventario, siendo el nivel de servicio pa probahbilidad de que el inventario este disponible cuando sea requerido, el objetivo principal es encontrar la cantidad optima de inventario que maximice el nivel de servicio mientras se minimizan los costos totales de inventario.\n",
    "\n",
    "###palabras y nomeclaturas\n",
    "\n",
    "  \n",
    "  - $D= Demanda$\n",
    "  - $t_0=Duracion\\ del\\ ciclo\\ de\\ pedido$\n",
    "  - $ROQ = Reorder\\ Quantity$\n",
    "  - $ROL = Reorder\\ Level$\n",
    "  - $Q = cantidad\\ optima\\ de\\ pedido$\n",
    "  - $t_0 = \\frac{Q}{D}\\ unidades\\ de\\ tiempo$\n",
    "  - $K = costo\\ de\\ Preparacion\\ (costo\\ de\\ un\\ pedido)$\n",
    "  - $h = costo\\ de\\ Almacenamiento$\n",
    "  - $L= lead\\ Time$\n",
    "\n",
    "\\\\\n",
    "\n",
    "  en general:\n",
    "\n",
    "\n",
    "  $$Q= \\sqrt{\\frac{2(K)(D)}{h}}$$\n",
    "\n",
    "\\\\\n",
    "\n",
    "$Entonces:\\ la\\ politica\\ de\\ inventario\\ teoricamente\\ sería\\ las\\ cantidades\\ Q\\ en\\ cada\\ \"y\"$\n",
    "\n",
    "\n",
    "#tiempo de entrega:\n",
    "\n",
    "cuando existe un pedido con un tiempo de entrega estipulado positivo se llamara \"L\" (lead time), en estos casos debemos tener en cuenta las relaciones del ROL y ROQ correspondientes ya que estos variaran el comportamiento del inventario segun su naturaleza de abastecimiento o lead time.\n",
    "se debera evidenciar las duraciones del lead time vs el tiempo de ciclo del inventario, ya que el lead time generalmente debera ser menor que el tiempo de ciclo de lo contrario habra que tomar otras medidas para controlar el inventario.\n",
    "\n",
    "ejemplo:\n",
    "\n",
    "se define el tiempo efectivo de la siguiente forma:\n",
    "\n",
    "$$L_e = L - nt_0$$\n",
    "\n"
   ]
  },
  {
   "cell_type": "markdown",
   "metadata": {
    "id": "i8k6s5bHU7bm"
   },
   "source": [
    "### ROL/ROQ , Lead time y Safety stock en los modelos de inventarios Deterministicos.\n",
    "\n",
    "- Los supuestos del modelo Eoq se enumeran de la siguiente forma:\n",
    "\n",
    "1. **Demanda constante:** Se asume que la demanda del producto es constante a lo largo del tiempo, lo que implica que no hay fluctuaciones estacionales o cambios en la demanda.\n",
    "\n",
    "2. **Tasa de producción o suministro constante:** Se supone que el suministro o producción del inventario es instantáneo y constante. Es decir, cada vez que se realiza un pedido, este llega de inmediato y reabastece completamente el inventario.\n",
    "\n",
    "3. **Tiempo de entrega conocido y constante:** El tiempo que toma recibir un pedido después de realizarlo es conocido y no varía.\n",
    "\n",
    "4. **Costo de pedido constante:** El costo asociado a realizar un pedido es fijo, independientemente del tamaño del pedido.\n",
    "\n",
    "5. **Costo de almacenamiento constante:** El costo de mantener una unidad en inventario es constante y no varía con el tiempo o la cantidad de inventario.\n",
    "\n",
    "\n",
    "no obstante existen otras variaciones del Modelo que implican una espera en el tiempo de ciclo del pedido, lo que obliga a tomar decisiones en tiempo real, como por ejemplo el *lead time* de un proveedor, explico, si un proveedor toma su tiempo para entregar el pedido al cliente, este debe mantener una reserva o saber en que momento preciso realizar la orden con el fin de que una vez  que este llegue no le afecte el conotrol de inventario o incurra en faltantes, a ese tiempo de ciclo entre el pedido y la recepcion teniendo encuenta el tiempo del cliente se le conoce como **Lead time** mientras que el *nivel de inventario* donde se debe pedir se conoce como ROL; de igual forma la cantidad a pedir en ese momento se conoce como ROQ."
   ]
  },
  {
   "cell_type": "markdown",
   "metadata": {
    "id": "4yXQpH2KXOo3"
   },
   "source": [
    "##Modelo de EOQ en python"
   ]
  },
  {
   "cell_type": "code",
   "execution_count": null,
   "metadata": {
    "id": "02eXxn8XiwIu"
   },
   "outputs": [],
   "source": [
    "import numpy as np\n",
    "import pandas as pd\n",
    "import matplotlib.pyplot as plt"
   ]
  },
  {
   "cell_type": "code",
   "execution_count": null,
   "metadata": {
    "colab": {
     "base_uri": "https://localhost:8080/",
     "height": 348
    },
    "id": "1kMFr7SQkgTO",
    "outputId": "08bc77c9-e6ee-49e6-bb4d-7aee8e22a3b1"
   },
   "outputs": [
    {
     "name": "stdout",
     "output_type": "stream",
     "text": [
      "Ingrese el costo del producto por unidad: 40000\n",
      "Ingrese el costo por orden: 3000\n",
      "Ingrese el costo de almacenamiento por unidad por año: 12000\n"
     ]
    },
    {
     "data": {
      "image/png": "[encoded data removed]",
      "text/plain": [
       "<Figure size 432x288 with 2 Axes>"
      ]
     },
     "metadata": {
      "needs_background": "light"
     },
     "output_type": "display_data"
    }
   ],
   "source": [
    "import numpy as np\n",
    "import pandas as pd\n",
    "import matplotlib.pyplot as plt\n",
    "\n",
    "def eoq(costo_producto, costo_orden, costo_almacenamiento, demanda_anual):\n",
    "    q = np.sqrt((2 * costo_orden * demanda_anual) / costo_almacenamiento)\n",
    "    tiempo_entre_pedidos = q / demanda_anual\n",
    "    costo_total = (costo_producto * demanda_anual) + (costo_orden * demanda_anual / q) + (costo_almacenamiento * q / 2)\n",
    "    return q, tiempo_entre_pedidos, costo_total\n",
    "\n",
    "# Pedir al usuario que ingrese los valores de los parámetros del inventario\n",
    "costo_producto = float(input(\"Ingrese el costo del producto por unidad: \"))\n",
    "costo_orden = float(input(\"Ingrese el costo por orden: \"))\n",
    "costo_almacenamiento = float(input(\"Ingrese el costo de almacenamiento por unidad por año: \"))\n",
    "demanda_anual = np.arange(10, 1000, 10)\n",
    "\n",
    "# Calcular el EOQ para cada valor de la demanda anual\n",
    "q_values = [eoq(costo_producto, costo_orden, costo_almacenamiento, d)[0] for d in demanda_anual]\n",
    "costo_total_values = [eoq(costo_producto, costo_orden, costo_almacenamiento, d)[2] for d in demanda_anual]\n",
    "\n",
    "# Graficar el costo total como una función de la demanda anual\n",
    "fig, ax1 = plt.subplots()\n",
    "\n",
    "color = 'tab:red'\n",
    "ax1.set_xlabel('Demanda anual')\n",
    "ax1.set_ylabel('Cantidad óptima de inventario', color=color)\n",
    "ax1.plot(demanda_anual, q_values, color=color)\n",
    "ax1.tick_params(axis='y', labelcolor=color)\n",
    "\n",
    "ax2 = ax1.twinx()\n",
    "\n",
    "color = 'tab:blue'\n",
    "ax2.set_ylabel('Costo total de inventario', color=color)\n",
    "ax2.plot(demanda_anual, costo_total_values, color=color)\n",
    "ax2.tick_params(axis='y', labelcolor=color)\n",
    "\n",
    "fig.tight_layout()\n",
    "plt.show()\n"
   ]
  },
  {
   "cell_type": "markdown",
   "metadata": {
    "id": "HAH44HpHWs4D"
   },
   "source": [
    "## Ejemplo numero uno:\n",
    "\n",
    "La empresa IND sas tiene una demanda diaria de 100 unidades, y el costo en que se incurren dichos pedidos es de  100 Cop se estima que el almacenqamiento de cada uno de los elementos es de \\$0.01 Cop Diarios  los pedidos se demoran 12 dias en ser entregados, debemos determinar la politica optima de invenario que nos permita mantener el mejor invetario posible.  entonces:\n",
    "\n",
    "- $D= 100\\ nunidades\\ diarias$\n",
    "- $K= 100$$ por pedido\n",
    "\n",
    "- $h=0.02$. unidades por día\n",
    "- $L= 12\\ dias$"
   ]
  },
  {
   "cell_type": "code",
   "execution_count": null,
   "metadata": {
    "colab": {
     "base_uri": "https://localhost:8080/"
    },
    "id": "20lAc20gZulf",
    "outputId": "6f30986e-bc24-4da8-822b-625fa6f55318"
   },
   "outputs": [
    {
     "name": "stdout",
     "output_type": "stream",
     "text": [
      "Ingrese la demanda correspondiente: 10000\n",
      "Ingrese el costo de ordenar: 200\n",
      "Ingrese el costo de mantener una unidad en inventario: 50\n",
      "EOQ:  282.842712474619\n",
      "Costo total de inventario:  14142.135623730952\n"
     ]
    }
   ],
   "source": [
    "import math\n",
    "\n",
    "def eoq(demand, ordering_cost, holding_cost):\n",
    "    \"\"\"Calcula la cantidad óptima de pedido (EOQ) dado la demanda anual,\n",
    "       el costo de ordenar y el costo de mantenimiento de inventario.\"\"\"\n",
    "    eoq = math.sqrt((2 * demand * ordering_cost) / holding_cost)\n",
    "    return eoq\n",
    "\n",
    "def total_inventory_cost(demand, ordering_cost, holding_cost, eoq):\n",
    "    \"\"\"Calcula el costo total de inventario dado la demanda anual,\n",
    "       el costo de ordenar, el costo de mantenimiento de inventario y el EOQ.\"\"\"\n",
    "    total_cost = (demand * ordering_cost / eoq) + (eoq / 2 * holding_cost)\n",
    "    return total_cost\n",
    "\n",
    "# Pide al usuario los datos del inventario\n",
    "demand = float(input(\"Ingrese la demanda correspondiente: \"))\n",
    "ordering_cost = float(input(\"Ingrese el costo de ordenar: \"))\n",
    "holding_cost = float(input(\"Ingrese el costo de mantener una unidad en inventario: \"))\n",
    "\n",
    "# Calcula la EOQ y el costo total de inventario\n",
    "eoq_value = eoq(demand, ordering_cost, holding_cost)\n",
    "total_cost = total_inventory_cost(demand, ordering_cost, holding_cost, eoq_value)\n",
    "\n",
    "# Imprime los resultados\n",
    "print(\"EOQ: \", eoq_value)\n",
    "print(\"Costo total de inventario: \", total_cost)\n",
    "\n"
   ]
  },
  {
   "cell_type": "markdown",
   "metadata": {
    "id": "fG_DL_VRcn5e"
   },
   "source": [
    "### Intentemos graficar el comportamiento de un inventario en el tiempo usando colab\n",
    "\n",
    "\n",
    "En el siguiente ejercicio se pretende generar el comportamiento del inventario a lo largo del periodo, para posteriormente graficarlo.\n",
    "\n",
    "$$  ***nota para mi:)**aun no esta listo el modelo aun no emula\n",
    "algo pasa en la formula de inventario actual.*"
   ]
  },
  {
   "cell_type": "markdown",
   "metadata": {
    "id": "B_H0ZovAkSuQ"
   },
   "source": []
  },
  {
   "cell_type": "code",
   "execution_count": null,
   "metadata": {
    "colab": {
     "base_uri": "https://localhost:8080/",
     "height": 756
    },
    "id": "CyeU5ZZGj8fo",
    "outputId": "9bfb2269-5f55-4dbe-d093-9515ea0f1eb4"
   },
   "outputs": [
    {
     "name": "stdout",
     "output_type": "stream",
     "text": [
      "el Q optimo de este ejemplo es: 305.50504633038935\n",
      "       Dia  Inventario_inicial  Nivel_Inventario  Pedido  Demanda  \\\n",
      "0      0.0            0.000000          0.000000     0.0      0.0   \n",
      "1      1.0          305.505046         45.505046     0.0    260.0   \n",
      "2      2.0           45.505046          0.000000   306.0    295.0   \n",
      "3      3.0          306.000000         12.000000     0.0    294.0   \n",
      "4      4.0           12.000000          0.000000   306.0    248.0   \n",
      "..     ...                 ...               ...     ...      ...   \n",
      "361  361.0            9.000000          0.000000   306.0    310.0   \n",
      "362  362.0          306.000000         33.000000     0.0    273.0   \n",
      "363  363.0           33.000000          0.000000   306.0    280.0   \n",
      "364  364.0          306.000000         73.000000     0.0    233.0   \n",
      "365  365.0           73.000000          0.000000   306.0    269.0   \n",
      "\n",
      "     Inventario_Final  \n",
      "0          305.505046  \n",
      "1           45.505046  \n",
      "2          306.000000  \n",
      "3           12.000000  \n",
      "4          306.000000  \n",
      "..                ...  \n",
      "361        306.000000  \n",
      "362         33.000000  \n",
      "363        306.000000  \n",
      "364         73.000000  \n",
      "365        306.000000  \n",
      "\n",
      "[366 rows x 6 columns]\n"
     ]
    },
    {
     "data": {
      "image/png": "[encoded data removed]",
      "text/plain": [
       "<Figure size 432x288 with 1 Axes>"
      ]
     },
     "metadata": {
      "needs_background": "light"
     },
     "output_type": "display_data"
    }
   ],
   "source": [
    "import pandas as pd\n",
    "import numpy as np\n",
    "import matplotlib.pyplot as plt\n",
    "\n",
    "# Datos para la prueba de escritorio\n",
    "D = 100000\n",
    "h = 30000\n",
    "S = 14000\n",
    "periodo = 365\n",
    "lead_time = 2\n",
    "\n",
    "# Calcular el Q óptimo y el inventario inicial\n",
    "Q_opt = ((2 * D * S) / h)**0.5\n",
    "inventario_inicial = round(Q_opt)\n",
    "\n",
    "# Crear una tabla para almacenar el inventario\n",
    "inventario = pd.DataFrame(columns=[\"Dia\", \"Inventario_inicial\", \"Nivel_Inventario\", \"Pedido\", \"Demanda\", \"Inventario_Final\"])\n",
    "\n",
    "# Inicializar la tabla con el día cero\n",
    "inventario_cero = Q_opt\n",
    "inventario = inventario.append({\"Dia\": 0,\n",
    "                                \"Inventario_inicial\": 0,\n",
    "                                \"Nivel_Inventario\": 0,\n",
    "                                \"Pedido\": 0,\n",
    "                                \"Demanda\": 0,\n",
    "                                \"Inventario_Final\": inventario_cero},\n",
    "                               ignore_index=True)\n",
    "\n",
    "# Llenar la tabla con la lógica que definimos\n",
    "for dia in range(1, periodo+1):\n",
    "    # Calcular la demanda para el día actual\n",
    "    demanda = round(np.random.normal(D/periodo, 0.1*D/periodo))\n",
    "\n",
    "    # Calcular el nivel de inventario y el pedido\n",
    "    if dia == 1:\n",
    "        inventario_inicial = inventario_cero\n",
    "    else:\n",
    "        inventario_inicial = inventario[\"Inventario_Final\"].iloc[dia-1]\n",
    "\n",
    "    nivel_inventario = inventario_inicial - demanda\n",
    "    if nivel_inventario < 0:\n",
    "        nivel_inventario = 0\n",
    "        pedido = round(Q_opt) - nivel_inventario\n",
    "    else:\n",
    "        pedido = 0\n",
    "\n",
    "    # Actualizar el inventario final\n",
    "    inventario_final = nivel_inventario + pedido\n",
    "\n",
    "    # Agregar una fila a la tabla\n",
    "    inventario = inventario.append({\"Dia\": dia,\n",
    "                                    \"Inventario_inicial\": inventario_inicial,\n",
    "                                    \"Nivel_Inventario\": nivel_inventario,\n",
    "                                    \"Pedido\": pedido,\n",
    "                                    \"Demanda\": demanda,\n",
    "                                    \"Inventario_Final\": inventario_final},\n",
    "                                    ignore_index=True)\n",
    "\n",
    "#para exportar el archivo .csv de la base de datos generada elimine el numeral del sigiuiente codigo\n",
    "#el archivo se generara en esta hoja de colab debera descargarla\n",
    "inventario.to_csv(\"tabla_inventario_crc.csv\", index=False)\n",
    "\n",
    "print(\"el Q optimo de este ejemplo es:\", Q_opt)\n",
    "\n",
    "# Imprimir la tabla\n",
    "print(inventario)\n",
    "\n",
    "# Graficar el nivel de inventario\n",
    "plt.plot(inventario[\"Dia\"], inventario[\"Nivel_Inventario\"])\n",
    "plt.xlabel(\"Dias\")\n",
    "plt.ylabel(\"Nivel de Inventario\")\n",
    "plt.show()\n",
    "\n",
    "\n"
   ]
  },
  {
   "cell_type": "markdown",
   "metadata": {
    "id": "pfKcadsJkUoo"
   },
   "source": [
    "## Ejercicios de Practica del modelo de inventario\n",
    "\n",
    "Vamos a poner en practica la teoria descrita en el cuaderno anterior\n",
    "- debera realizar los siguientes ejercicios a mano en una hoja limpia con su calculadora\n",
    "\n",
    "- Realizara los siguientes ejercicios usando google colab como se describe en el documento."
   ]
  },
  {
   "cell_type": "markdown",
   "metadata": {
    "id": "ZLwCTdtllrec"
   },
   "source": [
    "## Ejercicios EOQ\n",
    "\n",
    "### Ejercicio Numero 1\n",
    "\n",
    "La empresa Industrial.inc, es una empresa qu se dedica a la fabricacion de tornillos autoperforantes para la industria del aluminio. esta desea reducir sus costos de inventarios mediante la determinacion del numero de tornillos que debe obtener en cada una de las ordenes\n",
    "\n",
    "- la demanda es de 10000\n",
    "- el pedido tiene un costo asociado de \\$1000\n",
    "- el costo de mantener tiene un valor asociado de \\$1,50 un/año.\n",
    "- el año tiene 250 dias laborales\n",
    "\n",
    "usted debera calcular\n",
    "\n",
    "- a)Numero optimo de Orden $(q)$\n",
    "- b)Numero de ordenes por año\n",
    "- c)Tiempo de ciclo, tiempo esperado entre ordenes.\n",
    "\n",
    "### Ejercicio Numero 2\n",
    "\n",
    "LA empresa Amigos.sa, comercializa articulos para el hogar, con una demanda anual de 1000 unidades, si el costo para colocar un pedido es de \\$10usd,$ el costo de almacenamiento unitario anual de cada articulo es de \\$2,5 Usd, la empresa opera 365 dias, siete dias a la semana, un costo de venta de 15 dolares por articulo, determine la politica optima de inventario para este problema.\n",
    "\n",
    "### Ejercicio Numero 3\n",
    "\n",
    "Una compañia de trasporte, de vans para servicio escolar consume gasolina a una tasa de 8.200 galones por mes, la gasolina cuesta 12.000 Cop. y tiene un costo de pedido 6.000 Cop el costo de mantener el inventario es de 2000 Cop por galon.\n",
    "\n",
    "- determine cuando y cuanto se debe ordenar, si se desea minimizar el coste total\n",
    "\n",
    "- suponga que se permiten roturas de stock (stock ruptures) con una penalizacion de 1.500 cop por galon mensual\n",
    "\n",
    "- suponga que el costo de la gasolina desciende a 8.000 cop por galon si se compran por lo menos 10.000 galones, como afectaria el costo teniendo en cuenta la penalizacion anterior.\n",
    "\n",
    "- suponga que el costo de la gasolina seria de 7.000 Cop por galon si el costo de lote minimo es de 12.000 galones, teniendo en cuenta la penalizacion anterior.\n",
    "\n",
    "- ¿sera necesario un invenytario inicial para solucionar el problema?, sustente tecnicamente su respuesta.\n",
    "\n",
    "\n",
    "### Ejercicio Numero 4\n",
    "\n",
    "Una empresa dedicada a la imopresion y comercializacion de libros esta haciendo una compra mensual, para esto realizo un estudio del comportamiento del mercado en el insumo mas importante de su empresa el papel especial con que imprimen sus libros.\n",
    "en los ultimos 12 meses el comportamiento de su demanda fue de:\n",
    "\n",
    "$Demanda = [10 -11-10-9-10-11-9-10,5-10-9-9-11,5]$ tonelas por mes\n",
    "se estima el precio de compra se mantendra en Cop \\$3,400.000 por tonelada su costo de pedido es de COP \\$350.000, la politica de la compañia dice que el se le cargara un 15% al manejo de los inventarios mas Cop \\$60.000 por manejo de bodegaje, calcular:\n",
    "\n",
    "- el modelo optimo para manejar este imventario\n",
    "- si el proveedor ofrece darnos un descuento del 10% por compras superiores\n",
    "a 30 toneladas y otro proveedor un descuento del 11% por compras superiores a\n",
    "60 toneladas, como cambiaria mi politica de inventario en cada uno de los escenaros?\n",
    "- si adicional al descuento logramos hacer un acuerdo con una bodega externa donde el almacenamiento de este se reduce al 9% con una capacidad maxima de 35 toneladas, como cambiaria nuestra politica?\n",
    "\n",
    "### Ejercicio Numero 5\n",
    "\n",
    "Cantidad ec.onómica de pedido\n",
    "La demanda de computadoras Deskpro en Best Buy es de 1,000 unidades por mes. Best Buy incu-\n",
    "rre en costos fijos de colocación del pedido, transporte y recepción de 4,000 dólares cada vez que 'se coloca un pedido. Cada computadora le cuesta 500 dólares y el minorista tiene un costo de\n",
    "mantener inventario de 20%. Evalúe el número de computadoras que el gerente de la tienda debe ordenar en cada lote de reabastecimiento.\n",
    "\n",
    "### Ejercicio Numero 6\n",
    "\n",
    "Abc company have two item $X_1$ and $X_2$ for stockin into theirs warehouse, the Demand for each one of the items is $D_1 = 10000u/y$ and $D_2=12000u/y$. the holdig costo for eacho one of them is $13%$ and the costo is $C_1=5000cop$ And $C_2=7000Cop$\n",
    "- the two items have the same supplier so they sahre the operation costing $6000cop$ by S\n",
    "\n",
    "- need to find the total cost of the operation\n",
    "- if the supplier takes 3 days of delay how would it be modelated\n",
    "- ROL\n",
    "- ROQ\n",
    "\n",
    "### Ejercicio Numero 7\n",
    "\n",
    "Water testing at the Central Park reservoir requires a chemical reagent that costs 500usd per gallon. Use is constant at 1/3 gallon per week. Carrying cost rate is considered to be 12% per year, and the cost of an order is 125usd. What is the optimal order quantity for the reagent?\n",
    "\n",
    "### Ejercicio Numero 8\n",
    "\n",
    "Continuing with the information about the Central Park reservoir given in Problem 1, the city could make this reagent at the rate of 1/8 gallon per day, at a cost of $300 per gallon. The setup cost is 150usd. Use a 7-day week. Compare using the EOQ and the EPQ systems. What course of action do you recommend?\n",
    "\n",
    "\n"
   ]
  },
  {
   "cell_type": "markdown",
   "metadata": {
    "id": "zt_rNNb4EwLQ"
   },
   "source": [
    "### Ejercicio de inventario con modelamiento matematico en python\n",
    "\n",
    "la empresa **XYZ** posee Tres clientes y cuatro proveedores, la empresa manufactura dos productos $X_1$ y $X_2$ donde para el producto $X_1$ es necesario dos unidades de $MP_1$ y una unidad de $MP_2$; mientras que es Producto $X_2$ necesita una unidad de $MP_1$ y tres unidades de $MP_2$, el costo de almacenamiento del producto terminado de $X_1$ y $X_2$ es de 0,5 COP/Un y 0,8 COP/Un Respectivamente; el costo de pedir $X_1$ y $X_2$ es de 1,2 Cop/un y 0,8Cop/Un Respectivamente, cabe mencionar que al pedir un producto se responde desde los proveedores con los componentes respectivos de cada uno $MP_i$\n",
    "\n",
    "la tabla de **costos** de $MP_i$ esta dada de la siguiente forma:\n",
    "\n",
    "\\begin{array}{cccc} \\hline\n",
    "Proveedor&Rm_1&Rm_2 \\\\ \\hline\n",
    "s_1&90&75 \\\\ \\hline\n",
    "s_2&50&65 \\\\ \\hline\n",
    "s_3&65&25 \\\\ \\hline\n",
    "s_4&70&50 \\\\ \\hline\n",
    "\\end{array}\n",
    "\n",
    "- La Demanda del sistema esta dada de la siguiente forma:\n",
    "\n",
    "\\begin{array}{CCCC} \\hline\n",
    "Cliente&X_1&X_2& \\\\ \\hline\n",
    "C1&500&250&  \\\\ \\hline\n",
    "C_2&450&300&  \\\\ \\hline\n",
    "C_3&250&300& \\\\  \\hline\n",
    "\\end{array}\n",
    "\n",
    "- se asume que el sistema esta balanceado y que los proveedores pueden suplir la demanda en la totalidad de lo que se requiera.\n",
    "\n",
    "encuentre:\n",
    "1. el costo minimo del sistema para suplir con la demanda.\n",
    "2. los costos asociados al sistema segun el modelo POQ\n",
    "3. si los proveedores tienen un lead time de:\n",
    "\n",
    "\\begin{array}{cccc} \\hline\n",
    "Proveedor&lead\\ time(días)\\\\ \\hline\n",
    "s_1&2 \\\\ \\hline\n",
    "s_2&4 \\\\ \\hline\n",
    "s_3&2 \\\\ \\hline\n",
    "s_4&5 \\\\ \\hline\n",
    "\\end{array}\n",
    "\n",
    "  Calcule los ROL y ROQ de cada uno de los productos, con base en su Bill of material.\n",
    "\n",
    "4. calcule la tasa de demanda (descuento) $d$ y teniendo en cuenta, una tasa de produccion de $x_1 = 80 un/dia$ y $x_2 = 60 un/dia$ calcule el lote economico optimo. y el tamaño de la bodega que deberia tener la empresa."
   ]
  },
  {
   "cell_type": "markdown",
   "metadata": {
    "id": "W9VhXTPcpuOr"
   },
   "source": [
    "#####Agreguemos el costo total del inventario y grafiquemoslo"
   ]
  },
  {
   "cell_type": "code",
   "execution_count": null,
   "metadata": {
    "id": "bo9KPU1xptU-"
   },
   "outputs": [],
   "source": [
    "# Datos para la prueba de escritorio\n",
    "D = 100000\n",
    "h = 30000\n",
    "S = 14000\n",
    "periodo = 365\n",
    "lead_time = 2\n",
    "\n",
    "# Calcular el Q óptimo y el inventario inicial\n",
    "Q_opt = ((2 * D * S) / h)**0.5\n",
    "inventario_inicial = round(Q_opt)\n",
    "\n",
    "\n",
    "# Crear una tabla para almacenar el inventario\n",
    "inventario = pd.DataFrame(columns=[\"Dia\", \"Inventario_inicial\", \"Nivel_Inventario\", \"Pedido\", \"Demanda\", \"Inventario_Final\"])\n",
    "\n",
    "# Inicializar la tabla con el día cero\n",
    "inventario_cero = round(Q_opt)\n",
    "inventario = inventario.append({\"Dia\": 0,\n",
    "                                \"Inventario_inicial\": 0,\n",
    "                                \"Nivel_Inventario\": 0,\n",
    "                                \"Pedido\": 0,\n",
    "                                \"Demanda\": 0,\n",
    "                                \"Inventario_Final\": inventario_cero},\n",
    "                               ignore_index=True)\n",
    "\n",
    "# Llenar la tabla con la lógica que definimos\n",
    "for dia in range(1, periodo+1):\n",
    "    # Calcular la demanda para el día actual\n",
    "    demanda = round(np.random.normal(D/periodo, 0.1*D/periodo))\n",
    "\n",
    "    # Calcular el nivel de inventario y el pedido\n",
    "    if dia == 1:\n",
    "        inventario_inicial = inventario_cero\n",
    "    else:\n",
    "        inventario_inicial = inventario[\"Inventario_Final\"].iloc[dia-1]\n",
    "\n",
    "    nivel_inventario = inventario_inicial - demanda\n",
    "    if nivel_inventario < 0:\n",
    "        nivel_inventario = 0\n",
    "        pedido = round(Q_opt) - nivel_inventario\n",
    "    else:\n",
    "        pedido = 0\n",
    "\n",
    "    # Actualizar el inventario final\n",
    "    inventario_final = nivel_inventario + pedido\n",
    "\n",
    "    # Agregar una fila a la tabla\n",
    "    inventario = inventario.append({\"Dia\": dia,\n",
    "                                    \"Inventario_inicial\": inventario_inicial,\n",
    "                                    \"Nivel_Inventario\": nivel_inventario,\n",
    "                                    \"Pedido\": pedido,\n",
    "                                    \"Demanda\": demanda,\n",
    "                                    \"Inventario_Final\": inventario_final},\n",
    "                                    ignore_index=True)\n",
    "\n",
    "\n",
    "# definimos el costo total del inventario\n",
    "\n",
    "total_cost = (D * S / Q_opt) + (Q_opt / 2 * h)\n",
    "\n",
    "\n",
    "#para exportar el archivo .csv de la base de datos generada elimine el numeral del sigiuiente codigo\n",
    "#el archivo se generara en esta hoja de colab debera descargarla\n",
    "#inventario.to_csv(\"tabla_inventario_crc.csv\", index=False)\n",
    "\n",
    "print(\"el Q optimo de este ejemplo es:\", round(Q_opt))\n",
    "print(\"el costo total del inventario es:\", total_cost)\n",
    "\n",
    "# Imprimir la tabla\n",
    "print(inventario)\n",
    "\n",
    "# Graficar el nivel de inventario\n",
    "\n",
    "\n",
    "plt.figure(figsize=(40,10))\n",
    "plt.plot(inventario[\"Dia\"], inventario[\"Nivel_Inventario\"])\n",
    "plt.xlabel(\"Dias\")\n",
    "plt.ylabel(\"Nivel de Inventario\")\n",
    "plt.show()\n",
    "\n"
   ]
  },
  {
   "cell_type": "markdown",
   "metadata": {
    "id": "59ZYyss5ULli"
   },
   "source": [
    "## EPQ Model\n",
    "\n",
    "The economic production quantity (EPQ) model (also known as the economic lot size (ELS) model) is used in manufacturing situations where inventory increases at a finite rate and depends on the production rate and the usage rate of the item under consideration. In addition to the variables (D, S, H, Q, and C) defined earlier, we define two more variables: p = production rate per day (daily production rate) and d = demand rate per day (daily demand rate). The values of p and d must be in the same time unit. For example, these values could be weekly rates instead of daily rates. However, daily rates are most common. Q in this case is the production quantity (rather than order quantity) to be made in one lot and S is the cost of setting up the machine to produce that one lot. Therefore, S is called the setup cost per set up (rather than order cost per order).\n",
    "\n",
    "$$\n",
    "Q_{epq}=\\sqrt{\\left(\\frac{2DS}{h\\left(1-\\frac{d}{q}\\right)}\\right)}\n",
    "$$"
   ]
  },
  {
   "cell_type": "markdown",
   "metadata": {
    "id": "gH7qvZfsVw4u"
   },
   "source": [
    "### Ejemplo EPQ\n",
    "\n",
    "hallemos:\n",
    "1. Demandan anual = 50.000 Unidades\n",
    "2. setup cost = \\$25 usd\n",
    "3. costo de mantener = \\$5 usd\n",
    "4. *tasa de produccion (p)* = 500 un/dia\n",
    "5. Dias laborales = 250 dias\n",
    "\n",
    "entonces resolvemos:\n",
    "\n",
    "desconocemos *d*, pero esta puede ser calculada por medio de los dias laborales y demanda anual.\n",
    "\n",
    "$$\n",
    "d = \\frac{50.000}{250} = 200 un\n",
    "$$\n",
    "\n",
    "Usando la formula de *EPQ* obtenemos:\n",
    "\n",
    "$$\n",
    "Q_{epq} = \\sqrt{\\frac{2*50,000*25}{5*(1-\\frac{200}{250})}} = 912.87\n",
    "$$\n",
    "\n",
    "tambien podemos calcular  el nivel de inventario maximo ($I_{max})$\n",
    "\n",
    "$$\n",
    "I_{max}=Q * \\left(1-\\frac{d}{p}\\right)\n",
    "$$\n",
    "\n",
    "Reemplazando:\n",
    "\n",
    "$$\n",
    "I_{max}=912.87*\\left(1-\\frac{200}{500}\\right) = 547.72 un\n",
    "$$"
   ]
  },
  {
   "cell_type": "markdown",
   "metadata": {
    "id": "w9TwlYQTM-r_"
   },
   "source": []
  },
  {
   "cell_type": "markdown",
   "metadata": {
    "id": "8YiOkI05Wfs-"
   },
   "source": [
    "### gestion de inventarios y abastecimiento:\n",
    "\n",
    "investigar:\n",
    "1. Inventario ABC\n",
    "2. Mterial Criticaly\n",
    "3. Quantity Duiscount Model\n",
    "\n"
   ]
  },
  {
   "cell_type": "markdown",
   "metadata": {
    "id": "BXfsuXU_Upzo"
   },
   "source": []
  },
  {
   "cell_type": "markdown",
   "metadata": {
    "id": "l6SNki_y1rmi"
   },
   "source": [
    "# Unidad tres: Modelos de Transporte\n"
   ]
  },
  {
   "cell_type": "markdown",
   "metadata": {
    "id": "UC9Yc0oNVasw"
   },
   "source": [
    "El transporte es la columna vertebral de la logística, permitiendo el flujo de bienes y servicios a través de la cadena de suministro. Su eficiencia impacta directamente en los costos, la satisfacción del cliente y la competitividad de las empresas.\n",
    "\n",
    "Existen diferentes **medios** de transporte, como el terrestre, marítimo, aéreo y ferroviario, cada uno con características que los hacen ideales para ciertos tipos de carga y distancias. La elección del medio adecuado es crucial para optimizar la logística.\n",
    "\n",
    "Además de los medios, se deben considerar los **modos** de transporte, que se refieren a la forma en que se organiza el transporte, como el transporte unimodal (un solo medio), multimodal (combinación de medios) e intermodal (combinación de medios con una sola unidad de carga).\n",
    "\n",
    "Un modelo logístico que ha ganado popularidad es el **cross-docking**, que busca minimizar el tiempo de almacenamiento y agilizar la distribución.\n",
    "\n",
    "- Ejemplos\n",
    "1. Transporte marítimo: Ideal para grandes volúmenes y largas distancias, como el transporte de materias primas o productos manufacturados entre continentes.\n",
    "2. Transporte aéreo: Recomendado para productos perecederos o de alto valor que requieren entrega rápida, como flores o dispositivos electrónicos.\n",
    "\n",
    "3. Cross-docking: Un centro de distribución recibe productos de diferentes proveedores, los consolida y los envía inmediatamente a los clientes, reduciendo costos de almacenamiento y tiempos de entrega."
   ]
  },
  {
   "cell_type": "markdown",
   "metadata": {
    "id": "TvihbquTPHgN"
   },
   "source": [
    "### Variables de Decisión Clave\n",
    "\n",
    "Al evaluar las opciones de transporte, es fundamental considerar las siguientes variables:\n",
    "\n",
    "- Costo: Incluye el precio del flete, seguros, impuestos y otros gastos asociados al transporte.\n",
    "- Tiempo: Se refiere al tiempo total de tránsito, desde la recolección hasta la entrega final.\n",
    "- Capacidad: Hace referencia a la cantidad de carga que puede transportar el medio elegido.\n",
    "- Fiabilidad: Se refiere a la probabilidad de que la carga llegue a destino a tiempo y en las condiciones acordadas."
   ]
  },
  {
   "cell_type": "markdown",
   "metadata": {
    "id": "nCQA-EUgWLYL"
   },
   "source": [
    "### Representacion grafica de los modelos de transporte en Progranacion lineal\n",
    "\n",
    "Un modelo de transporte se puede representar gráficamente mediante una red de nodos y arcos, similar a un diagrama de flujo.\n",
    "\n",
    "1. Nodos: Representan los puntos de origen y destino de la mercancía.\n",
    "\n",
    "- Nodos de origen: Indican los lugares de donde sale la mercancía (fábricas, almacenes, etc.).\n",
    "- Nodos de destino: Representan los lugares a donde debe llegar la mercancía (clientes, centros de distribución, etc.).\n",
    "Arcos: Son las conexiones entre los nodos y simbolizan las rutas de transporte disponibles.\n",
    "\n",
    "2. Arcos\n",
    "\n",
    "- Cada arco se asocia con un costo de transporte, que puede representar la distancia, el tiempo de viaje o el costo monetario del transporte entre dos nodos.\n",
    "Se puede indicar la capacidad de cada arco, que representa la cantidad máxima de mercancía que se puede transportar por esa ruta.\n"
   ]
  },
  {
   "cell_type": "markdown",
   "metadata": {
    "id": "n0J7JNfgWBh0"
   },
   "source": [
    "### Principio de nivelacion:\n",
    "\n",
    "En los modelos de logística de programación lineal, el principio de nivelación se refiere a la necesidad de equilibrar la oferta y la demanda en el modelo. Esto significa que la cantidad total de bienes o productos que se envían desde los orígenes debe ser igual a la cantidad total de bienes o productos que se reciben en los destinos.\n",
    "\n",
    "¿Cuándo usar elementos ficticios?\n",
    "\n",
    "Los elementos ficticios se utilizan cuando la oferta y la demanda no están equilibradas en el modelo de transporte. Se introduce un origen o destino ficticio para absorber el exceso de oferta o demanda, respectivamente.\n",
    "\n",
    "1. **Exceso de oferta:** Si la oferta total es mayor que la demanda total, se crea un destino ficticio. Los costos de transporte a este destino ficticio se establecen en cero, ya que no representa un destino real.\n",
    "\n",
    "2. **Exceso de demanda:** Si la demanda total es mayor que la oferta total, se crea un origen ficticio. Los costos de transporte desde este origen ficticio se establecen en cero.\n",
    "Ejemplo:\n",
    "\n",
    "Imagina un problema de transporte con dos orígenes (O1 y O2) y tres destinos (D1, D2 y D3). La oferta de O1 es 100 unidades y la de O2 es 150 unidades. La demanda de D1 es 80 unidades, la de D2 es 100 unidades y la de D3 es 70 unidades.\n",
    "\n",
    "En este caso, la oferta total (250 unidades) es mayor que la demanda total (250 unidades). Para nivelar el modelo, se introduce un destino ficticio (DF) con una demanda de 0 unidades. Los costos de transporte desde O1 y O2 a DF se establecen en cero.\n"
   ]
  },
  {
   "cell_type": "code",
   "execution_count": null,
   "metadata": {
    "colab": {
     "base_uri": "https://localhost:8080/"
    },
    "id": "g72b912HWrGM",
    "outputId": "02d546e4-e4ee-4826-8d35-0e868711e0f3"
   },
   "outputs": [
    {
     "name": "stdout",
     "output_type": "stream",
     "text": [
      "Status: Optimal\n",
      "ruta_('O1',_'D2') = 100.0\n",
      "ruta_('O2',_'D1') = 80.0\n",
      "ruta_('O2',_'D3') = 70.0\n",
      "Costo total = 2210.0\n"
     ]
    },
    {
     "name": "stderr",
     "output_type": "stream",
     "text": [
      "/usr/local/lib/python3.10/dist-packages/pulp/pulp.py:1298: UserWarning: Spaces are not permitted in the name. Converted to '_'\n",
      "  warnings.warn(\"Spaces are not permitted in the name. Converted to '_'\")\n"
     ]
    }
   ],
   "source": [
    "import pulp\n",
    "\n",
    "# Crear el problema\n",
    "prob = pulp.LpProblem(\"Problema de Transporte\", pulp.LpMinimize)\n",
    "\n",
    "# Definir los orígenes y destinos\n",
    "origenes = [\"O1\", \"O2\"]\n",
    "destinos = [\"D1\", \"D2\", \"D3\", \"DF\"] # DF es el destino ficticio\n",
    "\n",
    "# Oferta de cada origen\n",
    "oferta = {\"O1\": 100, \"O2\": 150}\n",
    "\n",
    "# Demanda de cada destino\n",
    "demanda = {\"D1\": 80, \"D2\": 100, \"D3\": 70, \"DF\": 0}\n",
    "\n",
    "# Costos de transporte (se deben definir según el problema)\n",
    "costos = {\n",
    "    (\"O1\", \"D1\"): 10,\n",
    "    (\"O1\", \"D2\"): 2,\n",
    "    (\"O1\", \"D3\"): 20,\n",
    "    (\"O1\", \"DF\"): 0,  # Costo cero para el destino ficticio\n",
    "    (\"O2\", \"D1\"): 12,\n",
    "    (\"O2\", \"D2\"): 7,\n",
    "    (\"O2\", \"D3\"): 15,\n",
    "    (\"O2\", \"DF\"): 0,  # Costo cero para el destino ficticio\n",
    "}\n",
    "\n",
    "# Variables de decisión\n",
    "rutas = [(o, d) for o in origenes for d in destinos]\n",
    "x = pulp.LpVariable.dicts(\"ruta\", rutas, lowBound=0, cat='Integer')\n",
    "\n",
    "# Función objetivo: Minimizar el costo total de transporte\n",
    "prob += pulp.lpSum([x[r] * costos[r] for r in rutas])\n",
    "\n",
    "# Restricciones\n",
    "# 1. Respetar la oferta de cada origen\n",
    "for o in origenes:\n",
    "    prob += pulp.lpSum([x[(o, d)] for d in destinos]) <= oferta[o]\n",
    "\n",
    "# 2. Satisfacer la demanda de cada destino\n",
    "for d in destinos:\n",
    "    prob += pulp.lpSum([x[(o, d)] for o in origenes]) >= demanda[d]\n",
    "\n",
    "# Resolver el problema\n",
    "prob.solve()\n",
    "\n",
    "# Imprimir los resultados\n",
    "print(\"Status:\", pulp.LpStatus[prob.status])\n",
    "for v in prob.variables():\n",
    "    if v.varValue > 0:\n",
    "        print(v.name, \"=\", v.varValue)\n",
    "\n",
    "print(\"Costo total =\", pulp.value(prob.objective))"
   ]
  },
  {
   "cell_type": "markdown",
   "metadata": {
    "id": "T45d5EBYW-Bf"
   },
   "source": [
    "Los valores que quedan en los elementos ficticios en la solución de un problema de transporte representan la diferencia entre la oferta y la demanda.\n",
    "\n",
    "1. **Destino ficticio:** Si en la solución óptima hay un valor positivo en una ruta hacia el destino ficticio, significa que hay un exceso de oferta en el origen correspondiente. El valor indica la cantidad de unidades que no se envían a ningún destino real.\n",
    "\n",
    "2. **Origen ficticio:** Si en la solución óptima hay un valor positivo en una ruta desde el origen ficticio, significa que hay un exceso de demanda en el destino correspondiente. El valor indica la cantidad de unidades de demanda que no se pueden satisfacer con la oferta disponible.\n",
    "\n"
   ]
  },
  {
   "cell_type": "code",
   "execution_count": null,
   "metadata": {
    "colab": {
     "base_uri": "https://localhost:8080/"
    },
    "id": "YV2g2EYsWrKV",
    "outputId": "5dba4e53-091f-4268-8faf-5d9764826357"
   },
   "outputs": [
    {
     "name": "stdout",
     "output_type": "stream",
     "text": [
      "Collecting networkx==2.8.8\n",
      "  Downloading networkx-2.8.8-py3-none-any.whl.metadata (5.1 kB)\n",
      "Downloading networkx-2.8.8-py3-none-any.whl (2.0 MB)\n",
      "\u001b[2K   \u001b[90m━━━━━━━━━━━━━━━━━━━━━━━━━━━━━━━━━━━━━━━━\u001b[0m \u001b[32m2.0/2.0 MB\u001b[0m \u001b[31m18.8 MB/s\u001b[0m eta \u001b[36m0:00:00\u001b[0m\n",
      "\u001b[?25hInstalling collected packages: networkx\n",
      "  Attempting uninstall: networkx\n",
      "    Found existing installation: networkx 3.3\n",
      "    Uninstalling networkx-3.3:\n",
      "      Successfully uninstalled networkx-3.3\n",
      "Successfully installed networkx-2.8.8\n"
     ]
    }
   ],
   "source": [
    "!pip install networkx==2.8.8"
   ]
  },
  {
   "cell_type": "markdown",
   "metadata": {
    "id": "wNn5BAMd3H88"
   },
   "source": [
    "## **Definicion del modelo de Transporte:**\n",
    "\n",
    "Tiene que ver con encontrar un plan de costo mínimo para transportar una mercancía desde varios orígenes hasta varios destinos. Este modelo se puede extender para resolver numerosas aplicaciones que no se relacionan con el transporte dentro de los problemas de control de inventarios, flujo de efectivo, asignación de recursos.\n",
    "\n",
    "Algoritmo del Transporte, es una adaptación del método Simplex aplicada al caso o estructura particular del modelo de Programación Lineal asociado. Aunque el modelo de este problema se puede resolver mediante el método Simplex, su estructura especial hace posible el uso de un procedimiento especial"
   ]
  },
  {
   "cell_type": "markdown",
   "metadata": {
    "id": "cB6Jcvma4SNr"
   },
   "source": [
    "![image.png](data:image/png;base64,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)"
   ]
  },
  {
   "cell_type": "markdown",
   "metadata": {
    "id": "XXZMQYCY_aZc"
   },
   "source": [
    "1- para resolver estos problemas de optimizacion usaremos la ibreria pulp\n",
    "- hay que instalarla ya que no viene preinstalada en COlab\n",
    "- https://www.youtube.com/watch?v=Dq59G8Uf-_o\n",
    "- https://pypi.org/project/PuLP/"
   ]
  },
  {
   "cell_type": "code",
   "execution_count": null,
   "metadata": {
    "colab": {
     "base_uri": "https://localhost:8080/"
    },
    "id": "Q3bZpzio_CTb",
    "outputId": "08233a46-5d4f-42ae-dc74-8120384d5b73"
   },
   "outputs": [
    {
     "name": "stdout",
     "output_type": "stream",
     "text": [
      "Collecting pulp\n",
      "  Downloading PuLP-2.8.0-py3-none-any.whl (17.7 MB)\n",
      "\u001b[2K     \u001b[90m━━━━━━━━━━━━━━━━━━━━━━━━━━━━━━━━━━━━━━━━\u001b[0m \u001b[32m17.7/17.7 MB\u001b[0m \u001b[31m45.7 MB/s\u001b[0m eta \u001b[36m0:00:00\u001b[0m\n",
      "\u001b[?25hInstalling collected packages: pulp\n",
      "Successfully installed pulp-2.8.0\n"
     ]
    }
   ],
   "source": [
    "pip install pulp"
   ]
  },
  {
   "cell_type": "markdown",
   "metadata": {
    "id": "Lt7ZZo4vPazf"
   },
   "source": [
    "#### Diseño de rutas con python\n",
    "\n",
    "La planificacion de rutas, centra sus esfuerzos en la planificacion de recorridos optimos para la entrega de productos o el cumplimiento de los objetivos del sistema, teniendo en cunta variables especificas como:\n",
    "\n",
    "1. tiempo\n",
    "2. costo\n",
    "3. restricciones de capacidad\n",
    "\n",
    "##### Objetivo de diseñar una ruta\n",
    "\n",
    "el objetivo puede ser:\n",
    "\n",
    "1. Minimizar costos\n",
    "2. optmizar tiempos de entregas\n",
    "3. Mejorar la utilizacion de recursos\n",
    "\n",
    "##### Modelos de rutas:\n",
    "\n",
    "en logistica tenemos modelos varios de rutas, los que modelan ecenarios especificos de la realidad, estos modelos intentan dar respuesta a la realidad con base en las restricciones especificas, los modelos generales son:\n",
    "\n",
    "1. TSP - travel salesman problem, o problema del agente viajero:\n",
    "Encontrar la ruta más corta que visita todos los puntos de entrega una sola vez y regresa al punto de partida.\n",
    "\n",
    "2. VRP - Problema de Ruteo de Vehiculos:\n",
    "Asignar una flota de vehículos para atender a un conjunto de clientes, minimizando costos y respetando restricciones de capacidad y tiempo.\n",
    "\n",
    "3. VRPTW - VRO con ventanas de tiempo:\n",
    "Similar al VRP, pero con la restricción de que cada cliente debe ser atendido dentro de una ventana de tiempo específica.\n",
    "***\n",
    "\n",
    "DISEÑO DE RUTAS UTILIZANDO PYTHON.\n",
    "\n",
    "Existen librerías y algoritmos que facilitan el diseño de rutas en Python.\n",
    "\n",
    "```\n",
    "Pulp: Una librería para resolver problemas de optimización, incluyendo el TSP y VRP.\n",
    "```\n",
    "\n",
    "hagamnos el ejemplo donde tenemos un problema de asignación de tareas a trabajadores, donde cada trabajador debe realizar una sola tarea y cada tarea debe ser realizada por un solo trabajador. La función objetivo es minimizar el costo total de la asignación\n"
   ]
  },
  {
   "cell_type": "code",
   "execution_count": null,
   "metadata": {
    "colab": {
     "base_uri": "https://localhost:8080/"
    },
    "id": "RgQo_cFPRHXw",
    "outputId": "8f531feb-950b-45d1-9cd0-79ec6094c461"
   },
   "outputs": [
    {
     "name": "stdout",
     "output_type": "stream",
     "text": [
      "Collecting Pulp\n",
      "  Downloading PuLP-2.9.0-py3-none-any.whl.metadata (5.4 kB)\n",
      "Downloading PuLP-2.9.0-py3-none-any.whl (17.7 MB)\n",
      "\u001b[2K   \u001b[90m━━━━━━━━━━━━━━━━━━━━━━━━━━━━━━━━━━━━━━━━\u001b[0m \u001b[32m17.7/17.7 MB\u001b[0m \u001b[31m52.7 MB/s\u001b[0m eta \u001b[36m0:00:00\u001b[0m\n",
      "\u001b[?25hInstalling collected packages: Pulp\n",
      "Successfully installed Pulp-2.9.0\n"
     ]
    }
   ],
   "source": [
    "!pip install Pulp"
   ]
  },
  {
   "cell_type": "code",
   "execution_count": null,
   "metadata": {
    "colab": {
     "base_uri": "https://localhost:8080/"
    },
    "id": "dz5CrnfeSCrU",
    "outputId": "dc75a230-030a-4f28-c84d-2158ddc78604"
   },
   "outputs": [
    {
     "name": "stdout",
     "output_type": "stream",
     "text": [
      "Status: Optimal\n",
      "x_(0,_0) = 0.0\n",
      "x_(0,_1) = 1.0\n",
      "x_(0,_2) = 0.0\n",
      "x_(1,_0) = 1.0\n",
      "x_(1,_1) = 0.0\n",
      "x_(1,_2) = 0.0\n",
      "x_(2,_0) = 0.0\n",
      "x_(2,_1) = 0.0\n",
      "x_(2,_2) = 1.0\n",
      "Costo total = 19.0\n"
     ]
    },
    {
     "name": "stderr",
     "output_type": "stream",
     "text": [
      "/usr/local/lib/python3.10/dist-packages/pulp/pulp.py:1298: UserWarning: Spaces are not permitted in the name. Converted to '_'\n",
      "  warnings.warn(\"Spaces are not permitted in the name. Converted to '_'\")\n"
     ]
    }
   ],
   "source": [
    "import pulp\n",
    "\n",
    "# Crear el problema\n",
    "prob = pulp.LpProblem(\"Asignacion de Tareas\", pulp.LpMinimize)\n",
    "\n",
    "# Definir las variables\n",
    "costos = [[10, 2, 20], [12, 7, 15], [8, 12, 5]]\n",
    "trabajadores = range(3)\n",
    "tareas = range(3)\n",
    "x = pulp.LpVariable.dicts(\"x\", [(i, j) for i in trabajadores for j in tareas], cat='Binary')\n",
    "\n",
    "# Función objetivo\n",
    "prob += pulp.lpSum(costos[i][j] * x[(i, j)] for i in trabajadores for j in tareas)\n",
    "\n",
    "# Restricciones\n",
    "for i in trabajadores:\n",
    "    prob += pulp.lpSum(x[(i, j)] for j in tareas) == 1\n",
    "\n",
    "for j in tareas:\n",
    "    prob += pulp.lpSum(x[(i, j)] for i in trabajadores) == 1\n",
    "\n",
    "# Resolver el problema\n",
    "prob.solve()\n",
    "\n",
    "# Imprimir los resultados\n",
    "print(\"Status:\", pulp.LpStatus[prob.status])\n",
    "for v in prob.variables():\n",
    "    print(v.name, \"=\", v.varValue)\n",
    "\n",
    "print(\"Costo total =\", pulp.value(prob.objective))"
   ]
  },
  {
   "cell_type": "markdown",
   "metadata": {
    "id": "EE7UpmmD4nH0"
   },
   "source": [
    "### Ejemplo 1:\n",
    "**Ejemplo uno:** MG Auto tiene tres plantas: en Los Ángeles, Detroit y New Orleans; y dos centros principales de distribución en Denver y en Miami. Las capacidades de las tres plantas durante el próximo trimestre serán 1000, 1500 y 1200 autos. Las demandas trimestrales en los dos centros de distribución son 2300 y 1400 autos. El kilometraje entre las fábricas y los centros de distribución\n",
    "\n",
    "- La empresa transportista cobra 8 centavos por KM y por auto. El costo de transporte por auto, en las distintas rutas y redondeado hasta el $ más próximo\n",
    "\n",
    "- TABLA 1\n",
    "\n",
    "\\begin{array}{|c|c|c|}\n",
    "\\hline\n",
    "\\textbf{-} & \\textbf{Denver} & \\textbf{Miami} \\\\\n",
    "\\hline\n",
    "  Los\\ Angeles & 1,000 & 2,690 \\\\\n",
    "\\hline\n",
    " Detroit\\ & 1,250  & 1,350  \\\\\n",
    "\\hline\n",
    " Nueva\\ Orleans\\ & 1,275  & 850  \\\\\n",
    "\\hline\n",
    "\\end{array}\n",
    "\n",
    "\n",
    "- TABLA 2\n",
    "\n",
    "\\begin{array}{|c|c|c|c|c|}\n",
    "\\hline\n",
    "\\textbf{-} & \\textbf{Denver(1)} & \\textbf{Miami(2)} \\\\\n",
    "\\hline\n",
    "  Los\\ Angeles(1) & 80$ & 215$ \\\\\n",
    "\\hline\n",
    " Detroit\\ (2) & 100$  & 108$ \\\\\n",
    "\\hline\n",
    " Nueva\\ Orleans (3) & 102$  & 68$  \\\\\n",
    "\\hline\n",
    "\\end{array}\n",
    "\n",
    "**Resolviendo:**\n",
    "\n",
    " **Variables de decisión:**\n",
    "\n",
    "- $x_{ij}$: Cantidad de autos a transportar desde la planta $i$ hasta el centro de distribución $j$.\n",
    "\n",
    "**Función objetivo:**\n",
    "\n",
    "- Minimizar el costo total de transporte, dado por:\n",
    "\n",
    "$$\\text{Min } Z = 0.08 \\sum\\limits_{i=1}^{3}\\sum\\limits_{j=1}^{2}x_{ij}d_{ij}$$\n",
    "\n",
    "- Donde $d_{ij}$ es la distancia en kilómetros entre la planta $i$ y el centro de distribución $j$, según la tabla 1.\n",
    "\n",
    "**Restricciones:**\n",
    "\n",
    "- Capacidad de la planta:\n",
    "$$\\sum\\limits_{j=1}^{2}x_{ij} \\leq c_i ∀\\  i = 1, 2, 3$$\n",
    "\n",
    "- Donde $c_i$ es la capacidad de la planta $i$.\n",
    "\n",
    "- Demanda del centro de distribución:\n",
    "$$\\sum\\limits_{i=1}^{3}x_{ij} \\geq d_j\\  ∀\\  j = 1, 2$$\n",
    "\n",
    "- Donde $d_j$ es la demanda del centro de distribución $j$, según el enunciado.\n",
    "\n",
    "- Restricciones de no negatividad:\n",
    "$$x_{ij} \\geq 0\\ ∀\\ i = 1, 2, 3\\ y\\ j = 1, 2$$\n",
    "\n",
    "- *Además, las variables de decisión deben ser enteras, ya que no se pueden transportar fracciones de autos.*\n",
    "\n",
    "\n",
    "\n"
   ]
  },
  {
   "cell_type": "markdown",
   "metadata": {
    "id": "kT_R6zDTBKeU"
   },
   "source": [
    "Resolviendo con Python y la libreria PuLp:"
   ]
  },
  {
   "cell_type": "code",
   "execution_count": null,
   "metadata": {
    "colab": {
     "base_uri": "https://localhost:8080/"
    },
    "id": "m03TVHPJBPMq",
    "outputId": "188ec345-646e-4143-a149-451c0487034b"
   },
   "outputs": [
    {
     "name": "stdout",
     "output_type": "stream",
     "text": [
      "Estado: Optimal\n",
      "Costo total de transporte: $ 279200.0\n",
      "Detroit_a_Denver = 0.0\n",
      "Detroit_a_Miami = 0.0\n",
      "Los_Angeles_a_Denver = 2300.0\n",
      "Los_Angeles_a_Miami = 0.0\n",
      "New_Orleans_a_Denver = 0.0\n",
      "New_Orleans_a_Miami = 1400.0\n"
     ]
    }
   ],
   "source": [
    "# Importar la biblioteca PuLP\n",
    "import pulp\n",
    "\n",
    "# Crear un problema de minimización\n",
    "problem = pulp.LpProblem(\"Transporte\", pulp.LpMinimize)\n",
    "\n",
    "# Crear las variables de decisión\n",
    "x11 = pulp.LpVariable(\"Los Angeles a Denver\", lowBound=0, cat='Integer')\n",
    "x12 = pulp.LpVariable(\"Los Angeles a Miami\", lowBound=0, cat='Integer')\n",
    "x21 = pulp.LpVariable(\"Detroit a Denver\", lowBound=0, cat='Integer')\n",
    "x22 = pulp.LpVariable(\"Detroit a Miami\", lowBound=0, cat='Integer')\n",
    "x31 = pulp.LpVariable(\"New Orleans a Denver\", lowBound=0, cat='Integer')\n",
    "x32 = pulp.LpVariable(\"New Orleans a Miami\", lowBound=0, cat='Integer')\n",
    "\n",
    "# Definir la función objetivo\n",
    "problem += 0.08 * (1000*x11 + 2690*x12 + 1250*x21 + 1350*x22 + 1275*x31 + 850*x32)\n",
    "\n",
    "# Definir las restricciones de oferta y demanda\n",
    "problem += x11 + x12 <= 2300, \"Oferta Los Angeles\"\n",
    "problem += x21 + x22 <= 1500, \"Oferta Detroit\"\n",
    "problem += x31 + x32 <= 2000, \"Oferta New Orleans\"\n",
    "problem += x11 + x21 + x31 >= 2300, \"Demanda Denver\"\n",
    "problem += x12 + x22 + x32 >= 1400, \"Demanda Miami\"\n",
    "\n",
    "# Resolver el problema\n",
    "problem.solve()\n",
    "\n",
    "# Imprimir el resultado\n",
    "print(\"Estado:\", pulp.LpStatus[problem.status])\n",
    "print(\"Costo total de transporte: $\", round(pulp.value(problem.objective), 2))\n",
    "\n",
    "for variable in problem.variables():\n",
    "    print(variable.name, \"=\", variable.varValue)\n"
   ]
  },
  {
   "cell_type": "markdown",
   "metadata": {
    "id": "TlrsHMAf8fPC"
   },
   "source": [
    "### Ejemplo 2:\n",
    "\n",
    "\n",
    "En este modelo, tenemos tres orígenes ($O_1$, $O_2$ y $O_3$) y cuatro destinos ($D_1$, $D_2$, $D_3$ y $D_4$), y la tabla muestra los costos de transporte desde cada origen a cada destino. El objetivo es determinar la asignación óptima de los productos a los destinos, minimizando el costo total de transporte.\n",
    "\n",
    "\n",
    "\\begin{array}{c|cccc}\n",
    "\\\\\n",
    "\\text{Origen} & D_1 & D_2 & D_3 & D_4 \\\\ \\hline\n",
    "O_1 & 4 & 5 & 2 & 7 \\\\\n",
    "O_2 & 3 & 6 & 8 & 2 \\\\\n",
    "O_3 & 9 & 4 & 1 & 3 \\\\\n",
    "\\end{array}\n",
    "\n",
    "\n",
    "**Resolviendo el modelo:**\n",
    "\n",
    "La función objetivo de este modelo se expresa como:\n",
    "\n",
    "\\begin{equation*}\n",
    "\\text{minimizar } Z = \\sum_{i=1}^{3}\\sum_{j=1}^{4}c_{ij}x_{ij}\n",
    "\\end{equation*}\n",
    "\n",
    "Donde:\n",
    "\n",
    "- $Z$: representa el costo total de transporte.\n",
    "- $c_{ij}$: es el costo de transportar una unidad del origen $i$ al destino $j$.\n",
    "- $x_{ij}$: es la cantidad de unidades transportadas del origen $i$ al destino $j$.\n",
    "\n",
    "Las restricciones de capacidad se expresan como:\n",
    "\n",
    "\\begin{align*}\n",
    "\\sum_{j=1}^{4} x_{1j} &\\leq 60 \\\n",
    "\\sum_{j=1}^{4} x_{2j} &\\leq 70 \\\n",
    "\\sum_{j=1}^{4} x_{3j} &\\leq 80\n",
    "\\end{align*}\n",
    "\n",
    "**Donde:**\n",
    "\n",
    "La restricción $\\sum_{j=1}^{4} x_{ij} \\leq C_i$ indica que la cantidad total de productos que se envían desde el origen $i$ no puede superar su capacidad máxima $C_i$.\n",
    "Las restricciones de demanda se expresan como:\n",
    "\n",
    "\\begin{align*}\n",
    "\\sum_{i=1}^{3} x_{i1} &\\geq 50 \\\n",
    "\\sum_{i=1}^{3} x_{i2} &\\geq 70 \\\n",
    "\\sum_{i=1}^{3} x_{i3} &\\geq 80 \\\n",
    "\\sum_{i=1}^{3} x_{i4} &\\geq 30\n",
    "\\end{align*}\n",
    "\n",
    "**Donde:**\n",
    "\n",
    "- La restricción $\\sum_{i=1}^{3} x_{ij} \\geq D_j$ indica que la cantidad total de productos que se envían al destino $j$ debe ser al menos igual a su demanda $D_j$\n"
   ]
  },
  {
   "cell_type": "markdown",
   "metadata": {
    "id": "9YAMqQocCIAB"
   },
   "source": []
  },
  {
   "cell_type": "code",
   "execution_count": null,
   "metadata": {
    "colab": {
     "base_uri": "https://localhost:8080/"
    },
    "id": "mIiBwnju-rqc",
    "outputId": "731ddd60-21be-4c05-cef5-a42eeb0ac7e9"
   },
   "outputs": [
    {
     "name": "stdout",
     "output_type": "stream",
     "text": [
      "Optimal solution:\n",
      "Ship 1.0 from O1 to D1\n",
      "Ship 1.0 from O2 to D4\n",
      "Ship 1.0 from O3 to D2\n",
      "Ship 1.0 from O3 to D3\n",
      "Total cost: 11.0\n"
     ]
    },
    {
     "name": "stderr",
     "output_type": "stream",
     "text": [
      "/usr/local/lib/python3.9/dist-packages/pulp/pulp.py:1352: UserWarning: Spaces are not permitted in the name. Converted to '_'\n",
      "  warnings.warn(\"Spaces are not permitted in the name. Converted to '_'\")\n"
     ]
    }
   ],
   "source": [
    "import pulp\n",
    "\n",
    "# Define el problema\n",
    "problem = pulp.LpProblem(\"Transportation Problem\", pulp.LpMinimize)\n",
    "\n",
    "# Define las variables de decision\n",
    "origins = ['O1', 'O2', 'O3']\n",
    "destinations = ['D1', 'D2', 'D3', 'D4']\n",
    "x = pulp.LpVariable.dicts('shipment', ((o, d) for o in origins for d in destinations), lowBound=0, cat='Integer')\n",
    "\n",
    "# Define los objetos de las funciones\n",
    "costs = {\n",
    "    ('O1', 'D1'): 4,\n",
    "    ('O1', 'D2'): 5,\n",
    "    ('O1', 'D3'): 2,\n",
    "    ('O1', 'D4'): 7,\n",
    "    ('O2', 'D1'): 3,\n",
    "    ('O2', 'D2'): 6,\n",
    "    ('O2', 'D3'): 8,\n",
    "    ('O2', 'D4'): 2,\n",
    "    ('O3', 'D1'): 9,\n",
    "    ('O3', 'D2'): 4,\n",
    "    ('O3', 'D3'): 1,\n",
    "    ('O3', 'D4'): 3\n",
    "}\n",
    "problem += pulp.lpSum([costs[o, d] * x[o, d] for o in origins for d in destinations])\n",
    "\n",
    "# Define las restricciones\n",
    "for o in origins:\n",
    "    problem += pulp.lpSum([x[o, d] for d in destinations]) == 1\n",
    "for d in destinations:\n",
    "    problem += pulp.lpSum([x[o, d] for o in origins]) == 1\n",
    "\n",
    "# resuelve el problema\n",
    "problem.solve()\n",
    "\n",
    "# imprime la solucion Optima\n",
    "print(\"Optimal solution:\")\n",
    "for o in origins:\n",
    "    for d in destinations:\n",
    "        if x[o, d].value() > 0:\n",
    "            print(f\"Ship {x[o, d].value()} from {o} to {d}\")\n",
    "print(f\"Total cost: {pulp.value(problem.objective)}\")\n"
   ]
  },
  {
   "cell_type": "markdown",
   "metadata": {
    "id": "o0l8mAyQCQy_"
   },
   "source": [
    "***\n",
    "### Ejercicios de la Unidad Tres.\n",
    "***\n",
    "1. En **el ejemplo 1**, suponer que la capacidad de la planta de Detroit es 1300 automóviles (en lugar de 1500). La oferta total (3700 autos) es menor que la demanda total (4300 autos), lo que quiere decir que no será satisfecha parte de la demanda en Denver y Miami. Como la demanda es mayor que la oferta se agrega una fuente *(planta) ficticia* con una capacidad de 200 automóviles (\u0001 3700 \u0004 3500) para **balancear** el modelo de transporte. En este caso, el costo de transporte por unidad, desde la planta ficticia a los dos destinos es cero, porque no existe esa fábrica.\n",
    "El costo de transporte por unidad desde la fuente ficticia a los destinos puede asumir también valores positivos. *Por ejemplo,* para asegurar que Miami recibe toda su demanda, se asignará un costo (penalización) alto de transporte por unidad al elemento cero, desde la fuente ficticia hasta Miami.\n",
    "\n",
    "  - resuelva este modelo usando simplex a mano y luego en Colab, compare los resultados.\n",
    "  - Describa el codigo usado.\n",
    "\n",
    "2. Una tienda produce tres productos diferentes. Los productos se envían a tres almacenes. Los costos de envío por unidad, la oferta y la demanda de cada centro de distribución se muestran en las tablas a continuación. Determine la cantidad de productos que se deben enviar de la fábrica a cada centro de distribución para minimizar los costos de envío.\n",
    "\n",
    "\\begin{array}{|c|c|c|c|c|}\n",
    "\\hline\n",
    "\\textbf{-} & \\textbf{Almacén A} & \\textbf{Almacén B} & \\textbf{Almacén C} & \\textbf{Oferta} \\\\\n",
    "\\hline\n",
    "  \\textbf{Tienda 1} & 10$ & 8$ & 7$ & 200 \\\\\n",
    "\\hline\n",
    " \\textbf{Tienda 2} & 5$ & 12$  & 6$ & 300 \\\\\n",
    "\\hline\n",
    " \\textbf{Tienda 3} & 4$ & 7$ & 11$ & 400 \\\\\n",
    "\\hline\n",
    " \\textbf{Demanda} & 150 & 250 & 200 & \\\\\n",
    "\\hline\n",
    "\\end{array}\n",
    "\n",
    "\n",
    "3. Una empresa tiene tres tiendas en ciudades diferentes y dos almacenes en otras ciudades diferentes. Cada tienda oferta productos diferentes. Los costos de envío por unidad, la capacidad de producción y la demanda de cada almacén se muestran en las tablas a continuación. Determine la cantidad de productos que se deben enviar a los almacenes para satisfacer la demanda  y minimizar los costos de envío.\n",
    "\n",
    "\\begin{array}{|c|c|c|c|c|c|}\n",
    "\\hline\n",
    "\\textbf{-} & \\textbf{Almacén A} & \\textbf{Almacén B} & \\textbf{Almacén C} & \\textbf{Almacén D} & \\textbf{Oferta} \\\\\n",
    "\\hline\n",
    "  \\textbf{Tienda 1} & 4$ & 6$ & 9$ & 5$ & 300 \\\\\n",
    "\\hline\n",
    " \\textbf{Tienda 2} & 7$ & 3$  & 5$ & 8$ & 400 \\\\\n",
    "\\hline\n",
    " \\textbf{Tienda 3} & 2$ & 5$ & 11$ & 7$ & 500 \\\\\n",
    "\\hline\n",
    " \\textbf{Demanda} & 400 & 400 & 300 & 300 & \\\\\n",
    "\\hline\n",
    "\\end{array}\n",
    "\n",
    "4. Una empresa tiene tres tiendas y cuatro almacenes. Los costos de envío por unidad, la capacidad de producción y la demanda de cada almacén se muestran en las tablas a continuación. Determine la cantidad de productos que se deben enviar de las fábricas a los almacenes para satisfacer la demanda de cada almacén y minimizar los costos de envío.\n",
    "\n",
    "\\begin{array}{|c|c|c|c|c|c|c|}\n",
    "\\hline\n",
    "\\textbf{-} & \\textbf{Almacén A} & \\textbf{Almacén B} & \\textbf{Almacén C} & \\textbf{Almacén D} & \\textbf{Almacén E} & \\textbf{Oferta} \\\\\n",
    "\\hline\n",
    "  \\textbf{Tienda 1} & 6$ & 8$ & 10$ & 9$ & 7$ & 500 \\\\\n",
    "\\hline\n",
    " \\textbf{Tienda 2} & 5$ & 11$  & 7$ & 4$ & 3$ & 400 \\\\\n",
    "\\hline\n",
    " \\textbf{Tienda 3} & 12$ & 9$ & 3$ & 8$ & 6$ & 300 \\\\\n",
    "\\hline\n",
    " \\textbf{Demanda} & 300 & 400 & 400 & 200 & 400 & \\\\\n",
    "\\hline\n",
    "\\end{array}\n",
    "\n",
    "        1. Formule el modelo de programación lineal teorico y algebraico.\n",
    "        2. Formule este problema como un problema de transporte mediante la construcción de la tabla de parámetros apropiada.\n",
    "        3. Obtenga una solución óptima para este problema.\n",
    "        4. realice el ejercicio en colab y dinamicelo diferemtes valores\n",
    "\n",
    "\\\\\n",
    "\n",
    "5. Tres ciudades se abastecen de electricidad de tres centrales eléctricas con capacidades de 25, 40 y 30 megawatts (MW). Las demandas máximas en las tres ciudades se estiman en 30, 35 y 25 MW. El precio por MW en las tres ciudades se muestra en la tabla\n",
    "\n",
    "\n",
    "\\begin{array}{c|cccc}\n",
    "\\ P_n & Ciudad\\ C_n\n",
    "\\\\\n",
    "\\text{Planta} & C_1 & C_2 & C_3\\\\ \\hline\n",
    "P_1 & 600 & 700 & 400\\\\\n",
    "P_2 & 320 & 300 & 350\\\\\n",
    "P_3 & 500 & 480 & 450\\\\\n",
    "\\end{array}\n",
    "\n",
    "\n",
    "Durante el mes de agosto hay un aumento de 20% en la demanda de cada ciudad, que se puede satisfacer comprando electricidad a otra red, a una tasa elevada de $1000 por MW. Sin embargo, la red no está conectada con la ciudad 3. La empresa eléctrica desea determinar el plan más económico para distribuir y comprar la energía adicional.\n",
    "\n",
    "    1. Formule el problema como un modelo de transporte. en COlab usando latex.\n",
    "    2. Resuelva el problema con COLAB y determine un plan óptimo de distribución para la empresa eléctrica.\n",
    "    3. Determine el costo de la electricidad adicional comprada por cada una de las tres ciudades.\n",
    "\n",
    "\n",
    "6. La Compañía ABC tiene tres plantas de producción de Productos para bebés que deben distribuirse a cuatro centros de distribución. Las plantas 1, 2 y 3 producen 12, 17 y 11 cargamentos por mes, respectivamente. Cada centro de distribución necesita recibir 10 cargamentos por mes. En la siguiente tabla se da la distancia de cada planta a su respectivo centro de distribución:\n",
    "\n",
    "\\begin{array}{cccc}\n",
    "&CEDI\\ 1&CEDI\\ 2&CEDI\\ 3&CEDI\\ 4 \\\\ \\hline\n",
    "planta\\ 1&800&13000&400&700 \\\\ \\hline\n",
    "planta\\ 2&1100&14000&600&1000 \\\\ \\hline\n",
    "planta\\ 3&600&1200&800&900 \\\\ \\hline\n",
    "\\end{array}\n",
    "\n",
    "- El costo del flete de cada embarque es de $100 más 0.50 centavos por milla.\n",
    "\n",
    "¿Cuánto se debería embarcar a cada centro de distribución para minimizar el costo total del envío?\n",
    "\n",
    "    1. Formule el problema como uno de transporte mediante la elaboración de una tabla de parámetros apropiada.\n",
    "    2. Trace la representación de red de este problema.\n",
    "    3. Obtenga una solución óptima.\n",
    "\n",
    "\n",
    "7. Tom desearía comprar exactamente 3 litros de cerveza casera hoy y al menos 4 litros mañana. Dick quiere vender un máximo de 5 litros en total a un precio de \\$3.00 por litro hoy y de \\$2.70 por litro mañana. Harry está dispuesto a vender un máximo de 4 litros en total, a un precio de \\$2.90 por litro hoy y \\$2.80 por litro mañana.\n",
    "\n",
    "  Tom quiere saber cuánto debe comprar a cada uno para minimizar su costo y a la vez cumplir con los requisitos mínimos para satisfacer su sed.\n",
    "\n",
    "        1. Formule el modelo de programación lineal teorico y algebraico.\n",
    "        2. Formule este problema como un problema de transporte mediante la construcción de la tabla de parámetros apropiada.\n",
    "        3. Obtenga una solución óptima para este problema. \\\\\n",
    "\n",
    "\n",
    "8. La corporación Versatech producirá tres productos nuevos. En este momento, cinco de sus plantas tienen exceso de capacidad de producción. El costo unitario respectivo de fabricación del primer producto será de 41usd, 39usd, 42usd, 38usd y 39usd en las plantas 1, 2, 3, 4 y 5, El costo unitario de fabricación del segundo producto será de 55usd, 51usd, 56usd, 52usd y 53usd en las plantas respectivas 1, 2, 3, 4 y 5; y para el tercer producto será de 48usd, 45usd y 50usd en las plantas respectivas 1, 2 y 3, pero las plantas 4 y 5 no pueden fabricar este producto. Los pronósticos de ventas indican que la producción diaria debe ser de 700, 1 000 y 900 unidades de los productos 1, 2 y 3, respectivamente.\n",
    "\n",
    "9. Las plantas 1, 2, 3, 4 y 5 tienen capacidades para producir 400, 600, 400, 600 y 1 000 unidades diarias, sin importar el producto o combinación de productos. Suponga que cualquier planta que tiene capacidad y posibilidad de fabricarlos podrá producir cualquier cantidad de productos y con cualquier combinación.\n",
    "La administración desea asignar los nuevos productos a las plantas con el mínimo costo total de fabricación.\n",
    "\n",
    "    1. Formule este problema como un problema de transporte mediante la construcción de la tabla de parámetros apropiada.\n",
    "    2. Obtenga una solución óptima para este problema.\n",
    "    3. realice este ejercicio en el entorno de google colab en latex y codigo\n",
    "\n",
    "\n",
    "9. * la empresa XYZ produce 2 productos $X_1$ y $X_2$ en dos plantas diferentes $Pl_1$ y $Pl_2$ cada uno de los productos necesita de diferentes Materias primas para ser elaborado segun la siguiente tabla:\n",
    "\n",
    "\n",
    "| |Mp1|Mp2|Mp3|Tiempo de Prod|\n",
    "|:---|:---:|:---:|:---:|:---:|\n",
    "|$X_1$|2|3|1|$4\\frac{min}{u}$|\n",
    "|$X_2$|3|1|0|$3\\frac{min}{u}$|\n",
    "\n",
    "La empresa cuenta son 5 proveedores\n",
    "\n",
    "||$Mp_1$|$Mp_2$|$Mp_3$|\n",
    "|:---|:---:|:---:|:---:|\n",
    "|$S_1$|1000|800|1000|\n",
    "|$S_2$|4000|2000|-|\n",
    "|$S_3$|-|9000|2000|\n",
    "|$S_4$|5000|3000|900|\n",
    "|$S_5$|2000|4000|1000|\n",
    "\n",
    "costos por ser enviadas las unidades (u/usd)\n",
    "\n",
    "||$CtMp_1$|$CtMp_2$|$CtMp_3$|\n",
    "|:---|:---:|:---:|:---:|\n",
    "|$S_1$|2|2|3|\n",
    "|$S_2$|2|2,5|-|\n",
    "|$S_3$|-|3|1|\n",
    "|$S_4$|4|2|4|\n",
    "|$S_5$|2|2,2|2|\n",
    "\n",
    "Costo fijo por proveedor:\n",
    "\n",
    "||Costo fijo|\n",
    "|:---|:---:|\n",
    "|$S_1$|90 usd|\n",
    "|$S_2$|110 usd|\n",
    "|$S_3$|85 usd|\n",
    "|$S_4$|97 usd|\n",
    "|$S_5$|60 usd|\n",
    "\n",
    "||Costo variable|\n",
    "|:---|:---:|\n",
    "|$S_1$|0,5 usd|\n",
    "|$S_2$|0,8 usd|\n",
    "|$S_3$|0,7 usd|\n",
    "|$S_4$|0,2 usd|\n",
    "|$S_5$|0,6 usd|\n",
    "\n",
    "Distancia de las plantas a los prioveedores\n",
    "\n",
    "||$Plp_1$|$Plp_2$|\n",
    "|:---|:---:|:---:|\n",
    "|$S_1$|70|92|\n",
    "|$S_2$|67|92|\n",
    "|$S_3$|85|83|\n",
    "|$S_4$|70|72|\n",
    "|$S_5$|90|94|\n",
    "\n",
    "1. encuentre el modelo optimo para reducir lso costos y suplir con la demanda\n",
    "2. debe nivelar el sistema por medio del hallazgo de las unidades de demanda de acuerdo con las capacidades del sistema\n",
    "3. realice este ejercicio en google colab y modele su respuesta\n",
    "\n",
    "```\n",
    "1. encuentre el modelo optimo que minimice el costo del sistema\n",
    "2. nivele el sistema con base en la oferta\n",
    "3. realice este ejercicio en google colab\n",
    "```\n",
    "\n",
    "\n"
   ]
  },
  {
   "cell_type": "markdown",
   "metadata": {
    "id": "dKPgxM2VVl16"
   },
   "source": [
    "### Ejercicio numero 6 del libro hamndy taha - investigacion de operaciones capituo 5\n",
    "\n",
    "Tres ciudades abastecen de electricidad de ytres centrales electricas con capacidades de 25, 40 y 30 megawatts. las demandas maximas en las tres ciudades se estiman en 30, 35 y 25 megawatts, el precio por megawatts en las tres ciudades se muestra en la siguiente tabla.\n",
    "\n",
    "- Tabla uno.\n",
    "\n",
    "|||Ciudad||\n",
    "|:-:|:-:|:-:|:-:|\n",
    "|Planta|1|2|3|\n",
    "|1|600|700|400|\n",
    "|2|320|300|350|\n",
    "|3|500|480|450|\n",
    "\n",
    "- Durante el mes de Agosto hay un aumento del 20% en la demanda de cada ciudad, que se puede satisfacer comprando electricidad a otra Red, a una tasa elevada de 100usd/watts, sin embargo la red no esta conectada con la ciudad 3, la empresa electrica desea determinar el plan mas econominco para distribuir y comprar la energia adicional.\n",
    "\n",
    "1. formule el problema como un modelo de transporte\n",
    "2. resuelva el problema y determine un plan optimo de distribucion para la empresa\n",
    "3. deterine el costo de la electricidad comprada por cada una de las ciudades.\n",
    "\n",
    "***\n",
    "**RESOLVEMOS**\n",
    "- Tabla de capacidad vs demanda\n",
    "\n",
    "|||Ciudad|||\n",
    "|:-:|:-:|:-:|:-:|:-:|\n",
    "|Planta|1|2|3|Capacidad MWts|\n",
    "|1|600|700|400|30|\n",
    "|2|320|300|350|35|\n",
    "|3|500|480|450|25|\n",
    "|Demanda Mwts|25|40|30|desnivelado|||\n",
    "\n",
    "Tabla 2 - nivelamos el sistema con un agente ficticio\n",
    "\n",
    "|||Ciudad||||\n",
    "|:-:|:-:|:-:|:-:|:-:||\n",
    "|Planta|1|2|3|4(fict)|Capacidad MWts|\n",
    "|1|600|700|400|M|30|\n",
    "|2|320|300|350|M|35|\n",
    "|3|500|480|450|M|25|\n",
    "|Demanda Mwts|25|40|30|5|NIvelado|\n",
    "\n",
    "tabla 3 - modelo teorico\n",
    "\n",
    "|||Ciudad $j$||||\n",
    "|:-:|:-:|:-:|:-:|:-:||\n",
    "|Planta $i$|1|2|3|4(fict)|Capacidad MWts|\n",
    "|1|$X_{11}$*$C_{11}$|$X_{12}$$C_{12}$|$X_{13}$$C_{13}$|$X_{14}$$C_{14}$|$C_1$|\n",
    "|2|$X_{21}$$C_{21}$|$X_{22}$$C_{22}$|$X_{23}$$C_{23}$|$X_{24}$$C_{24}$|$C_2$|\n",
    "|3|$X_{31}$$C_{31}$|$X_{32}$$C_{32}$|$X_{33}$$C_{33}$|$X_{34}$$C_{34}$|$C_3$|\n",
    "|Demanda Mwts|$D_{1}$|$D_{2}$|$D_{3}$|$D_{4}$|NIvelado|\n",
    "\n",
    "\n",
    "1. Identificacion de variables:\n",
    "- $P_i$ = Capacidad de plantas $i$\n",
    "- $D_j$ = Demanda de energia de las Ciudades $j$\n",
    "- $C_{ij}$ = Costo de transferencia de energia de la planta $i$ hasta la ciudad $j$\n",
    "- $X_{ij}$ =  Cantidad de Mwts de energia de la planta $i$ a la ciudad $j$\n",
    "\n",
    "2. Planteamos el modelo Teorico:\n",
    "- F.O = Minimizacion de los costos de trasnferencia entre las plantas $i$ y las ciudades $j$\n",
    "\n",
    "$$Z_{min} = \\sum_{i = 1}^{i=n}\\sum_{j = 1}^{j=m} (C_{ij}*X_{ij})$$\n",
    "\n",
    "- Sujeto a las siguientes restricciones:\n",
    "\n",
    "1. restriccion de capacidad\n",
    "$$\n",
    "1.\\ \\sum_{i}^{n}\\sum_{j}^{m}X_{ij} ≤ P_j \\ ∀ i={1,2,3}; j={1} \\\\\n",
    "2.\\ \\sum_{i}^{n}\\sum_{j}^{m}X_{ij} ≤ P_j \\ ∀ i={1,2,3}; j={2} \\\\\n",
    "3.\\ \\sum_{i}^{n}\\sum_{j}^{m}X_{ij} ≤ P_j \\ ∀ i={1,2,3}; j={3} \\\\\n",
    "4.\\ \\sum_{i}^{n}\\sum_{j}^{m}X_{ij} ≤ P_j \\ ∀ i={1,2,3}; j={4} \\\\\n",
    "$$\n",
    "2. restriccion de Demanda\n",
    "$$\n",
    "1.\\  \\sum_{i}^{n}\\sum_{j}^{m}X_{ij} \\le D_i \\ ∀ i={1}; j={1,2,3,4}\\\\\n",
    "2.\\  \\sum_{i}^{n}\\sum_{j}^{m}X_{ij} \\le D_i \\ ∀ i={2}; j={1,2,3,4}\\\\\n",
    "3.\\  \\sum_{i}^{n}\\sum_{j}^{m}X_{ij} \\le D_i \\ ∀ i={3}; j={1,2,3,4}\\\\\n",
    "$$\n",
    "\n",
    "3. restriccion de no negatividad:\n",
    "\n",
    "$$\n",
    "1. X_{ij} \\ge 0\n",
    "$$\n",
    "\n",
    "***\n",
    "### Modelo Algebraico\n",
    "\n",
    "|||Ciudad $j$||||\n",
    "|:-:|:-:|:-:|:-:|:-:||\n",
    "|Planta $i$|1|2|3|4(fict)|Demanda MWts|\n",
    "|1|$X_{11}$*600|$X_{12}$700|$X_{13}$400|$X_{14}$M|30|\n",
    "|2|$X_{21}$320|$X_{22}$300|$X_{23}$350|$X_{24}$M|35|\n",
    "|3|$X_{31}$500|$X_{32}$480|$X_{33}$450|$X_{34}$M|25|\n",
    "|Capacidad Mwts|25|40|30|5|NIvelado|\n",
    "\n",
    "**Formulamos la Funcion objetivo**\n",
    "\n",
    "$$\n",
    "Z_{min} = X_{11}*600 + X_{12}*700+ X_{13}*400 + X_{14}*M + X_{21}*320 + X_{22}*300 + X_{23}*350+ X_{24}* M + X_{31}*500 + X_{32}*480+ X_{33}* 450 + X_{34}* M\n",
    "$$\n",
    "\n",
    "sa:\n",
    "\n",
    "$$\n",
    "1. X_{11} + X_{12}+ X_{13}+X_{14} \\le 30 \\\\\n",
    "2. X_{21} + X_{22}+ X_{23}+X_{24} \\le 35 \\\\\n",
    "3. X_{31} + X_{32}+ X_{33}+X_{34} \\le 25 \\\\\n",
    "4. X_{11}+X_{21}+X_{31} \\le 25 \\\\\n",
    "5. X_{12}+X_{22}+X_{32} \\le 40 \\\\\n",
    "6. X_{13}+X_{23}+X_{33} \\le 30 \\\\\n",
    "7. X_{14}+X_{24}+X_{34} \\le 5\\\\\n",
    "8. X_{ij} \\ge 0\\\\\n",
    "$$\n",
    "***\n",
    "Resolvemos usando el metodo de la esquina nor oeste\n",
    "***\n",
    "\n",
    "||||ciudad|||\n",
    "|:-:|:-:|:-:|:-:|:-:|:-:|\n",
    "|Planta|1|2|3|4|Demanda|\n",
    "|1|600|700|400|M||\n",
    "||||||30|\n",
    "|2|320|300|350|M||\n",
    "||||||35|\n",
    "|3|500|480|450|M||\n",
    "||||||25|\n",
    "|Capacidad|25|40|30|5||"
   ]
  },
  {
   "cell_type": "markdown",
   "metadata": {
    "id": "sA4DbZnKGZEq"
   },
   "source": [
    "***\n",
    "#### Solucion a los ejercicios:\n",
    "***"
   ]
  },
  {
   "cell_type": "markdown",
   "metadata": {
    "id": "WPS3wZbJGq5n"
   },
   "source": [
    "##### Ejercicio numero uno:"
   ]
  },
  {
   "cell_type": "code",
   "execution_count": null,
   "metadata": {
    "colab": {
     "base_uri": "https://localhost:8080/",
     "height": 232
    },
    "id": "jbjwRwgYGyeA",
    "outputId": "0e739b94-4da1-496b-dbf3-5c3fdb193593"
   },
   "outputs": [
    {
     "ename": "NameError",
     "evalue": "ignored",
     "output_type": "error",
     "traceback": [
      "\u001b[0;31m---------------------------------------------------------------------------\u001b[0m",
      "\u001b[0;31mNameError\u001b[0m                                 Traceback (most recent call last)",
      "\u001b[0;32m<ipython-input-6-290f7e269405>\u001b[0m in \u001b[0;36m<cell line: 16>\u001b[0;34m()\u001b[0m\n\u001b[1;32m     14\u001b[0m \u001b[0my1\u001b[0m \u001b[0;34m=\u001b[0m \u001b[0mpulp\u001b[0m\u001b[0;34m.\u001b[0m\u001b[0mLpVariable\u001b[0m\u001b[0;34m(\u001b[0m\u001b[0;34m\"Fuente ficticia a Denver\"\u001b[0m\u001b[0;34m,\u001b[0m \u001b[0mlowBound\u001b[0m\u001b[0;34m=\u001b[0m\u001b[0;36m0\u001b[0m\u001b[0;34m,\u001b[0m \u001b[0mcat\u001b[0m\u001b[0;34m=\u001b[0m\u001b[0;34m'Integer'\u001b[0m\u001b[0;34m)\u001b[0m\u001b[0;34m\u001b[0m\u001b[0;34m\u001b[0m\u001b[0m\n\u001b[1;32m     15\u001b[0m \u001b[0my2\u001b[0m \u001b[0;34m=\u001b[0m \u001b[0mpulp\u001b[0m\u001b[0;34m.\u001b[0m\u001b[0mLpVariable\u001b[0m\u001b[0;34m(\u001b[0m\u001b[0;34m\"Fuente ficticia a Miami\"\u001b[0m\u001b[0;34m,\u001b[0m \u001b[0mlowBound\u001b[0m\u001b[0;34m=\u001b[0m\u001b[0;36m0\u001b[0m\u001b[0;34m,\u001b[0m \u001b[0mcat\u001b[0m\u001b[0;34m=\u001b[0m\u001b[0;34m'Integer'\u001b[0m\u001b[0;34m)\u001b[0m\u001b[0;34m\u001b[0m\u001b[0;34m\u001b[0m\u001b[0m\n\u001b[0;32m---> 16\u001b[0;31m \u001b[0mf\u001b[0m\u001b[0;34m\u001b[0m\u001b[0;34m\u001b[0m\u001b[0m\n\u001b[0m\u001b[1;32m     17\u001b[0m \u001b[0;34m\u001b[0m\u001b[0m\n\u001b[1;32m     18\u001b[0m \u001b[0;31m# Definir la función objetivo\u001b[0m\u001b[0;34m\u001b[0m\u001b[0;34m\u001b[0m\u001b[0m\n",
      "\u001b[0;31mNameError\u001b[0m: name 'f' is not defined"
     ]
    }
   ],
   "source": [
    "# Importar la biblioteca PuLP\n",
    "import pulp\n",
    "\n",
    "# Crear un problema de minimización\n",
    "problem = pulp.LpProblem(\"Transporte\", pulp.LpMinimize)\n",
    "\n",
    "# Crear las variables de decisión\n",
    "x11 = pulp.LpVariable(\"Los Angeles a Denver\", lowBound=0, cat='Integer')\n",
    "x12 = pulp.LpVariable(\"Los Angeles a Miami\", lowBound=0, cat='Integer')\n",
    "x21 = pulp.LpVariable(\"Detroit a Denver\", lowBound=0, cat='Integer')\n",
    "x22 = pulp.LpVariable(\"Detroit a Miami\", lowBound=0, cat='Integer')\n",
    "x31 = pulp.LpVariable(\"New Orleans a Denver\", lowBound=0, cat='Integer')\n",
    "x32 = pulp.LpVariable(\"New Orleans a Miami\", lowBound=0, cat='Integer')\n",
    "y1 = pulp.LpVariable(\"Fuente ficticia a Denver\", lowBound=0, cat='Integer')\n",
    "y2 = pulp.LpVariable(\"Fuente ficticia a Miami\", lowBound=0, cat='Integer')\n",
    "f\n",
    "\n",
    "# Definir la función objetivo\n",
    "problem +=(80*x11 + 215*x12 + 100*x21 + 108*x22 + 102*x31 + 68*x32 + 0*y1 + 0*y2)\n",
    "\n",
    "# Definir las restricciones de oferta y demanda\n",
    "problem += x11 + x12 <= 1000, \"Oferta Los Angeles\"\n",
    "problem += x21 + x22 <= 1300, \"Oferta Detroit\"\n",
    "problem += x31 + x32 <= 1200, \"Oferta New Orleans\"\n",
    "problem += y1 + y2 <= 200, \"Oferta Fuente Ficticia\"\n",
    "problem += x11 + x21 + x31+ y1 == 2300, \"Demanda Denver\"\n",
    "problem += x12 + x22 + x32 + y2 == 1400, \"Demanda Miami\"\n",
    "\n",
    "# Resolver el problema utilizando el método simplex\n",
    "problem.solve()\n",
    "\n",
    "# Imprimir el resultado\n",
    "print(\"Estado:\", pulp.LpStatus[problem.status])\n",
    "print(\"Costo total de transporte: $\", round(pulp.value(problem.objective),2))\n",
    "\n",
    "for variable in problem.variables():\n",
    "    print(variable.name, \"=\", variable.varValue)"
   ]
  },
  {
   "cell_type": "markdown",
   "metadata": {
    "id": "e3AYghqLHAMs"
   },
   "source": [
    "##### Ejercicio Numero Dos"
   ]
  },
  {
   "cell_type": "code",
   "execution_count": null,
   "metadata": {
    "colab": {
     "base_uri": "https://localhost:8080/"
    },
    "id": "F30lYFlnHFB3",
    "outputId": "864ad6fe-12cc-4b86-997b-28e1c37a8d17"
   },
   "outputs": [
    {
     "name": "stdout",
     "output_type": "stream",
     "text": [
      "          - Almacén A Almacén B Almacén C Oferta\n",
      "0  Tienda 1       10$        8$        7$    200\n",
      "1  Tienda 2        5$       12$        6$    300\n",
      "2  Tienda 3        4$        7$       11$    400\n",
      "3   Demanda       150       250       200      -\n"
     ]
    }
   ],
   "source": [
    "import pandas as pd\n",
    "\n",
    "# Definir los datos como un diccionario\n",
    "datos = {'-': ['Tienda 1', 'Tienda 2', 'Tienda 3', 'Demanda'],\n",
    "         'Almacén A': ['10$', '5$', '4$', '150'],\n",
    "         'Almacén B': ['8$', '12$', '7$', '250'],\n",
    "         'Almacén C': ['7$', '6$', '11$', '200'],\n",
    "         'Oferta': ['200', '300', '400', '-']}\n",
    "\n",
    "# Convertir el diccionario a un objeto DataFrame de pandas\n",
    "tabla = pd.DataFrame(datos)\n",
    "\n",
    "\n",
    "# Imprimir la tabla\n",
    "print(tabla)"
   ]
  },
  {
   "cell_type": "code",
   "execution_count": null,
   "metadata": {
    "colab": {
     "base_uri": "https://localhost:8080/",
     "height": 277
    },
    "id": "PJk-82_6HNjt",
    "outputId": "69585aca-894b-4ee6-c833-1615e279de46"
   },
   "outputs": [
    {
     "data": {
      "image/svg+xml": [
       "<?xml version=\"1.0\" encoding=\"UTF-8\" standalone=\"no\"?>\n",
       "<!DOCTYPE svg PUBLIC \"-//W3C//DTD SVG 1.1//EN\"\n",
       " \"http://www.w3.org/Graphics/SVG/1.1/DTD/svg11.dtd\">\n",
       "<!-- Generated by graphviz version 2.43.0 (0)\n",
       " -->\n",
       "<!-- Title: %3 Pages: 1 -->\n",
       "<svg width=\"307pt\" height=\"192pt\"\n",
       " viewBox=\"0.00 0.00 306.70 191.57\" xmlns=\"http://www.w3.org/2000/svg\" xmlns:xlink=\"http://www.w3.org/1999/xlink\">\n",
       "<g id=\"graph0\" class=\"graph\" transform=\"scale(1 1) rotate(0) translate(4 187.57)\">\n",
       "<title>%3</title>\n",
       "<polygon fill=\"white\" stroke=\"transparent\" points=\"-4,4 -4,-187.57 302.7,-187.57 302.7,4 -4,4\"/>\n",
       "<!-- Tienda 1 -->\n",
       "<g id=\"node1\" class=\"node\">\n",
       "<title>Tienda 1</title>\n",
       "<ellipse fill=\"#add8e6\" stroke=\"black\" cx=\"61.5\" cy=\"-152.37\" rx=\"31.4\" ry=\"31.4\"/>\n",
       "<text text-anchor=\"middle\" x=\"61.5\" y=\"-149.87\" font-family=\"Times,serif\" font-size=\"10.00\">Tienda 1</text>\n",
       "</g>\n",
       "<!-- Almacen A -->\n",
       "<g id=\"node4\" class=\"node\">\n",
       "<title>Almacen A</title>\n",
       "<ellipse fill=\"#add8e6\" stroke=\"black\" cx=\"128.5\" cy=\"-37.09\" rx=\"37.17\" ry=\"37.17\"/>\n",
       "<text text-anchor=\"middle\" x=\"128.5\" y=\"-34.59\" font-family=\"Times,serif\" font-size=\"10.00\">Almacen A</text>\n",
       "</g>\n",
       "<!-- Tienda 1&#45;&gt;Almacen A -->\n",
       "<g id=\"edge1\" class=\"edge\">\n",
       "<title>Tienda 1&#45;&gt;Almacen A</title>\n",
       "<path fill=\"none\" stroke=\"black\" d=\"M77.04,-125.1C85.24,-111.22 95.5,-93.89 104.68,-78.35\"/>\n",
       "<polygon fill=\"black\" stroke=\"black\" points=\"107.87,-79.84 109.95,-69.45 101.84,-76.28 107.87,-79.84\"/>\n",
       "<text text-anchor=\"middle\" x=\"103.5\" y=\"-95.17\" font-family=\"Times,serif\" font-size=\"10.00\">10$</text>\n",
       "</g>\n",
       "<!-- Almacen B -->\n",
       "<g id=\"node5\" class=\"node\">\n",
       "<title>Almacen B</title>\n",
       "<ellipse fill=\"#add8e6\" stroke=\"black\" cx=\"36.5\" cy=\"-37.09\" rx=\"36.49\" ry=\"36.49\"/>\n",
       "<text text-anchor=\"middle\" x=\"36.5\" y=\"-34.59\" font-family=\"Times,serif\" font-size=\"10.00\">Almacen B</text>\n",
       "</g>\n",
       "<!-- Tienda 1&#45;&gt;Almacen B -->\n",
       "<g id=\"edge2\" class=\"edge\">\n",
       "<title>Tienda 1&#45;&gt;Almacen B</title>\n",
       "<path fill=\"none\" stroke=\"black\" d=\"M36.84,-132.38C28.4,-124.39 19.97,-114.34 15.5,-103.17 12.29,-95.17 12.59,-86.47 14.67,-78.12\"/>\n",
       "<polygon fill=\"black\" stroke=\"black\" points=\"18.02,-79.12 17.82,-68.53 11.37,-76.94 18.02,-79.12\"/>\n",
       "<text text-anchor=\"middle\" x=\"21\" y=\"-95.17\" font-family=\"Times,serif\" font-size=\"10.00\">8$</text>\n",
       "</g>\n",
       "<!-- Almacen C -->\n",
       "<g id=\"node6\" class=\"node\">\n",
       "<title>Almacen C</title>\n",
       "<ellipse fill=\"#add8e6\" stroke=\"black\" cx=\"228.5\" cy=\"-37.09\" rx=\"36.49\" ry=\"36.49\"/>\n",
       "<text text-anchor=\"middle\" x=\"228.5\" y=\"-34.59\" font-family=\"Times,serif\" font-size=\"10.00\">Almacen C</text>\n",
       "</g>\n",
       "<!-- Tienda 1&#45;&gt;Almacen C -->\n",
       "<g id=\"edge3\" class=\"edge\">\n",
       "<title>Tienda 1&#45;&gt;Almacen C</title>\n",
       "<path fill=\"none\" stroke=\"black\" d=\"M85.03,-131.2C90.21,-127.46 95.85,-123.88 101.5,-121.17 130.85,-107.09 144.82,-120.31 172.5,-103.17 183.8,-96.18 194.02,-86.16 202.54,-76.07\"/>\n",
       "<polygon fill=\"black\" stroke=\"black\" points=\"205.47,-78.01 209,-68.02 200.02,-73.63 205.47,-78.01\"/>\n",
       "<text text-anchor=\"middle\" x=\"192\" y=\"-95.17\" font-family=\"Times,serif\" font-size=\"10.00\">7$</text>\n",
       "</g>\n",
       "<!-- Tienda 2 -->\n",
       "<g id=\"node2\" class=\"node\">\n",
       "<title>Tienda 2</title>\n",
       "<ellipse fill=\"#add8e6\" stroke=\"black\" cx=\"267.5\" cy=\"-152.37\" rx=\"31.4\" ry=\"31.4\"/>\n",
       "<text text-anchor=\"middle\" x=\"267.5\" y=\"-149.87\" font-family=\"Times,serif\" font-size=\"10.00\">Tienda 2</text>\n",
       "</g>\n",
       "<!-- Tienda 2&#45;&gt;Almacen A -->\n",
       "<g id=\"edge4\" class=\"edge\">\n",
       "<title>Tienda 2&#45;&gt;Almacen A</title>\n",
       "<path fill=\"none\" stroke=\"black\" d=\"M255.86,-123.16C250.18,-112.25 242.41,-100.42 232.5,-92.17 214.67,-77.32 204.22,-84.6 183.5,-74.17 177.94,-71.37 172.26,-68.13 166.76,-64.77\"/>\n",
       "<polygon fill=\"black\" stroke=\"black\" points=\"168.62,-61.8 158.3,-59.41 164.88,-67.72 168.62,-61.8\"/>\n",
       "<text text-anchor=\"middle\" x=\"248\" y=\"-95.17\" font-family=\"Times,serif\" font-size=\"10.00\">5$</text>\n",
       "</g>\n",
       "<!-- Tienda 2&#45;&gt;Almacen B -->\n",
       "<g id=\"edge5\" class=\"edge\">\n",
       "<title>Tienda 2&#45;&gt;Almacen B</title>\n",
       "<path fill=\"none\" stroke=\"black\" d=\"M238.21,-140.29C214.69,-131.11 181,-117.32 152.5,-103.17 143.76,-98.83 142.36,-96.26 133.5,-92.17 111.67,-82.11 103.57,-85.74 82.5,-74.17 78.99,-72.25 75.48,-70.06 72.04,-67.74\"/>\n",
       "<polygon fill=\"black\" stroke=\"black\" points=\"73.87,-64.74 63.7,-61.76 69.79,-70.43 73.87,-64.74\"/>\n",
       "<text text-anchor=\"middle\" x=\"160.5\" y=\"-95.17\" font-family=\"Times,serif\" font-size=\"10.00\">12$</text>\n",
       "</g>\n",
       "<!-- Tienda 2&#45;&gt;Almacen C -->\n",
       "<g id=\"edge6\" class=\"edge\">\n",
       "<title>Tienda 2&#45;&gt;Almacen C</title>\n",
       "<path fill=\"none\" stroke=\"black\" d=\"M279.67,-123.37C282.36,-113.31 283.41,-102.02 279.5,-92.17 276,-83.36 270.31,-75.16 263.98,-67.93\"/>\n",
       "<polygon fill=\"black\" stroke=\"black\" points=\"266.35,-65.34 256.92,-60.5 261.27,-70.16 266.35,-65.34\"/>\n",
       "<text text-anchor=\"middle\" x=\"287\" y=\"-95.17\" font-family=\"Times,serif\" font-size=\"10.00\">6$</text>\n",
       "</g>\n",
       "<!-- Tienda 3 -->\n",
       "<g id=\"node3\" class=\"node\">\n",
       "<title>Tienda 3</title>\n",
       "<ellipse fill=\"#add8e6\" stroke=\"black\" cx=\"141.5\" cy=\"-152.37\" rx=\"31.4\" ry=\"31.4\"/>\n",
       "<text text-anchor=\"middle\" x=\"141.5\" y=\"-149.87\" font-family=\"Times,serif\" font-size=\"10.00\">Tienda 3</text>\n",
       "</g>\n",
       "<!-- Tienda 3&#45;&gt;Almacen A -->\n",
       "<g id=\"edge7\" class=\"edge\">\n",
       "<title>Tienda 3&#45;&gt;Almacen A</title>\n",
       "<path fill=\"none\" stroke=\"black\" d=\"M128.61,-123.87C126.08,-117.23 123.81,-110.06 122.5,-103.17 121.32,-96.95 120.93,-90.35 121.06,-83.84\"/>\n",
       "<polygon fill=\"black\" stroke=\"black\" points=\"124.56,-83.91 121.63,-73.73 117.57,-83.51 124.56,-83.91\"/>\n",
       "<text text-anchor=\"middle\" x=\"128\" y=\"-95.17\" font-family=\"Times,serif\" font-size=\"10.00\">4$</text>\n",
       "</g>\n",
       "<!-- Tienda 3&#45;&gt;Almacen B -->\n",
       "<g id=\"edge8\" class=\"edge\">\n",
       "<title>Tienda 3&#45;&gt;Almacen B</title>\n",
       "<path fill=\"none\" stroke=\"black\" d=\"M117.02,-132.76C111.91,-128.9 106.54,-124.89 101.5,-121.17 90.48,-113.05 85.82,-113.2 76.5,-103.17 69.73,-95.89 63.49,-87.29 58.06,-78.77\"/>\n",
       "<polygon fill=\"black\" stroke=\"black\" points=\"60.9,-76.7 52.7,-69.98 54.92,-80.34 60.9,-76.7\"/>\n",
       "<text text-anchor=\"middle\" x=\"82\" y=\"-95.17\" font-family=\"Times,serif\" font-size=\"10.00\">7$</text>\n",
       "</g>\n",
       "<!-- Tienda 3&#45;&gt;Almacen C -->\n",
       "<g id=\"edge9\" class=\"edge\">\n",
       "<title>Tienda 3&#45;&gt;Almacen C</title>\n",
       "<path fill=\"none\" stroke=\"black\" d=\"M168.64,-136.55C181.67,-128.24 196.57,-116.8 206.5,-103.17 210.94,-97.07 214.53,-90.01 217.41,-82.84\"/>\n",
       "<polygon fill=\"black\" stroke=\"black\" points=\"220.84,-83.67 220.93,-73.07 214.25,-81.3 220.84,-83.67\"/>\n",
       "<text text-anchor=\"middle\" x=\"220.5\" y=\"-95.17\" font-family=\"Times,serif\" font-size=\"10.00\">11$</text>\n",
       "</g>\n",
       "</g>\n",
       "</svg>\n"
      ],
      "text/plain": [
       "<graphviz.graphs.Digraph at 0x7fe661293160>"
      ]
     },
     "execution_count": 1,
     "metadata": {},
     "output_type": "execute_result"
    }
   ],
   "source": [
    "import graphviz\n",
    "\n",
    "graph = graphviz.Graph(engine='neato')\n",
    "\n",
    "# Crear grafo\n",
    "dot = graphviz.Digraph()\n",
    "\n",
    "\n",
    "# Agregar nodos\n",
    "dot.node('Tienda 1', shape=\"circle\", style=\"filled\", fillcolor=\"#ADD8E6\", fontsize= '10')\n",
    "dot.node('Tienda 2', shape=\"circle\", style=\"filled\", fillcolor=\"#ADD8E6\",fontsize= '10')\n",
    "dot.node('Tienda 3', shape=\"circle\", style=\"filled\", fillcolor=\"#ADD8E6\",fontsize= '10')\n",
    "dot.node('Almacen A', shape=\"circle\", style=\"filled\", fillcolor=\"#ADD8E6\",fontsize= '10')\n",
    "dot.node('Almacen B', shape=\"circle\", style=\"filled\", fillcolor=\"#ADD8E6\",fontsize= '10')\n",
    "dot.node('Almacen C', shape=\"circle\", style=\"filled\", fillcolor=\"#ADD8E6\",fontsize= '10')\n",
    "\n",
    "\n",
    "# Agregar aristas\n",
    "dot.edge('Tienda 1', 'Almacen A', label='10$',fontsize= '10')\n",
    "dot.edge('Tienda 1', 'Almacen B', label='8$',fontsize= '10')\n",
    "dot.edge('Tienda 1', 'Almacen C', label='7$',fontsize= '10')\n",
    "\n",
    "\n",
    "dot.edge('Tienda 2', 'Almacen A', label='5$',fontsize= '10')\n",
    "dot.edge('Tienda 2', 'Almacen B', label='12$',fontsize= '10')\n",
    "dot.edge('Tienda 2', 'Almacen C', label='6$',fontsize= '10')\n",
    "\n",
    "\n",
    "dot.edge('Tienda 3', 'Almacen A', label='4$',fontsize= '10')\n",
    "dot.edge('Tienda 3', 'Almacen B', label='7$',fontsize= '10')\n",
    "dot.edge('Tienda 3', 'Almacen C', label='11$',fontsize= '10')\n",
    "\n",
    "\n",
    "# Mostrar grafo\n",
    "dot"
   ]
  },
  {
   "cell_type": "code",
   "execution_count": null,
   "metadata": {
    "colab": {
     "base_uri": "https://localhost:8080/"
    },
    "id": "AQWvvGxWICqs",
    "outputId": "c8de2457-e527-48e9-fed8-83ead85aacba"
   },
   "outputs": [
    {
     "name": "stdout",
     "output_type": "stream",
     "text": [
      "Estado: Optimal\n",
      "Costo total de envío: $ 3550.0\n",
      "Costo_de_productos_enviados_de_la_tienda_1_a_almacen_A = 0.0\n",
      "Costo_de_productos_enviados_de_la_tienda_1_a_almacen_B = 0.0\n",
      "Costo_de_productos_enviados_de_la_tienda_1_a_almacen_C = 0.0\n",
      "Costo_de_productos_enviados_de_la_tienda_1_a_almacen_D_Ficticia = 300.0\n",
      "Costo_de_productos_enviados_de_la_tienda_2_a_almacen_A = 0.0\n",
      "Costo_de_productos_enviados_de_la_tienda_2_a_almacen_B = 0.0\n",
      "Costo_de_productos_enviados_de_la_tienda_2_a_almacen_C = 200.0\n",
      "Costo_de_productos_enviados_de_la_tienda_2_a_almacen_D_Ficticia = 0.0\n",
      "Costo_de_productos_enviados_de_la_tienda_3_a_almacen_A_ = 150.0\n",
      "Costo_de_productos_enviados_de_la_tienda_3_a_almacen_B_ = 250.0\n",
      "Costo_de_productos_enviados_de_la_tienda_3_a_almacen_C_ = 0.0\n",
      "Costo_de_productos_enviados_de_la_tienda_3_a_almacen_D_Ficticia = 0.0\n"
     ]
    },
    {
     "name": "stderr",
     "output_type": "stream",
     "text": [
      "/usr/local/lib/python3.10/dist-packages/pulp/pulp.py:1352: UserWarning: Spaces are not permitted in the name. Converted to '_'\n",
      "  warnings.warn(\"Spaces are not permitted in the name. Converted to '_'\")\n"
     ]
    }
   ],
   "source": [
    "# Importamos la biblioteca PuLP\n",
    "import pulp\n",
    "\n",
    "# Creamos un problema de minimización\n",
    "problem = pulp.LpProblem(\"Envío de productos\", pulp.LpMinimize)\n",
    "\n",
    "# Definimos las variables de decisión\n",
    "x11 = pulp.LpVariable(\"Costo de productos enviados de la tienda 1 a almacen A\", lowBound=0, cat='Integer')\n",
    "x12 = pulp.LpVariable(\"Costo de productos enviados de la tienda 1 a almacen B\", lowBound=0, cat='Integer')\n",
    "x13 = pulp.LpVariable(\"Costo de productos enviados de la tienda 1 a almacen C\", lowBound=0, cat='Integer')\n",
    "x14 = pulp.LpVariable(\"Costo de productos enviados de la tienda 1 a almacen D Ficticia\", lowBound=0, cat='Integer')\n",
    "x21 = pulp.LpVariable(\"Costo de productos enviados de la tienda 2 a almacen A\", lowBound=0, cat='Integer')\n",
    "x22 = pulp.LpVariable(\"Costo de productos enviados de la tienda 2 a almacen B\", lowBound=0, cat='Integer')\n",
    "x23 = pulp.LpVariable(\"Costo de productos enviados de la tienda 2 a almacen C\", lowBound=0, cat='Integer')\n",
    "x24 = pulp.LpVariable(\"Costo de productos enviados de la tienda 2 a almacen D Ficticia\", lowBound=0, cat='Integer')\n",
    "x31 = pulp.LpVariable(\"Costo de productos enviados de la tienda 3 a almacen A \", lowBound=0, cat='Integer')\n",
    "x32 = pulp.LpVariable(\"Costo de productos enviados de la tienda 3 a almacen B \", lowBound=0, cat='Integer')\n",
    "x33 = pulp.LpVariable(\"Costo de productos enviados de la tienda 3 a almacen C \", lowBound=0, cat='Integer')\n",
    "x34 = pulp.LpVariable(\"Costo de productos enviados de la tienda 3 a almacen D Ficticia\", lowBound=0, cat='Integer')\n",
    "\n",
    "# Definimos la función objetivo\n",
    "problem += 10*x11 + 8*x12 + 7*x13 + 5*x21 + 12*x22 +6*x23 + 4*x31 + 7*x32 + 11*x33, \"Costo total de envío\"\n",
    "\n",
    "#Definimos las restricciones de oferta\n",
    "problem += x11 + x12 + x13 <= 200, \"Oferta de la tienda 1\"\n",
    "problem += x21 + x22 + x23 <= 300, \"Oferta de la tienda 2\"\n",
    "problem += x31 + x32 + x33 <= 400, \"Oferta de la tienda 3\"\n",
    "\n",
    "#Definimos las restricciones de demanda\n",
    "problem += x11 + x21 + x31 >= 150, \"Demanda del almacen A\"\n",
    "problem += x12 + x22 + x32 >= 250, \"Demanda del almacen B\"\n",
    "problem += x13 + x23 + x33 >= 200, \"Demanda del almacen C\"\n",
    "problem += x14 + x24 + x34 >= 300, \"Demanda del almacen D Ficticia\"\n",
    "\n",
    "#Resolvemos el problema\n",
    "problem.solve()\n",
    "\n",
    "#Imprimimos el resultado\n",
    "print(\"Estado:\", pulp.LpStatus[problem.status])\n",
    "print(\"Costo total de envío: $\", round(pulp.value(problem.objective), 2))\n",
    "\n",
    "for variable in problem.variables():\n",
    "    print(variable.name, \"=\", variable.varValue)\n"
   ]
  },
  {
   "cell_type": "markdown",
   "metadata": {
    "id": "IpCz67g_HiCd"
   },
   "source": [
    "##### Ejercicio numero Tres"
   ]
  },
  {
   "cell_type": "code",
   "execution_count": null,
   "metadata": {
    "colab": {
     "base_uri": "https://localhost:8080/"
    },
    "id": "-2n5idsyI1a2",
    "outputId": "bc30751f-fd1f-475a-c2c9-27a96ec3417d"
   },
   "outputs": [
    {
     "name": "stdout",
     "output_type": "stream",
     "text": [
      "Almacenes Almacén A Almacén B Almacén C Almacén D Oferta\n",
      "Tienda 1         4$        6$        9$        5$    300\n",
      "Tienda 2         7$        3$        5$        8$    400\n",
      "Tienda 3         2$        5$       11$        7$    500\n",
      "Demanda         400       400       300       300      -\n"
     ]
    }
   ],
   "source": [
    "import pandas as pd\n",
    "\n",
    "# Crear diccionario con los datos\n",
    "datos = {'Almacén A': ['4$', '7$', '2$'],\n",
    "         'Almacén B': ['6$', '3$', '5$'],\n",
    "         'Almacén C': ['9$', '5$', '11$'],\n",
    "         'Almacén D': ['5$', '8$', '7$']}\n",
    "\n",
    "# Convertir diccionario en dataframe de pandas\n",
    "df = pd.DataFrame(datos)\n",
    "\n",
    "# Asignar nombres de las filas y columnas\n",
    "df.index = ['Tienda 1', 'Tienda 2', 'Tienda 3']\n",
    "df.columns.name = 'Almacenes'\n",
    "\n",
    "# Agregar fila y columna de oferta y demanda\n",
    "df.loc['Demanda'] = ['400', '400', '300', '300']\n",
    "df['Oferta'] = ['300', '400', '500', '-']\n",
    "\n",
    "# Imprimir tabla\n",
    "print(df)\n"
   ]
  },
  {
   "cell_type": "code",
   "execution_count": null,
   "metadata": {
    "colab": {
     "base_uri": "https://localhost:8080/",
     "height": 277
    },
    "id": "adWraSLjI7iA",
    "outputId": "0483e7be-3520-47db-fce1-947909fb47ea"
   },
   "outputs": [
    {
     "data": {
      "image/svg+xml": [
       "<?xml version=\"1.0\" encoding=\"UTF-8\" standalone=\"no\"?>\n",
       "<!DOCTYPE svg PUBLIC \"-//W3C//DTD SVG 1.1//EN\"\n",
       " \"http://www.w3.org/Graphics/SVG/1.1/DTD/svg11.dtd\">\n",
       "<!-- Generated by graphviz version 2.43.0 (0)\n",
       " -->\n",
       "<!-- Title: %3 Pages: 1 -->\n",
       "<svg width=\"401pt\" height=\"192pt\"\n",
       " viewBox=\"0.00 0.00 401.09 191.57\" xmlns=\"http://www.w3.org/2000/svg\" xmlns:xlink=\"http://www.w3.org/1999/xlink\">\n",
       "<g id=\"graph0\" class=\"graph\" transform=\"scale(1 1) rotate(0) translate(4 187.57)\">\n",
       "<title>%3</title>\n",
       "<polygon fill=\"white\" stroke=\"transparent\" points=\"-4,4 -4,-187.57 397.09,-187.57 397.09,4 -4,4\"/>\n",
       "<!-- Tienda 1 -->\n",
       "<g id=\"node1\" class=\"node\">\n",
       "<title>Tienda 1</title>\n",
       "<ellipse fill=\"#add8e6\" stroke=\"black\" cx=\"116.09\" cy=\"-152.37\" rx=\"31.4\" ry=\"31.4\"/>\n",
       "<text text-anchor=\"middle\" x=\"116.09\" y=\"-149.87\" font-family=\"Times,serif\" font-size=\"10.00\">Tienda 1</text>\n",
       "</g>\n",
       "<!-- Almacen A -->\n",
       "<g id=\"node4\" class=\"node\">\n",
       "<title>Almacen A</title>\n",
       "<ellipse fill=\"#add8e6\" stroke=\"black\" cx=\"37.09\" cy=\"-37.09\" rx=\"37.17\" ry=\"37.17\"/>\n",
       "<text text-anchor=\"middle\" x=\"37.09\" y=\"-34.59\" font-family=\"Times,serif\" font-size=\"10.00\">Almacen A</text>\n",
       "</g>\n",
       "<!-- Tienda 1&#45;&gt;Almacen A -->\n",
       "<g id=\"edge1\" class=\"edge\">\n",
       "<title>Tienda 1&#45;&gt;Almacen A</title>\n",
       "<path fill=\"none\" stroke=\"black\" d=\"M85.62,-144.48C64.03,-137.83 36.6,-125.39 23.09,-103.17 18.95,-96.37 18.05,-88.51 18.95,-80.66\"/>\n",
       "<polygon fill=\"black\" stroke=\"black\" points=\"22.39,-81.3 20.94,-70.8 15.53,-79.91 22.39,-81.3\"/>\n",
       "<text text-anchor=\"middle\" x=\"28.59\" y=\"-95.17\" font-family=\"Times,serif\" font-size=\"10.00\">4$</text>\n",
       "</g>\n",
       "<!-- Almacen B -->\n",
       "<g id=\"node5\" class=\"node\">\n",
       "<title>Almacen B</title>\n",
       "<ellipse fill=\"#add8e6\" stroke=\"black\" cx=\"333.09\" cy=\"-37.09\" rx=\"36.49\" ry=\"36.49\"/>\n",
       "<text text-anchor=\"middle\" x=\"333.09\" y=\"-34.59\" font-family=\"Times,serif\" font-size=\"10.00\">Almacen B</text>\n",
       "</g>\n",
       "<!-- Tienda 1&#45;&gt;Almacen B -->\n",
       "<g id=\"edge2\" class=\"edge\">\n",
       "<title>Tienda 1&#45;&gt;Almacen B</title>\n",
       "<path fill=\"none\" stroke=\"black\" d=\"M140.96,-132.84C147.84,-128.44 155.51,-124.16 163.09,-121.17 204.69,-104.77 222.03,-123.06 262.09,-103.17 277.07,-95.73 291.19,-84.16 302.83,-72.82\"/>\n",
       "<polygon fill=\"black\" stroke=\"black\" points=\"305.57,-75.03 310.11,-65.46 300.59,-70.11 305.57,-75.03\"/>\n",
       "<text text-anchor=\"middle\" x=\"284.59\" y=\"-95.17\" font-family=\"Times,serif\" font-size=\"10.00\">7$</text>\n",
       "</g>\n",
       "<!-- Almacen C -->\n",
       "<g id=\"node6\" class=\"node\">\n",
       "<title>Almacen C</title>\n",
       "<ellipse fill=\"#add8e6\" stroke=\"black\" cx=\"226.09\" cy=\"-37.09\" rx=\"36.49\" ry=\"36.49\"/>\n",
       "<text text-anchor=\"middle\" x=\"226.09\" y=\"-34.59\" font-family=\"Times,serif\" font-size=\"10.00\">Almacen C</text>\n",
       "</g>\n",
       "<!-- Tienda 1&#45;&gt;Almacen C -->\n",
       "<g id=\"edge3\" class=\"edge\">\n",
       "<title>Tienda 1&#45;&gt;Almacen C</title>\n",
       "<path fill=\"none\" stroke=\"black\" d=\"M139.56,-131.61C149.27,-123.13 160.49,-112.94 170.09,-103.17 179.15,-93.94 188.51,-83.49 196.91,-73.7\"/>\n",
       "<polygon fill=\"black\" stroke=\"black\" points=\"199.62,-75.92 203.43,-66.03 194.29,-71.39 199.62,-75.92\"/>\n",
       "<text text-anchor=\"middle\" x=\"184.59\" y=\"-95.17\" font-family=\"Times,serif\" font-size=\"10.00\">2$</text>\n",
       "</g>\n",
       "<!-- Almacen D -->\n",
       "<g id=\"node7\" class=\"node\">\n",
       "<title>Almacen D</title>\n",
       "<ellipse fill=\"#add8e6\" stroke=\"black\" cx=\"129.09\" cy=\"-37.09\" rx=\"37.17\" ry=\"37.17\"/>\n",
       "<text text-anchor=\"middle\" x=\"129.09\" y=\"-34.59\" font-family=\"Times,serif\" font-size=\"10.00\">Almacen D</text>\n",
       "</g>\n",
       "<!-- Tienda 1&#45;&gt;Almacen D -->\n",
       "<g id=\"edge4\" class=\"edge\">\n",
       "<title>Tienda 1&#45;&gt;Almacen D</title>\n",
       "<path fill=\"none\" stroke=\"black\" d=\"M97.52,-127.27C91.56,-116.68 87.35,-103.98 91.09,-92.17 93.04,-86 95.98,-79.92 99.37,-74.19\"/>\n",
       "<polygon fill=\"black\" stroke=\"black\" points=\"102.49,-75.81 105.01,-65.51 96.62,-71.99 102.49,-75.81\"/>\n",
       "<text text-anchor=\"middle\" x=\"96.59\" y=\"-95.17\" font-family=\"Times,serif\" font-size=\"10.00\">5$</text>\n",
       "</g>\n",
       "<!-- Tienda 2 -->\n",
       "<g id=\"node2\" class=\"node\">\n",
       "<title>Tienda 2</title>\n",
       "<ellipse fill=\"#add8e6\" stroke=\"black\" cx=\"287.09\" cy=\"-152.37\" rx=\"31.4\" ry=\"31.4\"/>\n",
       "<text text-anchor=\"middle\" x=\"287.09\" y=\"-149.87\" font-family=\"Times,serif\" font-size=\"10.00\">Tienda 2</text>\n",
       "</g>\n",
       "<!-- Tienda 2&#45;&gt;Almacen A -->\n",
       "<g id=\"edge5\" class=\"edge\">\n",
       "<title>Tienda 2&#45;&gt;Almacen A</title>\n",
       "<path fill=\"none\" stroke=\"black\" d=\"M262.96,-132.31C256.75,-128.13 249.9,-124.08 243.09,-121.17 207.18,-105.82 193.84,-116.36 157.09,-103.17 147.17,-99.61 145.77,-96.32 136.09,-92.17 113.22,-82.37 104.96,-86.02 83.09,-74.17 79.77,-72.37 76.44,-70.34 73.18,-68.17\"/>\n",
       "<polygon fill=\"black\" stroke=\"black\" points=\"74.94,-65.12 64.75,-62.19 70.89,-70.83 74.94,-65.12\"/>\n",
       "<text text-anchor=\"middle\" x=\"162.59\" y=\"-95.17\" font-family=\"Times,serif\" font-size=\"10.00\">6$</text>\n",
       "</g>\n",
       "<!-- Tienda 2&#45;&gt;Almacen B -->\n",
       "<g id=\"edge6\" class=\"edge\">\n",
       "<title>Tienda 2&#45;&gt;Almacen B</title>\n",
       "<path fill=\"none\" stroke=\"black\" d=\"M317.68,-144.24C338.97,-137.51 365.83,-125.08 379.09,-103.17 386.67,-90.64 380.12,-77.35 369.83,-66.07\"/>\n",
       "<polygon fill=\"black\" stroke=\"black\" points=\"372.21,-63.5 362.64,-58.97 367.3,-68.49 372.21,-63.5\"/>\n",
       "<text text-anchor=\"middle\" x=\"387.59\" y=\"-95.17\" font-family=\"Times,serif\" font-size=\"10.00\">3$</text>\n",
       "</g>\n",
       "<!-- Tienda 2&#45;&gt;Almacen C -->\n",
       "<g id=\"edge7\" class=\"edge\">\n",
       "<title>Tienda 2&#45;&gt;Almacen C</title>\n",
       "<path fill=\"none\" stroke=\"black\" d=\"M315.24,-138.28C335.74,-126.91 357.84,-109.58 345.09,-92.17 329.38,-70.74 312.38,-84.92 288.09,-74.17 280.64,-70.88 272.95,-66.91 265.63,-62.83\"/>\n",
       "<polygon fill=\"black\" stroke=\"black\" points=\"267.02,-59.59 256.6,-57.65 263.53,-65.66 267.02,-59.59\"/>\n",
       "<text text-anchor=\"middle\" x=\"353.59\" y=\"-95.17\" font-family=\"Times,serif\" font-size=\"10.00\">5$</text>\n",
       "</g>\n",
       "<!-- Tienda 2&#45;&gt;Almacen D -->\n",
       "<g id=\"edge8\" class=\"edge\">\n",
       "<title>Tienda 2&#45;&gt;Almacen D</title>\n",
       "<path fill=\"none\" stroke=\"black\" d=\"M269.56,-126.43C260.2,-114.65 247.78,-101.22 234.09,-92.17 213.33,-78.46 203.3,-85.37 181.09,-74.17 176.24,-71.73 171.33,-68.89 166.56,-65.89\"/>\n",
       "<polygon fill=\"black\" stroke=\"black\" points=\"168.45,-62.94 158.17,-60.38 164.61,-68.79 168.45,-62.94\"/>\n",
       "<text text-anchor=\"middle\" x=\"252.59\" y=\"-95.17\" font-family=\"Times,serif\" font-size=\"10.00\">8$</text>\n",
       "</g>\n",
       "<!-- Tienda 3 -->\n",
       "<g id=\"node3\" class=\"node\">\n",
       "<title>Tienda 3</title>\n",
       "<ellipse fill=\"#add8e6\" stroke=\"black\" cx=\"203.09\" cy=\"-152.37\" rx=\"31.4\" ry=\"31.4\"/>\n",
       "<text text-anchor=\"middle\" x=\"203.09\" y=\"-149.87\" font-family=\"Times,serif\" font-size=\"10.00\">Tienda 3</text>\n",
       "</g>\n",
       "<!-- Tienda 3&#45;&gt;Almacen A -->\n",
       "<g id=\"edge9\" class=\"edge\">\n",
       "<title>Tienda 3&#45;&gt;Almacen A</title>\n",
       "<path fill=\"none\" stroke=\"black\" d=\"M178.13,-133.04C171.25,-128.63 163.61,-124.31 156.09,-121.17 122.05,-106.98 104.87,-124.91 75.09,-103.17 67.08,-97.33 60.49,-89.25 55.18,-80.77\"/>\n",
       "<polygon fill=\"black\" stroke=\"black\" points=\"58.09,-78.82 50.09,-71.87 52.01,-82.29 58.09,-78.82\"/>\n",
       "<text text-anchor=\"middle\" x=\"80.59\" y=\"-95.17\" font-family=\"Times,serif\" font-size=\"10.00\">9$</text>\n",
       "</g>\n",
       "<!-- Tienda 3&#45;&gt;Almacen B -->\n",
       "<g id=\"edge10\" class=\"edge\">\n",
       "<title>Tienda 3&#45;&gt;Almacen B</title>\n",
       "<path fill=\"none\" stroke=\"black\" d=\"M227.36,-132.63C233.56,-128.44 240.37,-124.31 247.09,-121.17 273.85,-108.64 289.66,-123.52 311.09,-103.17 316.92,-97.63 321.21,-90.48 324.36,-82.97\"/>\n",
       "<polygon fill=\"black\" stroke=\"black\" points=\"327.73,-83.93 327.78,-73.34 321.14,-81.59 327.73,-83.93\"/>\n",
       "<text text-anchor=\"middle\" x=\"324.59\" y=\"-95.17\" font-family=\"Times,serif\" font-size=\"10.00\">5$</text>\n",
       "</g>\n",
       "<!-- Tienda 3&#45;&gt;Almacen C -->\n",
       "<g id=\"edge11\" class=\"edge\">\n",
       "<title>Tienda 3&#45;&gt;Almacen C</title>\n",
       "<path fill=\"none\" stroke=\"black\" d=\"M209.13,-121.61C211.5,-109.92 214.28,-96.24 216.89,-83.37\"/>\n",
       "<polygon fill=\"black\" stroke=\"black\" points=\"220.38,-83.78 218.94,-73.28 213.52,-82.39 220.38,-83.78\"/>\n",
       "<text text-anchor=\"middle\" x=\"222.09\" y=\"-95.17\" font-family=\"Times,serif\" font-size=\"10.00\">11$</text>\n",
       "</g>\n",
       "<!-- Tienda 3&#45;&gt;Almacen D -->\n",
       "<g id=\"edge12\" class=\"edge\">\n",
       "<title>Tienda 3&#45;&gt;Almacen D</title>\n",
       "<path fill=\"none\" stroke=\"black\" d=\"M177.36,-134.55C170.49,-130.13 163.04,-125.42 156.09,-121.17 142.49,-112.86 133.03,-116.98 125.09,-103.17 121.63,-97.17 120.06,-90.33 119.66,-83.38\"/>\n",
       "<polygon fill=\"black\" stroke=\"black\" points=\"123.16,-83.28 119.84,-73.22 116.16,-83.16 123.16,-83.28\"/>\n",
       "<text text-anchor=\"middle\" x=\"130.59\" y=\"-95.17\" font-family=\"Times,serif\" font-size=\"10.00\">7$</text>\n",
       "</g>\n",
       "</g>\n",
       "</svg>\n"
      ],
      "text/plain": [
       "<graphviz.graphs.Digraph at 0x7f2f2950f850>"
      ]
     },
     "execution_count": 9,
     "metadata": {},
     "output_type": "execute_result"
    }
   ],
   "source": [
    "import graphviz\n",
    "\n",
    "graph = graphviz.Graph(engine='neato')\n",
    "\n",
    "# Crear grafo\n",
    "dot = graphviz.Digraph()\n",
    "\n",
    "\n",
    "# Agregar nodos\n",
    "dot.node('Tienda 1', shape=\"circle\", style=\"filled\", fillcolor=\"#ADD8E6\", fontsize= '10')\n",
    "dot.node('Tienda 2', shape=\"circle\", style=\"filled\", fillcolor=\"#ADD8E6\",fontsize= '10')\n",
    "dot.node('Tienda 3', shape=\"circle\", style=\"filled\", fillcolor=\"#ADD8E6\",fontsize= '10')\n",
    "dot.node('Almacen A', shape=\"circle\", style=\"filled\", fillcolor=\"#ADD8E6\",fontsize= '10')\n",
    "dot.node('Almacen B', shape=\"circle\", style=\"filled\", fillcolor=\"#ADD8E6\",fontsize= '10')\n",
    "dot.node('Almacen C', shape=\"circle\", style=\"filled\", fillcolor=\"#ADD8E6\",fontsize= '10')\n",
    "dot.node('Almacen D', shape=\"circle\", style=\"filled\", fillcolor=\"#ADD8E6\",fontsize= '10')\n",
    "\n",
    "# Agregar aristas\n",
    "dot.edge('Tienda 1', 'Almacen A', label='4$',fontsize= '10')\n",
    "dot.edge('Tienda 1', 'Almacen B', label='7$',fontsize= '10')\n",
    "dot.edge('Tienda 1', 'Almacen C', label='2$',fontsize= '10')\n",
    "dot.edge('Tienda 1', 'Almacen D', label='5$',fontsize= '10')\n",
    "\n",
    "dot.edge('Tienda 2', 'Almacen A', label='6$',fontsize= '10')\n",
    "dot.edge('Tienda 2', 'Almacen B', label='3$',fontsize= '10')\n",
    "dot.edge('Tienda 2', 'Almacen C', label='5$',fontsize= '10')\n",
    "dot.edge('Tienda 2', 'Almacen D', label='8$',fontsize= '10')\n",
    "\n",
    "dot.edge('Tienda 3', 'Almacen A', label='9$',fontsize= '10')\n",
    "dot.edge('Tienda 3', 'Almacen B', label='5$',fontsize= '10')\n",
    "dot.edge('Tienda 3', 'Almacen C', label='11$',fontsize= '10')\n",
    "dot.edge('Tienda 3', 'Almacen D', label='7$',fontsize= '10')\n",
    "\n",
    "# Mostrar grafo\n",
    "dot"
   ]
  },
  {
   "cell_type": "code",
   "execution_count": null,
   "metadata": {
    "id": "0y8ztEjSJBbm"
   },
   "outputs": [],
   "source": [
    "# Importamos la biblioteca PuLP\n",
    "import pulp\n",
    "\n",
    "# Creamos un problema de minimización\n",
    "problem = pulp.LpProblem(\"Envío de productos\", pulp.LpMinimize)\n",
    "\n",
    "# Definimos las variables de decisión\n",
    "x11 = pulp.LpVariable(\"tienda 1 a almacen A\", lowBound=0, cat='Integer')\n",
    "x12 = pulp.LpVariable(\"tienda 1 a almacen B\", lowBound=0, cat='Integer')\n",
    "x13 = pulp.LpVariable(\"tienda 1 a almacen C\", lowBound=0, cat='Integer')\n",
    "x14 = pulp.LpVariable(\"tienda 1 a almacen D\", lowBound=0, cat='Integer')\n",
    "x21 = pulp.LpVariable(\"tienda 2 a almacen A\", lowBound=0, cat='Integer')\n",
    "x22 = pulp.LpVariable(\"tienda 2 a almacen B\", lowBound=0, cat='Integer')\n",
    "x23 = pulp.LpVariable(\"tienda 2 a almacen C\", lowBound=0, cat='Integer')\n",
    "x24 = pulp.LpVariable(\"tienda 2 a almacen D\", lowBound=0, cat='Integer')\n",
    "x31 = pulp.LpVariable(\"tienda 3 a almacen A\", lowBound=0, cat='Integer')\n",
    "x32 = pulp.LpVariable(\"tienda 3 a almacen B\", lowBound=0, cat='Integer')\n",
    "x33 = pulp.LpVariable(\"tienda 3 a almacen C\", lowBound=0, cat='Integer')\n",
    "x34 = pulp.LpVariable(\"tienda 3 a almacen D\", lowBound=0, cat='Integer')\n",
    "x41 = pulp.LpVariable(\"tienda 4 Ficticia a almacen A\", lowBound=0, cat='Integer')\n",
    "x42 = pulp.LpVariable(\"tienda 4 Ficticia a almacen B\", lowBound=0, cat='Integer')\n",
    "x43 = pulp.LpVariable(\"tienda 4 Ficticia a almacen C\", lowBound=0, cat='Integer')\n",
    "x44 = pulp.LpVariable(\"tienda 4 Ficticia a almacen D\", lowBound=0, cat='Integer')\n",
    "\n",
    "# Definimos la función objetivo\n",
    "problem += (4*x11 + 6*x12 + 9*x13 + 5*x14 + 7*x21 + 3*x22 +5*x23 + 8*x24 + 2*x31 + 5*x32 + 11*x33 + 7*x34)\n",
    "\n",
    "#Definimos las restricciones de oferta\n",
    "problem += x11 + x12 + x13 + x14 <= 200, \"Oferta de la tienda 1\"\n",
    "problem += x21 + x22 + x23 + x24 <= 300, \"Oferta de la tienda 2\"\n",
    "problem += x31 + x32 + x33 + x34 <= 400, \"Oferta de la tienda 3\"\n",
    "problem += x41 + x42 + x43 + x44 <= 500, \"Oferta de la tienda 4 Ficticia\"\n",
    "\n",
    "#Definimos las restricciones de demanda\n",
    "problem += x11 + x21 + x31 + x41 >= 400, \"Demanda del almacen A\"\n",
    "problem += x12 + x22 + x32 + x42 >= 400, \"Demanda del almacen B\"\n",
    "problem += x13 + x23 + x33 + x43 >= 300, \"Demanda del almacen C\"\n",
    "problem += x14 + x24 + x34 + x44 >= 300, \"Demanda del almacen D\"\n",
    "\n",
    "#Resolvemos el problema\n",
    "problem.solve()\n",
    "\n",
    "#Imprimimos el resultado\n",
    "print(\"Estado:\", pulp.LpStatus[problem.status])\n",
    "print(\"Costo total de transporte: $\", round(pulp.value(problem.objective), 2))\n",
    "\n",
    "for variable in problem.variables():\n",
    "    print(variable.name, \"=\", variable.varValue)"
   ]
  },
  {
   "cell_type": "markdown",
   "metadata": {
    "id": "KNatAI12wNU2"
   },
   "source": [
    "##### Ejercicio Numero Cuatro\n"
   ]
  },
  {
   "cell_type": "code",
   "execution_count": null,
   "metadata": {
    "colab": {
     "base_uri": "https://localhost:8080/",
     "height": 195
    },
    "id": "RpTw-10_Df7a",
    "outputId": "650f7491-67c7-4b5b-f23b-6cc35672c2af"
   },
   "outputs": [
    {
     "data": {
      "text/html": [
       "\n",
       "  <div id=\"df-76205cb8-6704-4c6c-b4db-1f02582b45dc\">\n",
       "    <div class=\"colab-df-container\">\n",
       "      <div>\n",
       "<style scoped>\n",
       "    .dataframe tbody tr th:only-of-type {\n",
       "        vertical-align: middle;\n",
       "    }\n",
       "\n",
       "    .dataframe tbody tr th {\n",
       "        vertical-align: top;\n",
       "    }\n",
       "\n",
       "    .dataframe thead th {\n",
       "        text-align: right;\n",
       "    }\n",
       "</style>\n",
       "<table border=\"1\" class=\"dataframe\">\n",
       "  <thead>\n",
       "    <tr style=\"text-align: right;\">\n",
       "      <th></th>\n",
       "      <th>Almacen A</th>\n",
       "      <th>Almacen B</th>\n",
       "      <th>Almacen C</th>\n",
       "      <th>Almacen D</th>\n",
       "      <th>Almacen E</th>\n",
       "      <th>Oferta</th>\n",
       "    </tr>\n",
       "    <tr>\n",
       "      <th>Items</th>\n",
       "      <th></th>\n",
       "      <th></th>\n",
       "      <th></th>\n",
       "      <th></th>\n",
       "      <th></th>\n",
       "      <th></th>\n",
       "    </tr>\n",
       "  </thead>\n",
       "  <tbody>\n",
       "    <tr>\n",
       "      <th>Tienda 1</th>\n",
       "      <td>6</td>\n",
       "      <td>8</td>\n",
       "      <td>10</td>\n",
       "      <td>9</td>\n",
       "      <td>7</td>\n",
       "      <td>500</td>\n",
       "    </tr>\n",
       "    <tr>\n",
       "      <th>Tienda 2</th>\n",
       "      <td>5</td>\n",
       "      <td>11</td>\n",
       "      <td>7</td>\n",
       "      <td>4</td>\n",
       "      <td>3</td>\n",
       "      <td>400</td>\n",
       "    </tr>\n",
       "    <tr>\n",
       "      <th>Tienda 3</th>\n",
       "      <td>12</td>\n",
       "      <td>9</td>\n",
       "      <td>3</td>\n",
       "      <td>8</td>\n",
       "      <td>6</td>\n",
       "      <td>300</td>\n",
       "    </tr>\n",
       "    <tr>\n",
       "      <th>Demanda</th>\n",
       "      <td>300</td>\n",
       "      <td>400</td>\n",
       "      <td>408</td>\n",
       "      <td>200</td>\n",
       "      <td>400</td>\n",
       "      <td>0</td>\n",
       "    </tr>\n",
       "  </tbody>\n",
       "</table>\n",
       "</div>\n",
       "      <button class=\"colab-df-convert\" onclick=\"convertToInteractive('df-76205cb8-6704-4c6c-b4db-1f02582b45dc')\"\n",
       "              title=\"Convert this dataframe to an interactive table.\"\n",
       "              style=\"display:none;\">\n",
       "        \n",
       "  <svg xmlns=\"http://www.w3.org/2000/svg\" height=\"24px\"viewBox=\"0 0 24 24\"\n",
       "       width=\"24px\">\n",
       "    <path d=\"M0 0h24v24H0V0z\" fill=\"none\"/>\n",
       "    <path d=\"M18.56 5.44l.94 2.06.94-2.06 2.06-.94-2.06-.94-.94-2.06-.94 2.06-2.06.94zm-11 1L8.5 8.5l.94-2.06 2.06-.94-2.06-.94L8.5 2.5l-.94 2.06-2.06.94zm10 10l.94 2.06.94-2.06 2.06-.94-2.06-.94-.94-2.06-.94 2.06-2.06.94z\"/><path d=\"M17.41 7.96l-1.37-1.37c-.4-.4-.92-.59-1.43-.59-.52 0-1.04.2-1.43.59L10.3 9.45l-7.72 7.72c-.78.78-.78 2.05 0 2.83L4 21.41c.39.39.9.59 1.41.59.51 0 1.02-.2 1.41-.59l7.78-7.78 2.81-2.81c.8-.78.8-2.07 0-2.86zM5.41 20L4 18.59l7.72-7.72 1.47 1.35L5.41 20z\"/>\n",
       "  </svg>\n",
       "      </button>\n",
       "      \n",
       "  <style>\n",
       "    .colab-df-container {\n",
       "      display:flex;\n",
       "      flex-wrap:wrap;\n",
       "      gap: 12px;\n",
       "    }\n",
       "\n",
       "    .colab-df-convert {\n",
       "      background-color: #E8F0FE;\n",
       "      border: none;\n",
       "      border-radius: 50%;\n",
       "      cursor: pointer;\n",
       "      display: none;\n",
       "      fill: #1967D2;\n",
       "      height: 32px;\n",
       "      padding: 0 0 0 0;\n",
       "      width: 32px;\n",
       "    }\n",
       "\n",
       "    .colab-df-convert:hover {\n",
       "      background-color: #E2EBFA;\n",
       "      box-shadow: 0px 1px 2px rgba(60, 64, 67, 0.3), 0px 1px 3px 1px rgba(60, 64, 67, 0.15);\n",
       "      fill: #174EA6;\n",
       "    }\n",
       "\n",
       "    [theme=dark] .colab-df-convert {\n",
       "      background-color: #3B4455;\n",
       "      fill: #D2E3FC;\n",
       "    }\n",
       "\n",
       "    [theme=dark] .colab-df-convert:hover {\n",
       "      background-color: #434B5C;\n",
       "      box-shadow: 0px 1px 3px 1px rgba(0, 0, 0, 0.15);\n",
       "      filter: drop-shadow(0px 1px 2px rgba(0, 0, 0, 0.3));\n",
       "      fill: #FFFFFF;\n",
       "    }\n",
       "  </style>\n",
       "\n",
       "      <script>\n",
       "        const buttonEl =\n",
       "          document.querySelector('#df-76205cb8-6704-4c6c-b4db-1f02582b45dc button.colab-df-convert');\n",
       "        buttonEl.style.display =\n",
       "          google.colab.kernel.accessAllowed ? 'block' : 'none';\n",
       "\n",
       "        async function convertToInteractive(key) {\n",
       "          const element = document.querySelector('#df-76205cb8-6704-4c6c-b4db-1f02582b45dc');\n",
       "          const dataTable =\n",
       "            await google.colab.kernel.invokeFunction('convertToInteractive',\n",
       "                                                     [key], {});\n",
       "          if (!dataTable) return;\n",
       "\n",
       "          const docLinkHtml = 'Like what you see? Visit the ' +\n",
       "            '<a target=\"_blank\" href=https://colab.research.google.com/notebooks/data_table.ipynb>data table notebook</a>'\n",
       "            + ' to learn more about interactive tables.';\n",
       "          element.innerHTML = '';\n",
       "          dataTable['output_type'] = 'display_data';\n",
       "          await google.colab.output.renderOutput(dataTable, element);\n",
       "          const docLink = document.createElement('div');\n",
       "          docLink.innerHTML = docLinkHtml;\n",
       "          element.appendChild(docLink);\n",
       "        }\n",
       "      </script>\n",
       "    </div>\n",
       "  </div>\n",
       "  "
      ],
      "text/plain": [
       "          Almacen A  Almacen B  Almacen C  Almacen D  Almacen E  Oferta\n",
       "Items                                                                  \n",
       "Tienda 1          6          8         10          9          7     500\n",
       "Tienda 2          5         11          7          4          3     400\n",
       "Tienda 3         12          9          3          8          6     300\n",
       "Demanda         300        400        408        200        400       0"
      ]
     },
     "execution_count": 30,
     "metadata": {},
     "output_type": "execute_result"
    }
   ],
   "source": [
    "\n",
    "\n",
    "datos = [{'Items': 'Tienda 1', 'Almacen A': 6, 'Almacen B': 8, 'Almacen C': 10, 'Almacen D': 9, 'Almacen E': 7, 'Oferta': 500},\n",
    "         {'Items': 'Tienda 2', 'Almacen A': 5, 'Almacen B': 11, 'Almacen C': 7, 'Almacen D': 4, 'Almacen E': 3,'Oferta': 400},\n",
    "         {'Items': 'Tienda 3', 'Almacen A': 12, 'Almacen B': 9, 'Almacen C': 3,'Almacen D': 8, 'Almacen E': 6, 'Oferta': 300},\n",
    "         {'Items': 'Demanda', 'Almacen A': 300, 'Almacen B': 400, 'Almacen C': 408,'Almacen D': 200, 'Almacen E': 400, 'Oferta': 0}]\n",
    "\n",
    "df_datos = pd.DataFrame(datos)\n",
    "df_datos = df_datos.set_index('Items' , drop= True)\n",
    "df_datos\n",
    "\n"
   ]
  },
  {
   "cell_type": "code",
   "execution_count": null,
   "metadata": {
    "colab": {
     "base_uri": "https://localhost:8080/",
     "height": 278
    },
    "id": "yN5ghz-7M6lz",
    "outputId": "4cc50b61-d9f2-43b3-b132-aa63195dce21"
   },
   "outputs": [
    {
     "data": {
      "image/svg+xml": [
       "<?xml version=\"1.0\" encoding=\"UTF-8\" standalone=\"no\"?>\n",
       "<!DOCTYPE svg PUBLIC \"-//W3C//DTD SVG 1.1//EN\"\n",
       " \"http://www.w3.org/Graphics/SVG/1.1/DTD/svg11.dtd\">\n",
       "<!-- Generated by graphviz version 2.43.0 (0)\n",
       " -->\n",
       "<!-- Title: %3 Pages: 1 -->\n",
       "<svg width=\"448pt\" height=\"192pt\"\n",
       " viewBox=\"0.00 0.00 447.99 191.57\" xmlns=\"http://www.w3.org/2000/svg\" xmlns:xlink=\"http://www.w3.org/1999/xlink\">\n",
       "<g id=\"graph0\" class=\"graph\" transform=\"scale(1 1) rotate(0) translate(4 187.57)\">\n",
       "<title>%3</title>\n",
       "<polygon fill=\"white\" stroke=\"transparent\" points=\"-4,4 -4,-187.57 443.99,-187.57 443.99,4 -4,4\"/>\n",
       "<!-- Tienda 1 -->\n",
       "<g id=\"node1\" class=\"node\">\n",
       "<title>Tienda 1</title>\n",
       "<ellipse fill=\"#d8bfd8\" stroke=\"black\" cx=\"155.5\" cy=\"-152.37\" rx=\"31.4\" ry=\"31.4\"/>\n",
       "<text text-anchor=\"middle\" x=\"155.5\" y=\"-149.87\" font-family=\"Times,serif\" font-size=\"10.00\">Tienda 1</text>\n",
       "</g>\n",
       "<!-- Almacen A -->\n",
       "<g id=\"node4\" class=\"node\">\n",
       "<title>Almacen A</title>\n",
       "<ellipse fill=\"#d8bfd8\" stroke=\"black\" cx=\"220.5\" cy=\"-37.09\" rx=\"37.17\" ry=\"37.17\"/>\n",
       "<text text-anchor=\"middle\" x=\"220.5\" y=\"-34.59\" font-family=\"Times,serif\" font-size=\"10.00\">Almacen A</text>\n",
       "</g>\n",
       "<!-- Tienda 1&#45;&gt;Almacen A -->\n",
       "<g id=\"edge1\" class=\"edge\">\n",
       "<title>Tienda 1&#45;&gt;Almacen A</title>\n",
       "<path fill=\"none\" stroke=\"black\" d=\"M170.74,-124.81C178.64,-111.03 188.46,-93.91 197.29,-78.53\"/>\n",
       "<polygon fill=\"black\" stroke=\"black\" points=\"200.41,-80.13 202.35,-69.71 194.34,-76.65 200.41,-80.13\"/>\n",
       "<text text-anchor=\"middle\" x=\"191.5\" y=\"-95.17\" font-family=\"Times,serif\" font-size=\"10.00\">6</text>\n",
       "</g>\n",
       "<!-- Almacen B -->\n",
       "<g id=\"node5\" class=\"node\">\n",
       "<title>Almacen B</title>\n",
       "<ellipse fill=\"#d8bfd8\" stroke=\"black\" cx=\"36.5\" cy=\"-37.09\" rx=\"36.49\" ry=\"36.49\"/>\n",
       "<text text-anchor=\"middle\" x=\"36.5\" y=\"-34.59\" font-family=\"Times,serif\" font-size=\"10.00\">Almacen B</text>\n",
       "</g>\n",
       "<!-- Tienda 1&#45;&gt;Almacen B -->\n",
       "<g id=\"edge2\" class=\"edge\">\n",
       "<title>Tienda 1&#45;&gt;Almacen B</title>\n",
       "<path fill=\"none\" stroke=\"black\" d=\"M124.57,-147.25C97.91,-141.94 60.76,-129.94 41.5,-103.17 37.41,-97.49 35,-90.75 33.7,-83.81\"/>\n",
       "<polygon fill=\"black\" stroke=\"black\" points=\"37.14,-83.11 32.53,-73.58 30.19,-83.91 37.14,-83.11\"/>\n",
       "<text text-anchor=\"middle\" x=\"44.5\" y=\"-95.17\" font-family=\"Times,serif\" font-size=\"10.00\">8</text>\n",
       "</g>\n",
       "<!-- Almacen C -->\n",
       "<g id=\"node6\" class=\"node\">\n",
       "<title>Almacen C</title>\n",
       "<ellipse fill=\"#d8bfd8\" stroke=\"black\" cx=\"312.5\" cy=\"-37.09\" rx=\"36.49\" ry=\"36.49\"/>\n",
       "<text text-anchor=\"middle\" x=\"312.5\" y=\"-34.59\" font-family=\"Times,serif\" font-size=\"10.00\">Almacen C</text>\n",
       "</g>\n",
       "<!-- Tienda 1&#45;&gt;Almacen C -->\n",
       "<g id=\"edge3\" class=\"edge\">\n",
       "<title>Tienda 1&#45;&gt;Almacen C</title>\n",
       "<path fill=\"none\" stroke=\"black\" d=\"M179.17,-131.47C184.34,-127.71 189.94,-124.06 195.5,-121.17 218.7,-109.13 229.41,-117.16 251.5,-103.17 263.61,-95.51 274.93,-84.88 284.46,-74.43\"/>\n",
       "<polygon fill=\"black\" stroke=\"black\" points=\"287.1,-76.73 291.06,-66.9 281.84,-72.11 287.1,-76.73\"/>\n",
       "<text text-anchor=\"middle\" x=\"271\" y=\"-95.17\" font-family=\"Times,serif\" font-size=\"10.00\">10</text>\n",
       "</g>\n",
       "<!-- Almacen D -->\n",
       "<g id=\"node7\" class=\"node\">\n",
       "<title>Almacen D</title>\n",
       "<ellipse fill=\"#d8bfd8\" stroke=\"black\" cx=\"128.5\" cy=\"-37.09\" rx=\"37.17\" ry=\"37.17\"/>\n",
       "<text text-anchor=\"middle\" x=\"128.5\" y=\"-34.59\" font-family=\"Times,serif\" font-size=\"10.00\">Almacen D</text>\n",
       "</g>\n",
       "<!-- Tienda 1&#45;&gt;Almacen D -->\n",
       "<g id=\"edge4\" class=\"edge\">\n",
       "<title>Tienda 1&#45;&gt;Almacen D</title>\n",
       "<path fill=\"none\" stroke=\"black\" d=\"M129.61,-134.55C119.47,-126.42 108.96,-115.69 103.5,-103.17 99.8,-94.7 100.53,-85.49 103.38,-76.74\"/>\n",
       "<polygon fill=\"black\" stroke=\"black\" points=\"106.62,-78.05 107.2,-67.47 100.15,-75.39 106.62,-78.05\"/>\n",
       "<text text-anchor=\"middle\" x=\"106.5\" y=\"-95.17\" font-family=\"Times,serif\" font-size=\"10.00\">9</text>\n",
       "</g>\n",
       "<!-- Almacen E -->\n",
       "<g id=\"node8\" class=\"node\">\n",
       "<title>Almacen E</title>\n",
       "<ellipse fill=\"#d8bfd8\" stroke=\"black\" cx=\"403.5\" cy=\"-37.09\" rx=\"36.49\" ry=\"36.49\"/>\n",
       "<text text-anchor=\"middle\" x=\"403.5\" y=\"-34.59\" font-family=\"Times,serif\" font-size=\"10.00\">Almacen E</text>\n",
       "</g>\n",
       "<!-- Tienda 1&#45;&gt;Almacen E -->\n",
       "<g id=\"edge5\" class=\"edge\">\n",
       "<title>Tienda 1&#45;&gt;Almacen E</title>\n",
       "<path fill=\"none\" stroke=\"black\" d=\"M178.38,-131.01C183.69,-127.19 189.55,-123.63 195.5,-121.17 249.4,-98.88 272.15,-126.77 325.5,-103.17 342.49,-95.66 358.7,-83.31 371.9,-71.37\"/>\n",
       "<polygon fill=\"black\" stroke=\"black\" points=\"374.4,-73.83 379.31,-64.44 369.61,-68.72 374.4,-73.83\"/>\n",
       "<text text-anchor=\"middle\" x=\"348.5\" y=\"-95.17\" font-family=\"Times,serif\" font-size=\"10.00\">7</text>\n",
       "</g>\n",
       "<!-- Tienda 2 -->\n",
       "<g id=\"node2\" class=\"node\">\n",
       "<title>Tienda 2</title>\n",
       "<ellipse fill=\"#d8bfd8\" stroke=\"black\" cx=\"235.5\" cy=\"-152.37\" rx=\"31.4\" ry=\"31.4\"/>\n",
       "<text text-anchor=\"middle\" x=\"235.5\" y=\"-149.87\" font-family=\"Times,serif\" font-size=\"10.00\">Tienda 2</text>\n",
       "</g>\n",
       "<!-- Tienda 2&#45;&gt;Almacen A -->\n",
       "<g id=\"edge6\" class=\"edge\">\n",
       "<title>Tienda 2&#45;&gt;Almacen A</title>\n",
       "<path fill=\"none\" stroke=\"black\" d=\"M224.39,-122.95C222.36,-116.54 220.55,-109.7 219.5,-103.17 218.54,-97.24 218.02,-90.96 217.8,-84.74\"/>\n",
       "<polygon fill=\"black\" stroke=\"black\" points=\"221.3,-84.36 217.69,-74.4 214.3,-84.43 221.3,-84.36\"/>\n",
       "<text text-anchor=\"middle\" x=\"222.5\" y=\"-95.17\" font-family=\"Times,serif\" font-size=\"10.00\">5</text>\n",
       "</g>\n",
       "<!-- Tienda 2&#45;&gt;Almacen B -->\n",
       "<g id=\"edge7\" class=\"edge\">\n",
       "<title>Tienda 2&#45;&gt;Almacen B</title>\n",
       "<path fill=\"none\" stroke=\"black\" d=\"M212.56,-131.14C207.25,-127.31 201.41,-123.71 195.5,-121.17 150.79,-101.96 129.34,-128.01 87.5,-103.17 76.79,-96.82 67.49,-87.3 59.86,-77.49\"/>\n",
       "<polygon fill=\"black\" stroke=\"black\" points=\"62.57,-75.27 53.86,-69.25 56.92,-79.39 62.57,-75.27\"/>\n",
       "<text text-anchor=\"middle\" x=\"92.5\" y=\"-95.17\" font-family=\"Times,serif\" font-size=\"10.00\">11</text>\n",
       "</g>\n",
       "<!-- Tienda 2&#45;&gt;Almacen C -->\n",
       "<g id=\"edge8\" class=\"edge\">\n",
       "<title>Tienda 2&#45;&gt;Almacen C</title>\n",
       "<path fill=\"none\" stroke=\"black\" d=\"M259.46,-131.99C268.49,-123.81 278.3,-113.73 285.5,-103.17 290,-96.56 293.97,-89.08 297.38,-81.61\"/>\n",
       "<polygon fill=\"black\" stroke=\"black\" points=\"300.68,-82.78 301.39,-72.21 294.25,-80.03 300.68,-82.78\"/>\n",
       "<text text-anchor=\"middle\" x=\"294.5\" y=\"-95.17\" font-family=\"Times,serif\" font-size=\"10.00\">7</text>\n",
       "</g>\n",
       "<!-- Tienda 2&#45;&gt;Almacen D -->\n",
       "<g id=\"edge9\" class=\"edge\">\n",
       "<title>Tienda 2&#45;&gt;Almacen D</title>\n",
       "<path fill=\"none\" stroke=\"black\" d=\"M211.9,-131.33C206.72,-127.58 201.1,-123.97 195.5,-121.17 169.44,-108.18 150.74,-125.87 132.5,-103.17 128.11,-97.72 125.61,-91.1 124.34,-84.2\"/>\n",
       "<polygon fill=\"black\" stroke=\"black\" points=\"127.8,-83.59 123.29,-74 120.84,-84.31 127.8,-83.59\"/>\n",
       "<text text-anchor=\"middle\" x=\"135.5\" y=\"-95.17\" font-family=\"Times,serif\" font-size=\"10.00\">4</text>\n",
       "</g>\n",
       "<!-- Tienda 2&#45;&gt;Almacen E -->\n",
       "<g id=\"edge10\" class=\"edge\">\n",
       "<title>Tienda 2&#45;&gt;Almacen E</title>\n",
       "<path fill=\"none\" stroke=\"black\" d=\"M262.52,-136.24C272.9,-130.9 285.02,-125.22 296.5,-121.17 331.27,-108.9 349.4,-127.06 377.5,-103.17 384.03,-97.62 388.93,-90.2 392.61,-82.35\"/>\n",
       "<polygon fill=\"black\" stroke=\"black\" points=\"395.87,-83.61 396.39,-73.03 389.39,-80.98 395.87,-83.61\"/>\n",
       "<text text-anchor=\"middle\" x=\"388.5\" y=\"-95.17\" font-family=\"Times,serif\" font-size=\"10.00\">3</text>\n",
       "</g>\n",
       "<!-- Tienda 3 -->\n",
       "<g id=\"node3\" class=\"node\">\n",
       "<title>Tienda 3</title>\n",
       "<ellipse fill=\"#d8bfd8\" stroke=\"black\" cx=\"336.5\" cy=\"-152.37\" rx=\"31.4\" ry=\"31.4\"/>\n",
       "<text text-anchor=\"middle\" x=\"336.5\" y=\"-149.87\" font-family=\"Times,serif\" font-size=\"10.00\">Tienda 3</text>\n",
       "</g>\n",
       "<!-- Tienda 3&#45;&gt;Almacen A -->\n",
       "<g id=\"edge11\" class=\"edge\">\n",
       "<title>Tienda 3&#45;&gt;Almacen A</title>\n",
       "<path fill=\"none\" stroke=\"black\" d=\"M324.12,-123.51C318.37,-112.78 310.74,-100.99 301.5,-92.17 289.13,-80.37 281.88,-83.41 267.5,-74.17 264.14,-72.01 260.71,-69.68 257.32,-67.27\"/>\n",
       "<polygon fill=\"black\" stroke=\"black\" points=\"259.16,-64.28 249.03,-61.2 255.03,-69.93 259.16,-64.28\"/>\n",
       "<text text-anchor=\"middle\" x=\"316\" y=\"-95.17\" font-family=\"Times,serif\" font-size=\"10.00\">12</text>\n",
       "</g>\n",
       "<!-- Tienda 3&#45;&gt;Almacen B -->\n",
       "<g id=\"edge12\" class=\"edge\">\n",
       "<title>Tienda 3&#45;&gt;Almacen B</title>\n",
       "<path fill=\"none\" stroke=\"black\" d=\"M309.56,-135.98C299.19,-130.61 287.06,-124.98 275.5,-121.17 232.19,-106.91 218.78,-114.05 174.5,-103.17 164.09,-100.61 91.98,-79.17 82.5,-74.17 78.96,-72.31 75.43,-70.16 71.97,-67.87\"/>\n",
       "<polygon fill=\"black\" stroke=\"black\" points=\"73.79,-64.87 63.61,-61.93 69.74,-70.57 73.79,-64.87\"/>\n",
       "<text text-anchor=\"middle\" x=\"177.5\" y=\"-95.17\" font-family=\"Times,serif\" font-size=\"10.00\">9</text>\n",
       "</g>\n",
       "<!-- Tienda 3&#45;&gt;Almacen C -->\n",
       "<g id=\"edge13\" class=\"edge\">\n",
       "<title>Tienda 3&#45;&gt;Almacen C</title>\n",
       "<path fill=\"none\" stroke=\"black\" d=\"M365.71,-141.07C390.8,-130.55 420.82,-112.84 406.5,-92.17 393.52,-73.44 378.36,-85.33 358.5,-74.17 355.01,-72.21 351.51,-70 348.08,-67.67\"/>\n",
       "<polygon fill=\"black\" stroke=\"black\" points=\"349.91,-64.67 339.75,-61.67 345.82,-70.35 349.91,-64.67\"/>\n",
       "<text text-anchor=\"middle\" x=\"412.5\" y=\"-95.17\" font-family=\"Times,serif\" font-size=\"10.00\">3</text>\n",
       "</g>\n",
       "<!-- Tienda 3&#45;&gt;Almacen D -->\n",
       "<g id=\"edge14\" class=\"edge\">\n",
       "<title>Tienda 3&#45;&gt;Almacen D</title>\n",
       "<path fill=\"none\" stroke=\"black\" d=\"M309.31,-136.07C286.49,-123.52 252.85,-105.69 222.5,-92.17 201.68,-82.9 194.36,-85.33 174.5,-74.17 171.21,-72.32 167.9,-70.25 164.66,-68.06\"/>\n",
       "<polygon fill=\"black\" stroke=\"black\" points=\"166.42,-65.01 156.25,-62.04 162.35,-70.71 166.42,-65.01\"/>\n",
       "<text text-anchor=\"middle\" x=\"248.5\" y=\"-95.17\" font-family=\"Times,serif\" font-size=\"10.00\">8</text>\n",
       "</g>\n",
       "<!-- Tienda 3&#45;&gt;Almacen E -->\n",
       "<g id=\"edge15\" class=\"edge\">\n",
       "<title>Tienda 3&#45;&gt;Almacen E</title>\n",
       "<path fill=\"none\" stroke=\"black\" d=\"M366.24,-142.63C385.14,-135.37 408.11,-122.96 419.5,-103.17 423.67,-95.93 424.24,-87.63 422.9,-79.44\"/>\n",
       "<polygon fill=\"black\" stroke=\"black\" points=\"426.26,-78.43 420.44,-69.57 419.46,-80.12 426.26,-78.43\"/>\n",
       "<text text-anchor=\"middle\" x=\"425.5\" y=\"-95.17\" font-family=\"Times,serif\" font-size=\"10.00\">6</text>\n",
       "</g>\n",
       "</g>\n",
       "</svg>\n"
      ],
      "text/plain": [
       "<graphviz.graphs.Digraph at 0x7ffb39eac2e0>"
      ]
     },
     "execution_count": 2,
     "metadata": {},
     "output_type": "execute_result"
    }
   ],
   "source": [
    "import graphviz\n",
    "\n",
    "graph = graphviz.Graph(engine='neato')\n",
    "\n",
    "# Crear grafo\n",
    "dot = graphviz.Digraph()\n",
    "\n",
    "\n",
    "# Agregar nodos\n",
    "dot.node('Tienda 1', shape=\"circle\", style=\"filled\", fillcolor=\"#D8BFD8\", fontsize= '10')\n",
    "dot.node('Tienda 2', shape=\"circle\", style=\"filled\", fillcolor=\"#D8BFD8\",fontsize= '10')\n",
    "dot.node('Tienda 3', shape=\"circle\", style=\"filled\", fillcolor=\"#D8BFD8\",fontsize= '10')\n",
    "dot.node('Almacen A', shape=\"circle\", style=\"filled\", fillcolor=\"#D8BFD8\",fontsize= '10')\n",
    "dot.node('Almacen B', shape=\"circle\", style=\"filled\", fillcolor=\"#D8BFD8\",fontsize= '10')\n",
    "dot.node('Almacen C', shape=\"circle\", style=\"filled\", fillcolor=\"#D8BFD8\",fontsize= '10')\n",
    "dot.node('Almacen D', shape=\"circle\", style=\"filled\", fillcolor=\"#D8BFD8\",fontsize= '10')\n",
    "dot.node('Almacen E', shape=\"circle\", style=\"filled\", fillcolor=\"#D8BFD8\",fontsize= '10')\n",
    "\n",
    "# Agregar aristas\n",
    "dot.edge('Tienda 1', 'Almacen A', label='6',fontsize= '10')\n",
    "dot.edge('Tienda 1', 'Almacen B', label='8',fontsize= '10')\n",
    "dot.edge('Tienda 1', 'Almacen C', label='10',fontsize= '10')\n",
    "dot.edge('Tienda 1', 'Almacen D', label='9',fontsize= '10')\n",
    "dot.edge('Tienda 1', 'Almacen E', label='7',fontsize= '10')\n",
    "\n",
    "\n",
    "dot.edge('Tienda 2', 'Almacen A', label='5',fontsize= '10')\n",
    "dot.edge('Tienda 2', 'Almacen B', label='11',fontsize= '10')\n",
    "dot.edge('Tienda 2', 'Almacen C', label='7',fontsize= '10')\n",
    "dot.edge('Tienda 2', 'Almacen D', label='4',fontsize= '10')\n",
    "dot.edge('Tienda 2', 'Almacen E', label='3',fontsize= '10')\n",
    "\n",
    "dot.edge('Tienda 3', 'Almacen A', label='12',fontsize= '10')\n",
    "dot.edge('Tienda 3', 'Almacen B', label='9',fontsize= '10')\n",
    "dot.edge('Tienda 3', 'Almacen C', label='3',fontsize= '10')\n",
    "dot.edge('Tienda 3', 'Almacen D', label='8',fontsize= '10')\n",
    "dot.edge('Tienda 3', 'Almacen E', label='6',fontsize= '10')\n",
    "\n",
    "# Mostrar grafo\n",
    "dot"
   ]
  },
  {
   "cell_type": "code",
   "execution_count": null,
   "metadata": {
    "colab": {
     "base_uri": "https://localhost:8080/"
    },
    "id": "woxDRMPtv4ye",
    "outputId": "571be391-b9f4-4f29-8b42-cccc9eb65ec1"
   },
   "outputs": [
    {
     "name": "stdout",
     "output_type": "stream",
     "text": [
      "Costo total de envío: $ 5500.0\n",
      "tienda_1_a_almacen_A = 300.0\n",
      "tienda_1_a_almacen_B = 200.0\n",
      "tienda_1_a_almacen_C = 0.0\n",
      "tienda_1_a_almacen_D = 0.0\n",
      "tienda_1_a_almacen_E = 0.0\n",
      "tienda_2_a_almacen_A = 0.0\n",
      "tienda_2_a_almacen_B = 0.0\n",
      "tienda_2_a_almacen_C = 0.0\n",
      "tienda_2_a_almacen_D = 0.0\n",
      "tienda_2_a_almacen_E = 400.0\n",
      "tienda_3_a_almacen_A = 0.0\n",
      "tienda_3_a_almacen_B = 0.0\n",
      "tienda_3_a_almacen_C = 300.0\n",
      "tienda_3_a_almacen_D = 0.0\n",
      "tienda_3_a_almacen_E = 0.0\n",
      "tienda_4_Ficticia_a_almacen_A = 0.0\n",
      "tienda_4_Ficticia_a_almacen_B = 200.0\n",
      "tienda_4_Ficticia_a_almacen_C = 100.0\n",
      "tienda_4_Ficticia_a_almacen_D = 200.0\n",
      "tienda_4_Ficticia_a_almacen_E = 0.0\n"
     ]
    },
    {
     "name": "stderr",
     "output_type": "stream",
     "text": [
      "/usr/local/lib/python3.9/dist-packages/pulp/pulp.py:1352: UserWarning: Spaces are not permitted in the name. Converted to '_'\n",
      "  warnings.warn(\"Spaces are not permitted in the name. Converted to '_'\")\n"
     ]
    }
   ],
   "source": [
    "import pulp\n",
    "\n",
    "# Creamos el problema de minimización\n",
    "prob = pulp.LpProblem(\"Problema de transporte\", pulp.LpMinimize)\n",
    "\n",
    "# Creamos las variables de decisión\n",
    "x11 = pulp.LpVariable(\"tienda 1 a almacen A\", lowBound=0, cat='Integer')\n",
    "x12 = pulp.LpVariable(\"tienda 1 a almacen B\", lowBound=0, cat='Integer')\n",
    "x13 = pulp.LpVariable(\"tienda 1 a almacen C\", lowBound=0, cat='Integer')\n",
    "x14 = pulp.LpVariable(\"tienda 1 a almacen D\", lowBound=0, cat='Integer')\n",
    "x15 = pulp.LpVariable(\"tienda 1 a almacen E\", lowBound=0, cat='Integer')\n",
    "x21 = pulp.LpVariable(\"tienda 2 a almacen A\", lowBound=0, cat='Integer')\n",
    "x22 = pulp.LpVariable(\"tienda 2 a almacen B\", lowBound=0, cat='Integer')\n",
    "x23 = pulp.LpVariable(\"tienda 2 a almacen C\", lowBound=0, cat='Integer')\n",
    "x24 = pulp.LpVariable(\"tienda 2 a almacen D\", lowBound=0, cat='Integer')\n",
    "x25 = pulp.LpVariable(\"tienda 2 a almacen E\", lowBound=0, cat='Integer')\n",
    "x31 = pulp.LpVariable(\"tienda 3 a almacen A\", lowBound=0, cat='Integer')\n",
    "x32 = pulp.LpVariable(\"tienda 3 a almacen B\", lowBound=0, cat='Integer')\n",
    "x33 = pulp.LpVariable(\"tienda 3 a almacen C\", lowBound=0, cat='Integer')\n",
    "x34 = pulp.LpVariable(\"tienda 3 a almacen D\", lowBound=0, cat='Integer')\n",
    "x35 = pulp.LpVariable(\"tienda 3 a almacen E\", lowBound=0, cat='Integer')\n",
    "x41 = pulp.LpVariable(\"tienda 4 Ficticia a almacen A\", lowBound=0, cat='Integer')\n",
    "x42 = pulp.LpVariable(\"tienda 4 Ficticia a almacen B\", lowBound=0, cat='Integer')\n",
    "x43 = pulp.LpVariable(\"tienda 4 Ficticia a almacen C\", lowBound=0, cat='Integer')\n",
    "x44 = pulp.LpVariable(\"tienda 4 Ficticia a almacen D\", lowBound=0, cat='Integer')\n",
    "x45 = pulp.LpVariable(\"tienda 4 Ficticia a almacen E\", lowBound=0, cat='Integer')\n",
    "\n",
    "# Definimos la función objetivo\n",
    "prob += (6*x11 + 8*x12 + 10*x13 + 9*x14 + 7*x15 + 5*x21 + 11*x22 + 7*x23 + 4*x24 + 3*x25 + 12*x31 + 9*x32 + 3*x33 + 8*x34 + 6*x35), \"Costo total de envío\"\n",
    "\n",
    "# Definimos las restricciones\n",
    "prob += x11 + x12 + x13 + x14 + x15 <= 500, \"Capacidad de producción de tienda 1\"\n",
    "prob += x21 + x22 + x23 + x24 + x25 <= 400, \"Capacidad de producción de tienda 2\"\n",
    "prob += x31 + x32 + x33 + x34 + x35 <= 300, \"Capacidad de producción de tienda 3\"\n",
    "prob += x41 + x42 + x43 + x44 + x45 <= 500, \"Capacidad de producción de tienda 4 Ficticia\"\n",
    "\n",
    "prob += x11 + x21 + x31 + x41 >= 300, \"Demanda del almacén A\"\n",
    "prob += x12 + x22 + x32 + x42 >= 400, \"Demanda del almacén B\"\n",
    "prob += x13 + x23 + x33 + x43 >= 400, \"Demanda del almacén C\"\n",
    "prob += x14 + x24 + x34 + x44 >= 200, \"Demanda del almacén D\"\n",
    "prob += x15 + x25 + x35 + x45 >= 400, \"Demanda del almacén E\"\n",
    "\n",
    "# Resolvemos el problema\n",
    "prob.solve()\n",
    "\n",
    "# Imprimimos la solución\n",
    "print(\"Costo total de envío: $\", pulp.value(prob.objective))\n",
    "for v in prob.variables():\n",
    "    print(v.name, \"=\", v.varValue)\n"
   ]
  },
  {
   "cell_type": "markdown",
   "metadata": {
    "id": "FsFrhwv0Bszo"
   },
   "source": [
    "##### Ejercicio Numero Cinco\n",
    "\n"
   ]
  },
  {
   "cell_type": "markdown",
   "metadata": {
    "id": "NBJ_sUb72E7z"
   },
   "source": [
    "\n",
    "1. Formulación del problema como modelo de transporte:\n",
    "\n",
    "Variables de decisión:\n",
    "\\begin{align*}\n",
    "x_{ij}: cantidad \\ de \\ electricidad \\ enviada \\ desde\\  la \\ planta \\ i \\ a \\ la \\ ciudad \\ j.\n",
    "\\end{align*}\n",
    "Función objetivo:\n",
    "\n",
    "Minimizar el costo total de distribución y compra de electricidad adicional:\n",
    "\n",
    "\n",
    "\\begin{align*}\n",
    "\\min Z= 600x_{11} + 320x_{12} + 500x_{13}+700x_{21} + 300x_{22} + 480x_{23}+400x_{31} + 350x_{32}+450x_{33} + 1000(0.230x_{21}+0.235x_{22}\n",
    "\\end{align*}\n",
    "\n",
    "\n",
    "Sujeto a:\n",
    "\n",
    "Restricciones de capacidad de las plantas:\n",
    "\n",
    "\\begin{align*}\n",
    "x_{11} + x_{12} + x_{13} &\\leq 25 \\\\\n",
    "x_{21} + x_{22} + x_{23} &\\leq 40 \\\\\n",
    "x_{31} + x_{32} &\\leq 30 \\\n",
    "\\end{align*}\n",
    "\n",
    "Restricciones de demanda de las ciudades (antes del aumento de demanda):\n",
    "\n",
    "\\begin{aligned}\n",
    "x_{11} + x_{21} &\\leq 30 \\\\\n",
    "x_{12} + x_{22} &\\leq 35 \\\\\n",
    "x_{13} + x_{23} &\\leq 25 \\\\\n",
    "\\end{aligned}\n",
    "\n",
    "\n",
    "Restricciones de no-negatividad:\n",
    "\n",
    "\\begin{aligned}\n",
    "x_{ij} \\geq 0\n",
    "\\end{aligned}\n",
    "\n",
    "Además, debido a que la ciudad 3 no está conectada a la red para comprar electricidad adicional, la restricción de demanda de la ciudad 3 debe ajustarse a la demanda aumentada, es decir, \\begin{aligned} x_{13} + x_{23} \\leq 25 \\cdot 1.2 \\end{aligned}"
   ]
  },
  {
   "cell_type": "markdown",
   "metadata": {
    "id": "FfSZfRsEvQ69"
   },
   "source": [
    "## VRP. Vehicle Routing Problems\n",
    "\n",
    "El modelo de transporte VRP (Vehicle\n",
    "Routing Problem) es un problema clásico de\n",
    "optimización combinatoria que se enfoca en\n",
    "la distribución eficiente de productos o\n",
    "servicios desde un conjunto de depósitos a un\n",
    "conjunto de clientes, utilizando una flota de\n",
    "vehículos. El objetivo es minimizar los\n",
    "costos totales, como la distancia recorrida o\n",
    "el tiempo de viaje, cumpliendo con las\n",
    "restricciones de capacidad de los vehículos y\n",
    "las demandas de los clientes.\n",
    "(MEDIORREAL, 2014)\n",
    "\n",
    "- hace referencia a la\n",
    "asignación adecuada de las rutas de\n",
    "distribución o abastecimiento, a una flota de\n",
    "carros destinada a transportar la mercancía\n",
    "de un punto de depósito a los clientes. Es\n",
    "considerado un problema NP-hard o NP-\n",
    "complejo, ya que el tiempo de solución del\n",
    "algoritmo no se encuentra ligado al tiempo\n",
    "polinomial, por el contrario, tiene un\n",
    "comportamiento de tipo exponencial.\n",
    "*****\n",
    "\n"
   ]
  },
  {
   "cell_type": "markdown",
   "metadata": {
    "id": "sr60mm0QxrGP"
   },
   "source": [
    "### Modelo Teórico del VRP:\n",
    "\n",
    "#### Datos del Problema:\n",
    "- $N$: Conjunto de clientes (\\( N = \\{1, 2, ..., n\\} \\)).\n",
    "- $V$: Conjunto de vehículos (\\( V = \\{1, 2, ..., m\\} \\)).\n",
    "- $q_i$: Demanda del cliente $i$.\n",
    "- $c_{ij}$: Costo de viajar del cliente $i$ al cliente $j$.\n",
    "- $Q$: Capacidad máxima de carga de cada vehículo.\n",
    "\n",
    "#### Variables de Decisión:\n",
    "- $x_{ij}^k$: Variable binaria que indica si el vehículo $ k$ viaja directamente del cliente \\( $i$ \\) al cliente \\( $j$ \\).\n",
    "- $u_i$: Variable que representa la carga acumulada en el cliente \\( i \\).\n",
    "\n",
    "#### Función Objetivo:\n",
    "$$\n",
    "\\text{Minimizar } \\sum_{i \\in N} \\sum_{j \\in N} \\sum_{k \\in V} c_{ij} \\cdot x_{ij}^k\n",
    "$$\n",
    "\n",
    "#### Restricciones:\n",
    "1. Cada cliente debe ser visitado exactamente una vez por un vehículo:\n",
    "$$\n",
    "\\sum_{j \\in N, j \\neq i} x_{ij}^k = 1, \\quad \\forall i \\in N, \\forall k \\in V\n",
    "$$\n",
    "2. Cada vehículo debe salir de exactamente un depósito y regresar al mismo:\n",
    "$$\n",
    "\\sum_{j \\in N, j \\neq i} x_{0j}^k = 1, \\quad \\forall k \\in V \\\\\n",
    "\\sum_{i \\in N, i \\neq j} x_{ij}^k = 1, \\quad \\forall k \\in V\n",
    "$$\n",
    "3. Capacidad de carga de cada vehículo:\n",
    "$$\n",
    "\\sum_{i \\in N} q_i \\cdot x_{ij}^k \\leq Q, \\quad \\forall j \\in N, \\forall k \\in V\n",
    "$$\n",
    "4. Subtours no permitidos:\n",
    "$$\n",
    "u_i - u_j + Q \\cdot x_{ij}^k \\leq Q - q_j, \\quad \\forall i, j \\in N, j \\neq 0, \\forall k \\in V\n",
    "$$\n",
    "\n",
    "Estas restricciones garantizan que se satisfaga la demanda de todos los clientes, que se respete la capacidad de carga de cada vehículo, y que no se formen subtours en la solución.\n"
   ]
  },
  {
   "cell_type": "markdown",
   "metadata": {
    "id": "ANG3-QOw1YNX"
   },
   "source": [
    "### Ejemplo de VRP Clasico\n",
    "\n",
    "Supongamos que tenemos una flota de tres vehículos que deben entregar paquetes a cinco clientes. Cada cliente tiene una demanda de paquetes que deben satisfacerse, y cada vehículo tiene una capacidad máxima de carga. El objetivo es planificar las rutas de los vehículos de manera que se minimice la distancia total recorrida y se satisfagan todas las demandas de los clientes.\n",
    "\n",
    "Datos del Problema:\n",
    "\n",
    "1. 5 clientes (numerados del 1 al 5).\n",
    "2. 3 vehículos (numerados del 1 al 3).\n",
    "3. Demandas de los clientes: [3, 4, 2, 5, 1].\n",
    "4. Capacidad de carga de cada vehículo: 7.\n",
    "5. Distancias entre los clientes (en km):\n",
    "\n",
    "\n",
    "\\begin{array}{|l|l|l|l|l|l|}\n",
    "\\hline\n",
    " & 1 & 2 & 3 & 4 & 5 \\\\ \\hline\n",
    "1 & 0 & 2 & 3 & 4 & 5 \\\\ \\hline\n",
    "2 & 2 & 0 & 1 & 2 & 3 \\\\ \\hline\n",
    "3 & 3 & 1 & 0 & 1 & 2 \\\\ \\hline\n",
    "4 & 4 & 2 & 1 & 0 & 1 \\\\ \\hline\n",
    "5 & 5 & 3 & 2 & 1 & 0 \\\\ \\hline\n",
    "\\end{array}\n",
    "\n",
    "*Objetivo:*\n",
    "Minimizar la distancia total recorrida.\n",
    "\n",
    "- Restricciones:\n",
    "\n",
    "1. Cada cliente debe ser visitado exactamente una vez por un vehículo.\n",
    "2. Cada vehículo debe salir de un depósito y regresar al mismo.\n",
    "3. La capacidad de carga de cada vehículo no debe superarse.\n",
    "4. No se permiten subtours.\n",
    "\n",
    "modelos de solucion:\n",
    "\n",
    "1. ACO: altgoritmo de la colonia de hormiga:\n",
    "Este algoritmo simula el comportamiento de las hormigas para encontrar soluciones aproximadas a problemas de optimización combinatoria, como el VRP.\n",
    "\n",
    "2. Métodos de Búsqueda Exhaustiva: Estos métodos evalúan todas las posibles combinaciones de rutas de vehículos para encontrar la solución óptima. Esto puede ser práctico para instancias pequeñas del problema, pero se vuelve computacionalmente inviable para instancias más grandes debido a la explosión combinatoria de posibles soluciones.\n",
    "\n",
    "3. Métodos Heurísticos: Los métodos heurísticos utilizan reglas empíricas o estrategias inteligentes para encontrar soluciones subóptimas en un tiempo razonable. Algunos ejemplos incluyen el algoritmo del vecino más cercano, el algoritmo de inserción más barata y el algoritmo del ahorro de distancia.\n",
    "\n",
    "4. Métodos Metaheurísticos: Estos son algoritmos de búsqueda de soluciones aproximadas que pueden escapar de óptimos locales y encontrar soluciones de alta calidad en un tiempo razonable. Además de ACO, otros métodos metaheurísticos comunes incluyen el algoritmo genético, la búsqueda tabú, la búsqueda de vecindario variable y el recocido simulado.\n",
    "\n",
    "5. Programación Lineal Entera (ILP): La formulación del VRP como un problema de programación lineal entera permite utilizar solucionadores de ILP para encontrar la solución óptima. Sin embargo, la complejidad computacional de estos solucionadores puede hacer que este enfoque sea impráctico para instancias grandes.\n",
    "\n",
    "6. Métodos Basados en Algoritmos de Árbol de Expansión Mínima: Algunos métodos utilizan algoritmos como Prim o Kruskal para construir una ruta inicial y luego aplican heurísticas para mejorarla.\n",
    "\n",
    "\n"
   ]
  },
  {
   "cell_type": "markdown",
   "metadata": {
    "id": "Fb7hWXuH9_lH"
   },
   "source": [
    "resolviendo en PL\n",
    "\n",
    "**Variables de Decisión:**\n",
    "- $x_{ijk}$: Variable binaria que indica si el vehículo  $i$ viaja de cliente $j$ a cliente $k$.\n",
    "- $u_i$: Variable que representa el total de carga entregada por el vehículo $i$.\n",
    "\n",
    "**Función Objetivo:**\n",
    "- $ \\text{Minimizar} \\sum_{i=1}^{3} \\sum_{j=0}^{5} \\sum_{k=0}^{5} c_{jk} \\cdot x_{ijk}$\n",
    "\n",
    "**Restricciones:**\n",
    "1. Cada cliente debe ser visitado exactamente una vez por un vehículo:\n",
    "$$\n",
    "1. \\sum_{i=1}^{3} x_{ijk} = 1, \\quad \\forall j \\in {1, 2, 3, 4, 5}\\\\\n",
    "2. \\sum_{j=1}^{5} x_{i0j} = 1, \\quad \\forall i \\in \\{1, 2, 3\\}\n",
    "$$\n",
    "2. Cada vehículo debe salir de un depósito y regresar al mismo:\n",
    "$$\n",
    "1. \\sum_{j=1}^{5} x_{ij0} = 1, \\quad \\forall i \\in \\{1, 2, 3\\}\\\\\n",
    "2. \\sum_{i=1}^{3} x_{i00} = 1\n",
    "$$\n",
    "3. Capacidad de carga de cada vehículo:\n",
    "$$\n",
    "u_i - u_j + Q \\cdot x_{ijk} \\leq Q - q_k,\\\\ \\quad \\forall i \\in \\{1, 2, 3\\}, \\forall j,k \\in \\{1, 2, 3, 4, 5\\}, j \\neq k\n",
    "$$\n",
    "4. Subtours no permitidos:\n",
    "$$\n",
    "1. u_1 \\geq q_j \\cdot x_{1jk}, \\quad \\forall j \\in \\{1, 2, 3, 4, 5\\}\\\\\n",
    "2. u_2 \\geq q_j \\cdot x_{2jk}, \\quad \\forall j \\in \\{1, 2, 3, 4, 5\\}\\\\\n",
    "3. u_3 \\geq q_j \\cdot x_{3jk}, \\quad \\forall j \\in \\{1, 2, 3, 4, 5\\}\\\\\n",
    "$$\n",
    "**Donde:**\n",
    "- $Q$ es la capacidad máxima de carga de cada vehículo.\n",
    "- $q_j$ es la demanda del cliente $j$.\n",
    "- $c_{jk}$ es el costo de viajar del cliente $j$ al cliente $k$.\n"
   ]
  },
  {
   "cell_type": "code",
   "execution_count": null,
   "metadata": {
    "colab": {
     "base_uri": "https://localhost:8080/",
     "height": 257
    },
    "id": "6_SNFsmHJ0tI",
    "outputId": "73c3f782-fb28-484d-b280-532160c5cc8f"
   },
   "outputs": [
    {
     "data": {
      "image/svg+xml": [
       "<?xml version=\"1.0\" encoding=\"UTF-8\" standalone=\"no\"?>\n",
       "<!DOCTYPE svg PUBLIC \"-//W3C//DTD SVG 1.1//EN\"\n",
       " \"http://www.w3.org/Graphics/SVG/1.1/DTD/svg11.dtd\">\n",
       "<!-- Generated by graphviz version 2.43.0 (0)\n",
       " -->\n",
       "<!-- Title: %3 Pages: 1 -->\n",
       "<svg width=\"317pt\" height=\"177pt\"\n",
       " viewBox=\"0.00 0.00 317.46 177.44\" xmlns=\"http://www.w3.org/2000/svg\" xmlns:xlink=\"http://www.w3.org/1999/xlink\">\n",
       "<g id=\"graph0\" class=\"graph\" transform=\"scale(1 1) rotate(0) translate(4 173.44)\">\n",
       "<title>%3</title>\n",
       "<polygon fill=\"white\" stroke=\"transparent\" points=\"-4,4 -4,-173.44 313.46,-173.44 313.46,4 -4,4\"/>\n",
       "<!-- Planta 1 -->\n",
       "<g id=\"node1\" class=\"node\">\n",
       "<title>Planta 1</title>\n",
       "<ellipse fill=\"#add8e6\" stroke=\"black\" cx=\"60.46\" cy=\"-140.01\" rx=\"29.37\" ry=\"29.37\"/>\n",
       "<text text-anchor=\"middle\" x=\"60.46\" y=\"-137.51\" font-family=\"Times,serif\" font-size=\"10.00\">Planta 1</text>\n",
       "</g>\n",
       "<!-- Ciudad 1 -->\n",
       "<g id=\"node4\" class=\"node\">\n",
       "<title>Ciudad 1</title>\n",
       "<ellipse fill=\"#add8e6\" stroke=\"black\" cx=\"120.46\" cy=\"-31.79\" rx=\"31.58\" ry=\"31.58\"/>\n",
       "<text text-anchor=\"middle\" x=\"120.46\" y=\"-29.29\" font-family=\"Times,serif\" font-size=\"10.00\">Ciudad 1</text>\n",
       "</g>\n",
       "<!-- Planta 1&#45;&gt;Ciudad 1 -->\n",
       "<g id=\"edge1\" class=\"edge\">\n",
       "<title>Planta 1&#45;&gt;Ciudad 1</title>\n",
       "<path fill=\"none\" stroke=\"black\" d=\"M74.53,-114.1C82.16,-100.6 91.72,-83.66 100.15,-68.75\"/>\n",
       "<polygon fill=\"black\" stroke=\"black\" points=\"103.35,-70.2 105.22,-59.77 97.25,-66.75 103.35,-70.2\"/>\n",
       "<text text-anchor=\"middle\" x=\"100.46\" y=\"-84.58\" font-family=\"Times,serif\" font-size=\"10.00\">600</text>\n",
       "</g>\n",
       "<!-- Ciudad 2 -->\n",
       "<g id=\"node5\" class=\"node\">\n",
       "<title>Ciudad 2</title>\n",
       "<ellipse fill=\"#add8e6\" stroke=\"black\" cx=\"38.46\" cy=\"-31.79\" rx=\"31.58\" ry=\"31.58\"/>\n",
       "<text text-anchor=\"middle\" x=\"38.46\" y=\"-29.29\" font-family=\"Times,serif\" font-size=\"10.00\">Ciudad 2</text>\n",
       "</g>\n",
       "<!-- Planta 1&#45;&gt;Ciudad 2 -->\n",
       "<g id=\"edge2\" class=\"edge\">\n",
       "<title>Planta 1&#45;&gt;Ciudad 2</title>\n",
       "<path fill=\"none\" stroke=\"black\" d=\"M34.72,-125.63C22.55,-117.79 9.22,-106.64 2.46,-92.58 -2.66,-81.91 1.36,-70.68 8.3,-60.87\"/>\n",
       "<polygon fill=\"black\" stroke=\"black\" points=\"11.09,-62.98 14.68,-53.01 5.66,-58.57 11.09,-62.98\"/>\n",
       "<text text-anchor=\"middle\" x=\"10.46\" y=\"-84.58\" font-family=\"Times,serif\" font-size=\"10.00\">700</text>\n",
       "</g>\n",
       "<!-- Ciudad 3 -->\n",
       "<g id=\"node6\" class=\"node\">\n",
       "<title>Ciudad 3</title>\n",
       "<ellipse fill=\"#add8e6\" stroke=\"black\" cx=\"235.46\" cy=\"-31.79\" rx=\"31.58\" ry=\"31.58\"/>\n",
       "<text text-anchor=\"middle\" x=\"235.46\" y=\"-29.29\" font-family=\"Times,serif\" font-size=\"10.00\">Ciudad 3</text>\n",
       "</g>\n",
       "<!-- Planta 1&#45;&gt;Ciudad 3 -->\n",
       "<g id=\"edge3\" class=\"edge\">\n",
       "<title>Planta 1&#45;&gt;Ciudad 3</title>\n",
       "<path fill=\"none\" stroke=\"black\" d=\"M82.61,-120.57C87.89,-116.84 93.68,-113.25 99.46,-110.58 130.58,-96.2 144.47,-109.17 174.46,-92.58 187.3,-85.47 199.33,-74.92 209.26,-64.65\"/>\n",
       "<polygon fill=\"black\" stroke=\"black\" points=\"211.86,-66.99 216.1,-57.28 206.73,-62.23 211.86,-66.99\"/>\n",
       "<text text-anchor=\"middle\" x=\"198.46\" y=\"-84.58\" font-family=\"Times,serif\" font-size=\"10.00\">400</text>\n",
       "</g>\n",
       "<!-- Planta 2 -->\n",
       "<g id=\"node2\" class=\"node\">\n",
       "<title>Planta 2</title>\n",
       "<ellipse fill=\"#add8e6\" stroke=\"black\" cx=\"274.46\" cy=\"-140.01\" rx=\"29.37\" ry=\"29.37\"/>\n",
       "<text text-anchor=\"middle\" x=\"274.46\" y=\"-137.51\" font-family=\"Times,serif\" font-size=\"10.00\">Planta 2</text>\n",
       "</g>\n",
       "<!-- Planta 2&#45;&gt;Ciudad 1 -->\n",
       "<g id=\"edge4\" class=\"edge\">\n",
       "<title>Planta 2&#45;&gt;Ciudad 1</title>\n",
       "<path fill=\"none\" stroke=\"black\" d=\"M263.52,-112.62C257.95,-101.81 250.26,-89.91 240.46,-81.58 223.73,-67.35 214.82,-71.79 194.46,-63.58 182.87,-58.9 170.3,-53.71 158.86,-48.95\"/>\n",
       "<polygon fill=\"black\" stroke=\"black\" points=\"160.15,-45.69 149.57,-45.07 157.45,-52.15 160.15,-45.69\"/>\n",
       "<text text-anchor=\"middle\" x=\"257.46\" y=\"-84.58\" font-family=\"Times,serif\" font-size=\"10.00\">320</text>\n",
       "</g>\n",
       "<!-- Planta 2&#45;&gt;Ciudad 2 -->\n",
       "<g id=\"edge5\" class=\"edge\">\n",
       "<title>Planta 2&#45;&gt;Ciudad 2</title>\n",
       "<path fill=\"none\" stroke=\"black\" d=\"M246.78,-129.68C222.12,-121.05 185.28,-107.35 154.46,-92.58 145.66,-88.36 144.38,-85.54 135.46,-81.58 111.57,-70.97 102.68,-75.59 79.46,-63.58 76.7,-62.15 73.94,-60.54 71.21,-58.82\"/>\n",
       "<polygon fill=\"black\" stroke=\"black\" points=\"72.97,-55.79 62.73,-53.07 69.05,-61.58 72.97,-55.79\"/>\n",
       "<text text-anchor=\"middle\" x=\"162.46\" y=\"-84.58\" font-family=\"Times,serif\" font-size=\"10.00\">300</text>\n",
       "</g>\n",
       "<!-- Planta 2&#45;&gt;Ciudad 3 -->\n",
       "<g id=\"edge6\" class=\"edge\">\n",
       "<title>Planta 2&#45;&gt;Ciudad 3</title>\n",
       "<path fill=\"none\" stroke=\"black\" d=\"M289.36,-114.43C293.73,-104.05 296.2,-91.99 291.46,-81.58 286.8,-71.33 278.81,-62.4 270.3,-55.08\"/>\n",
       "<polygon fill=\"black\" stroke=\"black\" points=\"272.42,-52.3 262.42,-48.82 268.07,-57.78 272.42,-52.3\"/>\n",
       "<text text-anchor=\"middle\" x=\"301.46\" y=\"-84.58\" font-family=\"Times,serif\" font-size=\"10.00\">350</text>\n",
       "</g>\n",
       "<!-- Planta 3 -->\n",
       "<g id=\"node3\" class=\"node\">\n",
       "<title>Planta 3</title>\n",
       "<ellipse fill=\"#add8e6\" stroke=\"black\" cx=\"137.46\" cy=\"-140.01\" rx=\"29.37\" ry=\"29.37\"/>\n",
       "<text text-anchor=\"middle\" x=\"137.46\" y=\"-137.51\" font-family=\"Times,serif\" font-size=\"10.00\">Planta 3</text>\n",
       "</g>\n",
       "<!-- Planta 3&#45;&gt;Ciudad 1 -->\n",
       "<g id=\"edge7\" class=\"edge\">\n",
       "<title>Planta 3&#45;&gt;Ciudad 1</title>\n",
       "<path fill=\"none\" stroke=\"black\" d=\"M125.44,-112.99C122.97,-106.46 120.73,-99.37 119.46,-92.58 118.35,-86.63 117.79,-80.29 117.6,-74.04\"/>\n",
       "<polygon fill=\"black\" stroke=\"black\" points=\"121.1,-73.7 117.58,-63.71 114.1,-73.72 121.1,-73.7\"/>\n",
       "<text text-anchor=\"middle\" x=\"127.46\" y=\"-84.58\" font-family=\"Times,serif\" font-size=\"10.00\">500</text>\n",
       "</g>\n",
       "<!-- Planta 3&#45;&gt;Ciudad 2 -->\n",
       "<g id=\"edge8\" class=\"edge\">\n",
       "<title>Planta 3&#45;&gt;Ciudad 2</title>\n",
       "<path fill=\"none\" stroke=\"black\" d=\"M114.23,-121.47C109.1,-117.77 103.65,-113.96 98.46,-110.58 85.12,-101.87 78.3,-104.25 67.46,-92.58 61.71,-86.38 56.88,-78.84 52.91,-71.23\"/>\n",
       "<polygon fill=\"black\" stroke=\"black\" points=\"55.97,-69.51 48.49,-62 49.65,-72.53 55.97,-69.51\"/>\n",
       "<text text-anchor=\"middle\" x=\"75.46\" y=\"-84.58\" font-family=\"Times,serif\" font-size=\"10.00\">480</text>\n",
       "</g>\n",
       "<!-- Planta 3&#45;&gt;Ciudad 3 -->\n",
       "<g id=\"edge9\" class=\"edge\">\n",
       "<title>Planta 3&#45;&gt;Ciudad 3</title>\n",
       "<path fill=\"none\" stroke=\"black\" d=\"M164.56,-127.98C180.71,-120.2 200.51,-108.35 213.46,-92.58 218.24,-86.76 222.03,-79.81 225.02,-72.74\"/>\n",
       "<polygon fill=\"black\" stroke=\"black\" points=\"228.39,-73.71 228.63,-63.12 221.84,-71.26 228.39,-73.71\"/>\n",
       "<text text-anchor=\"middle\" x=\"228.46\" y=\"-84.58\" font-family=\"Times,serif\" font-size=\"10.00\">450</text>\n",
       "</g>\n",
       "</g>\n",
       "</svg>\n"
      ],
      "text/plain": [
       "<graphviz.graphs.Digraph at 0x7f9dced98df0>"
      ]
     },
     "execution_count": 23,
     "metadata": {},
     "output_type": "execute_result"
    }
   ],
   "source": [
    "import graphviz\n",
    "\n",
    "graph = graphviz.Graph(engine='neato')\n",
    "\n",
    "# Crear grafo\n",
    "dot = graphviz.Digraph()\n",
    "\n",
    "\n",
    "# Agregar nodos\n",
    "dot.node('Planta 1', shape=\"circle\", style=\"filled\", fillcolor=\"#ADD8E6\", fontsize= '10')\n",
    "dot.node('Planta 2', shape=\"circle\", style=\"filled\", fillcolor=\"#ADD8E6\",fontsize= '10')\n",
    "dot.node('Planta 3', shape=\"circle\", style=\"filled\", fillcolor=\"#ADD8E6\",fontsize= '10')\n",
    "dot.node('Ciudad 1', shape=\"circle\", style=\"filled\", fillcolor=\"#ADD8E6\",fontsize= '10')\n",
    "dot.node('Ciudad 2', shape=\"circle\", style=\"filled\", fillcolor=\"#ADD8E6\",fontsize= '10')\n",
    "dot.node('Ciudad 3', shape=\"circle\", style=\"filled\", fillcolor=\"#ADD8E6\",fontsize= '10')\n",
    "\n",
    "\n",
    "# Agregar aristas\n",
    "dot.edge('Planta 1', 'Ciudad 1', label='600',fontsize= '10')\n",
    "dot.edge('Planta 1', 'Ciudad 2', label='700',fontsize= '10')\n",
    "dot.edge('Planta 1', 'Ciudad 3', label='400',fontsize= '10')\n",
    "\n",
    "\n",
    "dot.edge('Planta 2', 'Ciudad 1', label='320',fontsize= '10')\n",
    "dot.edge('Planta 2', 'Ciudad 2', label='300',fontsize= '10')\n",
    "dot.edge('Planta 2', 'Ciudad 3', label='350',fontsize= '10')\n",
    "\n",
    "\n",
    "dot.edge('Planta 3', 'Ciudad 1', label='500',fontsize= '10')\n",
    "dot.edge('Planta 3', 'Ciudad 2', label='480',fontsize= '10')\n",
    "dot.edge('Planta 3', 'Ciudad 3', label='450',fontsize= '10')\n",
    "\n",
    "\n",
    "# Mostrar grafo\n",
    "dot"
   ]
  },
  {
   "cell_type": "code",
   "execution_count": null,
   "metadata": {
    "colab": {
     "base_uri": "https://localhost:8080/"
    },
    "id": "fSbpuXayLoTF",
    "outputId": "92953aac-48a7-476e-a0b2-958b9d0ce87e"
   },
   "outputs": [
    {
     "name": "stdout",
     "output_type": "stream",
     "text": [
      "La solución óptima es:\n",
      "x11 =  0.0\n",
      "x12 =  0.0\n",
      "x13 =  0.0\n",
      "x21 =  0.0\n",
      "x22 =  0.0\n",
      "x23 =  25.0\n",
      "x31 =  30.0\n",
      "x32 =  35.0\n",
      "x33 =  0.0\n",
      "El costo total es: 40550.0\n"
     ]
    }
   ],
   "source": [
    "# Importar la librería PuLP\n",
    "import pulp\n",
    "\n",
    "# Crear un problema de minimización\n",
    "problema = pulp.LpProblem(\"Problema_Electricidad\", pulp.LpMinimize)\n",
    "\n",
    "# Definir las variables de decisión\n",
    "x11 = pulp.LpVariable(\"x11\", lowBound=0, cat='Continuous')\n",
    "x12 = pulp.LpVariable(\"x12\", lowBound=0, cat='Continuous')\n",
    "x13 = pulp.LpVariable(\"x13\", lowBound=0, cat='Continuous')\n",
    "x21 = pulp.LpVariable(\"x21\", lowBound=0, cat='Continuous')\n",
    "x22 = pulp.LpVariable(\"x22\", lowBound=0, cat='Continuous')\n",
    "x23 = pulp.LpVariable(\"x23\", lowBound=0, cat='Continuous')\n",
    "x31 = pulp.LpVariable(\"x31\", lowBound=0, cat='Continuous')\n",
    "x32 = pulp.LpVariable(\"x32\", lowBound=0, cat='Continuous')\n",
    "x33 = pulp.LpVariable(\"x33\", lowBound=0, cat='Continuous')\n",
    "\n",
    "# Definir la función objetivo\n",
    "problema += 600*x11 + 700*x12 + 400*x13 + 320*x21 + 300*x22 + 350*x23 + 500*x31 + 480*x32 + 450*x33 \\\n",
    "            + 1000*0.2*(x11 + x12 + x21 + x22)\n",
    "\n",
    "# Definir las restricciones\n",
    "problema += (x11 + x21 + x31 >= 30)\n",
    "problema += (x12 + x22 + x32 >= 35)\n",
    "problema += (x13 + x23 >= 25)\n",
    "problema += (x11 + x12 + x13 <= 25)\n",
    "problema += (x21 + x22 + x23 <= 40)\n",
    "problema += (x31 <= 30)\n",
    "\n",
    "# Resolver el problema\n",
    "problema.solve()\n",
    "\n",
    "# Imprimir la solución\n",
    "print(\"La solución óptima es:\")\n",
    "print(\"x11 = \", pulp.value(x11))\n",
    "print(\"x12 = \", pulp.value(x12))\n",
    "print(\"x13 = \", pulp.value(x13))\n",
    "print(\"x21 = \", pulp.value(x21))\n",
    "print(\"x22 = \", pulp.value(x22))\n",
    "print(\"x23 = \", pulp.value(x23))\n",
    "print(\"x31 = \", pulp.value(x31))\n",
    "print(\"x32 = \", pulp.value(x32))\n",
    "print(\"x33 = \", pulp.value(x33))\n",
    "print(\"El costo total es:\", pulp.value(problema.objective))\n"
   ]
  },
  {
   "cell_type": "markdown",
   "metadata": {
    "id": "82SOJR1AqAlG"
   },
   "source": [
    "***\n",
    "## El modelo de Transbordo\n",
    "***\n",
    "\n",
    "En el modelo de transbordo o Cross docking se inicia con el supuesto que el hecho de pasar por nodos intermedios supone un ahorro al sistema, mientras que el modelo general de transporte solo supone entregas directas.\n",
    "\n",
    "Ejemplo:\n",
    "\n",
    "dopn fabricas de producto X $P_1\\ y\\ P_2$ en asocian con tres agencias $D_1, D_2\\ y\\ D_3$ a travez de dos centros de distribicion $T_1\\ y\\ T_2$\n",
    "\n",
    "1. genere el modelo de red de este apartado a mano y en colab. usando Graphviz\n",
    "\n"
   ]
  },
  {
   "cell_type": "code",
   "execution_count": null,
   "metadata": {
    "colab": {
     "base_uri": "https://localhost:8080/",
     "height": 295
    },
    "id": "9t8G7kE1sCsX",
    "outputId": "80345c50-e49e-4fe7-8150-12eaa5d9988f"
   },
   "outputs": [
    {
     "data": {
      "image/jpeg": "[encoded data removed]",
      "text/plain": [
       "<IPython.core.display.Image object>"
      ]
     },
     "execution_count": 2,
     "metadata": {},
     "output_type": "execute_result"
    }
   ],
   "source": [
    "from IPython.display import Image\n",
    "Image(filename='/content/drive/MyDrive/Libros academicos en colab/1. Logistica/Imagen 16-03-23 a las 1.26 p.m..jpeg')"
   ]
  },
  {
   "cell_type": "markdown",
   "metadata": {
    "id": "T8cDqWO5v0xy"
   },
   "source": [
    "La oferta  de las plantas son como se muestran en la figura:\n",
    "\n",
    "$\n",
    "- Demanda\\ en\\ los\\ P_n \\\\\n",
    "P_1 = 1000\\ Un \\\\\n",
    "P_2 = 1200\\ Un \\\\\n",
    "\\\\\n",
    "- Demanda\\ en\\ los\\ D_n \\\\\n",
    "D_1= 800 \\\\\n",
    "D_2=900 \\\\\n",
    "D_3= 500 \\\\\n",
    "$\n",
    "\n",
    "Note que los nodos $t_n\\ y\\ D_n$ funcionan como entrada y salida. a estos se les denomina **Nodos de Transbordo**\n",
    "\n",
    "- los nodos de oferta pura son los emisores de las unidades\n",
    "- los nodos de demanda pura son los qu solop reciben unidades\n",
    "- los nodos de transbordo son los que cumplen estas dos funciones al tiempo. (oferta original + Amortiguador)\n",
    "- los nodos de demanda pura y transbordo  tiene (demanada original + Amrtiguador)\n",
    "\n",
    "la Cantidad *amortiguador* debe ser lo suficentemente grande para garantizar toda la oferta o demanda *original* pase por cualquiera de los nodos de Transbordo siendo $B$ la cantidad deseada de amortiguador. entonces:\n",
    "\n",
    "$\n",
    "B= Oferta(Demanda)\\ total \\\\\n",
    "= 1000+1200 (ú\\ 800 +900+500) \\\\\n",
    "=2200 unidades\n",
    "$\n",
    "\n",
    "con este amortiguador este modelpo se transforma en un modelo original de transporte (...)\n",
    "\n",
    "A continuacion la respuesta al modelo usando el modelo tradicional de transporte.\n",
    "\n"
   ]
  },
  {
   "cell_type": "markdown",
   "metadata": {
    "id": "ppvjlCOs2174"
   },
   "source": [
    "\n",
    "\\begin{array}{c|c|c|c|c|c|c}\n",
    "-& T_1 & T_2 & D_1 & D_2 & D_3 &  \\\\ \\hline\n",
    "P_1 & 3 & 4 & M & M & M & 1000 \\\\ \\hline\n",
    "P_2 & 2 & 5 & M & M & M & 1200 \\\\ \\hline\n",
    "T_1 & 0 & 7 & 8 & 6 & M & B \\\\ \\hline\n",
    "T_2 & M & 0 & M & 4 & 9 & B \\\\ \\hline\n",
    "D_1 & M & M & 0 & 5 & M & B \\\\ \\hline\n",
    "D_2 & M & M & M & 0 & 3 & B \\\\ \\hline\n",
    "\\hline\n",
    " & B & B & 800+B & 900+B & 500 &\n",
    "\\end{array}\n"
   ]
  },
  {
   "cell_type": "markdown",
   "metadata": {
    "id": "W6VN9F-t6Wfs"
   },
   "source": [
    "**\n",
    "Ejercicios de Transbordo:\n",
    "***\n",
    "1. Formule el modelo correspondiente a los siguinetes diagramas:"
   ]
  },
  {
   "cell_type": "code",
   "execution_count": null,
   "metadata": {
    "colab": {
     "base_uri": "https://localhost:8080/",
     "height": 217
    },
    "id": "byAPaTnB6mEl",
    "outputId": "a809ced2-c3d3-4457-d69e-99202ffbe991"
   },
   "outputs": [
    {
     "data": {
      "image/jpeg": "[encoded data removed]",
      "text/plain": [
       "<IPython.core.display.Image object>"
      ]
     },
     "execution_count": 5,
     "metadata": {
      "image/jpeg": {
       "height": 200,
       "width": 300
      }
     },
     "output_type": "execute_result"
    }
   ],
   "source": [
    "from IPython.display import Image\n",
    "Image(filename='/content/drive/MyDrive/Libros academicos en colab/1. Logistica/red2.jpeg',width = 300, height = 200)"
   ]
  },
  {
   "cell_type": "code",
   "execution_count": null,
   "metadata": {
    "colab": {
     "base_uri": "https://localhost:8080/",
     "height": 355
    },
    "id": "ne_vGJPi6yF4",
    "outputId": "cbf98e11-c0a2-4ae1-fd81-22f5d3e428a6"
   },
   "outputs": [
    {
     "data": {
      "image/jpeg": "[encoded data removed]",
      "text/plain": [
       "<IPython.core.display.Image object>"
      ]
     },
     "execution_count": 4,
     "metadata": {},
     "output_type": "execute_result"
    }
   ],
   "source": [
    "from IPython.display import Image\n",
    "Image(filename='/content/drive/MyDrive/Libros academicos en colab/1. Logistica/red3.jpeg')"
   ]
  },
  {
   "cell_type": "markdown",
   "metadata": {
    "id": "NWP14QIkMCPM"
   },
   "source": [
    "### Almacenamiento en Bodegas o CEDIS\n",
    "\n",
    "#### Definiciones:\n",
    "\n",
    "**Almacenaje y Sistemas de Almacenamiento:**\n",
    "\n",
    "1. *Almacenaje:* Es el proceso de guardar y organizar productos o mercancías en un lugar específico, como un almacén o bodega.\n",
    "\n",
    "2. *Sistemas de Almacenamiento:* Se refiere a las estructuras y métodos utilizados para almacenar los productos de manera eficiente, como estanterías, paletas, racks, etc.\n",
    "\n",
    "\n",
    "**Procedimiento de Control y Gestión de Almacenes:**\n",
    "\n",
    "1. *Control:* Implica supervisar y monitorear todas las actividades que se realizan dentro del almacén, desde la recepción de mercancías hasta su despacho.\n",
    "\n",
    "2. *Gestión:* Se enfoca en planificar, organizar y coordinar los recursos del almacén para optimizar su funcionamiento.\n",
    "\n",
    "**Procedimiento de Despacho y Devoluciones:**\n",
    "\n",
    "1. *Despacho:* Es el proceso de preparar y enviar los productos a los clientes o a otros destinos.\n",
    "\n",
    "2. *Devoluciones:* Se refiere a la recepción de productos que son retornados por los clientes, ya sea por defectos, cambios o cancelaciones.\n",
    "\n"
   ]
  },
  {
   "cell_type": "markdown",
   "metadata": {
    "id": "eVqJPyflNyC9"
   },
   "source": [
    "#### Sistemas de Alamcenamiento en CEDIS\n",
    "\n",
    "\n",
    "Los sistemas de almacenamiento en los Centros de Distribución (CEDIS) son cruciales para una gestión eficiente del inventario y un flujo óptimo de productos. Existen diversos sistemas, cada uno con ventajas e inconvenientes según el tipo de producto, espacio disponible y nivel de automatización deseado. Algunos de los más comunes son:\n",
    "\n",
    "1. Almacenamiento en bloque:\n",
    "\n",
    "- La mercancía se apila directamente en el suelo, formando bloques compactos.\n",
    "- Ideal para productos homogéneos y de alta rotación, que no requieren acceso individual.\n",
    "- Bajo costo de implementación pero puede dificultar el acceso a productos específicos y generar pérdidas por aplastamiento.\n",
    "\n",
    "2. Estanterías convencionales:\n",
    "\n",
    "- Sistema versátil y ampliamente utilizado, con estanterías de diferentes alturas y configuraciones.\n",
    "- Permite el acceso individual a cada paleta y facilita la organización del inventario.\n",
    "- Costo moderado y adaptable a diferentes tipos de productos, pero puede limitar el uso del espacio vertical.\n",
    "\n",
    "3. Estanterías compactas (Drive-in / Drive-through):\n",
    "\n",
    "- Las carretillas elevadoras entran en las estanterías para depositar o retirar las paletas.\n",
    "- Alta densidad de almacenamiento, ideal para productos con gran volumen y poca rotación.\n",
    "- Mayor costo de implementación y requiere pasillos más anchos, limitando el número de referencias.\n",
    "\n",
    "4. Estanterías dinámicas:\n",
    "\n",
    "- Las paletas se deslizan por gravedad sobre rodillos, siguiendo el principio FIFO (First In, First Out).\n",
    "- Ideal para productos perecederos o con fecha de caducidad.\n",
    "- Asegura la rotación del inventario pero tiene un costo elevado y menor capacidad que otros sistemas.\n",
    "\n",
    "5. Estanterías móviles:\n",
    "\n",
    "- Se instalan sobre bases móviles que se desplazan sobre raíles, compactando el espacio.\n",
    "- Optimiza el espacio disponible, ideal para almacenes con espacio limitado.\n",
    "- Alto costo de implementación y requiere un sistema de control sofisticado.\n",
    "\n",
    "6. Sistemas automatizados:\n",
    "\n",
    "- Utilizan transelevadores, robots y sistemas de control para automatizar las operaciones de almacenamiento y recuperación.\n",
    "- Alta eficiencia y precisión, ideal para grandes volúmenes y alta rotación.\n",
    "- Requiere una inversión inicial considerable y personal especializado.\n",
    "\n",
    "7. Carruseles horizontales y verticales:\n",
    "\n",
    "- Sistemas rotativos que llevan los productos al operario.\n",
    "- Ideal para piezas pequeñas y medianas, optimizando la preparación de pedidos.\n",
    "- Costo elevado y capacidad limitada.\n",
    "\n"
   ]
  },
  {
   "cell_type": "markdown",
   "metadata": {
    "id": "SmgTzzfVOgjS"
   },
   "source": [
    "### Modelos para solucionar los problemas de asignacion y transporte\n",
    "\n",
    "1. ***Asignacion:*** El método de asignación es una técnica de optimización utilizada para resolver problemas de asignación, que son un caso especial de los problemas de transporte.\n",
    "\n"
   ]
  },
  {
   "cell_type": "markdown",
   "metadata": {
    "id": "6PdTZYWv65Pb"
   },
   "source": [
    "resuelva los modelos anteriores y describa su respuesta segun el modelo de optimizacion tradiconal de transporte.\n",
    "\n",
    "Características:\n",
    "\n",
    "1. Cada recurso debe ser asignado a una sola tarea.\n",
    "2. Cada tarea debe ser asignada a un solo recurso.\n",
    "3. El objetivo es encontrar la asignación óptima que minimice el costo total o maximice el beneficio.\n",
    "\n",
    "\n",
    "#### Pasos del método de asignación:\n",
    "\n",
    "1. Crear una matriz de costos:\n",
    "Las filas representan los recursos y las columnas representan las tareas.\n",
    "Cada celda contiene el costo de asignar un recurso específico a una tarea específica.\n",
    "\n",
    "2. Reducir la matriz de costos:\n",
    "Restar el elemento más pequeño de cada fila a todos los elementos de esa fila.\n",
    "Restar el elemento más pequeño de cada columna a todos los elementos de esa columna.\n",
    "\n",
    "3. Dibujar líneas para cubrir todos los ceros:\n",
    "Se busca cubrir todos los ceros de la matriz con el menor número de líneas horizontales o verticales.\n",
    "\n",
    "4. Optimizar la asignación:\n",
    "Si el número de líneas es igual al número de filas o columnas, se ha encontrado la solución óptima.\n",
    "Si el número de líneas es menor, se debe\n",
    "\n",
    "5. realizar una iteración:\n",
    "Encontrar el elemento más pequeño no cubierto por las líneas.\n",
    "Restar este elemento a todos los elementos no cubiertos.\n",
    "Sumar este elemento a todos los elementos cubiertos por dos líneas.\n",
    "Volver al paso 3.\n",
    "\n",
    "6. Asignar recursos a tareas:\n",
    "Una vez que se ha encontrado la solución óptima, se asignan los recursos a las tareas correspondientes a los ceros en la matriz de costos."
   ]
  },
  {
   "cell_type": "markdown",
   "metadata": {
    "id": "6C95YWYuVZfd"
   },
   "source": [
    "***\n",
    "## Modelo de redes\n",
    "***\n",
    "\n",
    "Definicion de redes:  las redes son una serie de nodos localizados y enlazados con arcos  la notacion para la descripcion de la red es\n",
    "\n",
    "\\\\\n",
    "\n",
    "$$\n",
    "(N,A); \\\\\n",
    "donde: \\\\\n",
    "N = Conjunto\\ de\\ Nodos \\\\\n",
    "A = Conjunto\\ de\\ Arcos\n",
    "$$\n",
    "\n",
    "Por ejmplo:\n",
    "\n",
    "$$\n",
    "N = \\{1,2,3,4,5\\} \\\\\n",
    "A = \\{(1,2),(1,3),(2,3),(2,5),(3,4),(3,5),(4,2),(4,5)\\}\n",
    "$$\n"
   ]
  },
  {
   "cell_type": "code",
   "execution_count": null,
   "metadata": {
    "colab": {
     "base_uri": "https://localhost:8080/",
     "height": 248
    },
    "id": "6nsc5Sq-dzea",
    "outputId": "27dce0b1-86b5-4333-8f6d-4e4bd4aa7e47"
   },
   "outputs": [
    {
     "data": {
      "image/png": "[encoded data removed]",
      "text/plain": [
       "<Figure size 432x288 with 1 Axes>"
      ]
     },
     "metadata": {},
     "output_type": "display_data"
    }
   ],
   "source": [
    "import networkx as nx\n",
    "import matplotlib.pyplot as plt\n",
    "\n",
    "G = nx.Graph()\n",
    "G.add_nodes_from([1, 2, 3, 4, 5])\n",
    "\n",
    "A = [(1,2),(1,3),(2,3),(2,5),(3,4),(3,5),(4,2),(4,5)]\n",
    "G.add_edges_from(A)\n",
    "\n",
    "labels = {1: 'A', 2: 'B', 3: 'C', 4: 'D', 5: 'E'}\n",
    "\n",
    "pos = nx.spring_layout(G, seed=42)\n",
    "nx.draw_networkx_nodes(G, pos=pos)\n",
    "nx.draw_networkx_edges(G, pos=pos)\n",
    "nx.draw_networkx_labels(G, pos=pos, labels=labels)\n",
    "\n",
    "plt.show()\n"
   ]
  },
  {
   "cell_type": "markdown",
   "metadata": {
    "id": "3gSSZOUveEC1"
   },
   "source": [
    "con cada una de las redes asociadas, se describira algun tipo de flujo, trafico, procesos etc(..)\n",
    "de denomina **arco dirigido u orientado** si permite el flujo positivo y flujo cero en la direccion opuesta.\n",
    "\n",
    "la **ruta** es la sucesion de arcos distintos que une dos nodos pasando por otros nodos, independientemente de la direcion del flujo de cada arco\n",
    "una **red dirigida** tiene todos sus arcos dirigidos.\n",
    "una ruta forma un **ciclo** si conecta un nodo con sigo mismo, pasando por otros nodos\n",
    "\n",
    "una **red conectada** es quella en que cada dos nodos distintos estan enlazados almenos con una ruta\n",
    "un **arbol** es una red conectada que puede ser facilmente la red conectada de todos los nodos, donde, no se permiten ciclos\n",
    "un **arbol de expansion** es un arbol que enlaza todos los nodosde la red tambien sin permitir ciclos.\n"
   ]
  },
  {
   "cell_type": "markdown",
   "metadata": {
    "id": "lzGEdkAYgS5Q"
   },
   "source": [
    "***\n",
    "Ejercicios:\n",
    "***\n",
    "\n",
    "1. grafique a mano y en colab el siguiente modelo \\\\\n",
    "  \n",
    "  $\n",
    "  1.1). \\\\\n",
    "  N=\\{1,2,3,4,5\\} \\\\\n",
    "  A=\\{(1,2),(2,5),(1,3),(3,4),(3,5),(5,1),(4,2)\\}\n",
    "  $\n",
    "  \n",
    "  \\\\\n",
    "  \n",
    "  $\n",
    "  1.2). \\\\\n",
    "  N=\\{1,2,3,4\\} \\\\\n",
    "  A=\\{(1,3),(1,2),(2,3),(2,4),(3,4)\\} \\\\\n",
    "  $\n",
    "\n",
    "      1. determine:\n",
    "        - una ruta\n",
    "        - un ciclo\n",
    "        - un cilo dirigido\n",
    "        - un árbol\n",
    "        - Un árbol de expansion.\n",
    "\n",
    "2.  Determine los conjuntos Conjuntos $N$ y $A$ en las redes\n",
    "\n",
    "3. Trace la Red definida por\n",
    "$\n",
    "N=\\{1,2,3,4,5\\} \\\\\n",
    "A=\\{(1,2),(1,5),(2,3)(2,4),(3,5),(3,4),(4,3),(4,6),(5,2),(5,6)\\}\n",
    "$\n",
    "\n",
    "4. se debe transportar en un vehiculo tres productos desde la tienda ABC hasta la cada de doña pepita, para hacer el domicilio que esta solicito a la tienda, pero el domiciliario y su vehiculo no puede trasportar mas de dos elementos a la vez, el domiciliario puede pedir ayuda de sus compañeros, ya que por el tamaño del producto no puede caragar mas de uno a la vez, el maximo de personas incluido el domicialiario es de tres personas, no es recomendable que tengan mas productos que personas en el carro.\n",
    "\n",
    "- formule el modelo de red para diseñar los viajes del vehiculo de modo que se asegure el domicilo a la casa de doña pepita.\n"
   ]
  },
  {
   "cell_type": "markdown",
   "metadata": {
    "id": "4rBtFoYIRctJ"
   },
   "source": [
    "***\n",
    "## Altogoritmo de Arbol de expansion Minima\n",
    "***\n",
    "\n",
    "El altogirtmo de expansion minima enlaza los nodos de una red, en forma directa o indirecta, con la minima longitud posible, de las *ramas* enlazantes.\n",
    "el uso posible de este altogirtmo es en el diseño de carreteras o rutas entre nodos que unen varias poblaciones. siendo que la ruta diseñada puede pasar entro otras poblaciones o nodos\n",
    "\n",
    "- el diseño mas economico del sistema sera aquel que minimice la distancia total de caminos creados.\n",
    "\n",
    "*otra definicion:* Un árbol de expansión mínimo es un tipo especial de árbol que minimiza las longitudes (o dinero) de los bordes del árbol. Un ejemplo es una compañía de cable que quiere tender línea a múltiples vecindarios; al minimizar la cantidad de cable tendido, la compañía de cable ahorrará dinero.\n",
    "\n",
    "procedimiento:\n",
    "\n",
    "$\n",
    "Sea\\ N=\\{1,2,...n\\}, en\\ conjunto\\ de \\ nodos\\ en\\ la\\ Red. \\\\\n",
    "C_k=Conjunto\\ de\\ nodos\\ que\\ se\\ han\\ Conectado\\ en \\ forma\\ permanente\\ en\\ la\\ iteracion\\ K \\\\\n",
    "\\bar{C_k} = Conjunto\\ de\\ nodos\\ que\\ faltan\\ por\\ conectar.  \n",
    "$\n",
    "\n",
    "\n",
    "**Paso Cero:**\n",
    "El conjunto:\n",
    "$$\n",
    "C_0=𝛳\\ y \\\\\n",
    "\\bar{C_0} =N\n",
    "$$\n",
    "1. Comenzar con cualquier nodo en el conjunto $\\bar{C_0}$ no conectado e igualas a $C_1=\\{i\\}$, con lo qie $\\bar{C_1}=N-\\{i\\}$, igualar a $K=2$\n",
    "\n",
    "2. **paso general $K\\ $** selecciona un nodo $j$ en el conjunto no conectado $\\bar{C_{k-1}}$ que produzca el arco mas corto a un nodo, en el conjunto conectado a $C_{k-1}$ enlazando $j$ en forma permanente con $C_{k-1}$ y sacarlo de $\\bar{C_{k-1$}}$\n",
    "\n",
    "\\\\\n",
    "\n",
    "$$\n",
    "C_k=C_{k-1}+\\{j\\}, C_k = \\bar{C_{k-1}}-\\{j\\}\n",
    "$$\n",
    "\n",
    "\\\\\n",
    "\n",
    "- donde los $\\bar{C_{k}}$ es igual a 0 o vacío, detenerse, o por el contrario igualar $K=k+1$ y repertir el proceso.\n",
    "---\n",
    "\n"
   ]
  },
  {
   "cell_type": "markdown",
   "metadata": {
    "id": "zXmwDmkurHqj"
   },
   "source": [
    "teniendo el siguiente cuadro:\n",
    "\n",
    "\n",
    "\\begin{array}{|l|l|l|l|l|l|}\n",
    "\\hline\n",
    " & A & B & C & D & E \\\\ \\hline\n",
    "A & 0 & 1 & 4 & 6 & 2 \\\\ \\hline\n",
    "B & 1 & 0 & 2 & - & 2 \\\\ \\hline\n",
    "C & 4 & 2 & 0 & 5 & 2 \\\\ \\hline\n",
    "D & 6 & - & 5 & 0 & 4 \\\\ \\hline\n",
    "E & 2 & 2 & 2 & 4 & 0 \\\\ \\hline\n",
    "\\end{array}\n",
    "\n",
    "utilice el altgoritmo de Prim y el de Kruskal y compare\n",
    "***\n",
    "\n",
    "### Modelo Teórico según el Algoritmo de Prim:\n",
    "Inicialización: Selecciona un nodo arbitrario como raíz del árbol.\n",
    "*Construcción paso a paso:*\n",
    "1. En cada paso, se agrega la arista más corta que conecta un nodo dentro del árbol con uno fuera del árbol.\n",
    "2. Selecciona el nodo más cercano al árbol actual y agrega la arista que conecta ese nodo con el árbol.\n",
    "3. Terminación: Repetir el paso 2 hasta que todos los nodos estén incluidos en el árbol.\n",
    "\n",
    "### Modelo Teórico según el Altgoritmo de Kruskal:\n",
    "\n",
    "Ordenación de aristas: Ordena todas las aristas en orden no decreciente de peso.\n",
    "*Construcción paso a paso:*\n",
    "1. En cada paso, selecciona la arista más corta que no forme un ciclo con las aristas ya seleccionadas.\n",
    "2. Agrega esta arista al árbol de expansión mínima.\n",
    "\n",
    "Terminación: Repetir el paso 2 hasta que se hayan seleccionado $n-1$ aristas donde $n$ es el numero de nodos en el sistema\n"
   ]
  },
  {
   "cell_type": "code",
   "execution_count": null,
   "metadata": {
    "colab": {
     "base_uri": "https://localhost:8080/"
    },
    "id": "TsxXqUyMsgvq",
    "outputId": "2843d1ae-9ccd-4a28-bd51-e082e93e3e72"
   },
   "outputs": [
    {
     "name": "stdout",
     "output_type": "stream",
     "text": [
      "Árbol de Expansión Mínima:\n",
      "Arista: A - B\n",
      "Arista: A - E\n",
      "Arista: B - C\n",
      "Arista: E - D\n"
     ]
    }
   ],
   "source": [
    "#usaremos en Altgoritmo de PRIMM\n",
    "import numpy as np\n",
    "\n",
    "def prim_mst(distancias):\n",
    "    num_nodos = len(distancias)\n",
    "    # Inicializar el MST y la lista de nodos visitados\n",
    "    mst = []\n",
    "    visitado = [False] * num_nodos\n",
    "    # Empezar desde el nodo 0\n",
    "    visitado[0] = True\n",
    "    # Repetir hasta que todos los nodos estén visitados\n",
    "    while len(mst) < num_nodos - 1:\n",
    "        # Encontrar la arista más corta que conecta un nodo visitado con uno no visitado\n",
    "        min_distancia = float('inf')\n",
    "        min_i, min_j = None, None\n",
    "        for i in range(num_nodos):\n",
    "            if visitado[i]:\n",
    "                for j in range(num_nodos):\n",
    "                    if not visitado[j] and distancias[i][j] < min_distancia:\n",
    "                        min_distancia = distancias[i][j]\n",
    "                        min_i, min_j = i, j\n",
    "        # Agregar la arista al MST\n",
    "        mst.append((min_i, min_j))\n",
    "        visitado[min_j] = True\n",
    "    return mst\n",
    "\n",
    "# Definir la matriz de distancias\n",
    "distancias = [\n",
    "    [0, 1, 4, 6, 2],\n",
    "    [1, 0, 2, float('inf'), 2],\n",
    "    [4, 2, 0, 5, 2],\n",
    "    [6, float('inf'), 5, 0, 4],\n",
    "    [2, 2, 2, 4, 0]\n",
    "]\n",
    "\n",
    "# Letras correspondientes a los nodos\n",
    "nodos_letras = ['A', 'B', 'C', 'D', 'E']\n",
    "\n",
    "# Ejecutar el algoritmo de Prim\n",
    "arbol_expansion_minima = prim_mst(distancias)\n",
    "\n",
    "# Imprimir el MST resultante\n",
    "print(\"Árbol de Expansión Mínima:\")\n",
    "for arista in arbol_expansion_minima:\n",
    "    print(f\"Arista: {nodos_letras[arista[0]]} - {nodos_letras[arista[1]]}\")\n"
   ]
  },
  {
   "cell_type": "code",
   "execution_count": null,
   "metadata": {
    "colab": {
     "base_uri": "https://localhost:8080/"
    },
    "id": "YF3OI2nRuLnU",
    "outputId": "25dc4d67-7412-4404-e5d2-15a8961cf800"
   },
   "outputs": [
    {
     "name": "stdout",
     "output_type": "stream",
     "text": [
      "Árbol de Expansión Mínima (Kruskal):\n",
      "Arista: A - B\n",
      "Arista: A - E\n",
      "Arista: B - C\n",
      "Arista: D - E\n"
     ]
    }
   ],
   "source": [
    "# Altgoritmo de Kruskal\n",
    "class UnionFind:\n",
    "    def __init__(self, n):\n",
    "        self.parent = list(range(n))\n",
    "        self.rank = [0] * n\n",
    "\n",
    "    def find(self, x):\n",
    "        if self.parent[x] != x:\n",
    "            self.parent[x] = self.find(self.parent[x])\n",
    "        return self.parent[x]\n",
    "\n",
    "    def union(self, x, y):\n",
    "        root_x = self.find(x)\n",
    "        root_y = self.find(y)\n",
    "        if root_x != root_y:\n",
    "            if self.rank[root_x] < self.rank[root_y]:\n",
    "                self.parent[root_x] = root_y\n",
    "            elif self.rank[root_x] > self.rank[root_y]:\n",
    "                self.parent[root_y] = root_x\n",
    "            else:\n",
    "                self.parent[root_y] = root_x\n",
    "                self.rank[root_x] += 1\n",
    "\n",
    "def kruskal_mst(distancias, nodos_letras):\n",
    "    num_nodos = len(distancias)\n",
    "    aristas = []\n",
    "    # Construir una lista de aristas (i, j, peso)\n",
    "    for i in range(num_nodos):\n",
    "        for j in range(i + 1, num_nodos):\n",
    "            peso = distancias[i][j]\n",
    "            aristas.append((i, j, peso))\n",
    "    # Ordenar las aristas por peso\n",
    "    aristas.sort(key=lambda x: x[2])\n",
    "    # Inicializar el MST y el Union-Find\n",
    "    mst = []\n",
    "    uf = UnionFind(num_nodos)\n",
    "    # Construir el MST\n",
    "    for arista in aristas:\n",
    "        u, v, peso = arista\n",
    "        if uf.find(u) != uf.find(v):\n",
    "            mst.append((u, v))\n",
    "            uf.union(u, v)\n",
    "    return mst\n",
    "\n",
    "# Definir la matriz de distancias\n",
    "distancias = [\n",
    "    [0, 1, 4, 6, 2],\n",
    "    [1, 0, 2, float('inf'), 2],\n",
    "    [4, 2, 0, 5, 2],\n",
    "    [6, float('inf'), 5, 0, 4],\n",
    "    [2, 2, 2, 4, 0]\n",
    "]\n",
    "\n",
    "# Letras correspondientes a los nodos\n",
    "nodos_letras = ['A', 'B', 'C', 'D', 'E']\n",
    "\n",
    "# Ejecutar el algoritmo de Kruskal\n",
    "arbol_expansion_minima_kruskal = kruskal_mst(distancias, nodos_letras)\n",
    "\n",
    "# Imprimir el MST resultante\n",
    "print(\"Árbol de Expansión Mínima (Kruskal):\")\n",
    "for arista in arbol_expansion_minima_kruskal:\n",
    "    print(f\"Arista: {nodos_letras[arista[0]]} - {nodos_letras[arista[1]]}\")\n"
   ]
  },
  {
   "cell_type": "markdown",
   "metadata": {
    "id": "L3D_rSN1urBd"
   },
   "source": [
    "los algoritmos de árbol de expansión mínima, como Prim y Kruskal, tienen una amplia gama de aplicaciones en diferentes campos, como por ejemplo:\n",
    "\n",
    "1. Redes de Distribución: Planificación de redes de distribución de electricidad, agua, gas, etc.\n",
    "\n",
    "2. Telecomunicaciones: Diseño de redes de telecomunicaciones para interconectar estaciones base, torres de telefonía, etc.\n",
    "\n",
    "3. Logística: Optimización de rutas en redes de transporte, como carreteras, ferrocarriles y rutas de envío.\n",
    "\n",
    "4. Cableado de Computadoras: Diseño de redes de computadoras y cableado para conectar dispositivos en una red local.\n",
    "\n",
    "5. Construcción de Infraestructura: Planificación de la construcción de carreteras, puentes y otras infraestructuras civiles.\n",
    "\n",
    "6. Diseño de Circuitos Electrónicos: Diseño de circuitos impresos y conexiones entre componentes electrónicos en placas de circuito.\n",
    "\n",
    "7. Análisis de Redes Sociales: Identificación de conexiones importantes y relaciones en redes sociales y de colaboración.\n",
    "\n",
    "8. Biología Molecular: Análisis de interacciones entre proteínas en biología molecular y diseño de rutas metabólicas.\n",
    "\n",
    "9. Exploración de Recursos Naturales: Planificación de rutas para la exploración y extracción de recursos naturales, como petróleo y minerales.\n",
    "\n",
    "10. Diseño de Sistemas de Riego: Planificación de sistemas de riego para agricultura y jardinería."
   ]
  },
  {
   "cell_type": "markdown",
   "metadata": {
    "id": "XbVI1bzulT0F"
   },
   "source": [
    "Ejercicio uno:\n",
    "***\n",
    "\n",
    "la empresa ABC porvee un servicio de iluminacion a cinco nuevas areas pobladas por proyectos de costruccion, los nodos estan dados por la siguiente red:\n",
    "\n",
    "$$\n",
    "N=\\{1,2,3,4,5\\} \\\\\n",
    "A=\\{(1,2),(1,4),(2,3),(3,4),(1,3),(1,5),(3,6),(4,6),(2,5)\\}\n",
    "$$\n",
    "\n",
    "\\\\\n",
    "valores (x10 km)\n",
    "\\begin{array}{c|cccc}\n",
    "-&1&2&3&4&5&6 \\\\\n",
    "\\hline\n",
    "1&0&1&5&7&9&- \\\\\n",
    "2&1&0&6&-&3&- \\\\\n",
    "3&-&-&0&5&-&10 \\\\\n",
    "4&-&-&-&0&8&3 \\\\\n",
    "5&-&-&-&-&0&- \\\\\n",
    "6&-&-&-&-&-&0 \\\\\n",
    "\\end{array}\n",
    "\n"
   ]
  },
  {
   "cell_type": "markdown",
   "metadata": {
    "id": "JGivVRcisAMB"
   },
   "source": [
    "***\n",
    "# Unidad Cuatro: Modelos de Localizacion\n",
    "***"
   ]
  },
  {
   "cell_type": "markdown",
   "metadata": {
    "id": "E4wmmmGJj3Uu"
   },
   "source": [
    "### Definicion de modelos de localizacion\n",
    "\n",
    "1. **Modelo de localización de planta:** Este modelo se utiliza para determinar la ubicación óptima de una nueva planta o instalación, teniendo en cuenta factores como la disponibilidad de recursos, la proximidad a los proveedores y los clientes, y los costos de transporte.\n",
    "\n",
    "2. **Modelo de asignación de instalaciones:** Este modelo se utiliza para determinar la mejor manera de asignar las instalaciones existentes a las diferentes demandas, teniendo en cuenta factores como la capacidad, la disponibilidad de recursos y los costos de transporte.\n",
    "\n",
    "3. **Modelo de ubicación de almacenes:** Este modelo se utiliza para determinar la ubicación óptima de los almacenes, teniendo en cuenta factores como la demanda, la proximidad a los clientes, los costos de transporte y los costos de mantenimiento del almacén.\n",
    "\n",
    "4. **Modelo de rutas de distribución:** Este modelo se utiliza para optimizar la ruta de distribución de los productos, teniendo en cuenta factores como la demanda, la ubicación de los clientes, los costos de transporte y la capacidad de los vehículos."
   ]
  },
  {
   "cell_type": "markdown",
   "metadata": {
    "id": "B2ZpFMwYmh9G"
   },
   "source": [
    "### localización de planta\n",
    "\n",
    "Según la siguiente tabla de distancias debemos ubicar nuestro CDA (centro de Distribución), mayorista, las demás locaciones son posibles ubicaciones para distribuidores menores también propios.\n",
    "\n",
    "1. Ubicar el distribuidor mayorista de tal forma que las distancias entre puntos sean lo más cortas posible. (justifique su respuesta)\n",
    "una vez ubicado el mayorista ubique\n",
    "2. distribuidores menores de tal forma que cubramos la mayoría de las demandas PROMEDIO del año.\n",
    "\n",
    "3. Evalúe las posibilidades y justifique su respuesta\n",
    "\n",
    "\\\\\n",
    "valores (x10 km)\n",
    "\\begin{array}{c|cccc}\n",
    "-&A&B&C&D&E&F&G \\\\\n",
    "\\hline\n",
    "A&-&20&-&30&-&80&- \\\\\n",
    "B&-&0&10&-&10&-&- \\\\\n",
    "C&-&-&0&5&5&-&- \\\\\n",
    "D&-&-&-&0&5&-&- \\\\\n",
    "E&-&-&-&-&0&20&15 \\\\\n",
    "F&-&-&-&-&-&0&10& \\\\\n",
    "G&-&-&-&-&-&-&- \\\\\n",
    "\\end{array}\n",
    "\n",
    "\n",
    "\n",
    "\\begin{array}{c|cc}\n",
    " & Poblacion\\ de\\ clientes & valor\\ m2 \\\\\n",
    "\\hline\n",
    "A & 450 & 1,2 \\\\\n",
    "B & 190 & 1,3 \\\\\n",
    "C & 200 & 1,2 \\\\\n",
    "D & 250 & 1,6 \\\\\n",
    "E & 300 & 1,6 \\\\\n",
    "F & 380 & 1,8 \\\\\n",
    "G & 150 & 1,1\n",
    "\\end{array}\n",
    "\n",
    "\n",
    "\n"
   ]
  },
  {
   "cell_type": "markdown",
   "metadata": {
    "id": "O4rOCXxXhPEl"
   },
   "source": [
    "## Metodo grafico de localizacion\n",
    "\n",
    "\n",
    "El método gráfico de localización de plantas es una técnica utilizada para seleccionar la ubicación óptima de una nueva planta o instalación. El proceso implica el uso de un mapa de la zona para identificar los factores críticos que influyen en la selección de la ubicación, como la disponibilidad de materias primas, la proximidad al mercado, la disponibilidad de mano de obra y la infraestructura existente.\n",
    "\n",
    "1. Identificación de los factores críticos: El primer paso es identificar los factores críticos que influyen en la ubicación de la planta. Estos factores pueden variar según el tipo de planta y la industria. Por ejemplo, una planta de procesamiento de alimentos puede requerir una ubicación cerca de los campos de cultivo, mientras que una planta de fabricación de alta tecnología puede requerir una ubicación cerca de los centros de investigación y desarrollo.\n",
    "\n",
    "2. Creación del mapa: Una vez que se han identificado los factores críticos, se crea un mapa de la zona que incluye información detallada sobre la ubicación de estos factores. El mapa también puede incluir información sobre la topografía, las vías de acceso, la disponibilidad de energía y agua, y otros aspectos relevantes.\n",
    "\n",
    "3. Asignación de pesos a los factores críticos: Una vez que se ha creado el mapa, se asigna un peso a cada uno de los factores críticos en función de su importancia relativa. Esto permite que se le dé una mayor importancia a los factores más críticos en el proceso de toma de decisiones.\n",
    "\n",
    "4. Análisis de las ubicaciones potenciales: Se identifican las posibles ubicaciones para la nueva planta o instalación y se evalúan en función de los factores críticos y sus respectivos pesos. Se pueden utilizar diferentes métodos para hacer esto, como análisis multicriterio o análisis de distancia.\n",
    "\n",
    "5. Selección de la ubicación óptima: Finalmente, se selecciona la ubicación óptima en función de los resultados del análisis y se procede a la planificación y construcción de la planta."
   ]
  },
  {
   "cell_type": "markdown",
   "metadata": {
    "id": "qkVFTRHMkX5a"
   },
   "source": [
    "ejercicios propuestos:\n",
    "\n",
    "Grapich model\n",
    "\n",
    "\\begin{array}{c|c|c}\n",
    "Ciudad& Costos\\ fijos\\ (M)&Costos\\ Variables\\\\\n",
    "\\hline\n",
    "New\\ york&150.000.000&777.130 \\\\\n",
    "washington&230.000.000&798.090\\\\\n",
    "Bogota&180.000.00&573.000 \\\\\n",
    "Quito&130.000.000&630.270\\\\\n",
    "\\end{array}\n",
    "\n",
    "\n",
    "\n",
    "\n"
   ]
  },
  {
   "cell_type": "markdown",
   "metadata": {
    "id": "IVoXILDKgnTz"
   },
   "source": [
    "# Unidad Cinco: supply chain models and methods."
   ]
  },
  {
   "cell_type": "markdown",
   "metadata": {
    "id": "hBXz0W0UfV6o"
   },
   "source": [
    "# Unidad Seis: Diseño y medicion de la cadena logistica\n"
   ]
  },
  {
   "cell_type": "markdown",
   "metadata": {
    "id": "yZCaT2ebUiIx"
   },
   "source": [
    "\n",
    "`Supply Chain Optimization Design and Management_ Advances and Intelligent Methods Premier Reference Source`\n",
    "***\n",
    "\n",
    "Se ha utilizado una amplia gama de metodologías para resolver este problema de optimización. Sin embargo, los métodos matemáticos tradicionales han demostrado ser insuficientes para abordar los requisitos derivados del desarrollo de la competencia en el mercado (Silva et al. 2003). Las técnicas inteligentes inspiradas en la naturaleza se consideran bastante eficientes en el manejo de problemas NP-difíciles (es decir, problemas de optimización en los que no se puede encontrar el óptimo en tiempo polinomial). La principal característica de estos métodos es la imitación de la forma en que funcionan y evolucionan los sistemas naturales para hacer frente a situaciones del mundo real (Vassiliadis y Dounias 2009). Por ejemplo, las colonias de hormigas naturales cooperan para encontrar una fuente de alimento de alta calidad, una bandada de pájaros implementa un esquema de comunicación indirecta con el objetivo de encontrar la dirección óptima, etc. Algunos ejemplos de algoritmos inspirados en la naturaleza son los siguientes:\n",
    "\n",
    "1. Ant Colony Optimization (ACO)\n",
    "2. Particle Swarm Optimization (PSO)\n",
    "3. Genetic Algorithms\n",
    "4. Genetic Programming\n",
    "5. Memetic Algorithms\n",
    "6. Artificial Immune Systems\n",
    "7. DNA Computing"
   ]
  },
  {
   "cell_type": "markdown",
   "metadata": {
    "id": "tVM7Sgkff-_A"
   },
   "source": [
    "### Deficiones\n",
    "\n",
    "Para arrojar algo de luz sobre los conceptos básicos de la gestión de la cadena de suministro, es conveniente presentar las funciones principales de una cadena de suministro simplificada (Silva et al. 2009). El enfoque de modelado consta de tres partes, la logística, el suministro y el sistema de distribución, a saber.\n",
    "\n",
    "1. **Sistema logístico**: recibe pedidos de los clientes y realiza pedidos a los proveedores en lo que a materia prima se refiere. Los materiales comprados se utilizarán en el proceso de fabricación.\n",
    "\n",
    "2. **Sistema de abastecimiento:** consiste en una red de diferentes proveedores o fabricantes, cada uno de los cuales se ocupa de producir el componente de producto solicitado para el sistema logístico. En este caso, la minimización del tiempo total de tardanza, como se define arriba, puede considerarse como la función objetivo. El problema de la oferta puede pensarse como un problema de optimización de la programación.\n",
    "\n",
    "3. **Sistema de distribución:** entrega los productos completos a los clientes correspondientes. Los clientes pueden ser descritos por su ubicación geográfica. Un modelo simple y realista del problema de la distribución es el problema de las rutas de los vehículos (o, a veces, el problema del viajante de comercio). Este es un problema de minimización que considera el costo de transporte de la flota de vehículos disponibles. Para este tipo de problema, una restricción común es que cada cliente es visitado por un vehículo y todos los clientes deben estar satisfechos."
   ]
  },
  {
   "cell_type": "markdown",
   "metadata": {
    "id": "fdSY--uMgtie"
   },
   "source": [
    "### aproximacion de la medicion de la cadena de suministro con la Planificación de producción agregada\n",
    "\n",
    "- La literatura sobre planificación y control de la producción está llena de modelos y algoritmos para encontrar planes eficientes para la mayoría de los tipos de industrias. En este capítulo, presentamos algunos de los enfoques más exitosos del problema general.\n",
    "\n",
    "Una técnica particularmente efectiva para obtener planes de producción robustos y eficientes se basa en el principio de descomposición, también conocido como “divide y vencerás”.\n",
    "\n",
    "Para encontrar el plan óptimo en un horizonte de tiempo, el tiempo mismo se descompone en dos o más niveles de granularidad, formando una jerarquía:\n",
    "\n",
    "- en el nivel agregado, un período de tiempo puede comprender un mes o un trimestre, y el problema de planificación de la producción agregada es para decidir qué producir para una serie de próximos períodos, dado un pronóstico agregado, así como la capacidad esperada de las líneas de producción durante estos períodos.\n",
    "\n",
    "Estos planes de producción son particularmente útiles para las decisiones de personal, incluidas las decisiones sobre posibles horas extra que la empresa debería usar en un período agregado determinado, así como las decisiones sobre nuevas contrataciones/despidos o horarios de trabajo flexibles. También son útiles para determinar si se necesita una expansión o, en raras ocasiones, una contracción de la capacidad disponible. Luego, una vez que se determina un plan de producción agregado, el problema de planeación de producción de nivel más fino se convierte en el problema de calcular el plan óptimo para cada plan de producción de nivel más fino.\n"
   ]
  },
  {
   "cell_type": "markdown",
   "metadata": {
    "id": "OfJwTpdyjzKr"
   },
   "source": [
    "Comenzamos nuestra discusión sobre la planificación de la producción agregada con el ejemplo más simple posible.\n",
    "\n",
    "1. Considere un pronóstico de demanda mensual $d_i i=1 . . . N$ para N períodos, para una compañía imaginaria que produce un solo producto, y considere el problema de construir inventarios de productos terminados durante cada período para que se pueda satisfacer la demanda mensual, manteniendo niveles mínimos de inventarios, evitando así la acumulación de costos:\n",
    "- de mantenimiento\n",
    "- de inventario\n",
    "- de costos de oportunidad,\n",
    "- riesgo de obsolescencia del inventario\n",
    "- riesgo de daños en el inventario debido a desastres naturales.\n",
    "- otro tipo\n",
    "\n",
    "Si no se toman en cuenta las limitaciones de capacidad, entonces la política óptima es producir todo a tiempo, en un tiempo just in time (JIT), ya que hay suficiente capacidad para satisfacer cualquier nivel de demanda en cualquier período.\n",
    "Sin embargo, cuando la capacidad no es suficiente para satisfacer la demanda durante las temporadas altas, como suele ser el caso, los inventarios deben construirse con anticipación, obviamente lo más tarde posible, para evitar la acumulación de costos de inventario.\n",
    "El siguiente programa lineal (LP) determina la solución óptima para nuestro primer problema de planificación de la producción.\n",
    "\n",
    "$$\n",
    "\\text{min} \\sum_{i=1}^{N}h_i \\\\\n",
    "\\\n",
    "restricciones:\n",
    "h_i=h_{i-1}+x_i-d_i,\\ i=1,...,N\\\\\n",
    "0 \\leq x_i\\leq c,\\ i=1,...,N\\\\\n",
    "0 \\leq h_i,\\ i=1,...,N\\\\\n",
    "h_0 = I_0\n",
    "$$\n",
    "\n",
    "Las variables de decisión x representan la producción de cada período, mientras que las variables h representan el inventario al final de cada período. Al principio, asumimos una acumulación de inventario existente de $I_o$ unidades."
   ]
  },
  {
   "cell_type": "markdown",
   "metadata": {
    "id": "8dRcz2BZu_qi"
   },
   "source": [
    "## Modelos especiales"
   ]
  },
  {
   "cell_type": "markdown",
   "metadata": {
    "id": "w8LpnYJyTB7A"
   },
   "source": [
    "### Modelo Interactivo EOQ"
   ]
  },
  {
   "cell_type": "code",
   "execution_count": 1,
   "metadata": {
    "colab": {
     "base_uri": "https://localhost:8080/"
    },
    "id": "YXPwOXoPTIaX",
    "outputId": "a62e6e56-da29-4c8f-b515-956852bc03c3"
   },
   "outputs": [
    {
     "name": "stdout",
     "output_type": "stream",
     "text": [
      "Requirement already satisfied: ipywidgets in /Users/cristianjaviercanomogollon/anaconda3/lib/python3.10/site-packages (8.1.5)\n",
      "Requirement already satisfied: traitlets>=4.3.1 in /Users/cristianjaviercanomogollon/anaconda3/lib/python3.10/site-packages (from ipywidgets) (5.7.1)\n",
      "Requirement already satisfied: comm>=0.1.3 in /Users/cristianjaviercanomogollon/anaconda3/lib/python3.10/site-packages (from ipywidgets) (0.2.2)\n",
      "Requirement already satisfied: jupyterlab-widgets~=3.0.12 in /Users/cristianjaviercanomogollon/anaconda3/lib/python3.10/site-packages (from ipywidgets) (3.0.13)\n",
      "Requirement already satisfied: widgetsnbextension~=4.0.12 in /Users/cristianjaviercanomogollon/anaconda3/lib/python3.10/site-packages (from ipywidgets) (4.0.13)\n",
      "Requirement already satisfied: ipython>=6.1.0 in /Users/cristianjaviercanomogollon/anaconda3/lib/python3.10/site-packages (from ipywidgets) (8.10.0)\n",
      "Requirement already satisfied: pickleshare in /Users/cristianjaviercanomogollon/anaconda3/lib/python3.10/site-packages (from ipython>=6.1.0->ipywidgets) (0.7.5)\n",
      "Requirement already satisfied: decorator in /Users/cristianjaviercanomogollon/anaconda3/lib/python3.10/site-packages (from ipython>=6.1.0->ipywidgets) (5.1.1)\n",
      "Requirement already satisfied: jedi>=0.16 in /Users/cristianjaviercanomogollon/anaconda3/lib/python3.10/site-packages (from ipython>=6.1.0->ipywidgets) (0.18.1)\n",
      "Requirement already satisfied: matplotlib-inline in /Users/cristianjaviercanomogollon/anaconda3/lib/python3.10/site-packages (from ipython>=6.1.0->ipywidgets) (0.1.6)\n",
      "Requirement already satisfied: appnope in /Users/cristianjaviercanomogollon/anaconda3/lib/python3.10/site-packages (from ipython>=6.1.0->ipywidgets) (0.1.2)\n",
      "Requirement already satisfied: stack-data in /Users/cristianjaviercanomogollon/anaconda3/lib/python3.10/site-packages (from ipython>=6.1.0->ipywidgets) (0.2.0)\n",
      "Requirement already satisfied: backcall in /Users/cristianjaviercanomogollon/anaconda3/lib/python3.10/site-packages (from ipython>=6.1.0->ipywidgets) (0.2.0)\n",
      "Requirement already satisfied: pexpect>4.3 in /Users/cristianjaviercanomogollon/anaconda3/lib/python3.10/site-packages (from ipython>=6.1.0->ipywidgets) (4.8.0)\n",
      "Requirement already satisfied: pygments>=2.4.0 in /Users/cristianjaviercanomogollon/anaconda3/lib/python3.10/site-packages (from ipython>=6.1.0->ipywidgets) (2.11.2)\n",
      "Requirement already satisfied: prompt-toolkit<3.1.0,>=3.0.30 in /Users/cristianjaviercanomogollon/anaconda3/lib/python3.10/site-packages (from ipython>=6.1.0->ipywidgets) (3.0.36)\n",
      "Requirement already satisfied: parso<0.9.0,>=0.8.0 in /Users/cristianjaviercanomogollon/anaconda3/lib/python3.10/site-packages (from jedi>=0.16->ipython>=6.1.0->ipywidgets) (0.8.3)\n",
      "Requirement already satisfied: ptyprocess>=0.5 in /Users/cristianjaviercanomogollon/anaconda3/lib/python3.10/site-packages (from pexpect>4.3->ipython>=6.1.0->ipywidgets) (0.7.0)\n",
      "Requirement already satisfied: wcwidth in /Users/cristianjaviercanomogollon/anaconda3/lib/python3.10/site-packages (from prompt-toolkit<3.1.0,>=3.0.30->ipython>=6.1.0->ipywidgets) (0.2.5)\n",
      "Requirement already satisfied: asttokens in /Users/cristianjaviercanomogollon/anaconda3/lib/python3.10/site-packages (from stack-data->ipython>=6.1.0->ipywidgets) (2.0.5)\n",
      "Requirement already satisfied: pure-eval in /Users/cristianjaviercanomogollon/anaconda3/lib/python3.10/site-packages (from stack-data->ipython>=6.1.0->ipywidgets) (0.2.2)\n",
      "Requirement already satisfied: executing in /Users/cristianjaviercanomogollon/anaconda3/lib/python3.10/site-packages (from stack-data->ipython>=6.1.0->ipywidgets) (0.8.3)\n",
      "Requirement already satisfied: six in /Users/cristianjaviercanomogollon/anaconda3/lib/python3.10/site-packages (from asttokens->stack-data->ipython>=6.1.0->ipywidgets) (1.16.0)\n",
      "Requirement already satisfied: matplotlib in /Users/cristianjaviercanomogollon/anaconda3/lib/python3.10/site-packages (3.7.0)\n",
      "Requirement already satisfied: pillow>=6.2.0 in /Users/cristianjaviercanomogollon/anaconda3/lib/python3.10/site-packages (from matplotlib) (9.4.0)\n",
      "Requirement already satisfied: contourpy>=1.0.1 in /Users/cristianjaviercanomogollon/anaconda3/lib/python3.10/site-packages (from matplotlib) (1.0.5)\n",
      "Requirement already satisfied: cycler>=0.10 in /Users/cristianjaviercanomogollon/anaconda3/lib/python3.10/site-packages (from matplotlib) (0.11.0)\n",
      "Requirement already satisfied: python-dateutil>=2.7 in /Users/cristianjaviercanomogollon/anaconda3/lib/python3.10/site-packages (from matplotlib) (2.8.2)\n",
      "Requirement already satisfied: numpy>=1.20 in /Users/cristianjaviercanomogollon/anaconda3/lib/python3.10/site-packages (from matplotlib) (1.23.5)\n",
      "Requirement already satisfied: kiwisolver>=1.0.1 in /Users/cristianjaviercanomogollon/anaconda3/lib/python3.10/site-packages (from matplotlib) (1.4.4)\n",
      "Requirement already satisfied: fonttools>=4.22.0 in /Users/cristianjaviercanomogollon/anaconda3/lib/python3.10/site-packages (from matplotlib) (4.25.0)\n",
      "Requirement already satisfied: packaging>=20.0 in /Users/cristianjaviercanomogollon/anaconda3/lib/python3.10/site-packages (from matplotlib) (22.0)\n",
      "Requirement already satisfied: pyparsing>=2.3.1 in /Users/cristianjaviercanomogollon/anaconda3/lib/python3.10/site-packages (from matplotlib) (3.0.9)\n",
      "Requirement already satisfied: six>=1.5 in /Users/cristianjaviercanomogollon/anaconda3/lib/python3.10/site-packages (from python-dateutil>=2.7->matplotlib) (1.16.0)\n"
     ]
    }
   ],
   "source": [
    "!pip install ipywidgets\n",
    "!pip install matplotlib"
   ]
  },
  {
   "cell_type": "code",
   "execution_count": 5,
   "metadata": {
    "colab": {
     "base_uri": "https://localhost:8080/",
     "height": 680,
     "referenced_widgets": [
      "eccbc3e7f86f4197815c36c4bb5bb76b",
      "54b640cf12ea4ec486a0f648bdf629a9",
      "c760ba71b0a84c1788ca6ca2cb98a45f",
      "1ef92a128e2a4e409b0d3c1810a2417c",
      "4cc3135399324396b165517757c55278",
      "05ff9341cce644418195d3cc064ee033",
      "fd91f999233e4daa8f72fb885b181fc8",
      "ec2288e0bde54cbab77a0eb5598cf0e0",
      "3773299e68e541719ff3cf66163d6002",
      "a0f397613dd24c72aa82244dd1f2d0f3",
      "a0cbc5b313314be38b44508160bc3b36",
      "dfd8c72332ec4387b295a7833235271a",
      "5834dd93c6134d909e4dc86f9bb251bf"
     ]
    },
    "id": "9EhFNi1DTG8s",
    "outputId": "5735e13f-0923-44d1-c37f-10045b54aacb"
   },
   "outputs": [
    {
     "data": {
      "application/vnd.jupyter.widget-view+json": {
       "model_id": "edd3ef776bd64925bde6810dcae09975",
       "version_major": 2,
       "version_minor": 0
      },
      "text/plain": [
       "VBox(children=(FloatSlider(value=20.0, description='Demanda Anual:', max=1000.0, min=10.0, step=10.0), FloatSl…"
      ]
     },
     "metadata": {},
     "output_type": "display_data"
    },
    {
     "data": {
      "application/vnd.jupyter.widget-view+json": {
       "model_id": "e43d7eea16804a6491fa9a7207299043",
       "version_major": 2,
       "version_minor": 0
      },
      "text/plain": [
       "Output()"
      ]
     },
     "metadata": {},
     "output_type": "display_data"
    }
   ],
   "source": [
    "import numpy as np\n",
    "import matplotlib.pyplot as plt\n",
    "import ipywidgets as widgets\n",
    "from IPython.display import display\n",
    "\n",
    "# Función para calcular la EOQ\n",
    "def eoq(demand, order_cost, holding_cost):\n",
    "    return np.sqrt((2 * demand * order_cost) / holding_cost)\n",
    "\n",
    "# Función para calcular los costos totales\n",
    "def total_cost(order_quantity, demand, order_cost, holding_cost):\n",
    "    return (order_cost * demand / order_quantity) + (holding_cost * order_quantity / 2)\n",
    "\n",
    "# Función para actualizar el gráfico basado en los widgets\n",
    "def update_plot(demand, order_cost, holding_cost):\n",
    "    order_quantities = np.linspace(1, 2 * demand, 500)\n",
    "    costs = total_cost(order_quantities, demand, order_cost, holding_cost)\n",
    "\n",
    "    q_optimal = eoq(demand, order_cost, holding_cost)\n",
    "\n",
    "    plt.figure(figsize=(12, 6))\n",
    "\n",
    "    # Graficar costos totales\n",
    "    plt.plot(order_quantities, costs, label='Costo Total', color='blue')\n",
    "    plt.axvline(x=q_optimal, color='r', linestyle='--', label=f'EOQ: {q_optimal:.2f}')\n",
    "\n",
    "    # Graficar costos de pedido\n",
    "    cost_ordering = order_cost * demand / order_quantities\n",
    "    plt.plot(order_quantities, cost_ordering, label='Costo de Pedido', color='green', linestyle='--')\n",
    "\n",
    "    # Graficar costos de almacenamiento\n",
    "    cost_holding = holding_cost * order_quantities / 2\n",
    "    plt.plot(order_quantities, cost_holding, label='Costo de Almacenamiento', color='orange', linestyle='--')\n",
    "\n",
    "    plt.xlabel('Cantidad de Pedido')\n",
    "    plt.ylabel('Costo')\n",
    "    plt.title('Modelo EOQ Interactivo')\n",
    "    plt.legend()\n",
    "    plt.grid(True)\n",
    "    plt.show()\n",
    "\n",
    "# Widgets para los parámetros\n",
    "demand_widget = widgets.FloatSlider(value=20, min=10, max=1000, step=10, description='Demanda Anual:')\n",
    "order_cost_widget = widgets.FloatSlider(value=10, min=10, max=200, step=10, description='Costo de Pedido:')\n",
    "holding_cost_widget = widgets.FloatSlider(value=2, min=0.5, max=200, step=0.5, description='Costo de Almacenamiento:')\n",
    "\n",
    "# Enlazar widgets con la función de actualización\n",
    "ui = widgets.VBox([demand_widget, order_cost_widget, holding_cost_widget])\n",
    "out = widgets.interactive_output(update_plot, {\n",
    "    'demand': demand_widget,\n",
    "    'order_cost': order_cost_widget,\n",
    "    'holding_cost': holding_cost_widget\n",
    "})\n",
    "\n",
    "display(ui, out)\n",
    "\n"
   ]
  },
  {
   "cell_type": "markdown",
   "metadata": {
    "id": "6-6Tq9BBolrw"
   },
   "source": [
    "los modelos interactivos nos ayudan a entender la logica de las cosas, intenta modificando cada uno de los datos, tambien podemos usar elementos propios de python para hacer comparaciones por ejemplo:\n",
    "\n",
    "- el siguiente codigo toma los valores de Demanda, h y S, y realiza la adicion de una unidad a la variable s 10 veces, con el fin de verificar el comportamiento de Q en este cambio. de esta manera podemos verificar la afectacion de $S$ a $Q$\n"
   ]
  },
  {
   "cell_type": "code",
   "execution_count": 22,
   "metadata": {
    "colab": {
     "base_uri": "https://localhost:8080/"
    },
    "id": "2YPi8Vyrovro",
    "outputId": "33c6a7aa-3346-4a5f-8789-447ea8174f68"
   },
   "outputs": [
    {
     "name": "stdout",
     "output_type": "stream",
     "text": [
      "Ingrese la demanda anual: 10000\n",
      "Ingrese el costo de pedido: 20\n",
      "Ingrese el costo de almacenamiento: 2\n",
      "Para S = 21.0, EOQ: 97.59000729485331\n",
      "Para S = 22.0, EOQ: 95.34625892455922\n",
      "Para S = 23.0, EOQ: 93.25048082403138\n",
      "Para S = 24.0, EOQ: 91.28709291752769\n",
      "Para S = 25.0, EOQ: 89.44271909999159\n",
      "Para S = 26.0, EOQ: 87.70580193070292\n",
      "Para S = 27.0, EOQ: 86.06629658238704\n",
      "Para S = 28.0, EOQ: 84.51542547285166\n",
      "Para S = 29.0, EOQ: 83.04547985373996\n",
      "Para S = 30.0, EOQ: 81.64965809277261\n"
     ]
    }
   ],
   "source": [
    "import math\n",
    "\n",
    "def eoq(demand, order_cost, holding_cost, s_value):\n",
    "    eoq = math.sqrt((2 * demand * order_cost) / (holding_cost * s_value))\n",
    "    return eoq\n",
    "\n",
    "demand = float(input(\"Ingrese la demanda anual: \"))\n",
    "order_cost = float(input(\"Ingrese el costo de pedido: \"))\n",
    "holding_cost = float(input(\"Ingrese el costo de almacenamiento: \"))\n",
    "\n",
    "for i in range(10):\n",
    "    s_value = (order_cost + i) + 1  # El valor de S cambiará en cada iteración\n",
    "    eoq_value = eoq(demand, order_cost, holding_cost, s_value)\n",
    "    print(\"Para S = {}, EOQ: {}\".format(s_value, eoq_value))"
   ]
  },
  {
   "cell_type": "markdown",
   "metadata": {
    "id": "34kiZc53i88s"
   },
   "source": [
    "### modelo interactivo POQ - python"
   ]
  },
  {
   "cell_type": "code",
   "execution_count": 23,
   "metadata": {
    "colab": {
     "base_uri": "https://localhost:8080/",
     "height": 657,
     "referenced_widgets": [
      "ba29a993595d4b71a91892993bc2a2e3",
      "da203ed343314869baa939ecf4efbe7f",
      "76bd30b0943b446e969a6b5f91c0a824",
      "3d2fb7b5992244989b38a9108dd6e92b",
      "0bac0116b34c4691b1c2c71d5e3af5a6",
      "506ec4194cd94e9f85d8cfe4806eded5",
      "fb1a7197c289421ab74c2b2247824d65",
      "332b24908bf2448d837dc0a402807ef0",
      "bcc117ed6f97405b8f880c86e3b1581a",
      "ca4626c0459b4ccdb343496cb79ec2c0",
      "502ef618159a4276bcecf1db47332696",
      "b5677f8c172f460085a34e361c375896",
      "c5d7a8f27ada4dfe9a7a660bcdf7c7c7",
      "39ef65117f16430aa43e545581ca6af6",
      "7227c05d6e404b03afe4b6da133e6412",
      "ded9ff86d23a4432985ed181bcb05b08"
     ]
    },
    "id": "4gMW0tbLswVe",
    "outputId": "afb882f6-d72d-4d79-9db7-1ec9196fd764"
   },
   "outputs": [
    {
     "name": "stdout",
     "output_type": "stream",
     "text": [
      "EPQ: 692.82\n"
     ]
    },
    {
     "data": {
      "image/png": "[encoded data removed]",
      "text/plain": [
       "<Figure size 800x600 with 1 Axes>"
      ]
     },
     "metadata": {},
     "output_type": "display_data"
    },
    {
     "data": {
      "application/vnd.jupyter.widget-view+json": {
       "model_id": "db7a2dcbaffe461597ab0be953c677d4",
       "version_major": 2,
       "version_minor": 0
      },
      "text/plain": [
       "interactive(children=(IntSlider(value=1000, description='Demanda:', max=5000, min=100, step=100), IntSlider(va…"
      ]
     },
     "metadata": {},
     "output_type": "display_data"
    }
   ],
   "source": [
    "import ipywidgets as widgets\n",
    "from IPython.display import display\n",
    "import matplotlib.pyplot as plt\n",
    "import numpy as np\n",
    "\n",
    "def calcular_epq(demanda, costo_preparacion, costo_almacenamiento, tasa_produccion):\n",
    "  return np.sqrt((2 * demanda * costo_preparacion) / costo_almacenamiento * (tasa_produccion / (tasa_produccion - demanda)))\n",
    "\n",
    "# detalles de los wiggets\n",
    "demanda_widget = widgets.IntSlider(value=1000, min=100, max=5000, step=100, description='Demanda:')\n",
    "costo_preparacion_widget = widgets.IntSlider(value=100, min=10, max=500, step=10, description='Costo Preparación:')\n",
    "costo_almacenamiento_widget = widgets.FloatSlider(value=0.5, min=0.1, max=2.0, step=0.1, description='Costo Almacenamiento:')\n",
    "tasa_produccion_widget = widgets.IntSlider(value=6000, min=1000, max=10000, step=100, description='Tasa Producción:')\n",
    "\n",
    "def actualizar_grafico(demanda, costo_preparacion, costo_almacenamiento, tasa_produccion):\n",
    "  epq_valor = calcular_epq(demanda, costo_preparacion, costo_almacenamiento, tasa_produccion)\n",
    "  print(f'EPQ: {epq_valor:.2f}')\n",
    "\n",
    "  # Datos\n",
    "  tiempo_ciclo = epq_valor / demanda\n",
    "  tiempo_produccion = epq_valor / tasa_produccion\n",
    "  tiempo = np.linspace(0, tiempo_ciclo, 100)\n",
    "  inventario = np.where(tiempo <= tiempo_produccion,\n",
    "                       tasa_produccion * tiempo - demanda * tiempo,\n",
    "                       epq_valor - demanda * tiempo)\n",
    "\n",
    "  # Grafica\n",
    "  plt.figure(figsize=(8, 6))\n",
    "  plt.plot(tiempo, inventario)\n",
    "  plt.xlabel('Tiempo')\n",
    "  plt.ylabel('Inventario')\n",
    "  plt.title('Modelo EPQ')\n",
    "  plt.grid(True)\n",
    "  plt.show()\n",
    "\n",
    "widgets.interact(actualizar_grafico,\n",
    "                 demanda=demanda_widget,\n",
    "                 costo_preparacion=costo_preparacion_widget,\n",
    "                 costo_almacenamiento=costo_almacenamiento_widget,\n",
    "                 tasa_produccion=tasa_produccion_widget);\n"
   ]
  },
  {
   "cell_type": "markdown",
   "metadata": {
    "id": "ufqDgKPLSKTX"
   },
   "source": [
    "### Modelo de asignacion de rutas aleatorias\n",
    "\n",
    "\n"
   ]
  },
  {
   "cell_type": "code",
   "execution_count": 24,
   "metadata": {
    "colab": {
     "base_uri": "https://localhost:8080/",
     "height": 651
    },
    "id": "wCDtdBNVSqY3",
    "outputId": "e8e4c062-19e8-44cb-bc54-9f7426777e73"
   },
   "outputs": [
    {
     "name": "stdout",
     "output_type": "stream",
     "text": [
      "Ingrese el número de nodos: 10\n",
      "     0    1    2    3    4    5    6    7    8    9\n",
      "0  0.0  1.0  0.9  0.7  0.9  0.2  0.9  0.9  0.8  0.2\n",
      "1  1.0  0.0  0.4  0.9  0.2  0.9  0.2  0.1  0.7  1.1\n",
      "2  0.9  0.4  0.0  0.5  0.3  0.7  0.6  0.4  0.2  0.9\n",
      "3  0.7  0.9  0.5  0.0  0.8  0.5  1.0  0.9  0.3  0.6\n",
      "4  0.9  0.2  0.3  0.8  0.0  0.8  0.4  0.1  0.5  1.0\n",
      "5  0.2  0.9  0.7  0.5  0.8  0.0  0.8  0.8  0.6  0.2\n",
      "6  0.9  0.2  0.6  1.0  0.4  0.8  0.0  0.2  0.8  1.0\n",
      "7  0.9  0.1  0.4  0.9  0.1  0.8  0.2  0.0  0.6  1.0\n",
      "8  0.8  0.7  0.2  0.3  0.5  0.6  0.8  0.6  0.0  0.8\n",
      "9  0.2  1.1  0.9  0.6  1.0  0.2  1.0  1.0  0.8  0.0\n"
     ]
    },
    {
     "data": {
      "image/png": "[encoded data removed]",
      "text/plain": [
       "<Figure size 640x480 with 1 Axes>"
      ]
     },
     "metadata": {},
     "output_type": "display_data"
    }
   ],
   "source": [
    "import random\n",
    "import numpy as np\n",
    "import pandas as pd\n",
    "import matplotlib.pyplot as plt\n",
    "\n",
    "# Solicitar el número de nodos\n",
    "num_nodos = int(input(\"Ingrese el número de nodos: \"))\n",
    "\n",
    "# Generar posiciones aleatorias para cada nodo\n",
    "posiciones = {i: (random.random(), random.random()) for i in range(num_nodos)}\n",
    "\n",
    "# Calcular la matriz de distancias\n",
    "matriz_distancias = np.zeros((num_nodos, num_nodos))\n",
    "for i in range(num_nodos):\n",
    "    for j in range(i + 1, num_nodos):\n",
    "        distancia = np.sqrt((posiciones[i][0] - posiciones[j][0])**2 + (posiciones[i][1] - posiciones[j][1])**2)\n",
    "        matriz_distancias[i, j] = round(distancia, 1)\n",
    "        matriz_distancias[j, i] = round(distancia, 1)\n",
    "\n",
    "# Mostrar la matriz de distancias como una tabla\n",
    "df_distancias = pd.DataFrame(matriz_distancias)\n",
    "print(df_distancias)\n",
    "\n",
    "# Graficar las posiciones de los nodos\n",
    "x = [pos[0] for pos in posiciones.values()]\n",
    "y = [pos[1] for pos in posiciones.values()]\n",
    "plt.scatter(x, y)\n",
    "plt.xlabel(\"Eje X\")\n",
    "plt.ylabel(\"Eje Y\")\n",
    "plt.title(\"Posiciones de los Nodos\")\n",
    "plt.show()"
   ]
  },
  {
   "cell_type": "code",
   "execution_count": null,
   "metadata": {},
   "outputs": [],
   "source": []
  }
 ],
 "metadata": {
  "colab": {
   "collapsed_sections": [
    "4kegm42KLLRl",
    "AZ3YCXCbEBL2",
    "e6wkUvtp1iPU",
    "JGivVRcisAMB",
    "hBXz0W0UfV6o"
   ],
   "provenance": []
  },
  "kernelspec": {
   "display_name": "Python 3 (ipykernel)",
   "language": "python",
   "name": "python3"
  },
  "language_info": {
   "codemirror_mode": {
    "name": "ipython",
    "version": 3
   },
   "file_extension": ".py",
   "mimetype": "text/x-python",
   "name": "python",
   "nbconvert_exporter": "python",
   "pygments_lexer": "ipython3",
   "version": "3.10.9"
  },
  "widgets": {
   "application/vnd.jupyter.widget-state+json": {
    "05ff9341cce644418195d3cc064ee033": {
     "model_module": "@jupyter-widgets/base",
     "model_module_version": "1.2.0",
     "model_name": "LayoutModel",
     "state": {
      "_model_module": "@jupyter-widgets/base",
      "_model_module_version": "1.2.0",
      "_model_name": "LayoutModel",
      "_view_count": null,
      "_view_module": "@jupyter-widgets/base",
      "_view_module_version": "1.2.0",
      "_view_name": "LayoutView",
      "align_content": null,
      "align_items": null,
      "align_self": null,
      "border": null,
      "bottom": null,
      "display": null,
      "flex": null,
      "flex_flow": null,
      "grid_area": null,
      "grid_auto_columns": null,
      "grid_auto_flow": null,
      "grid_auto_rows": null,
      "grid_column": null,
      "grid_gap": null,
      "grid_row": null,
      "grid_template_areas": null,
      "grid_template_columns": null,
      "grid_template_rows": null,
      "height": null,
      "justify_content": null,
      "justify_items": null,
      "left": null,
      "margin": null,
      "max_height": null,
      "max_width": null,
      "min_height": null,
      "min_width": null,
      "object_fit": null,
      "object_position": null,
      "order": null,
      "overflow": null,
      "overflow_x": null,
      "overflow_y": null,
      "padding": null,
      "right": null,
      "top": null,
      "visibility": null,
      "width": null
     }
    },
    "0bac0116b34c4691b1c2c71d5e3af5a6": {
     "model_module": "@jupyter-widgets/controls",
     "model_module_version": "1.5.0",
     "model_name": "IntSliderModel",
     "state": {
      "_dom_classes": [],
      "_model_module": "@jupyter-widgets/controls",
      "_model_module_version": "1.5.0",
      "_model_name": "IntSliderModel",
      "_view_count": null,
      "_view_module": "@jupyter-widgets/controls",
      "_view_module_version": "1.5.0",
      "_view_name": "IntSliderView",
      "continuous_update": true,
      "description": "Tasa Producción:",
      "description_tooltip": null,
      "disabled": false,
      "layout": "IPY_MODEL_39ef65117f16430aa43e545581ca6af6",
      "max": 10000,
      "min": 1000,
      "orientation": "horizontal",
      "readout": true,
      "readout_format": "d",
      "step": 100,
      "style": "IPY_MODEL_7227c05d6e404b03afe4b6da133e6412",
      "value": 1700
     }
    },
    "1ef92a128e2a4e409b0d3c1810a2417c": {
     "model_module": "@jupyter-widgets/controls",
     "model_module_version": "1.5.0",
     "model_name": "FloatSliderModel",
     "state": {
      "_dom_classes": [],
      "_model_module": "@jupyter-widgets/controls",
      "_model_module_version": "1.5.0",
      "_model_name": "FloatSliderModel",
      "_view_count": null,
      "_view_module": "@jupyter-widgets/controls",
      "_view_module_version": "1.5.0",
      "_view_name": "FloatSliderView",
      "continuous_update": true,
      "description": "Costo de Almacenamiento:",
      "description_tooltip": null,
      "disabled": false,
      "layout": "IPY_MODEL_a0f397613dd24c72aa82244dd1f2d0f3",
      "max": 200,
      "min": 0.5,
      "orientation": "horizontal",
      "readout": true,
      "readout_format": ".2f",
      "step": 0.5,
      "style": "IPY_MODEL_a0cbc5b313314be38b44508160bc3b36",
      "value": 117.5
     }
    },
    "332b24908bf2448d837dc0a402807ef0": {
     "model_module": "@jupyter-widgets/base",
     "model_module_version": "1.2.0",
     "model_name": "LayoutModel",
     "state": {
      "_model_module": "@jupyter-widgets/base",
      "_model_module_version": "1.2.0",
      "_model_name": "LayoutModel",
      "_view_count": null,
      "_view_module": "@jupyter-widgets/base",
      "_view_module_version": "1.2.0",
      "_view_name": "LayoutView",
      "align_content": null,
      "align_items": null,
      "align_self": null,
      "border": null,
      "bottom": null,
      "display": null,
      "flex": null,
      "flex_flow": null,
      "grid_area": null,
      "grid_auto_columns": null,
      "grid_auto_flow": null,
      "grid_auto_rows": null,
      "grid_column": null,
      "grid_gap": null,
      "grid_row": null,
      "grid_template_areas": null,
      "grid_template_columns": null,
      "grid_template_rows": null,
      "height": null,
      "justify_content": null,
      "justify_items": null,
      "left": null,
      "margin": null,
      "max_height": null,
      "max_width": null,
      "min_height": null,
      "min_width": null,
      "object_fit": null,
      "object_position": null,
      "order": null,
      "overflow": null,
      "overflow_x": null,
      "overflow_y": null,
      "padding": null,
      "right": null,
      "top": null,
      "visibility": null,
      "width": null
     }
    },
    "3773299e68e541719ff3cf66163d6002": {
     "model_module": "@jupyter-widgets/controls",
     "model_module_version": "1.5.0",
     "model_name": "SliderStyleModel",
     "state": {
      "_model_module": "@jupyter-widgets/controls",
      "_model_module_version": "1.5.0",
      "_model_name": "SliderStyleModel",
      "_view_count": null,
      "_view_module": "@jupyter-widgets/base",
      "_view_module_version": "1.2.0",
      "_view_name": "StyleView",
      "description_width": "",
      "handle_color": null
     }
    },
    "39ef65117f16430aa43e545581ca6af6": {
     "model_module": "@jupyter-widgets/base",
     "model_module_version": "1.2.0",
     "model_name": "LayoutModel",
     "state": {
      "_model_module": "@jupyter-widgets/base",
      "_model_module_version": "1.2.0",
      "_model_name": "LayoutModel",
      "_view_count": null,
      "_view_module": "@jupyter-widgets/base",
      "_view_module_version": "1.2.0",
      "_view_name": "LayoutView",
      "align_content": null,
      "align_items": null,
      "align_self": null,
      "border": null,
      "bottom": null,
      "display": null,
      "flex": null,
      "flex_flow": null,
      "grid_area": null,
      "grid_auto_columns": null,
      "grid_auto_flow": null,
      "grid_auto_rows": null,
      "grid_column": null,
      "grid_gap": null,
      "grid_row": null,
      "grid_template_areas": null,
      "grid_template_columns": null,
      "grid_template_rows": null,
      "height": null,
      "justify_content": null,
      "justify_items": null,
      "left": null,
      "margin": null,
      "max_height": null,
      "max_width": null,
      "min_height": null,
      "min_width": null,
      "object_fit": null,
      "object_position": null,
      "order": null,
      "overflow": null,
      "overflow_x": null,
      "overflow_y": null,
      "padding": null,
      "right": null,
      "top": null,
      "visibility": null,
      "width": null
     }
    },
    "3d2fb7b5992244989b38a9108dd6e92b": {
     "model_module": "@jupyter-widgets/controls",
     "model_module_version": "1.5.0",
     "model_name": "FloatSliderModel",
     "state": {
      "_dom_classes": [],
      "_model_module": "@jupyter-widgets/controls",
      "_model_module_version": "1.5.0",
      "_model_name": "FloatSliderModel",
      "_view_count": null,
      "_view_module": "@jupyter-widgets/controls",
      "_view_module_version": "1.5.0",
      "_view_name": "FloatSliderView",
      "continuous_update": true,
      "description": "Costo Almacenamiento:",
      "description_tooltip": null,
      "disabled": false,
      "layout": "IPY_MODEL_b5677f8c172f460085a34e361c375896",
      "max": 2,
      "min": 0.1,
      "orientation": "horizontal",
      "readout": true,
      "readout_format": ".2f",
      "step": 0.1,
      "style": "IPY_MODEL_c5d7a8f27ada4dfe9a7a660bcdf7c7c7",
      "value": 1.7
     }
    },
    "4cc3135399324396b165517757c55278": {
     "model_module": "@jupyter-widgets/base",
     "model_module_version": "1.2.0",
     "model_name": "LayoutModel",
     "state": {
      "_model_module": "@jupyter-widgets/base",
      "_model_module_version": "1.2.0",
      "_model_name": "LayoutModel",
      "_view_count": null,
      "_view_module": "@jupyter-widgets/base",
      "_view_module_version": "1.2.0",
      "_view_name": "LayoutView",
      "align_content": null,
      "align_items": null,
      "align_self": null,
      "border": null,
      "bottom": null,
      "display": null,
      "flex": null,
      "flex_flow": null,
      "grid_area": null,
      "grid_auto_columns": null,
      "grid_auto_flow": null,
      "grid_auto_rows": null,
      "grid_column": null,
      "grid_gap": null,
      "grid_row": null,
      "grid_template_areas": null,
      "grid_template_columns": null,
      "grid_template_rows": null,
      "height": null,
      "justify_content": null,
      "justify_items": null,
      "left": null,
      "margin": null,
      "max_height": null,
      "max_width": null,
      "min_height": null,
      "min_width": null,
      "object_fit": null,
      "object_position": null,
      "order": null,
      "overflow": null,
      "overflow_x": null,
      "overflow_y": null,
      "padding": null,
      "right": null,
      "top": null,
      "visibility": null,
      "width": null
     }
    },
    "502ef618159a4276bcecf1db47332696": {
     "model_module": "@jupyter-widgets/controls",
     "model_module_version": "1.5.0",
     "model_name": "SliderStyleModel",
     "state": {
      "_model_module": "@jupyter-widgets/controls",
      "_model_module_version": "1.5.0",
      "_model_name": "SliderStyleModel",
      "_view_count": null,
      "_view_module": "@jupyter-widgets/base",
      "_view_module_version": "1.2.0",
      "_view_name": "StyleView",
      "description_width": "",
      "handle_color": null
     }
    },
    "506ec4194cd94e9f85d8cfe4806eded5": {
     "model_module": "@jupyter-widgets/output",
     "model_module_version": "1.0.0",
     "model_name": "OutputModel",
     "state": {
      "_dom_classes": [],
      "_model_module": "@jupyter-widgets/output",
      "_model_module_version": "1.0.0",
      "_model_name": "OutputModel",
      "_view_count": null,
      "_view_module": "@jupyter-widgets/output",
      "_view_module_version": "1.0.0",
      "_view_name": "OutputView",
      "layout": "IPY_MODEL_ded9ff86d23a4432985ed181bcb05b08",
      "msg_id": "",
      "outputs": [
       {
        "name": "stdout",
        "output_type": "stream",
        "text": [
         "EPQ: 390.80\n"
        ]
       },
       {
        "data": {
         "image/png": "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\n",
         "text/plain": "<Figure size 800x600 with 1 Axes>"
        },
        "metadata": {},
        "output_type": "display_data"
       }
      ]
     }
    },
    "54b640cf12ea4ec486a0f648bdf629a9": {
     "model_module": "@jupyter-widgets/controls",
     "model_module_version": "1.5.0",
     "model_name": "FloatSliderModel",
     "state": {
      "_dom_classes": [],
      "_model_module": "@jupyter-widgets/controls",
      "_model_module_version": "1.5.0",
      "_model_name": "FloatSliderModel",
      "_view_count": null,
      "_view_module": "@jupyter-widgets/controls",
      "_view_module_version": "1.5.0",
      "_view_name": "FloatSliderView",
      "continuous_update": true,
      "description": "Demanda Anual:",
      "description_tooltip": null,
      "disabled": false,
      "layout": "IPY_MODEL_05ff9341cce644418195d3cc064ee033",
      "max": 5000,
      "min": 100,
      "orientation": "horizontal",
      "readout": true,
      "readout_format": ".2f",
      "step": 50,
      "style": "IPY_MODEL_fd91f999233e4daa8f72fb885b181fc8",
      "value": 100
     }
    },
    "5834dd93c6134d909e4dc86f9bb251bf": {
     "model_module": "@jupyter-widgets/base",
     "model_module_version": "1.2.0",
     "model_name": "LayoutModel",
     "state": {
      "_model_module": "@jupyter-widgets/base",
      "_model_module_version": "1.2.0",
      "_model_name": "LayoutModel",
      "_view_count": null,
      "_view_module": "@jupyter-widgets/base",
      "_view_module_version": "1.2.0",
      "_view_name": "LayoutView",
      "align_content": null,
      "align_items": null,
      "align_self": null,
      "border": null,
      "bottom": null,
      "display": null,
      "flex": null,
      "flex_flow": null,
      "grid_area": null,
      "grid_auto_columns": null,
      "grid_auto_flow": null,
      "grid_auto_rows": null,
      "grid_column": null,
      "grid_gap": null,
      "grid_row": null,
      "grid_template_areas": null,
      "grid_template_columns": null,
      "grid_template_rows": null,
      "height": null,
      "justify_content": null,
      "justify_items": null,
      "left": null,
      "margin": null,
      "max_height": null,
      "max_width": null,
      "min_height": null,
      "min_width": null,
      "object_fit": null,
      "object_position": null,
      "order": null,
      "overflow": null,
      "overflow_x": null,
      "overflow_y": null,
      "padding": null,
      "right": null,
      "top": null,
      "visibility": null,
      "width": null
     }
    },
    "7227c05d6e404b03afe4b6da133e6412": {
     "model_module": "@jupyter-widgets/controls",
     "model_module_version": "1.5.0",
     "model_name": "SliderStyleModel",
     "state": {
      "_model_module": "@jupyter-widgets/controls",
      "_model_module_version": "1.5.0",
      "_model_name": "SliderStyleModel",
      "_view_count": null,
      "_view_module": "@jupyter-widgets/base",
      "_view_module_version": "1.2.0",
      "_view_name": "StyleView",
      "description_width": "",
      "handle_color": null
     }
    },
    "76bd30b0943b446e969a6b5f91c0a824": {
     "model_module": "@jupyter-widgets/controls",
     "model_module_version": "1.5.0",
     "model_name": "IntSliderModel",
     "state": {
      "_dom_classes": [],
      "_model_module": "@jupyter-widgets/controls",
      "_model_module_version": "1.5.0",
      "_model_name": "IntSliderModel",
      "_view_count": null,
      "_view_module": "@jupyter-widgets/controls",
      "_view_module_version": "1.5.0",
      "_view_name": "IntSliderView",
      "continuous_update": true,
      "description": "Costo Preparación:",
      "description_tooltip": null,
      "disabled": false,
      "layout": "IPY_MODEL_ca4626c0459b4ccdb343496cb79ec2c0",
      "max": 500,
      "min": 10,
      "orientation": "horizontal",
      "readout": true,
      "readout_format": "d",
      "step": 10,
      "style": "IPY_MODEL_502ef618159a4276bcecf1db47332696",
      "value": 140
     }
    },
    "a0cbc5b313314be38b44508160bc3b36": {
     "model_module": "@jupyter-widgets/controls",
     "model_module_version": "1.5.0",
     "model_name": "SliderStyleModel",
     "state": {
      "_model_module": "@jupyter-widgets/controls",
      "_model_module_version": "1.5.0",
      "_model_name": "SliderStyleModel",
      "_view_count": null,
      "_view_module": "@jupyter-widgets/base",
      "_view_module_version": "1.2.0",
      "_view_name": "StyleView",
      "description_width": "",
      "handle_color": null
     }
    },
    "a0f397613dd24c72aa82244dd1f2d0f3": {
     "model_module": "@jupyter-widgets/base",
     "model_module_version": "1.2.0",
     "model_name": "LayoutModel",
     "state": {
      "_model_module": "@jupyter-widgets/base",
      "_model_module_version": "1.2.0",
      "_model_name": "LayoutModel",
      "_view_count": null,
      "_view_module": "@jupyter-widgets/base",
      "_view_module_version": "1.2.0",
      "_view_name": "LayoutView",
      "align_content": null,
      "align_items": null,
      "align_self": null,
      "border": null,
      "bottom": null,
      "display": null,
      "flex": null,
      "flex_flow": null,
      "grid_area": null,
      "grid_auto_columns": null,
      "grid_auto_flow": null,
      "grid_auto_rows": null,
      "grid_column": null,
      "grid_gap": null,
      "grid_row": null,
      "grid_template_areas": null,
      "grid_template_columns": null,
      "grid_template_rows": null,
      "height": null,
      "justify_content": null,
      "justify_items": null,
      "left": null,
      "margin": null,
      "max_height": null,
      "max_width": null,
      "min_height": null,
      "min_width": null,
      "object_fit": null,
      "object_position": null,
      "order": null,
      "overflow": null,
      "overflow_x": null,
      "overflow_y": null,
      "padding": null,
      "right": null,
      "top": null,
      "visibility": null,
      "width": null
     }
    },
    "b5677f8c172f460085a34e361c375896": {
     "model_module": "@jupyter-widgets/base",
     "model_module_version": "1.2.0",
     "model_name": "LayoutModel",
     "state": {
      "_model_module": "@jupyter-widgets/base",
      "_model_module_version": "1.2.0",
      "_model_name": "LayoutModel",
      "_view_count": null,
      "_view_module": "@jupyter-widgets/base",
      "_view_module_version": "1.2.0",
      "_view_name": "LayoutView",
      "align_content": null,
      "align_items": null,
      "align_self": null,
      "border": null,
      "bottom": null,
      "display": null,
      "flex": null,
      "flex_flow": null,
      "grid_area": null,
      "grid_auto_columns": null,
      "grid_auto_flow": null,
      "grid_auto_rows": null,
      "grid_column": null,
      "grid_gap": null,
      "grid_row": null,
      "grid_template_areas": null,
      "grid_template_columns": null,
      "grid_template_rows": null,
      "height": null,
      "justify_content": null,
      "justify_items": null,
      "left": null,
      "margin": null,
      "max_height": null,
      "max_width": null,
      "min_height": null,
      "min_width": null,
      "object_fit": null,
      "object_position": null,
      "order": null,
      "overflow": null,
      "overflow_x": null,
      "overflow_y": null,
      "padding": null,
      "right": null,
      "top": null,
      "visibility": null,
      "width": null
     }
    },
    "ba29a993595d4b71a91892993bc2a2e3": {
     "model_module": "@jupyter-widgets/controls",
     "model_module_version": "1.5.0",
     "model_name": "VBoxModel",
     "state": {
      "_dom_classes": [
       "widget-interact"
      ],
      "_model_module": "@jupyter-widgets/controls",
      "_model_module_version": "1.5.0",
      "_model_name": "VBoxModel",
      "_view_count": null,
      "_view_module": "@jupyter-widgets/controls",
      "_view_module_version": "1.5.0",
      "_view_name": "VBoxView",
      "box_style": "",
      "children": [
       "IPY_MODEL_da203ed343314869baa939ecf4efbe7f",
       "IPY_MODEL_76bd30b0943b446e969a6b5f91c0a824",
       "IPY_MODEL_3d2fb7b5992244989b38a9108dd6e92b",
       "IPY_MODEL_0bac0116b34c4691b1c2c71d5e3af5a6",
       "IPY_MODEL_506ec4194cd94e9f85d8cfe4806eded5"
      ],
      "layout": "IPY_MODEL_fb1a7197c289421ab74c2b2247824d65"
     }
    },
    "bcc117ed6f97405b8f880c86e3b1581a": {
     "model_module": "@jupyter-widgets/controls",
     "model_module_version": "1.5.0",
     "model_name": "SliderStyleModel",
     "state": {
      "_model_module": "@jupyter-widgets/controls",
      "_model_module_version": "1.5.0",
      "_model_name": "SliderStyleModel",
      "_view_count": null,
      "_view_module": "@jupyter-widgets/base",
      "_view_module_version": "1.2.0",
      "_view_name": "StyleView",
      "description_width": "",
      "handle_color": null
     }
    },
    "c5d7a8f27ada4dfe9a7a660bcdf7c7c7": {
     "model_module": "@jupyter-widgets/controls",
     "model_module_version": "1.5.0",
     "model_name": "SliderStyleModel",
     "state": {
      "_model_module": "@jupyter-widgets/controls",
      "_model_module_version": "1.5.0",
      "_model_name": "SliderStyleModel",
      "_view_count": null,
      "_view_module": "@jupyter-widgets/base",
      "_view_module_version": "1.2.0",
      "_view_name": "StyleView",
      "description_width": "",
      "handle_color": null
     }
    },
    "c760ba71b0a84c1788ca6ca2cb98a45f": {
     "model_module": "@jupyter-widgets/controls",
     "model_module_version": "1.5.0",
     "model_name": "FloatSliderModel",
     "state": {
      "_dom_classes": [],
      "_model_module": "@jupyter-widgets/controls",
      "_model_module_version": "1.5.0",
      "_model_name": "FloatSliderModel",
      "_view_count": null,
      "_view_module": "@jupyter-widgets/controls",
      "_view_module_version": "1.5.0",
      "_view_name": "FloatSliderView",
      "continuous_update": true,
      "description": "Costo de Pedido:",
      "description_tooltip": null,
      "disabled": false,
      "layout": "IPY_MODEL_ec2288e0bde54cbab77a0eb5598cf0e0",
      "max": 200,
      "min": 10,
      "orientation": "horizontal",
      "readout": true,
      "readout_format": ".2f",
      "step": 10,
      "style": "IPY_MODEL_3773299e68e541719ff3cf66163d6002",
      "value": 140
     }
    },
    "ca4626c0459b4ccdb343496cb79ec2c0": {
     "model_module": "@jupyter-widgets/base",
     "model_module_version": "1.2.0",
     "model_name": "LayoutModel",
     "state": {
      "_model_module": "@jupyter-widgets/base",
      "_model_module_version": "1.2.0",
      "_model_name": "LayoutModel",
      "_view_count": null,
      "_view_module": "@jupyter-widgets/base",
      "_view_module_version": "1.2.0",
      "_view_name": "LayoutView",
      "align_content": null,
      "align_items": null,
      "align_self": null,
      "border": null,
      "bottom": null,
      "display": null,
      "flex": null,
      "flex_flow": null,
      "grid_area": null,
      "grid_auto_columns": null,
      "grid_auto_flow": null,
      "grid_auto_rows": null,
      "grid_column": null,
      "grid_gap": null,
      "grid_row": null,
      "grid_template_areas": null,
      "grid_template_columns": null,
      "grid_template_rows": null,
      "height": null,
      "justify_content": null,
      "justify_items": null,
      "left": null,
      "margin": null,
      "max_height": null,
      "max_width": null,
      "min_height": null,
      "min_width": null,
      "object_fit": null,
      "object_position": null,
      "order": null,
      "overflow": null,
      "overflow_x": null,
      "overflow_y": null,
      "padding": null,
      "right": null,
      "top": null,
      "visibility": null,
      "width": null
     }
    },
    "da203ed343314869baa939ecf4efbe7f": {
     "model_module": "@jupyter-widgets/controls",
     "model_module_version": "1.5.0",
     "model_name": "IntSliderModel",
     "state": {
      "_dom_classes": [],
      "_model_module": "@jupyter-widgets/controls",
      "_model_module_version": "1.5.0",
      "_model_name": "IntSliderModel",
      "_view_count": null,
      "_view_module": "@jupyter-widgets/controls",
      "_view_module_version": "1.5.0",
      "_view_name": "IntSliderView",
      "continuous_update": true,
      "description": "Demanda:",
      "description_tooltip": null,
      "disabled": false,
      "layout": "IPY_MODEL_332b24908bf2448d837dc0a402807ef0",
      "max": 5000,
      "min": 100,
      "orientation": "horizontal",
      "readout": true,
      "readout_format": "d",
      "step": 100,
      "style": "IPY_MODEL_bcc117ed6f97405b8f880c86e3b1581a",
      "value": 600
     }
    },
    "ded9ff86d23a4432985ed181bcb05b08": {
     "model_module": "@jupyter-widgets/base",
     "model_module_version": "1.2.0",
     "model_name": "LayoutModel",
     "state": {
      "_model_module": "@jupyter-widgets/base",
      "_model_module_version": "1.2.0",
      "_model_name": "LayoutModel",
      "_view_count": null,
      "_view_module": "@jupyter-widgets/base",
      "_view_module_version": "1.2.0",
      "_view_name": "LayoutView",
      "align_content": null,
      "align_items": null,
      "align_self": null,
      "border": null,
      "bottom": null,
      "display": null,
      "flex": null,
      "flex_flow": null,
      "grid_area": null,
      "grid_auto_columns": null,
      "grid_auto_flow": null,
      "grid_auto_rows": null,
      "grid_column": null,
      "grid_gap": null,
      "grid_row": null,
      "grid_template_areas": null,
      "grid_template_columns": null,
      "grid_template_rows": null,
      "height": null,
      "justify_content": null,
      "justify_items": null,
      "left": null,
      "margin": null,
      "max_height": null,
      "max_width": null,
      "min_height": null,
      "min_width": null,
      "object_fit": null,
      "object_position": null,
      "order": null,
      "overflow": null,
      "overflow_x": null,
      "overflow_y": null,
      "padding": null,
      "right": null,
      "top": null,
      "visibility": null,
      "width": null
     }
    },
    "dfd8c72332ec4387b295a7833235271a": {
     "model_module": "@jupyter-widgets/output",
     "model_module_version": "1.0.0",
     "model_name": "OutputModel",
     "state": {
      "_dom_classes": [],
      "_model_module": "@jupyter-widgets/output",
      "_model_module_version": "1.0.0",
      "_model_name": "OutputModel",
      "_view_count": null,
      "_view_module": "@jupyter-widgets/output",
      "_view_module_version": "1.0.0",
      "_view_name": "OutputView",
      "layout": "IPY_MODEL_5834dd93c6134d909e4dc86f9bb251bf",
      "msg_id": "",
      "outputs": [
       {
        "data": {
         "image/png": "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\n",
         "text/plain": "<Figure size 1200x600 with 1 Axes>"
        },
        "metadata": {},
        "output_type": "display_data"
       }
      ]
     }
    },
    "ec2288e0bde54cbab77a0eb5598cf0e0": {
     "model_module": "@jupyter-widgets/base",
     "model_module_version": "1.2.0",
     "model_name": "LayoutModel",
     "state": {
      "_model_module": "@jupyter-widgets/base",
      "_model_module_version": "1.2.0",
      "_model_name": "LayoutModel",
      "_view_count": null,
      "_view_module": "@jupyter-widgets/base",
      "_view_module_version": "1.2.0",
      "_view_name": "LayoutView",
      "align_content": null,
      "align_items": null,
      "align_self": null,
      "border": null,
      "bottom": null,
      "display": null,
      "flex": null,
      "flex_flow": null,
      "grid_area": null,
      "grid_auto_columns": null,
      "grid_auto_flow": null,
      "grid_auto_rows": null,
      "grid_column": null,
      "grid_gap": null,
      "grid_row": null,
      "grid_template_areas": null,
      "grid_template_columns": null,
      "grid_template_rows": null,
      "height": null,
      "justify_content": null,
      "justify_items": null,
      "left": null,
      "margin": null,
      "max_height": null,
      "max_width": null,
      "min_height": null,
      "min_width": null,
      "object_fit": null,
      "object_position": null,
      "order": null,
      "overflow": null,
      "overflow_x": null,
      "overflow_y": null,
      "padding": null,
      "right": null,
      "top": null,
      "visibility": null,
      "width": null
     }
    },
    "eccbc3e7f86f4197815c36c4bb5bb76b": {
     "model_module": "@jupyter-widgets/controls",
     "model_module_version": "1.5.0",
     "model_name": "VBoxModel",
     "state": {
      "_dom_classes": [],
      "_model_module": "@jupyter-widgets/controls",
      "_model_module_version": "1.5.0",
      "_model_name": "VBoxModel",
      "_view_count": null,
      "_view_module": "@jupyter-widgets/controls",
      "_view_module_version": "1.5.0",
      "_view_name": "VBoxView",
      "box_style": "",
      "children": [
       "IPY_MODEL_54b640cf12ea4ec486a0f648bdf629a9",
       "IPY_MODEL_c760ba71b0a84c1788ca6ca2cb98a45f",
       "IPY_MODEL_1ef92a128e2a4e409b0d3c1810a2417c"
      ],
      "layout": "IPY_MODEL_4cc3135399324396b165517757c55278"
     }
    },
    "fb1a7197c289421ab74c2b2247824d65": {
     "model_module": "@jupyter-widgets/base",
     "model_module_version": "1.2.0",
     "model_name": "LayoutModel",
     "state": {
      "_model_module": "@jupyter-widgets/base",
      "_model_module_version": "1.2.0",
      "_model_name": "LayoutModel",
      "_view_count": null,
      "_view_module": "@jupyter-widgets/base",
      "_view_module_version": "1.2.0",
      "_view_name": "LayoutView",
      "align_content": null,
      "align_items": null,
      "align_self": null,
      "border": null,
      "bottom": null,
      "display": null,
      "flex": null,
      "flex_flow": null,
      "grid_area": null,
      "grid_auto_columns": null,
      "grid_auto_flow": null,
      "grid_auto_rows": null,
      "grid_column": null,
      "grid_gap": null,
      "grid_row": null,
      "grid_template_areas": null,
      "grid_template_columns": null,
      "grid_template_rows": null,
      "height": null,
      "justify_content": null,
      "justify_items": null,
      "left": null,
      "margin": null,
      "max_height": null,
      "max_width": null,
      "min_height": null,
      "min_width": null,
      "object_fit": null,
      "object_position": null,
      "order": null,
      "overflow": null,
      "overflow_x": null,
      "overflow_y": null,
      "padding": null,
      "right": null,
      "top": null,
      "visibility": null,
      "width": null
     }
    },
    "fd91f999233e4daa8f72fb885b181fc8": {
     "model_module": "@jupyter-widgets/controls",
     "model_module_version": "1.5.0",
     "model_name": "SliderStyleModel",
     "state": {
      "_model_module": "@jupyter-widgets/controls",
      "_model_module_version": "1.5.0",
      "_model_name": "SliderStyleModel",
      "_view_count": null,
      "_view_module": "@jupyter-widgets/base",
      "_view_module_version": "1.2.0",
      "_view_name": "StyleView",
      "description_width": "",
      "handle_color": null
     }
    }
   }
  }
 },
 "nbformat": 4,
 "nbformat_minor": 1
}
